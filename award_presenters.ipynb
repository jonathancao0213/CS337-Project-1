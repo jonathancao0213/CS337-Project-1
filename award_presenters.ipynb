{
 "cells": [
  {
   "cell_type": "code",
   "execution_count": 5,
   "metadata": {},
   "outputs": [],
   "source": [
    "award_names = ['Best Motion Picture – Drama', 'Best Motion Picture – Musical or Comedy', 'Best Motion Picture – Foreign Language',\n",
    " 'Best Motion Picture – Animated', 'Best Director – Motion Picture', 'Best Actor in a Motion Picture – Drama',\n",
    " 'Best Actor in a Motion Picture – Musical or Comedy', 'Best Actress in a Motion Picture – Drama',\n",
    " 'Best Actress in a Motion Picture – Musical or Comedy', 'Best Supporting Actor – Motion Picture',\n",
    " 'Best Supporting Actress – Motion Picture', 'Best Screenplay – Motion Picture', 'Best Original Score – Motion Picture',\n",
    " 'Best Original Song – Motion Picture', 'Best Television Series – Drama', 'Best Television Series – Musical or Comedy',\n",
    " 'Best Miniseries or Motion Picture – Television', 'Best Actor in a Television Series – Drama',\n",
    " 'Best Actor in a Television Series – Musical or Comedy', 'Best Actor in a Miniseries or Motion Picture – Television',\n",
    " 'Best Actress in a Television Series – Drama', 'Best Actress in a Television Series – Musical or Comedy',\n",
    " 'Best Actress in a Miniseries or Motion Picture – Television',\n",
    " 'Best Supporting Actor in a Series, Miniseries or Motion Picture – Television',\n",
    " 'Best Supporting Actress in a Series, Miniseries or Motion Picture – Television']\n",
    "new_award_names = [0]*len(award_names)\n",
    "for i in range(len(award_names)):\n",
    "    new_award_names[i] = award_names[i].lower()"
   ]
  },
  {
   "cell_type": "code",
   "execution_count": 6,
   "metadata": {},
   "outputs": [],
   "source": [
    "import numpy as np\n",
    "import pandas as pd\n",
    "import spacy\n",
    "from spacy import displacy\n",
    "from collections import defaultdict"
   ]
  },
  {
   "cell_type": "code",
   "execution_count": 7,
   "metadata": {},
   "outputs": [],
   "source": [
    "df = pd.read_json('../gg2015.json')\n",
    "df = df['text']\n",
    "df = df[df.str.contains(' present|gave', case = False)]\n",
    "df = df[~df.str.contains('think|should|maybe', case = False)]\n",
    "present_df = df.str.replace('#GoldenGlobes|golden|globes|globe', \"\", case = False)\n",
    "if present_df.size > 5000:\n",
    "    present_df = present_df.sample(5000)"
   ]
  },
  {
   "cell_type": "code",
   "execution_count": 8,
   "metadata": {},
   "outputs": [],
   "source": [
    "from spacy.matcher import Matcher\n",
    "from spacy.tokens import Span\n",
    "nlp = spacy.load('en_core_web_md')\n",
    "from string import punctuation"
   ]
  },
  {
   "cell_type": "code",
   "execution_count": 9,
   "metadata": {},
   "outputs": [],
   "source": [
    "pattern1 = [{\"ENT_TYPE\": \"PERSON\", 'OP':'+'}, {\"LEMMA\": \"present\"}, {\"ORTH\":'Best'}, {\"DEP\": 'compound', 'OP':'+'}, {\"POS\":'NOUN', 'OP':'*'}, {'IS_PUNCT': True, 'OP':'?'}, {\"POS\": 'PROPN', 'OP':'*'}]\n",
    "pattern2 = [{\"ENT_TYPE\": \"WORK_OF_ART\", 'OP':'+'}, {\"LEMMA\": \"present\"}, {\"ORTH\":'Best'}, {\"DEP\": 'compound', 'OP':'+'}, {\"POS\":'NOUN', 'OP':'*'}, {'IS_PUNCT': True, 'OP':'?'}, {\"POS\": 'PROPN', 'OP':'*'}]\n",
    "pattern3 = [{\"ENT_TYPE\": \"PERSON\", 'OP':'+'}, {\"LEMMA\": \"present\"}, {\"ORTH\":'Best'}, {\"ENT_TYPE\": \"WORK_OF_ART\", 'OP':'+'}]\n",
    "pattern4 = [{\"ENT_TYPE\": \"WORK_OF_ART\", 'OP':'+'}, {\"LEMMA\": \"present\"}, {\"ORTH\":'Best'}, {\"ENT_TYPE\": \"WORK_OF_ART\", 'OP':'+'}]"
   ]
  },
  {
   "cell_type": "code",
   "execution_count": 10,
   "metadata": {},
   "outputs": [],
   "source": [
    "matcher = Matcher(nlp.vocab)\n",
    "matcher.add(\"Presenter\", [pattern1, pattern2, pattern3, pattern4])"
   ]
  },
  {
   "cell_type": "code",
   "execution_count": 11,
   "metadata": {},
   "outputs": [],
   "source": [
    "presenters = {}\n",
    "presenters = defaultdict(lambda: 1, presenters)\n",
    "for i, text in present_df.iteritems():\n",
    "    doc = nlp(text)\n",
    "    matches = matcher(doc)\n",
    "    if len(matches) != 0:\n",
    "        span = doc[matches[-1][1]:matches[-1][2]]\n",
    "        presenters[str(span).strip(punctuation).strip()] = presenters[str(span).strip(punctuation).strip()] +1"
   ]
  },
  {
   "cell_type": "code",
   "execution_count": 12,
   "metadata": {},
   "outputs": [
    {
     "name": "stdout",
     "output_type": "stream",
     "text": [
      "[('Robert Downey Jr. presents Best Movie (Comedy/Musical', 69), ('Jared Leto presenting Best Supporting Actress', 3), ('Katherine Zeta-jones presents Best Film nominee #pride', 3), ('Prince presenting Best Original Song', 2), ('Melissa McCarthy presenting Best Film nominee #SaintVincent', 2), ('Kristen Wiig presenting Best Screenplay', 2), ('Harrison Ford presents Best Director award', 2), ('Bill Hader presented Best Screenplay', 2), ('Naomi Watts presenting Best Picture nominee #Birdman http://t.co/h53gY3MOCX', 2), ('Meryl Streep presents Best Motion Picture', 2), ('Matthew Mcconaughey presents Best Actress for Motion Picture (Drama', 2), ('Meryl Streep presents Best Film Drama  to #Boyhood http://t.co/ZHF8eiA0aD', 2), ('Jennifer Aniston presenting Best Supporting Actor', 2), ('Amy Adams presenting Best Actor Comedy Movie', 2), ('Channing Tatum presenting Best Motion Picture Drama', 2)]\n"
     ]
    }
   ],
   "source": [
    "presenters = sorted(presenters.items(), key=lambda item: item[1], reverse = True)\n",
    "print(presenters)"
   ]
  },
  {
   "cell_type": "code",
   "execution_count": 13,
   "metadata": {},
   "outputs": [],
   "source": [
    "import Levenshtein\n",
    "# tweet = string, awards = dict\n",
    "def DistMeasure(tweet):\n",
    "    awards = {}\n",
    "    tweet = tweet.lower()\n",
    "    tweet = tweet.replace('tv', 'television')\n",
    "    tweet = tweet.replace('film', 'motion picture')\n",
    "    tweet = tweet.replace('movie', 'motion picture')\n",
    "    for award in new_award_names:\n",
    "        split_award = award.split()\n",
    "        award_dist = 0\n",
    "        \n",
    "        split_tweet = tweet.split()\n",
    "        for word in split_tweet:\n",
    "            array = []\n",
    "            for word2 in split_award:\n",
    "                array.append(Levenshtein.distance(word, word2))\n",
    "            min_val = array[np.argmin(array)]\n",
    "            award_dist += min_val\n",
    "        awards[award] = award_dist\n",
    "        \n",
    "    val = min(awards.values())\n",
    "    res = [key for key in awards if awards[key] == val]\n",
    "    if len(res) > 10:\n",
    "        res = []\n",
    "    return res\n",
    "\n",
    "# Can only present once so find way to not duplicate names (put in shortest award name if tie)"
   ]
  },
  {
   "cell_type": "code",
   "execution_count": 14,
   "metadata": {},
   "outputs": [
    {
     "name": "stdout",
     "output_type": "stream",
     "text": [
      "[{'naomi watts': 1, 'meryl streep': 1, 'channing tatum': 1}, {'robert downey jr.': 1}, {}, {}, {'harrison ford': 1}, {'naomi watts': 1, 'meryl streep': 1, 'channing tatum': 1}, {'robert downey jr.': 1, 'naomi watts': 1, 'amy adams': 1}, {'naomi watts': 1, 'matthew mcconaughey': 1, 'meryl streep': 1, 'channing tatum': 1}, {'robert downey jr.': 1, 'naomi watts': 1}, {'jennifer aniston': 1}, {'jared leto': 1}, {'kristen wiig': 1, 'bill hader': 1}, {}, {'prince': 1}, {}, {}, {'melissa mccarthy': 1}, {}, {}, {'melissa mccarthy': 1}, {}, {}, {'melissa mccarthy': 1}, {'melissa mccarthy': 1, 'naomi watts': 1, 'jennifer aniston': 1}, {'jared leto': 1, 'melissa mccarthy': 1, 'naomi watts': 1}]\n"
     ]
    }
   ],
   "source": [
    "import Levenshtein\n",
    "\n",
    "award_list = [dict() for x in range(len(new_award_names))]\n",
    "\n",
    "for tweet in presenters: \n",
    "    tweet = tweet[0]\n",
    "    split = tweet.lower().split()\n",
    "    \n",
    "    index = split.index(\"best\")\n",
    "\n",
    "    award_phrase = \" \".join(split[index:])\n",
    "    matching_awards = DistMeasure(award_phrase)\n",
    "    for a in matching_awards:\n",
    "        award_index = new_award_names.index(a)      \n",
    "        if \"present\" in split:\n",
    "            person_index = split.index(\"present\")\n",
    "        if \"gave\" in split:\n",
    "            person_index = split.index(\"gave\")\n",
    "        person = split[:index-1]\n",
    "        person = \" \".join(person)\n",
    "        if person not in award_list[award_index]:\n",
    "            award_list[award_index][person] = 1\n",
    "        else:\n",
    "            award_list[award_index][person] = award_list[award_index][person]+1\n",
    "\n",
    "print(award_list)"
   ]
  },
  {
   "cell_type": "code",
   "execution_count": 31,
   "metadata": {},
   "outputs": [
    {
     "name": "stdout",
     "output_type": "stream",
     "text": [
      "[['naomi watts', 'meryl streep'], ['robert downey jr.'], [], [], ['harrison ford'], ['naomi watts', 'meryl streep'], ['robert downey jr.', 'naomi watts'], ['naomi watts', 'matthew mcconaughey'], ['robert downey jr.', 'naomi watts'], ['jennifer aniston'], ['jared leto'], ['kristen wiig', 'bill hader'], [], ['prince'], [], [], ['melissa mccarthy'], [], [], ['melissa mccarthy'], [], [], ['melissa mccarthy'], ['melissa mccarthy', 'naomi watts'], ['jared leto', 'melissa mccarthy']]\n"
     ]
    }
   ],
   "source": [
    "import operator\n",
    "#AWARDS HAVE 1-2 PRESENTERS, GET THIS TO WORK\n",
    "i = 0\n",
    "awards = [[] for x in range(len(new_award_names))]\n",
    "for award in award_list:\n",
    "    if award != {}:\n",
    "        max_val = max(award.items(), key=operator.itemgetter(1))[1]\n",
    "        j = 0\n",
    "        list_award = list(award)\n",
    "        for b in award:\n",
    "            if award[b] == max_val and len(awards[i]) < 2:\n",
    "                awards[i].append(list_award[j])\n",
    "            j+=1\n",
    "    i+=1\n",
    "print(awards)"
   ]
  },
  {
   "cell_type": "code",
   "execution_count": 16,
   "metadata": {},
   "outputs": [
    {
     "name": "stdout",
     "output_type": "stream",
     "text": [
      "[[], [], [], [], [], []]\n"
     ]
    }
   ],
   "source": []
  },
  {
   "cell_type": "code",
   "execution_count": null,
   "metadata": {},
   "outputs": [],
   "source": []
  }
 ],
 "metadata": {
  "kernelspec": {
   "display_name": "Python 3",
   "language": "python",
   "name": "python3"
  },
  "language_info": {
   "codemirror_mode": {
    "name": "ipython",
    "version": 3
   },
   "file_extension": ".py",
   "mimetype": "text/x-python",
   "name": "python",
   "nbconvert_exporter": "python",
   "pygments_lexer": "ipython3",
   "version": "3.8.3"
  }
 },
 "nbformat": 4,
 "nbformat_minor": 4
}
