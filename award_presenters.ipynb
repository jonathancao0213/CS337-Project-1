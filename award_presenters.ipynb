{
 "cells": [
  {
   "cell_type": "code",
   "execution_count": 1,
   "metadata": {},
   "outputs": [
    {
     "data": {
      "text/plain": [
       "['best motion picture – drama',\n",
       " 'best motion picture – musical or comedy',\n",
       " 'best motion picture – foreign language',\n",
       " 'best motion picture – animated',\n",
       " 'best director – motion picture',\n",
       " 'best actor in a motion picture – drama',\n",
       " 'best actor in a motion picture – musical or comedy',\n",
       " 'best actress in a motion picture – drama',\n",
       " 'best actress in a motion picture – musical or comedy',\n",
       " 'best supporting actor – motion picture',\n",
       " 'best supporting actress – motion picture',\n",
       " 'best screenplay – motion picture',\n",
       " 'best original score – motion picture',\n",
       " 'best original song – motion picture',\n",
       " 'best television series – drama',\n",
       " 'best television series – musical or comedy',\n",
       " 'best miniseries or motion picture – television',\n",
       " 'best actor in a television series – drama',\n",
       " 'best actor in a television series – musical or comedy',\n",
       " 'best actor in a miniseries or motion picture – television',\n",
       " 'best actress in a television series – drama',\n",
       " 'best actress in a television series – musical or comedy',\n",
       " 'best actress in a miniseries or motion picture – television',\n",
       " 'best supporting actor in a series, miniseries or motion picture – television',\n",
       " 'best supporting actress in a series, miniseries or motion picture – television']"
      ]
     },
     "execution_count": 1,
     "metadata": {},
     "output_type": "execute_result"
    }
   ],
   "source": [
    "award_names = ['Best Motion Picture – Drama', 'Best Motion Picture – Musical or Comedy', 'Best Motion Picture – Foreign Language',\n",
    " 'Best Motion Picture – Animated', 'Best Director – Motion Picture', 'Best Actor in a Motion Picture – Drama',\n",
    " 'Best Actor in a Motion Picture – Musical or Comedy', 'Best Actress in a Motion Picture – Drama',\n",
    " 'Best Actress in a Motion Picture – Musical or Comedy', 'Best Supporting Actor – Motion Picture',\n",
    " 'Best Supporting Actress – Motion Picture', 'Best Screenplay – Motion Picture', 'Best Original Score – Motion Picture',\n",
    " 'Best Original Song – Motion Picture', 'Best Television Series – Drama', 'Best Television Series – Musical or Comedy',\n",
    " 'Best Miniseries or Motion Picture – Television', 'Best Actor in a Television Series – Drama',\n",
    " 'Best Actor in a Television Series – Musical or Comedy', 'Best Actor in a Miniseries or Motion Picture – Television',\n",
    " 'Best Actress in a Television Series – Drama', 'Best Actress in a Television Series – Musical or Comedy',\n",
    " 'Best Actress in a Miniseries or Motion Picture – Television',\n",
    " 'Best Supporting Actor in a Series, Miniseries or Motion Picture – Television',\n",
    " 'Best Supporting Actress in a Series, Miniseries or Motion Picture – Television']\n",
    "new_award_names = [0]*len(award_names)\n",
    "for i in range(len(award_names)):\n",
    "    new_award_names[i] = award_names[i].lower()\n",
    "#     new_award_names[i] = award_names[i].replace(\" in \", \" \").replace(\" a \", \" \").replace(\" or \", \" \").replace(\" – \", \" \").replace(\" - \", \" \").lower().split()\n",
    "#     if \"television\" in new_award_names[i]:\n",
    "#         new_award_names[i].append(\"tv\")\n",
    "new_award_names"
   ]
  },
  {
   "cell_type": "code",
   "execution_count": 2,
   "metadata": {},
   "outputs": [],
   "source": [
    "import numpy as np\n",
    "import pandas as pd\n",
    "import spacy\n",
    "from spacy import displacy\n",
    "from collections import defaultdict"
   ]
  },
  {
   "cell_type": "code",
   "execution_count": 16,
   "metadata": {},
   "outputs": [
    {
     "data": {
      "text/plain": [
       "72         RT @hollywoodawards: Pointing at YOU #JLovers!...\n",
       "78         RT @AmirArison: Tonight on @nbc rooting for #J...\n",
       "180        RT @Latystarr: Rob deserved a GG nom for The R...\n",
       "211        RT @GoldDerby: EXCLUSIVE Full rundown of tonig...\n",
       "268        My  part 3:\\nBest actor, drama: holy shit is t...\n",
       "                                 ...                        \n",
       "1753981    RT @RealsticLover: @JLo rocked the  !!! That's...\n",
       "1754033    RT @peoplemag: That time everyone at the  frea...\n",
       "1754061    RT @peoplemag: That time everyone at the  frea...\n",
       "1754085    RT @JamieDornanUK: Jamie and Dakota presenting...\n",
       "1754139    Rosamund Pike at The Weinstein Company &amp; N...\n",
       "Name: text, Length: 28863, dtype: object"
      ]
     },
     "execution_count": 16,
     "metadata": {},
     "output_type": "execute_result"
    }
   ],
   "source": [
    "df = pd.read_json('../gg2015.json')\n",
    "df = df['text']\n",
    "df = df[~df.str.contains('think|should|maybe', case = False)]\n",
    "df = df.str.replace('#GoldenGlobes|golden|globes|globe', \"\", case = False)\n",
    "wins_df = df[df.str.contains('present|gave', case = False)]\n",
    "\n",
    "wins_df"
   ]
  },
  {
   "cell_type": "code",
   "execution_count": 17,
   "metadata": {},
   "outputs": [],
   "source": [
    "from spacy.matcher import Matcher\n",
    "from spacy.tokens import Span\n",
    "nlp = spacy.load('en_core_web_md')\n",
    "from string import punctuation"
   ]
  },
  {
   "cell_type": "code",
   "execution_count": 18,
   "metadata": {},
   "outputs": [],
   "source": [
    "pattern1 = [{\"ENT_TYPE\": \"PERSON\", 'OP':'+'}, {\"LEMMA\": \"present\"}, {\"ORTH\":'Best'}, {\"DEP\": 'compound', 'OP':'+'}, {\"POS\":'NOUN', 'OP':'*'}, {'IS_PUNCT': True, 'OP':'?'}, {\"POS\": 'PROPN', 'OP':'*'}]\n",
    "#pattern2 = [{\"TEXT\": \"goes to\"}, {\"ENT_TYPE\": \"PERSON\", 'OP':'+'}] might need to split goes to into two \"text\"\n",
    "#another pattern: use work of art instead of \"Person\" to get movies etc too.\n",
    "#can also try using work of art after \"won\" to see if that turns up anything else\n",
    "# POS: very instead of lemma win"
   ]
  },
  {
   "cell_type": "code",
   "execution_count": 19,
   "metadata": {},
   "outputs": [],
   "source": [
    "matcher = Matcher(nlp.vocab)\n",
    "matcher.add(\"Winner\", [pattern1])"
   ]
  },
  {
   "cell_type": "code",
   "execution_count": 20,
   "metadata": {},
   "outputs": [],
   "source": [
    "winners = {}\n",
    "winners = defaultdict(lambda: 1, winners)\n",
    "for i, text in wins_df.iteritems():\n",
    "    doc = nlp(text)\n",
    "    matches = matcher(doc)\n",
    "    if len(matches) != 0:\n",
    "        span = doc[matches[-1][1]:matches[-1][2]]\n",
    "        winners[str(span).strip(punctuation).strip()] = winners[str(span).strip(punctuation).strip()] +1"
   ]
  },
  {
   "cell_type": "code",
   "execution_count": 21,
   "metadata": {},
   "outputs": [
    {
     "name": "stdout",
     "output_type": "stream",
     "text": [
      "[('Jennifer Aniston presenting Best Supporting Actor', 4), ('Adam Levine present Best TV Series Drama', 4), ('Anna Ferris presenting Best Actress TV Series Drama', 4), ('Seth Meyers presenting Best Supporting Actor', 3), ('Jared Leto presenting Best Supporting Actress', 3), ('Kate Hudson presenting Best Film nominee #IntoTheWoods', 3), ('Jack Black presenting Best Film nominee', 3), ('Katherine Zeta-jones presents Best Film nominee #pride', 3), ('Harrison Ford presents Best Director award', 3), ('Jennifer Aniston presenting Best Supporting Actor  http://t.co/1XmzTEjVjk', 2), ('Benedict Cumberbatch present Best Supporting Actor', 2), ('Naomi Watts presenting Best Picture nominee #Birdman http://t.co/h53gY3MOCX', 2), ('Kerry Washington presented Best Actress TV Comedy', 2), ('Melissa McCarthy presenting Best Film nominee #SaintVincent', 2), ('Katie Holmes presented Best Supporting Actor', 2), ('Anna Faris presenting Best Actress TV series', 2), ('Oprah presenting Best Film nominee #Selma', 2), ('Amy Adams presenting Best Actor Comedy Movie', 2), ('Channing tatum presents Best Motion Picture Drama', 2), ('Channing Tatum presenting Best Motion Picture Drama', 2), ('Gwyneth Paltrow presenting Best Actor Drama', 2), ('Meryl Streep presents Best Motion Picture', 2), ('Meryl Streep presents Best Film Drama', 2)]\n"
     ]
    }
   ],
   "source": [
    "winners = sorted(winners.items(), key=lambda item: item[1], reverse = True)\n",
    "print(winners)"
   ]
  },
  {
   "cell_type": "code",
   "execution_count": 22,
   "metadata": {},
   "outputs": [
    {
     "name": "stdout",
     "output_type": "stream",
     "text": [
      "[{'kate hudson': 1, 'jack black': 1, 'katherine zeta-jones': 1, 'kerry washington': 1, 'oprah': 1, 'amy adams': 1, 'channing tatum': 2, 'gwyneth paltrow': 1, 'meryl streep': 2}, {}, {}, {'melissa mccarthy': 1}, {'jennifer aniston': 1, 'seth meyers': 1, 'harrison ford': 1, 'benedict cumberbatch': 1, 'katie holmes': 1}, {'naomi watts': 1}, {}, {}, {}, {'jennifer aniston': 1}, {'jared leto': 1}, {}, {}, {}, {'adam levine': 1, 'anna ferris': 1, 'anna faris': 1}, {}, {}, {}, {}, {}, {}, {}, {}, {}, {}]\n"
     ]
    }
   ],
   "source": [
    "import Levenshtein\n",
    "\n",
    "award_list = [dict() for x in range(len(new_award_names))]\n",
    "\n",
    "for tweet in winners: \n",
    "    tweet = tweet[0]\n",
    "    split = tweet.lower().split()\n",
    "    \n",
    "    index = split.index(\"best\")\n",
    "\n",
    "    award_phrase = \" \".join(split[index:])\n",
    "\n",
    "    name_count = [0]*len(new_award_names)\n",
    "    for i in range(len(new_award_names)):\n",
    "#         match_length = len(set(new_award_names[i]).intersection(award_phrase))\n",
    "#         try Levenshtein distance instead, may be more accurate\n",
    "        \n",
    "        name_count[i] = Levenshtein.distance(new_award_names[i], award_phrase)\n",
    "\n",
    "    award_index = np.argmin(name_count)\n",
    "    # WHAT ABOUT TIE? Neither? Or Both?\n",
    "    #print(award_index)\n",
    "\n",
    "#     if name_count[award_index] > 1:       \n",
    "    if \"wins\" in split:\n",
    "        person_index = split.index(\"wins\")\n",
    "    if \"won\" in split:\n",
    "        person_index = split.index(\"won\")\n",
    "    person = split[:index-1]\n",
    "    person = \" \".join(person)\n",
    "    if person not in award_list[award_index]:\n",
    "        award_list[award_index][person] = 1\n",
    "    else:\n",
    "        award_list[award_index][person] = award_list[award_index][person]+1\n",
    "\n",
    "print(award_list)"
   ]
  },
  {
   "cell_type": "code",
   "execution_count": 24,
   "metadata": {},
   "outputs": [
    {
     "name": "stdout",
     "output_type": "stream",
     "text": [
      "{0: 'channing tatum', 1: '', 2: '', 3: 'melissa mccarthy', 4: 'jennifer aniston', 5: 'naomi watts', 6: '', 7: '', 8: '', 9: 'jennifer aniston', 10: 'jared leto', 11: '', 12: '', 13: '', 14: 'adam levine', 15: '', 16: '', 17: '', 18: '', 19: '', 20: '', 21: '', 22: '', 23: '', 24: ''}\n"
     ]
    }
   ],
   "source": [
    "import operator\n",
    "#AWARDS HAVE 1-2 PRESENTERS\n",
    "i = 0\n",
    "awards = {}\n",
    "for award in award_list:\n",
    "    if award != {}:\n",
    "        awards[i] = max(award.items(), key=operator.itemgetter(1))[0]\n",
    "    else:\n",
    "        awards[i] = ''\n",
    "    i+=1\n",
    "print(awards)"
   ]
  },
  {
   "cell_type": "code",
   "execution_count": 38,
   "metadata": {},
   "outputs": [
    {
     "name": "stdout",
     "output_type": "stream",
     "text": [
      "11\n",
      "0\n"
     ]
    }
   ],
   "source": [
    "tweet_phrase = [\"supporting\", \"actor\"]\n",
    "award1phrase = ['director', '-', 'motion', 'picture']\n",
    "award2phrase = ['supporting', 'actor', '-', 'motion', 'picture']\n",
    "\n",
    "award_1diff = 0\n",
    "\n",
    "for word in tweet_phrase: #whichever is shorter\n",
    "    array = []\n",
    "    for phrase in award1phrase:\n",
    "        array.append(Levenshtein.distance(word, phrase))\n",
    "    min_val = array[np.argmin(array)]\n",
    "    award_1diff += min_val\n",
    "    \n",
    "print(award_1diff)\n",
    "\n",
    "award_2diff = 0\n",
    "for word in tweet_phrase: #whichever is shorter\n",
    "    array = []\n",
    "    for phrase in award2phrase:\n",
    "        array.append(Levenshtein.distance(word, phrase))\n",
    "    min_val = array[np.argmin(array)]\n",
    "    award_2diff += min_val\n",
    "    \n",
    "print(award_2diff)\n",
    "\n",
    "# print(Levenshtein.distance(\"supporting actor\", 'director – motion picture'))\n",
    "# print(Levenshtein.distance(\"supporting actor\", 'supporting actor – motion picture'))\n"
   ]
  },
  {
   "cell_type": "code",
   "execution_count": null,
   "metadata": {},
   "outputs": [],
   "source": []
  }
 ],
 "metadata": {
  "kernelspec": {
   "display_name": "Python 3",
   "language": "python",
   "name": "python3"
  },
  "language_info": {
   "codemirror_mode": {
    "name": "ipython",
    "version": 3
   },
   "file_extension": ".py",
   "mimetype": "text/x-python",
   "name": "python",
   "nbconvert_exporter": "python",
   "pygments_lexer": "ipython3",
   "version": "3.8.3"
  }
 },
 "nbformat": 4,
 "nbformat_minor": 4
}
