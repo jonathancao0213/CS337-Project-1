{
 "cells": [
  {
   "cell_type": "code",
   "execution_count": 6,
   "metadata": {},
   "outputs": [],
   "source": [
    "# Runtime ~1min 30sec -- 5000 tweets\n",
    "# Runtime ~2min -- 10,000 tweets"
   ]
  },
  {
   "cell_type": "code",
   "execution_count": 1,
   "metadata": {},
   "outputs": [],
   "source": [
    "award_names = ['cecil b. demille award',\n",
    " 'best motion picture - drama',\n",
    " 'best performance by an actress in a motion picture - drama',\n",
    " 'best performance by an actor in a motion picture - drama',\n",
    " 'best motion picture - comedy or musical',\n",
    " 'best performance by an actress in a motion picture - comedy or musical',\n",
    " 'best performance by an actor in a motion picture - comedy or musical',\n",
    " 'best animated feature film',\n",
    " 'best foreign language film',\n",
    " 'best performance by an actress in a supporting role in a motion picture',\n",
    " 'best performance by an actor in a supporting role in a motion picture',\n",
    " 'best director - motion picture',\n",
    " 'best screenplay - motion picture',\n",
    " 'best original score - motion picture',\n",
    " 'best original song - motion picture',\n",
    " 'best television series - drama', 'best performance by an actress in a television series - drama',\n",
    " 'best performance by an actor in a television series - drama',\n",
    " 'best television series - comedy or musical',\n",
    " 'best performance by an actress in a television series - comedy or musical',\n",
    " 'best performance by an actor in a television series - comedy or musical',\n",
    " 'best mini-series or motion picture made for television',\n",
    " 'best performance by an actress in a mini-series or motion picture made for television',\n",
    " 'best performance by an actor in a mini-series or motion picture made for television',\n",
    " 'best performance by an actress in a supporting role in a series, mini-series or motion picture made for television',\n",
    " 'best performance by an actor in a supporting role in a series, mini-series or motion picture made for television']\n",
    "new_award_names = [0]*len(award_names)\n",
    "for i in range(len(award_names)):\n",
    "    new_award_names[i] = award_names[i].lower()"
   ]
  },
  {
   "cell_type": "code",
   "execution_count": 2,
   "metadata": {},
   "outputs": [],
   "source": [
    "import numpy as np\n",
    "import pandas as pd\n",
    "import spacy\n",
    "from spacy import displacy\n",
    "from collections import defaultdict"
   ]
  },
  {
   "cell_type": "code",
   "execution_count": 4,
   "metadata": {},
   "outputs": [
    {
     "name": "stdout",
     "output_type": "stream",
     "text": [
      "48        Definetely Kate's top designers are present in...\n",
      "465       @JakeCortes @Jessica_Salado comentando los  Ne...\n",
      "1176      RT @VictorBejerano: @JakeCortes @Jessica_Salad...\n",
      "1561      RT @TV3Xpose: What's your verdict on @ENews pr...\n",
      "1976      THISSSSSSSSSS RT @as_seenontv It's appalling t...\n",
      "                                ...                        \n",
      "174317    Congratulations @RealHughJackman  well deserve...\n",
      "174349    RT @popsugar: Aw Ben introducing the cast back...\n",
      "174440    RT @VanityFair: Amy Poehler and Tina Fey bid a...\n",
      "174442    it would have been funnier if they had present...\n",
      "174485    The  ® have come and gone and we’re proud to a...\n",
      "Name: text, Length: 2642, dtype: object\n"
     ]
    },
    {
     "name": "stderr",
     "output_type": "stream",
     "text": [
      "<ipython-input-4-220c5f5c64a7>:5: FutureWarning: The default value of regex will change from True to False in a future version.\n",
      "  present_df = df.str.replace('#GoldenGlobes|golden|globes|globe', \"\", case = False)\n"
     ]
    }
   ],
   "source": [
    "df = pd.read_json('../gg2013.json')\n",
    "df = df['text']\n",
    "df = df[df.str.contains(' present|introduc|announc', case = False)]\n",
    "df = df[~df.str.contains('think|should|maybe', case = False)]\n",
    "present_df = df.str.replace('#GoldenGlobes|golden|globes|globe', \"\", case = False)\n",
    "if present_df.size > 10000:\n",
    "    present_df = present_df.sample(10000)\n",
    "\n",
    "print(present_df)"
   ]
  },
  {
   "cell_type": "code",
   "execution_count": 5,
   "metadata": {},
   "outputs": [],
   "source": [
    "from spacy.matcher import Matcher\n",
    "from spacy.tokens import Span\n",
    "nlp = spacy.load('en_core_web_md')\n",
    "from string import punctuation"
   ]
  },
  {
   "cell_type": "code",
   "execution_count": 6,
   "metadata": {},
   "outputs": [],
   "source": [
    "pattern1 = [{\"ENT_TYPE\": \"PERSON\", 'OP':'+'}, {\"LEMMA\": \"present\"}, {\"ORTH\":'Best'}, {\"DEP\": 'compound', 'OP':'+'}, {\"POS\":'NOUN', 'OP':'*'}, {'IS_PUNCT': True, 'OP':'?'}, {\"POS\": 'PROPN', 'OP':'*'}]\n",
    "pattern2 = [{\"ENT_TYPE\": \"WORK_OF_ART\", 'OP':'+'}, {\"LEMMA\": \"present\"}, {\"ORTH\":'Best'}, {\"DEP\": 'compound', 'OP':'+'}, {\"POS\":'NOUN', 'OP':'*'}, {'IS_PUNCT': True, 'OP':'?'}, {\"POS\": 'PROPN', 'OP':'*'}]\n",
    "pattern3 = [{\"ENT_TYPE\": \"PERSON\", 'OP':'+'}, {\"LEMMA\": \"present\"}, {\"ORTH\":'Best'}, {\"ENT_TYPE\": \"WORK_OF_ART\", 'OP':'+'}]\n",
    "pattern4 = [{\"ENT_TYPE\": \"WORK_OF_ART\", 'OP':'+'}, {\"LEMMA\": \"present\"}, {\"ORTH\":'Best'}, {\"ENT_TYPE\": \"WORK_OF_ART\", 'OP':'+'}]"
   ]
  },
  {
   "cell_type": "code",
   "execution_count": 7,
   "metadata": {},
   "outputs": [],
   "source": [
    "matcher = Matcher(nlp.vocab)\n",
    "matcher.add(\"Presenter\", [pattern1, pattern2, pattern3, pattern4])"
   ]
  },
  {
   "cell_type": "code",
   "execution_count": 8,
   "metadata": {},
   "outputs": [],
   "source": [
    "presenters = {}\n",
    "presenters = defaultdict(lambda: 1, presenters)\n",
    "for i, text in present_df.iteritems():\n",
    "    doc = nlp(text)\n",
    "    matches = matcher(doc)\n",
    "    if len(matches) != 0:\n",
    "        span = doc[matches[-1][1]:matches[-1][2]]\n",
    "        presenters[str(span).strip(punctuation).strip()] = presenters[str(span).strip(punctuation).strip()] +1"
   ]
  },
  {
   "cell_type": "code",
   "execution_count": 9,
   "metadata": {},
   "outputs": [
    {
     "name": "stdout",
     "output_type": "stream",
     "text": [
      "[('JuliaRoberts presenting Best Motion Picture', 3), ('Jennifer Lawrence present Best Supporting Actor', 2), ('J.Lo present Best Original Score, Motion', 2), ('Arnold #Schwarzenegger present Best Foreign Film', 2), ('Sylvester presenting Best Foreign Language award', 2), ('Schwarzenegger presenting Best Foreign Film', 2), ('Julia Roberts presents Best Motion Picture', 2)]\n"
     ]
    }
   ],
   "source": [
    "presenters = sorted(presenters.items(), key=lambda item: item[1], reverse = True)\n",
    "print(presenters)"
   ]
  },
  {
   "cell_type": "code",
   "execution_count": 10,
   "metadata": {},
   "outputs": [],
   "source": [
    "import Levenshtein\n",
    "# tweet = string, awards = dict\n",
    "def DistMeasure(tweet):\n",
    "    awards = {}\n",
    "    tweet = tweet.lower()\n",
    "    tweet = tweet.replace('tv', 'television')\n",
    "    tweet = tweet.replace('film', 'motion picture')\n",
    "    tweet = tweet.replace('movie', 'motion picture')\n",
    "    for award in new_award_names:\n",
    "        split_award = award.split()\n",
    "        award_dist = 0\n",
    "        \n",
    "        split_tweet = tweet.split()\n",
    "        for word in split_tweet:\n",
    "            array = []\n",
    "            for word2 in split_award:\n",
    "                array.append(Levenshtein.distance(word, word2))\n",
    "            min_val = array[np.argmin(array)]\n",
    "            award_dist += min_val\n",
    "        awards[award] = award_dist\n",
    "        \n",
    "    val = min(awards.values())\n",
    "    res = [key for key in awards if awards[key] == val]\n",
    "    if len(res) > 10:\n",
    "        res = []\n",
    "    return res"
   ]
  },
  {
   "cell_type": "code",
   "execution_count": 11,
   "metadata": {},
   "outputs": [],
   "source": [
    "award_list = [dict() for x in range(len(new_award_names))]\n",
    "\n",
    "for tweet in presenters: \n",
    "    tweet = tweet[0]\n",
    "    split = tweet.lower().split()\n",
    "    \n",
    "    index = split.index(\"best\")\n",
    "\n",
    "    award_phrase = \" \".join(split[index:])\n",
    "    matching_awards = DistMeasure(award_phrase)\n",
    "    for a in matching_awards:\n",
    "        award_index = new_award_names.index(a)  \n",
    "        person = split[:index-1]\n",
    "        person = \" \".join(person)\n",
    "        if person not in award_list[award_index]:\n",
    "            award_list[award_index][person] = 1\n",
    "        else:\n",
    "            award_list[award_index][person] = award_list[award_index][person]+1"
   ]
  },
  {
   "cell_type": "code",
   "execution_count": 12,
   "metadata": {},
   "outputs": [
    {
     "name": "stdout",
     "output_type": "stream",
     "text": [
      "[[], [], [], [], [], [], [], [], ['sylvester'], [], ['jennifer lawrence'], [], [], ['j.lo'], [], [], [], [], [], [], [], [], [], [], [], ['jennifer lawrence']]\n"
     ]
    }
   ],
   "source": [
    "import operator\n",
    "\n",
    "i = 0\n",
    "awards = [[] for x in range(len(new_award_names))]\n",
    "for award in award_list:\n",
    "    if award != {}:\n",
    "        max_val = max(award.items(), key=operator.itemgetter(1))[1]\n",
    "        j = 0\n",
    "        list_award = list(award)\n",
    "        for b in award:\n",
    "            if award[b] == max_val and len(awards[i]) < 2:\n",
    "                awards[i].append(list_award[j])\n",
    "            j+=1\n",
    "    i+=1\n",
    "print(awards)\n"
   ]
  },
  {
   "cell_type": "code",
   "execution_count": 13,
   "metadata": {},
   "outputs": [
    {
     "name": "stdout",
     "output_type": "stream",
     "text": [
      "{'cecil b. demille award': [], 'best motion picture - drama': [], 'best performance by an actress in a motion picture - drama': [], 'best performance by an actor in a motion picture - drama': [], 'best motion picture - comedy or musical': [], 'best performance by an actress in a motion picture - comedy or musical': [], 'best performance by an actor in a motion picture - comedy or musical': [], 'best animated feature film': [], 'best foreign language film': ['sylvester'], 'best performance by an actress in a supporting role in a motion picture': [], 'best performance by an actor in a supporting role in a motion picture': ['jennifer lawrence'], 'best director - motion picture': [], 'best screenplay - motion picture': [], 'best original score - motion picture': ['j.lo'], 'best original song - motion picture': [], 'best television series - drama': [], 'best performance by an actress in a television series - drama': [], 'best performance by an actor in a television series - drama': [], 'best television series - comedy or musical': [], 'best performance by an actress in a television series - comedy or musical': [], 'best performance by an actor in a television series - comedy or musical': [], 'best mini-series or motion picture made for television': [], 'best performance by an actress in a mini-series or motion picture made for television': [], 'best performance by an actor in a mini-series or motion picture made for television': [], 'best performance by an actress in a supporting role in a series, mini-series or motion picture made for television': [], 'best performance by an actor in a supporting role in a series, mini-series or motion picture made for television': ['jennifer lawrence']}\n"
     ]
    }
   ],
   "source": [
    "result = dict(zip(award_names, awards)) \n",
    "print(result)"
   ]
  },
  {
   "cell_type": "code",
   "execution_count": null,
   "metadata": {},
   "outputs": [],
   "source": []
  }
 ],
 "metadata": {
  "kernelspec": {
   "display_name": "Python 3",
   "language": "python",
   "name": "python3"
  },
  "language_info": {
   "codemirror_mode": {
    "name": "ipython",
    "version": 3
   },
   "file_extension": ".py",
   "mimetype": "text/x-python",
   "name": "python",
   "nbconvert_exporter": "python",
   "pygments_lexer": "ipython3",
   "version": "3.9.1"
  }
 },
 "nbformat": 4,
 "nbformat_minor": 4
}
