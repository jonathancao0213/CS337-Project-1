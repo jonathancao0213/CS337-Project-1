{
 "cells": [
  {
   "cell_type": "code",
   "execution_count": 1,
   "id": "united-tuesday",
   "metadata": {},
   "outputs": [],
   "source": [
    "import numpy as np\n",
    "import pandas as pd\n",
    "import spacy\n",
    "from spacy import displacy\n",
    "from collections import defaultdict\n",
    "from ibm_watson import ToneAnalyzerV3\n",
    "from ibm_cloud_sdk_core.authenticators import IAMAuthenticator\n",
    "nlp = spacy.load(\"en_core_web_md\")"
   ]
  },
  {
   "cell_type": "code",
   "execution_count": 4,
   "id": "imperial-functionality",
   "metadata": {},
   "outputs": [
    {
     "name": "stderr",
     "output_type": "stream",
     "text": [
      "<ipython-input-4-95a701c45197>:4: FutureWarning: The default value of regex will change from True to False in a future version.\n",
      "  df = df.str.replace('#GoldenGlobes|golden|globes|globe', \"\", case = False)\n"
     ]
    },
    {
     "name": "stdout",
     "output_type": "stream",
     "text": [
      "335       Looking forward to watching Tina Fey and Amy P...\n",
      "663       RT @: It's our hosts Tina Fey and Amy Poehler!...\n",
      "744       RT @washingtonpost: Tonight's dual hosting dut...\n",
      "756       RT @MovieMayor: My green suede tuxedo pinching...\n",
      "766       RT @accesshollywood: Tina Fey &amp; Amy Poehle...\n",
      "                                ...                        \n",
      "174267    @Quest4TFLTrophy @hostedbydljones @rickygervai...\n",
      "174332    Tina &amp; Amy can host any award show any time! \n",
      "174526    RT @ThatEricAlper: Nobody thanked Canadians fo...\n",
      "174632    RT @piersmorgan: Great  - amusingly hosted, me...\n",
      "174635    \"@nbcsnl: Just thinking ahead, but like should...\n",
      "Name: text, Length: 3109, dtype: object\n"
     ]
    }
   ],
   "source": [
    "df = pd.read_json('../gg2013.json')\n",
    "df = df['text']\n",
    "# df = df[~df.str.contains('think|thinking|should|maybe', case = False)]\n",
    "df = df.str.replace('#GoldenGlobes|golden|globes|globe', \"\", case = False)\n",
    "host_df = df[df.str.contains('host|hosts|hostess|hosted|hosting', case = False)]\n",
    "\n",
    "if host_df.size > 5000:\n",
    "    host_df = host_df.sample(5000)\n",
    "\n",
    "print(host_df)"
   ]
  },
  {
   "cell_type": "code",
   "execution_count": 7,
   "id": "accepting-bible",
   "metadata": {},
   "outputs": [],
   "source": [
    "authenticator = IAMAuthenticator('3879mC57DARnUoMaGEXT8F0brMiI06nG2TzcBiBjeKR_')\n",
    "tone_analyzer = ToneAnalyzerV3(\n",
    "            version='2017-09-21',\n",
    "            authenticator=authenticator\n",
    ")\n",
    "tone_analyzer.set_service_url(\"https://api.us-south.tone-analyzer.watson.cloud.ibm.com/instances/eb91ab5d-f42d-4fb8-9a20-a4dd9c49ef1f\")\n"
   ]
  },
  {
   "cell_type": "code",
   "execution_count": 47,
   "id": "guilty-viewer",
   "metadata": {},
   "outputs": [],
   "source": [
    "def analyze(sentence):\n",
    "    tones = {}\n",
    "    analysis = tone_analyzer.tone(\n",
    "            {'text':sentence},\n",
    "            content_type='application/json'\n",
    "    ).get_result()\n",
    "    \n",
    "    try:\n",
    "        return analysis['document_tone']['tones'][0]['tone_name']\n",
    "    except:\n",
    "        return None\n",
    "    \n",
    "#     try:\n",
    "#         for each in analysis['sentences_tone']:\n",
    "#             t = each['tones']\n",
    "#             for i in t:\n",
    "#                 if i['tone_name'] in self.tones:\n",
    "#                     tones[i['tone_name']] += 1\n",
    "#                 else:\n",
    "#                     tones[i['tone_name']] = 1\n",
    "#     except:\n",
    "#         try:\n",
    "#             tones[analysis['document_tone']['tones'][0]['tone_name']] = 1\n",
    "#         except:\n",
    "#             pass\n",
    "        \n",
    "#     tones = sorted(tones.items(), key=lambda item: item[1], reverse = True)\n",
    "        \n",
    "#     try:\n",
    "#         return tones[0][0]\n",
    "#     except:\n",
    "#         return None"
   ]
  },
  {
   "cell_type": "code",
   "execution_count": 41,
   "id": "illegal-velvet",
   "metadata": {},
   "outputs": [
    {
     "data": {
      "text/plain": [
       "'Anger'"
      ]
     },
     "execution_count": 41,
     "metadata": {},
     "output_type": "execute_result"
    }
   ],
   "source": [
    "analyze(\"I hope this sentence works. This is a second sentence to screw them up. What the fuck is going on is this all I need?\")"
   ]
  },
  {
   "cell_type": "code",
   "execution_count": 53,
   "id": "patent-penalty",
   "metadata": {},
   "outputs": [
    {
     "name": "stdout",
     "output_type": "stream",
     "text": [
      "In loop 0\n",
      "In loop 1\n",
      "In loop 2\n",
      "In loop 3\n",
      "In loop 4\n",
      "In loop 5\n",
      "In loop 6\n",
      "In loop 7\n",
      "In loop 8\n",
      "In loop 9\n"
     ]
    }
   ],
   "source": [
    "avgtones = {}\n",
    "avgtones = defaultdict(lambda: 1, avgtones)\n",
    "\n",
    "for j in range(10):\n",
    "    print('In loop %d' % j)\n",
    "    tones = {}\n",
    "    tones = defaultdict(lambda: 1, tones)\n",
    "    for i, text in host_df.sample(25).iteritems():\n",
    "        t = analyze(text)\n",
    "        tones[t] += 1\n",
    "        \n",
    "    tones = sorted(tones.items(), key=lambda item: item[1], reverse = True)\n",
    "    avgtones[tones[0][0]] += 1\n",
    "\n",
    "    "
   ]
  },
  {
   "cell_type": "code",
   "execution_count": 54,
   "id": "chronic-speaker",
   "metadata": {},
   "outputs": [
    {
     "data": {
      "text/plain": [
       "defaultdict(<function __main__.<lambda>()>, {'Joy': 11})"
      ]
     },
     "execution_count": 54,
     "metadata": {},
     "output_type": "execute_result"
    }
   ],
   "source": [
    "avgtones"
   ]
  }
 ],
 "metadata": {
  "kernelspec": {
   "display_name": "Python 3",
   "language": "python",
   "name": "python3"
  },
  "language_info": {
   "codemirror_mode": {
    "name": "ipython",
    "version": 3
   },
   "file_extension": ".py",
   "mimetype": "text/x-python",
   "name": "python",
   "nbconvert_exporter": "python",
   "pygments_lexer": "ipython3",
   "version": "3.9.1"
  }
 },
 "nbformat": 4,
 "nbformat_minor": 5
}
