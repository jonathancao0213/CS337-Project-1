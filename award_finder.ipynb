{
 "cells": [
  {
   "cell_type": "code",
   "execution_count": 1060,
   "id": "acquired-enclosure",
   "metadata": {},
   "outputs": [],
   "source": [
    "import numpy as np\n",
    "import pandas as pd\n",
    "import spacy\n",
    "from spacy.matcher import Matcher\n",
    "from spacy.tokens import Span\n",
    "from spacy import displacy\n",
    "from collections import defaultdict\n",
    "nlp = spacy.load('en_core_web_md')\n",
    "from string import punctuation\n",
    "import Levenshtein"
   ]
  },
  {
   "cell_type": "code",
   "execution_count": 1061,
   "id": "pressed-proxy",
   "metadata": {},
   "outputs": [
    {
     "data": {
      "text/plain": [
       "5000"
      ]
     },
     "execution_count": 1061,
     "metadata": {},
     "output_type": "execute_result"
    }
   ],
   "source": [
    "df = pd.read_json('../gg2013.json')\n",
    "df = df['text']\n",
    "df = df[~df.str.contains('think|should|maybe', case = False)]\n",
    "df = df[df.str.contains('best', case = False)]\n",
    "df = df.str.replace('http\\S+|www.\\S+', '', case=False,regex=True)\n",
    "best_df = df.str.replace('#GoldenGlobes|#GoldenGlobe|Golden Globe|Golden Globes', \"\", case = False, regex = True)\n",
    "\n",
    "if best_df.shape[0] >5000:\n",
    "    best_df = best_df.sample(n=5000)\n",
    "best_df.shape[0]"
   ]
  },
  {
   "cell_type": "markdown",
   "id": "employed-luxury",
   "metadata": {},
   "source": [
    "# pattern2 = [{\"ORTH\":'Best'}, {\"POS\":{\"IN\":['NOUN','PROPN','ADP','DET']}, 'OP':'*'}, {'IS_PUNCT': True, 'OP':'?'}, {\"DEP\":{\"IN\":['compound','nsubj','cc','conj','dobj']}}]"
   ]
  },
  {
   "cell_type": "code",
   "execution_count": 1062,
   "id": "smoking-advice",
   "metadata": {},
   "outputs": [],
   "source": [
    "pattern = [{\"LOWER\":'best'}, {\"DEP\":{\"IN\":['compound','nmod','dobj','prep','det','pobj','amod','nsubj','ROOT']}, 'OP':'+'},{'ORTH': '-', 'OP':'?'}, {\"POS\": {\"IN\": ['PROPN','NOUN','CCONJ','ADJ']}, 'OP':'*'}]\n",
    "# pattern = [{\"LOWER\":'best','OP':'+'}, {\"POS\":{\"IN\":['NOUN','PROPN','ADP','DET','ADJ']}, 'OP':'+'}, {'ORTH': '-', 'OP':'?'}, {\"POS\": {\"IN\": ['PROPN','NOUN','CCONJ','ADJ']}, 'OP':'*'}]"
   ]
  },
  {
   "cell_type": "code",
   "execution_count": 1063,
   "id": "electronic-simple",
   "metadata": {},
   "outputs": [],
   "source": [
    "pattern2 = [{\"ENT_TYPE\":{\"IN\":['PERSON','WORK_OF_ART']},'OP':'+'}]"
   ]
  },
  {
   "cell_type": "code",
   "execution_count": 1064,
   "id": "preliminary-boulder",
   "metadata": {},
   "outputs": [],
   "source": [
    "matcher = Matcher(nlp.vocab)\n",
    "matcher.add('Winner', [pattern])"
   ]
  },
  {
   "cell_type": "code",
   "execution_count": 1065,
   "id": "lucky-ceramic",
   "metadata": {},
   "outputs": [],
   "source": [
    "matcher2 = Matcher(nlp.vocab)\n",
    "matcher2.add('Deleter',[pattern2])"
   ]
  },
  {
   "cell_type": "code",
   "execution_count": 1066,
   "id": "measured-hanging",
   "metadata": {},
   "outputs": [],
   "source": [
    "doc = nlp('he wins best motion picture - comedy or musical for')"
   ]
  },
  {
   "cell_type": "code",
   "execution_count": 1067,
   "id": "valid-transmission",
   "metadata": {},
   "outputs": [
    {
     "name": "stdout",
     "output_type": "stream",
     "text": [
      "6\n"
     ]
    },
    {
     "data": {
      "text/plain": [
       "[(7971871675768048331, 2, 4),\n",
       " (7971871675768048331, 2, 5),\n",
       " (7971871675768048331, 2, 6),\n",
       " (7971871675768048331, 2, 7),\n",
       " (7971871675768048331, 2, 8),\n",
       " (7971871675768048331, 2, 9)]"
      ]
     },
     "execution_count": 1067,
     "metadata": {},
     "output_type": "execute_result"
    }
   ],
   "source": [
    "matches = matcher(doc)\n",
    "matches[-1][2]\n",
    "print(len(matches))\n",
    "matches"
   ]
  },
  {
   "cell_type": "code",
   "execution_count": 1068,
   "id": "central-tanzania",
   "metadata": {},
   "outputs": [
    {
     "name": "stdout",
     "output_type": "stream",
     "text": [
      "he PRON nsubj -PRON-\n",
      "wins VERB ROOT win\n",
      "best ADJ amod good\n",
      "motion NOUN compound motion\n",
      "picture NOUN compound picture\n",
      "- PUNCT punct -\n",
      "comedy NOUN dobj comedy\n",
      "or CCONJ cc or\n",
      "musical ADJ conj musical\n",
      "for ADP prep for\n"
     ]
    }
   ],
   "source": [
    "for entity in doc:\n",
    "    print(entity.text, entity.pos_,entity.dep_,entity.lemma_)"
   ]
  },
  {
   "cell_type": "code",
   "execution_count": 1069,
   "id": "unauthorized-female",
   "metadata": {},
   "outputs": [
    {
     "name": "stdout",
     "output_type": "stream",
     "text": [
      "7971871675768048331 Winner 2 4 best motion\n",
      "7971871675768048331 Winner 2 5 best motion picture\n",
      "7971871675768048331 Winner 2 6 best motion picture -\n",
      "7971871675768048331 Winner 2 7 best motion picture - comedy\n",
      "7971871675768048331 Winner 2 8 best motion picture - comedy or\n",
      "7971871675768048331 Winner 2 9 best motion picture - comedy or musical\n"
     ]
    }
   ],
   "source": [
    "for match_id, start, end in matches:\n",
    "    string_id = nlp.vocab.strings[match_id]\n",
    "    span = doc[start:end]\n",
    "    print(match_id, string_id, start, end, span.text)"
   ]
  },
  {
   "cell_type": "code",
   "execution_count": 1070,
   "id": "vanilla-drinking",
   "metadata": {},
   "outputs": [
    {
     "name": "stdout",
     "output_type": "stream",
     "text": [
      "26\n"
     ]
    }
   ],
   "source": [
    "awards_list = [\"best screenplay - motion picture\", \n",
    "            \"best director - motion picture\", \n",
    "            \"best performance by an actress in a television series - comedy or musical\",\n",
    "            \"best foreign language film\",\n",
    "            \"best performance by an actor in a supporting role in a motion picture\",\n",
    "            \"best performance by an actress in a supporting role in a series, mini-series or motion picture made for television\",\n",
    "            \"best motion picture - comedy or musical\", \n",
    "            \"best performance by an actress in a motion picture - comedy or musical\", \n",
    "            \"Best mini-series or motion picture made for television\", \"best original score - motion picture\", \n",
    "            \"best performance by an actress in a television series - drama\", \n",
    "            \"best performance by an actress in a motion picture - drama\",\n",
    "            \"cecil b. demille award\",\n",
    "            \"best performance by an actor in a motion picture - comedy or musical\", \"best motion picture - drama\",\n",
    "            \"best performance by an actor in a supporting role in a series, mini-series or motion picture made for television\", \n",
    "            \"best performance by an actress in a supporting role in a motion picture\",\n",
    "            \"best television series - drama\", \n",
    "            \"best performance by an actor in a mini-series or motion picture made for television\",\n",
    "            \"best performance by an actress in a mini-series or motion picture made for television\",\n",
    "            \"best animated feature film\", \"best original song - motion picture\", \n",
    "            \"best performance by an actor in a motion picture - drama\", \n",
    "            \"best television series - comedy or musical\",\n",
    "            \"best performance by an actor in a television series - drama\",\n",
    "            \"best performance by an actor in a television series - comedy or musical\"]\n",
    "print(len(awards_list))"
   ]
  },
  {
   "cell_type": "code",
   "execution_count": 1071,
   "id": "minimal-pulse",
   "metadata": {},
   "outputs": [
    {
     "name": "stdout",
     "output_type": "stream",
     "text": [
      "best screenplay - motion picture\n",
      "best director - motion picture\n",
      "best performance by an actress in a television series - comedy or musical\n",
      "best foreign language film\n",
      "best performance by an actor in a supporting role in a motion picture\n",
      "best performance by an actress in a supporting role in a series\n",
      "best motion picture - comedy or musical\n",
      "best performance by an actress in a motion picture - comedy or musical\n",
      "bad:Best mini-series or motion picture made for television\n",
      "best original score - motion picture\n",
      "best performance by an actress in a television series - drama\n",
      "best performance by an actress in a motion picture - drama\n",
      "bad:cecil b. demille award\n",
      "best performance by an actor in a motion picture - comedy or musical\n",
      "best motion picture - drama\n",
      "best performance by an actor in a supporting role in a series\n",
      "best performance by an actress in a supporting role in a motion picture\n",
      "best television series - drama\n",
      "best performance by an actor in a mini-series or motion picture\n",
      "best performance by an actress in a mini-series or motion picture\n",
      "best animated feature film\n",
      "best original song - motion picture\n",
      "best performance by an actor in a motion picture - drama\n",
      "best television series - comedy or musical\n",
      "best performance by an actor in a television series - drama\n",
      "best performance by an actor in a television series - comedy or musical\n",
      "24\n"
     ]
    }
   ],
   "source": [
    "sum_val = 0\n",
    "for text in awards_list:\n",
    "    doc = nlp(text)\n",
    "    matches = matcher(doc)\n",
    "    if len(matches) != 0:\n",
    "        span = doc[matches[-1][1]:matches[-1][2]]\n",
    "        print(span)\n",
    "        sum_val += 1\n",
    "    else:\n",
    "        print('bad:' + text)\n",
    "print(sum_val)"
   ]
  },
  {
   "cell_type": "code",
   "execution_count": 1072,
   "id": "bronze-nigeria",
   "metadata": {},
   "outputs": [],
   "source": [
    "awards = {}\n",
    "awards = defaultdict(lambda: 1, awards)\n",
    "for i, text in best_df.iteritems():\n",
    "    doc = nlp(text)\n",
    "    matches = matcher(doc)\n",
    "    if len(matches) != 0:\n",
    "        span = doc[matches[-1][1]:matches[-1][2]]\n",
    "        awards[str(span).strip(punctuation).strip()] = awards[str(span).strip(punctuation).strip()] +1"
   ]
  },
  {
   "cell_type": "code",
   "execution_count": 1073,
   "id": "warming-exposure",
   "metadata": {},
   "outputs": [
    {
     "name": "stdout",
     "output_type": "stream",
     "text": [
      "[('Best Original Song', 168), ('Best Motion Picture', 89), ('Best Director', 87), ('Best Motion Picture - Comedy or Musical', 71), ('Best Supporting Actress', 68), ('Best Motion Picture - Drama', 51), ('Best Actor in a Motion Picture - Comedy or Musical', 50), ('Best Screenplay', 49), ('Best Supporting Actress in a Motion Picture', 48), ('Best Actress in a Motion Picture - Comedy or Musical', 47), ('Best Television Series - Drama', 43), ('best acceptance speech', 43), ('Best Actress', 41), ('best picture', 41), ('Best Supporting Actress in a TV Movie', 37), ('Best Supporting Actor in a Motion Picture - Christoph Waltz', 35), ('Best Actor', 35), ('Best Actor in a Motion Picture', 33), ('Best Animated Feature Film - Brave', 33), ('Best TV Series', 32), ('Best Original Score - Mychael Danna', 32), ('Best Actress in a Motion Picture - Drama', 31), ('Best Buy', 30), ('BEST speech', 30), ('Best Actress in a Comedy Series', 29), ('Best Supporting Actor', 29), ('Best Actor in a Motion Picture - Drama', 28), ('Best Foreign Film - Amour', 27), ('Best Song at the', 27), ('Best Actress in a TV Movie or Miniseries', 25), ('best motion picture', 24), ('Best Comedy Series', 24), ('Best Animated Film', 22), ('Best Television Series Actor - Drama', 22), ('best actor in a motion picture', 22), ('Best supporting actress', 21), ('Best Actress in a Motion Picture', 21), ('best actor', 21), ('best actress', 20), ('Best Actress Award', 20), ('Best s opening', 20), ('Best supporting actor', 20), ('Best Actress in a Television Series - Drama', 20), ('best show on TV by miles', 20), ('Best motion picture drama goes to', 19), ('Best Miniseries or Motion Picture', 19), ('Best Television Series - Comedy or Musical', 19), ('Best Foreign Film', 19), ('Best animated feature film', 18), ('Best Original Score', 18), ('Best Director award for #Argo at the', 17), ('Best Actor in a Television Series - Comedy or Musical', 17), ('best director', 17), ('Best Actor in a TV Movie or Miniseries', 16), ('Best TV Series Actress - Comedy or Musical', 15), ('best supporting actress', 15), ('Best Drama', 15), ('Best Picture', 15), ('Best director motion picture', 15), ('best animated film', 14), ('Best Motion Picture Drama', 13), ('best original song', 13), ('Best line of the', 12), ('Best Movie', 12), ('best TV drama', 12), ('Best Performance by an Actor in a Motion Picture - Drama', 12), ('best director for', 12), ('Best Animated Feature Film', 11), ('Best Movie Actor', 11), ('best string of yesterdays I', 11), ('best actor for #Lincoln', 11), ('Best Supporting Actress in a Motion Picture win for Les Miserables', 11), ('Best Director - Motion Picture', 10), ('Best Supporting Actor in', 10), ('best supporting actor', 10), ('best original song win at the', 10), ('best dressed', 10), ('Best Director for Argo', 10), ('Best Director for', 9), ('Best Original Song for Skyfall', 9), ('Best Animated Feature at the', 9), ('best TV series', 9), ('Best Song', 9), ('best drama', 9), ('Best nominee cutaway', 9), ('best director category', 9), ('Best Screenplay - Motion Picture', 9), ('best song', 9), ('best comedy', 9), ('best screenplay', 9), ('Best Animated Feature', 8), ('Best Song at s', 8), ('best supporting actress for', 8), ('Best Insults at the', 8), ('Best Original Song in a Motion Picture', 8), ('best comedy series', 8), ('best foreign film', 8), ('Best moment of the', 8), ('Best Comedy', 8), ('best actor in a comedy or musical TV series', 8)]\n"
     ]
    }
   ],
   "source": [
    "for key in list(awards):\n",
    "    doc = nlp(key)\n",
    "    matches = matcher2(doc)\n",
    "    if len(matches) != 0:\n",
    "        awards.pop(key)\n",
    "awards = sorted(awards.items(), key=lambda item: item[1], reverse = True)\n",
    "print(awards[0:100])"
   ]
  },
  {
   "cell_type": "code",
   "execution_count": 1074,
   "id": "prepared-algebra",
   "metadata": {},
   "outputs": [],
   "source": [
    "new_awards = []\n",
    "for i in awards:\n",
    "    if i[1] > 2:\n",
    "        new_awards.append(i[0].lower())"
   ]
  },
  {
   "cell_type": "code",
   "execution_count": 1075,
   "id": "russian-conclusion",
   "metadata": {},
   "outputs": [],
   "source": [
    "final_list = []\n",
    "final_list.append(new_awards[0])\n",
    "def distance(t1,r1):\n",
    "    t = t1.split()\n",
    "    r = r1.split()\n",
    "    if len(t) >= len(r):\n",
    "        long = t\n",
    "        short = r\n",
    "        ret = t1\n",
    "    else:\n",
    "        long = r\n",
    "        short = t\n",
    "        ret = r1\n",
    "    dist = 0\n",
    "    for word in short:\n",
    "        min_val = float('inf')\n",
    "        for word2 in long:\n",
    "            min_val = min(min_val,Levenshtein.distance(word, word2))\n",
    "        dist += min_val\n",
    "    return dist,ret"
   ]
  },
  {
   "cell_type": "code",
   "execution_count": 1076,
   "id": "aboriginal-leisure",
   "metadata": {},
   "outputs": [
    {
     "data": {
      "text/plain": [
       "(0, 'best actor - comedy')"
      ]
     },
     "execution_count": 1076,
     "metadata": {},
     "output_type": "execute_result"
    }
   ],
   "source": [
    "distance('best actor', 'best actor - comedy')"
   ]
  },
  {
   "cell_type": "code",
   "execution_count": 1077,
   "id": "optical-sight",
   "metadata": {},
   "outputs": [
    {
     "name": "stdout",
     "output_type": "stream",
     "text": [
      "['best original song']\n"
     ]
    }
   ],
   "source": [
    "print(final_list)"
   ]
  },
  {
   "cell_type": "code",
   "execution_count": 1078,
   "id": "affiliated-forth",
   "metadata": {},
   "outputs": [
    {
     "name": "stdout",
     "output_type": "stream",
     "text": [
      "['best original song win at the', 'best actor in a motion picture - comedy or musical', 'best director award for #argo at the', 'best supporting actress in a motion picture win for les miserables', 'best actress in a motion picture - drama', 'best screenplay - motion picture', 'best actress in a motion picture - comedy or musical', 'best television series actor - drama', 'best acceptance speech', 'best supporting actress in a tv movie', 'best supporting actor in a motion picture - christoph waltz', 'best animated feature film - brave', 'best performance by an actress in a tv series - musical or comedy', 'best original score - mychael danna', 'best show on tv by miles', 'best performance by an actress in a tv series - musical or comedy', 'best performance by an actor in a motion picture - drama', 'best foreign film - amour', 'best original song win at the', 'best actress in a miniseries or tv movie', 'best actress award', 'best s opening', 'best actress in a television series - drama', 'best motion picture drama goes to argo', 'best miniseries or motion picture', 'best actor in a television series - comedy or musical', 'best actor in a miniseries or tv movie', 'best director - motion picture', 'best line of the', 'best string of yesterdays i', 'best actor in a drama for lincoln at the', 'best dressed list', 'best original song motion picture award for #skyfall', 'best animated feature at the', 'best nominee cutaway of the night', 'best director category', 'best song at s', 'best insults at the', 'best original song in a motion picture', 'best moment of the', 'best actor in a tv series - comedy or musical', 'best actor in a drama for lincoln at the', 'best director and best film', 'best supporting actress in a tv series', 'best comedy series at the globes', 'best part of the s', 'best foreign language film for austria', 'best picture nominee lincoln', 'best actress in a comedy or musical movie', 'best supporting actor at the', 'best actress in a supporting role in a motion picture the', 'best motion picture drama at the', 'best director at the s', 'best supporting actress for les mis', 'best screenplay for #djangounchained', 'best sense of humor', 'best director - argo', 'best actress drama winner', 'best motion picture-drama nomination', 'best film in the comedy', 'best tv series - drama', 'best supporting actor globe for', 'best director for film argo', 'best supporting actor in a motion picture for', 'best exotic marigold hotel', 'best original score - motion picture', 'best motion picture screenplay for #django', 'best awkward moment on an awards show goes to', 'best opening monologue', 'best score for life of pi', 'best actress in a tv drama', 'best movie - drama', 'best actor who', 'best pronunciation of', 'best supporting actor winner', 'best animated feature film | via @goldenglobes', 'best original song goes to adele for', 'best supporting actress forles miserables', 'best animated feature film award', 'best thing about the s is the influx', 'best actress in a comedic or musical film', 'best screenplay for django unchained', 'best s zingers', 'best s gags - fox news', 'best actor in a drama category', 'best gifs of the', 'best speeches i', 'best actress in a comedy for silver linings playbook', 'best motion picture musical comedy @goldenglobes', 'best mini series or tv movie', 'best dir award for argo', 'best presenters', 'best comedy or musical film', 'best of luck to @benaffleck', 'best facial hair of the night', 'best picture nominee at', 'best friend', 'best actress in a supporting role in a motion picture the', 'best beauty look', 'best animated feature film goes to brave', 'best spiel ever', 'best extreme closeups at the', 'best actress in tv drama for', 'best picture win for #argo', 'best dressed # 3', 'best hosts', 'best honey', 'best director goes to', 'best animated movie', 'best actor in a musical or comedy award', 'best dressed at the 70th annual', 'best dressed woman', 'best featured actress for', 'best sound', 'best dressed latinas at the', 'best editing goes to the s staff for', 'best wave', 'best supporting actress for tv performance in #downton abbey', 'best actress for #zerodark30', 'best picture winner #lesmiserables', 'best film drama - argo', 'best actress in a miniseries at the', 'best of all', 'best joke', 'best original score - life', 'best zingers from the', 'best actor in motion picture untuk film lincoln', 'best original song category', 'best actress in a dramatic film for #zerodarkthirty', 'best screenplay - django unchained', 'best actress in mini series/ tv movie']\n"
     ]
    }
   ],
   "source": [
    "for awrd in new_awards[1:]:\n",
    "    similar = False\n",
    "    for i,ans in enumerate(final_list):\n",
    "        dist,long = distance(awrd,ans)\n",
    "        if dist <= 1:\n",
    "            similar = True\n",
    "            final_list[i] = long\n",
    "    if (not similar):\n",
    "        final_list.append(awrd)\n",
    "print(final_list)"
   ]
  },
  {
   "cell_type": "code",
   "execution_count": 1080,
   "id": "refined-cable",
   "metadata": {},
   "outputs": [
    {
     "name": "stdout",
     "output_type": "stream",
     "text": [
      "['best original song win at the', 'best actor in a motion picture - comedy or musical', 'best director award for #argo at the', 'best supporting actress in a motion picture win for les miserables', 'best actress in a motion picture - drama', 'best screenplay - motion picture', 'best actress in a motion picture - comedy or musical', 'best television series actor - drama', 'best acceptance speech', 'best supporting actress in a tv movie', 'best supporting actor in a motion picture - christoph waltz', 'best animated feature film - brave', 'best performance by an actress in a tv series - musical or comedy', 'best original score - mychael danna', 'best show on tv by miles', 'best performance by an actress in a tv series - musical or comedy', 'best performance by an actor in a motion picture - drama', 'best foreign film - amour', 'best original song win at the', 'best actress in a miniseries or tv movie', 'best actress award', 'best s opening', 'best actress in a television series - drama', 'best motion picture drama goes to argo', 'best miniseries or motion picture', 'best actor in a television series - comedy or musical']\n"
     ]
    }
   ],
   "source": [
    "print(final_list[0:26])"
   ]
  },
  {
   "cell_type": "code",
   "execution_count": 1081,
   "id": "southwest-fiction",
   "metadata": {},
   "outputs": [
    {
     "name": "stdout",
     "output_type": "stream",
     "text": [
      "['best original song win at the', 'best actor in a motion picture - comedy or musical', 'best director award for #argo at the', 'best supporting actress in a motion picture win for les miserables', 'best actress in a motion picture - drama', 'best screenplay - motion picture', 'best actress in a motion picture - comedy or musical', 'best television series actor - drama', 'best acceptance speech', 'best supporting actress in a tv movie', 'best supporting actor in a motion picture - christoph waltz', 'best animated feature film - brave', 'best performance by an actress in a tv series - musical or comedy', 'best original score - mychael danna', 'best show on tv by miles', 'best performance by an actor in a motion picture - drama', 'best foreign film - amour', 'best actress in a miniseries or tv movie', 'best actress award', 'best s opening', 'best actress in a television series - drama', 'best motion picture drama goes to argo', 'best miniseries or motion picture', 'best actor in a television series - comedy or musical', 'best actor in a miniseries or tv movie', 'best director - motion picture']\n"
     ]
    }
   ],
   "source": [
    "answer = list(dict.fromkeys(final_list))\n",
    "print(answer[0:26])"
   ]
  },
  {
   "cell_type": "code",
   "execution_count": null,
   "id": "simple-despite",
   "metadata": {},
   "outputs": [],
   "source": []
  },
  {
   "cell_type": "code",
   "execution_count": null,
   "id": "played-cemetery",
   "metadata": {},
   "outputs": [],
   "source": []
  }
 ],
 "metadata": {
  "kernelspec": {
   "display_name": "Python 3",
   "language": "python",
   "name": "python3"
  },
  "language_info": {
   "codemirror_mode": {
    "name": "ipython",
    "version": 3
   },
   "file_extension": ".py",
   "mimetype": "text/x-python",
   "name": "python",
   "nbconvert_exporter": "python",
   "pygments_lexer": "ipython3",
   "version": "3.8.5"
  }
 },
 "nbformat": 4,
 "nbformat_minor": 5
}
