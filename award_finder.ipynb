{
 "cells": [
  {
   "cell_type": "code",
   "execution_count": 2,
   "id": "tired-license",
   "metadata": {},
   "outputs": [],
   "source": [
    "import numpy as np\n",
    "import pandas as pd\n",
    "import spacy\n",
    "from spacy.matcher import Matcher\n",
    "from spacy.tokens import Span\n",
    "from spacy import displacy\n",
    "from collections import defaultdict\n",
    "nlp = spacy.load('en_core_web_md')"
   ]
  },
  {
   "cell_type": "code",
   "execution_count": 3,
   "id": "bigger-engagement",
   "metadata": {},
   "outputs": [
    {
     "data": {
      "text/plain": [
       "3000"
      ]
     },
     "execution_count": 3,
     "metadata": {},
     "output_type": "execute_result"
    }
   ],
   "source": [
    "df = pd.read_json('../gg2015.json')\n",
    "df = df['text']\n",
    "df = df[~df.str.contains('think|should|maybe', case = False)]\n",
    "df = df.str.replace('#GoldenGlobes|GoldenGlobes|golden|globe|globes', \"\", case = False, regex = False)\n",
    "best_df = df[df.str.contains('Best', case = True)]\n",
    "best_df = df[df.str.contains('win', case = True)]\n",
    "if best_df.shape[0] > 3000:\n",
    "    best_df = best_df.sample(n=3000)\n",
    "best_df.shape[0]"
   ]
  },
  {
   "cell_type": "markdown",
   "id": "suited-sustainability",
   "metadata": {},
   "source": [
    "# awards = []\n",
    "# # hosts = defaultdict(lambda: 1, hosts)\n",
    "# for i, value in best_df.iteritems():\n",
    "#     for entity in nlp(value).ents:\n",
    "#         if entity.label_ == 'WORK_OF_ART':\n",
    "#             awards.append(entity.text)\n",
    "\n"
   ]
  },
  {
   "cell_type": "markdown",
   "id": "opened-scratch",
   "metadata": {},
   "source": [
    "awards = {i:awards.count(i) for i in awards}\n",
    "            \n",
    "awards = sorted(awards.items(), key=lambda item: item[1], reverse = True)\n",
    "print(awards)"
   ]
  },
  {
   "cell_type": "code",
   "execution_count": 4,
   "id": "round-charter",
   "metadata": {},
   "outputs": [],
   "source": [
    "pattern =  [{\"ORTH\":'Best'},{\"DEP\": 'compound', 'OP':'+'},{\"POS\":'NOUN', 'OP':'*'}]\n",
    "pattern1 = [{\"ORTH\":'Best'}, {\"POS\": 'PROPN', 'OP':'*'}, {\"POS\":'NOUN', 'OP':'*'}, {'IS_PUNCT': True, 'OP':'?'}, {\"POS\": 'PROPN', 'OP':'*'}]"
   ]
  },
  {
   "cell_type": "code",
   "execution_count": 5,
   "id": "synthetic-gathering",
   "metadata": {},
   "outputs": [],
   "source": [
    "matcher = Matcher(nlp.vocab)\n",
    "matcher.add('Winner', None, pattern)\n",
    "matcher.add('Winner1', None, pattern1)"
   ]
  },
  {
   "cell_type": "code",
   "execution_count": 6,
   "id": "gentle-housing",
   "metadata": {},
   "outputs": [],
   "source": [
    "doc = nlp('Sam wong wins Best Motion Picture – Foreign Language')"
   ]
  },
  {
   "cell_type": "code",
   "execution_count": 7,
   "id": "according-melissa",
   "metadata": {},
   "outputs": [],
   "source": [
    "matches = matcher(doc)"
   ]
  },
  {
   "cell_type": "code",
   "execution_count": 8,
   "id": "simple-listening",
   "metadata": {},
   "outputs": [
    {
     "data": {
      "text/plain": [
       "9"
      ]
     },
     "execution_count": 8,
     "metadata": {},
     "output_type": "execute_result"
    }
   ],
   "source": [
    "matches[-1][2]"
   ]
  },
  {
   "cell_type": "code",
   "execution_count": 9,
   "id": "fatty-judge",
   "metadata": {},
   "outputs": [
    {
     "name": "stdout",
     "output_type": "stream",
     "text": [
      "Sam PROPN compound\n",
      "wong PROPN nsubj\n",
      "wins VERB ROOT\n",
      "Best PROPN compound\n",
      "Motion PROPN compound\n",
      "Picture NOUN dobj\n",
      "– PUNCT punct\n",
      "Foreign PROPN compound\n",
      "Language PROPN appos\n"
     ]
    }
   ],
   "source": [
    "for entity in doc:\n",
    "    print(entity.text, entity.pos_,entity.dep_)"
   ]
  },
  {
   "cell_type": "code",
   "execution_count": 10,
   "id": "sustained-replication",
   "metadata": {},
   "outputs": [
    {
     "name": "stdout",
     "output_type": "stream",
     "text": [
      "3295313037798998854 Winner1 3 4 Best\n",
      "7971871675768048331 Winner 3 5 Best Motion\n",
      "3295313037798998854 Winner1 3 5 Best Motion\n",
      "7971871675768048331 Winner 3 6 Best Motion Picture\n",
      "3295313037798998854 Winner1 3 6 Best Motion Picture\n",
      "3295313037798998854 Winner1 3 7 Best Motion Picture –\n",
      "3295313037798998854 Winner1 3 8 Best Motion Picture – Foreign\n",
      "3295313037798998854 Winner1 3 9 Best Motion Picture – Foreign Language\n"
     ]
    }
   ],
   "source": [
    "for match_id, start, end in matches:\n",
    "    string_id = nlp.vocab.strings[match_id]\n",
    "    span = doc[start:end]\n",
    "    print(match_id, string_id, start, end, span.text)"
   ]
  },
  {
   "cell_type": "code",
   "execution_count": 13,
   "id": "hungry-schema",
   "metadata": {},
   "outputs": [],
   "source": [
    "awards = {'best'}\n",
    "for i, text in best_df.iteritems():\n",
    "    doc = nlp(text)\n",
    "    for entity in doc:\n",
    "        matches = matcher(doc)\n",
    "        if len(matches) != 0:\n",
    "            span = doc[matches[-1][1]:matches[-1][2]]\n",
    "            awards.add(span)"
   ]
  },
  {
   "cell_type": "code",
   "execution_count": 14,
   "id": "opponent-perth",
   "metadata": {},
   "outputs": [
    {
     "name": "stdout",
     "output_type": "stream",
     "text": [
      "{Best Supporting, Best Supporting, Best Original Song\", Best Actor, Best Original Song, Best Director, Drama, Best Animated Feature Film, Best Animated Feature Film., Best Director, Best Actor, Best Screenplay, Best, Best Actor, Best Song., Best TV,, Best Animated Feature Film, Best Motion Picture,, Best Motion Picture, Comedy, Best Supporting, Best Actor, Best Picture -, Best TV Series-Drama, Best Director, Motion, Best TV Comedy, Best Actress, Best Actor, Best Animated Feature Film, Best Actress, Best Supporting, Best TV Series Comedy, Best motion picture -, Best Supporting, Best actor -, Best Actor, Best Overbite Fetish Porn!, Best Original, Best Actor, Best Motion Picture, Drama, Best Movie Drama, Best Actor, Best Television Series, Comedy, Best TV Series, Drama, Best Supporting, Best Supporting, Best Actor, Best Actor, Best Original Song, Best Supporting, Best Original Score, Motion Picture, Best Animated Feature Film - How, Best TV series (, Best, Best TV Drama., Best Actress, Best Actress, TV Comedy, Best Motion Picture, Comedy, Best Animated Feature, Best Original Song, Best Supporting, Best Comedy, Best Actor, Best Actress!, Best TV Movie, Best Motion Picture – Comedy, Best actress TV drama, Best Comedy., Best Animated Feature, Best Motion Picture, Drama, Best Supporting, Best Actor, Best Motion Picture, Musical, Best Original, Best Original Song, Best Mini Horse?, Best Motion Picture, Comedy, Best Actor, Best Actor, Best Picture -, Best Actor, Best Supporting, Best TV Series,, Best Couple, Best Actress, Best Animated Feature, Best Actor, Best Actor-Drama, Best Actor, Best Actor, TV Drama, Best Original Song, Best Director, Richard Linklater, Best Actress, TV Drama, Best Actress, Best Actor, Best Supporting, Best Actor, Best Actor, Best Director Richard Linklater!, Best Actor, Best Actor, Best Actor, Best Original Song, Motion Picture, Best Animated Feature Film, Best Actor, Best Actress-Comedy, Best Actor, Best television drama winner, Best Animated Feature Film!, Best Screenplay, Best Actor, Best Director http://t.co/vtXUAylpEQ #GoldenGlobes, Best Comedy., Best Actress (Film, Best Actress TV Drama, Best Actor, Drama Series, Best Motion Picture, Drama, Best Actor TV Drama, Best Picture, Musical, Best Supporting, Best Mini-Series #GoldenGlobe, Best motion picture -, Best Supporting, Best Actor, Best Director, Motion, Best Supporting, Best Picture winners, Best Director, Best Original Song, Best TV Drama, Best Original, Best TV Miniseries, Best Supporting, Best motion picture -, Best TV Actress, Best Mini Horse?, Best Original Song, Motion Picture, Best Actress, Best Animated Feature Film, Best Actor, Best Actor!, Best Actress!, Best Actress Golden Globe, Best Motion Picture - Comedy, Best Actor, Best Actor win, Best Actor, Best Actress!, Best Supporting, Best TV Musical, Best Original Song\", Best Supporting, Best Picture (Drama, Best Supporting Actor, Best Actress, Best Picture, Drama, Best Supporting, Best Actress, Best Motion Picture, Comedy, Best Motion Picture, Drama, Best Motion Picture, Comedy, Best Motion Picture, Drama http://t.co/zo7uU5tUPJ, Best Actor, Best Actor- Comedy/Musical, Best Screenplay ·, Best Actress, Best Motion Picture, Drama, Best Supporting Actor, Best Supporting, Best Original Song, Best Original Song, Best Mini Horse?, Best Original Song., Best Actress, Best Actor/ Comedy, Best Motion Picture, Drama, Best Picture., Best TV Series Comedy, Best Picture #, Best Actor, Best Original Song, Best Motion Picture, Comedy, Best TV Miniseries, Best Actress, Best Mini Horse?, Best Actor, TV Comedy, Best Picture Drama.., Best Couple, Best Actress, Motion Picture Drama, Best Original Song winner, Best Drama #GoldenGlobes, Best Original Song, Best Animated Feature, Best Actor, Best Actor, TV Drama, Best Supporting, Best Original Song, Best TV Series, Drama, Best Picture, Comedy, Best, Best Supporting Actor, Best Supporting, Best Actress, Miniseries, Best Supporting Actor, Best Supp Actress, Best Miniseries, Best Actor, Best Mini-Series #GoldenGlobe, Best Supporting Actress winner, Best Actress, Best Television Series, Drama, Best Animated Feature Film, Best Original Song., Best Motion Picture, Drama http://t.co/JssCIOA5jZ | Telegraph, Best Original Song, Best Supporting Actor, Best Screenplay Award, Best Actor, Best Supporting, Best Actress TV Drama, Best Actress, Best Mini-Series #GoldenGlobe, Best Supporting Actor, Best Supporting, Best Supporting Actor, Best Supporting, Best Actor, Best Comedy/, Best Supporting, Best Actress, Best Actor, Best Actor, Best Actress (Drama, Best Original Song, Motion Picture, Best Picture -, Best, Best Director!, Best Supporting, Best Motion Picture, Musical, Best Actress!, Best Motion Picture, Comedy, Best Picture Comedy/, Best Actress, Best, Best Original Song, Motion Picture, Best Original Song, Best Original Song, Best Original, Best Supporting, Best Actor, Best Original Score, Best Actor, Best Supporting, Best Mini-Series #GoldenGlobe, Best Actress!, Best Original, Best Actress, Best Supporting, Best Actor, Best Comedy, Best Actress, Best Actress!, Best Picture (Drama, Best Original, Best Actress, Best Actress, Best Actor, Best Supporting, Best Original Song, Best Original Song\", Best Actor, Best actor, Best Original Song, Best Actress, Best Actress, TV Comedy, Best Actor - Drama TV Series, Best Picture -, Best Supporting, Best TV,, Best Animated Feature, Best Supporting, Best Actress, Best actress, Best Actor, Best Actress, Best Actor, Best Motion Picture, Comedy, Best TV Series, Drama, Best Actress, Best Supporting, Best Actor, Best Original Song, Motion Picture, Best Original Song, Best Picture -, Best Movie Drama, Best Actor, Best Original, Best Actress, Best Mini Horse?, Best TV Drama., Best Supporting, Best Screenplay, Best Actor, Best Mini-Series #GoldenGlobe, Best Director, Best Actor, Best Original Song\", Best Mini Series, Best Supporting, Best Actor, Best TV Musical, Best TV Movie, Best Original Song, Best Animated Feature, Best Actor, Best Supporting Actor, Best Animated Feature Film, Best motion picture -, Best Motion Picture, Musical, Best Actress, Best Actor, Best, Best Picture:, Best Motion Picture - Dr, Best Actress, Best Director, Motion Picture, Best Miniseries, Best Actor, Comedy, Best Actor, Best Picture -, Best Supporting, Best Actor, Best Supporting, Best Actor (Comedy, Best Supporting, Best Original Song, Best Actress, Best Motion Picture, Drama http://t.co/5KU1lPfBYe, Best Motion Picture (Drama, Best Actor, Best Actor, Best TV Series - Drama http://t.co/hIfvhYt6h6, Best Motion Picture, Drama, Best Actor, Best Actor, Motion Picture Comedy, Best Supporting, Best Motion Picture awards, Best Motion Picture, Comedy, Best Original Song, Best Actor TV Drama!, Best Actress, Best Picture, Drama, Best Original Song, Best Actress Television Ser, Best Comedy, Best Actress!, Best Actor, Best Motion Picture, Drama, Best Actor,, Best TV Series, Comedy, Best Actor, Best Actor, Best Director http://t.co/vtXUAylpEQ #GoldenGlobes, Best Actor, Best Actor, Best Director, Motion, Best Supporting, Best Actress, Best Actress, Best Supporting, Best Supporting, Best Actress!, Best Supporting, Best Drama Picture., Best Mini Horse?, Best Actor, Best Drama Series #GoldenGlobes, Best Actor, Best Actress, Best Supporting Actor, Best Foreign Film Award, Best TV Comedy, Best Speech., Best Actor, Best Animated…, Best, Best TV Movie, Best Actress, Best Supporting, Best winners speech, Best Actress, Best Mini Horse?, Best motion picture -, Best Actress Drama, Best Actor, Best Actress!, Best Actress, Motion Picture Drama, Best Actress, Miniseries, Best Motion Picture,, Best Motion Picture, Drama, Best Actress, TV Comedy, Best Comedy #GoldenGlobes, Best Actor, Best Actress!, Best Score, Best Mini Horse?, Best Actor- Comedy, Best Motion Picture, Musical, Best Original Song, Motion Picture, Best TV,, Best Actress, Motion Picture Comedy, Best Original Song, Best Original, Best Pictures., Best Motion Picture, Drama, Best Supporting, Best Films, Best Original Song, Best, Best TV Comedy, Best Actor, Best Motion Picture, Drama, Best Animated Feature, Best Actor, Best Original Song, Best Actor, Best Actor, Best Supporting, Best Mini-Series #GoldenGlobe, Best Actor, Best Mini Horse?, Best Actor, Motion Picture Comedy, Best Actress, Best actor/, Best Actress, Best Actor Drama, Best Original Song, Best Animated Feature #GoldenGlobes, Best Mini-Series #GoldenGlobe, Best Picture, Drama, Best Picture (Drama, Best Actress, Best Actress, Best Actor TV Miniseries #GoldenGlobes, Best, Best Actress, Best Original Song, Best Animated Feature Film., Best Actress!, Best Supporting, Best, Best, Best Actress, Best Screenplay!, Best Supporting Actor winner J.K., Best Actor, Best Director, Best Supporting, Best Actress, Best Original Song, Best Actress, Best Couple #GoldenGlobes, Best Animated Feature Film, Best Supporting, Best Mini-Series #GoldenGlobe, Best Actor, Best Screenplay:, Best Original Song, Best TV Miniseries, Best Actress, Best Supporting, Best Couple, Best Actor, Best Director - Motion Picture, Best Actress!, Best Original Song, Best Actor, TV Drama, Best Actress, Best Song., Best Selfie winner, Best Original Song., Best Motion Picture, Comedy, Best Supporting, Best Animated Feature @goldenglobes! Congrats @DeanDeBlois, Best Motion Picture - Comedy, Best Actor, Best Screenplay, Best Actor, Best Actor - Mini Series, Best Actor, TV Drama, Best Motion Picture, Musical, Best TV Series Actress - Comed, Best Actor, Best Director #GoldenGlobes http://t.co/8dUxZzSR7N, Best Supporting, Best Director., Best Original Song\", Best, Best, Best Actor, Best motion picture -, Best Actress, TV Comedy, Best Actor, Best Supporting, Best Supporting, Best Actress, Best Actor - Motion Picture, Best Mini-Series #GoldenGlobe, Best Song, Best actor, Best Supporting Actor, Best Original Song, Motion Picture, Best Actor, Best Actress, Best actor -, Best TV Movie, Best Actor, Best Actor, Best Actress, Best Supporting, Best TV Actress, Best Motion Picture, Drama, Best Actor - TV Miniseries, Best TV Comedy, Best Mini-Series #GoldenGlobe, Best, Best Original Song., Best Song, Best Original Score, Best Song win #, Best TV Movie, Best Supporting, Best motion picture -, Best Supporting, Best Actress, Motion Picture Comedy, Best Couple #GoldenGlobes, Best Comedy #GoldenGlobe, Best Actress, Best Original Song, Best Supporting, Best Actor winner.. EDDIE REDMAYNE, Best Supporting, Best Original Song, Best Supporting Actor, Best Actor, Best Original Song, Best, Best Actress, Best Actress, Best Actor, Best Drama Series?, Best Motion Picture Comedy, Best Original Song., Best, Best Original Song, Best Motion Picture, Drama, Best Motion Picture, Drama, Best Supporting, Best Actress Drama TV Series., Best Mini Horse?, Best Actor (Comedy, Best Reaction Shots, Best Performance, Best Actor Golden Globe, Best TV Series, Musical, Best Original Song., Best Actress, Best Supporting, Best Actress, Best Actor, Best Screenplay #GoldenGlobe, Best Actor!, Best Motion Picture, Comedy, Best TV Comedy!, Best Animated Feature, Best Motion Picture - Comedy, Best Supporting, Best Actress, Best Actor, Best TV Series Drama: @sho_theaffair, Best Motion Picture - Comedy, Best Actor, 'best', Best Animated Feature Films., Best Original, Best Actress, Best Actor, Best Actor, Best Actress, Best Motion Picture, Drama, Best Actor, Best, Best Original Song, Best Actor, Best Actress, Best Original, Best, Best Picture Comedy/, Best Original, Best Mini-Series #GoldenGlobe, Best Picture, Comedy, Best Actress!, Best Actor, TV Drama, Best Supporting TV, Best Original, Best Original Song, Best Animated Feature, Best TV Series, Drama, Best Screenplay, Best Actress, Best Actor (Comedy, Best Original Song., Best Original Song,, Best Supporting, Best Original Song, Best Drama, Best Actor Golden Globe, Best Act -&gt;, Best Film--Musical, Best TV Series Comedy, Best TV Movie, Best Actor, Best Actor,, Best Original Song, Best Animated Feature, Best TV Actress, Best Actor, Best Original Score, Best Actress, Best Motion Picture, Best Original Score, Best Supporting, Best Comedy TV Series, Best Original Song, Best Director, Richard Linklater, Best TV Actress, Best, Best Speech., Best Actress – Musical, Best Supporting, Best, Best Director, Richard Linklater, Best Actress #GoldenGlobes winner, Best Director, Motion, Best Actress, Best Actress, Best Actor, Best Motion Picture, Comedy, Best Supporting Actor, Best TV Series, Best Actor, Best Motion Picture, Musical, Best Original Song, Best Supporting, Best Actor, Best Mini Horse?, Best motion picture -, Best Movie Drama, Best Original, Best Actor, Best Original Song #Glory #, Best Original Song, Best Supporting, Best Motion Picture, Musical, Best Motion Picture, Drama, Best Actress!, Best Actress, Best Actor, Best Actress, Best motion picture -, Best Performance, Best Director Award, Best Film--Musical, Best Actor, Best Original Song, Best Actor, Best, Best Animated Feature Film, Best Supporting, Best Comedy Film --, Best Supporting, Best Supporting, Best Motion Picture - Comedy, Best Original Song #GoldenGlobes, Best TV,, Best Motion Picture, Drama, Best Actress, Best motion picture -, Best Actress Golden Globe}\n"
     ]
    }
   ],
   "source": [
    "print(awards)"
   ]
  },
  {
   "cell_type": "code",
   "execution_count": null,
   "id": "relative-amino",
   "metadata": {},
   "outputs": [],
   "source": []
  },
  {
   "cell_type": "code",
   "execution_count": null,
   "id": "unavailable-imagination",
   "metadata": {},
   "outputs": [],
   "source": []
  }
 ],
 "metadata": {
  "kernelspec": {
   "display_name": "Python 3",
   "language": "python",
   "name": "python3"
  },
  "language_info": {
   "codemirror_mode": {
    "name": "ipython",
    "version": 3
   },
   "file_extension": ".py",
   "mimetype": "text/x-python",
   "name": "python",
   "nbconvert_exporter": "python",
   "pygments_lexer": "ipython3",
   "version": "3.8.5"
  }
 },
 "nbformat": 4,
 "nbformat_minor": 5
}
