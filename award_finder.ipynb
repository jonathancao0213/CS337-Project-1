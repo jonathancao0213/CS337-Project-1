{
 "cells": [
  {
   "cell_type": "code",
   "execution_count": 18,
   "id": "extensive-scout",
   "metadata": {},
   "outputs": [],
   "source": [
    "import numpy as np\n",
    "import pandas as pd\n",
    "import spacy\n",
    "from spacy.matcher import Matcher\n",
    "from spacy.tokens import Span\n",
    "from spacy import displacy\n",
    "from collections import defaultdict\n",
    "nlp = spacy.load('en_core_web_md')\n",
    "from string import punctuation"
   ]
  },
  {
   "cell_type": "code",
   "execution_count": 31,
   "id": "sealed-montreal",
   "metadata": {},
   "outputs": [
    {
     "data": {
      "text/plain": [
       "4000"
      ]
     },
     "execution_count": 31,
     "metadata": {},
     "output_type": "execute_result"
    }
   ],
   "source": [
    "df = pd.read_json('../gg2013.json')\n",
    "df = df['text']\n",
    "df = df[~df.str.contains('think|should|maybe', case = False)]\n",
    "df = df.str.replace('#GoldenGlobes|#GoldenGlobe|Golden Globe|Golden Globes', \"\", case = False, regex = False)\n",
    "best_df = df[df.str.contains('Best', case = True)]\n",
    "# best_df = df[df.str.contains('win', case = True)]\n",
    "if best_df.shape[0] > 4000:\n",
    "    best_df = best_df.sample(n=4000)\n",
    "best_df.shape[0]"
   ]
  },
  {
   "cell_type": "code",
   "execution_count": 32,
   "id": "collective-reward",
   "metadata": {},
   "outputs": [],
   "source": [
    "pattern = [{\"ORTH\":'Best'}, {\"DEP\": 'compound', 'OP':'+'}, {\"POS\":'NOUN', 'OP':'*'}, {'IS_PUNCT': True, 'OP':'?'}, {\"POS\": 'PROPN', 'OP':'*'}]"
   ]
  },
  {
   "cell_type": "code",
   "execution_count": 33,
   "id": "wanted-range",
   "metadata": {},
   "outputs": [],
   "source": [
    "matcher = Matcher(nlp.vocab)\n",
    "matcher.add('Winner', None, pattern)"
   ]
  },
  {
   "cell_type": "code",
   "execution_count": 34,
   "id": "subject-camera",
   "metadata": {},
   "outputs": [],
   "source": [
    "doc = nlp('Sam wong wins Best Motion Picture – Foreign Language')"
   ]
  },
  {
   "cell_type": "code",
   "execution_count": 35,
   "id": "focused-employment",
   "metadata": {},
   "outputs": [],
   "source": [
    "matches = matcher(doc)"
   ]
  },
  {
   "cell_type": "code",
   "execution_count": 36,
   "id": "flexible-lewis",
   "metadata": {},
   "outputs": [
    {
     "data": {
      "text/plain": [
       "9"
      ]
     },
     "execution_count": 36,
     "metadata": {},
     "output_type": "execute_result"
    }
   ],
   "source": [
    "matches[-1][2]"
   ]
  },
  {
   "cell_type": "code",
   "execution_count": 37,
   "id": "interior-huntington",
   "metadata": {},
   "outputs": [
    {
     "name": "stdout",
     "output_type": "stream",
     "text": [
      "Sam PROPN compound\n",
      "wong PROPN nsubj\n",
      "wins VERB ROOT\n",
      "Best PROPN compound\n",
      "Motion PROPN compound\n",
      "Picture NOUN dobj\n",
      "– PUNCT punct\n",
      "Foreign PROPN compound\n",
      "Language PROPN appos\n"
     ]
    }
   ],
   "source": [
    "for entity in doc:\n",
    "    print(entity.text, entity.pos_,entity.dep_)"
   ]
  },
  {
   "cell_type": "code",
   "execution_count": 38,
   "id": "confused-contract",
   "metadata": {},
   "outputs": [
    {
     "name": "stdout",
     "output_type": "stream",
     "text": [
      "7971871675768048331 Winner 3 5 Best Motion\n",
      "7971871675768048331 Winner 3 6 Best Motion Picture\n",
      "7971871675768048331 Winner 3 7 Best Motion Picture –\n",
      "7971871675768048331 Winner 3 8 Best Motion Picture – Foreign\n",
      "7971871675768048331 Winner 3 9 Best Motion Picture – Foreign Language\n"
     ]
    }
   ],
   "source": [
    "for match_id, start, end in matches:\n",
    "    string_id = nlp.vocab.strings[match_id]\n",
    "    span = doc[start:end]\n",
    "    print(match_id, string_id, start, end, span.text)"
   ]
  },
  {
   "cell_type": "code",
   "execution_count": 46,
   "id": "removed-accessory",
   "metadata": {},
   "outputs": [],
   "source": [
    "awards = {}\n",
    "awards = defaultdict(lambda: 1, awards)\n",
    "for i, text in best_df.iteritems():\n",
    "    doc = nlp(text)\n",
    "    matches = matcher(doc)\n",
    "    if len(matches) != 0:\n",
    "        span = doc[matches[-1][1]:matches[-1][2]]\n",
    "        awards[str(span).strip(punctuation).strip()] = awards[str(span).strip(punctuation).strip()] +1"
   ]
  },
  {
   "cell_type": "code",
   "execution_count": 47,
   "id": "cleared-fisher",
   "metadata": {},
   "outputs": [
    {
     "name": "stdout",
     "output_type": "stream",
     "text": [
      "[('Best Supporting Actress', 322), ('Best Original Song', 205), ('Best Motion Picture', 147), ('Best Supporting Actor', 120), ('Best Motion Picture - Comedy', 67), ('Best Screenplay - Quentin Tarantino', 49), ('Best Television Series', 49), ('Best Animated Feature Film - Brave', 38), ('Best Original Score - Mychael Danna', 35), ('Best TV Series', 34), ('Best Comedy Series', 29), ('Best Actress Award', 27), ('Best Television Series Actor - Drama', 27), ('Best Motion Picture, Musical', 26), ('Best Golden Globes', 26), ('Best Original Score', 25), ('Best Original Song: Adele', 25), ('Best motion picture drama', 24), ('Best Foreign Film - Amour', 23), ('Best Motion Picture - Drama', 22), ('Best Television Series - Comedy', 22), ('Best Motion Picture Drama', 20), ('Best Foreign Film', 18), ('Best TV Series Actress - Comedy', 18), ('Best Director award', 18)]\n"
     ]
    }
   ],
   "source": [
    "awards = sorted(awards.items(), key=lambda item: item[1], reverse = True)\n",
    "print(awards[0:25])"
   ]
  },
  {
   "cell_type": "code",
   "execution_count": null,
   "id": "brief-childhood",
   "metadata": {},
   "outputs": [],
   "source": []
  },
  {
   "cell_type": "code",
   "execution_count": null,
   "id": "curious-emperor",
   "metadata": {},
   "outputs": [],
   "source": []
  }
 ],
 "metadata": {
  "kernelspec": {
   "display_name": "Python 3",
   "language": "python",
   "name": "python3"
  },
  "language_info": {
   "codemirror_mode": {
    "name": "ipython",
    "version": 3
   },
   "file_extension": ".py",
   "mimetype": "text/x-python",
   "name": "python",
   "nbconvert_exporter": "python",
   "pygments_lexer": "ipython3",
   "version": "3.9.1"
  }
 },
 "nbformat": 4,
 "nbformat_minor": 5
}
