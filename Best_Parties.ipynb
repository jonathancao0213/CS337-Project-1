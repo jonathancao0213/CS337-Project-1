{
 "cells": [
  {
   "cell_type": "code",
   "execution_count": 1,
   "id": "asian-danger",
   "metadata": {},
   "outputs": [],
   "source": [
    "import numpy as np\n",
    "import pandas as pd\n",
    "import spacy\n",
    "from spacy import displacy\n",
    "from collections import defaultdict\n",
    "nlp = spacy.load(\"en_core_web_md\")"
   ]
  },
  {
   "cell_type": "code",
   "execution_count": 4,
   "id": "theoretical-subcommittee",
   "metadata": {},
   "outputs": [
    {
     "name": "stderr",
     "output_type": "stream",
     "text": [
      "<ipython-input-4-a2e7991e0957>:3: FutureWarning: The default value of regex will change from True to False in a future version.\n",
      "  df = df.str.replace('#GoldenGlobes|golden|globes|globe', \"\", case = False)\n"
     ]
    },
    {
     "name": "stdout",
     "output_type": "stream",
     "text": [
      "37        Black dresses with Plunging v necklines and hi...\n",
      "239       RT @CosmopolitanUK: Kate Hudson in black! She ...\n",
      "261       @kerrywashington is literally giving me my WHO...\n",
      "387       just started watching scandal. didn't know ker...\n",
      "407       I'm literally crying because of the perfection...\n",
      "                                ...                        \n",
      "174500    I imagine the   after party at the Beverly Hil...\n",
      "174519    “@EW:  after-parties: HBO! Jon Hamm downing fo...\n",
      "174553    Winner at our @ party! Practice round complete...\n",
      "174584    RT @MarcCassivi: Bon ben, le titre de ma chron...\n",
      "174589    MT @RobertNBCLA:  in #SoCal: @NBC is rebroadca...\n",
      "Name: text, Length: 3550, dtype: object\n"
     ]
    }
   ],
   "source": [
    "df = pd.read_json('../gg2013.json')\n",
    "df = df['text']\n",
    "df = df.str.replace('#GoldenGlobes|golden|globes|globe', \"\", case = False)\n",
    "parties_df = df[df.str.contains('party|parties|lit', case = False)]\n",
    "print(parties_df)"
   ]
  },
  {
   "cell_type": "code",
   "execution_count": 5,
   "id": "advanced-officer",
   "metadata": {},
   "outputs": [],
   "source": [
    "parties = {}\n",
    "parties = defaultdict(lambda: 1, parties)\n",
    "for i, text in parties_df.iteritems():\n",
    "    for entity in nlp(text).ents:\n",
    "        if entity.label_ == 'GPE':\n",
    "            parties[entity.text] = parties[entity.text] +1\n",
    "            \n",
    "parties = sorted(parties.items(), key=lambda item: item[1], reverse = True)"
   ]
  },
  {
   "cell_type": "code",
   "execution_count": 6,
   "id": "unique-demographic",
   "metadata": {},
   "outputs": [
    {
     "data": {
      "text/plain": [
       "[('Hollywood', 90),\n",
       " ('Orlando', 15),\n",
       " ('acabaron con los tequeños', 14),\n",
       " ('LA', 6),\n",
       " ('Tina', 6),\n",
       " ('NC', 6),\n",
       " ('Afghanistan', 6),\n",
       " ('http://t.co/KBxNsfhf', 6),\n",
       " ('Los Angeles', 4),\n",
       " ('Beverly Hills', 4),\n",
       " ('los', 4),\n",
       " ('Yemen', 4),\n",
       " ('en', 4),\n",
       " ('Canada', 3),\n",
       " ('la del casandra', 3),\n",
       " ('Los', 3),\n",
       " ('US', 3),\n",
       " ('America', 3),\n",
       " ('Casper', 3),\n",
       " ('parle du', 3),\n",
       " ('Et du courage', 3),\n",
       " ('los bollitos', 3),\n",
       " ('Calcutta', 3),\n",
       " ('London', 3),\n",
       " ('talentosa', 2),\n",
       " ('UK', 2),\n",
       " ('ver los   desde', 2),\n",
       " ('@emilydeschanel', 2),\n",
       " ('TLJ', 2),\n",
       " ('us', 2),\n",
       " ('Django Unchained', 2),\n",
       " ('Panama', 2),\n",
       " ('de', 2),\n",
       " ('Pailin', 2),\n",
       " ('L.A.', 2),\n",
       " ('dantescos', 2),\n",
       " ('Omy', 2),\n",
       " ('Les', 2),\n",
       " ('MO', 2),\n",
       " ('Damien Francisco', 2),\n",
       " ('Brace', 2),\n",
       " ('Hanekes bord va', 2),\n",
       " ('da house', 2),\n",
       " ('TY', 2),\n",
       " ('Argo', 2),\n",
       " ('Marion', 2),\n",
       " ('Chile', 2),\n",
       " ('Sunda', 2),\n",
       " ('nirkua en los  .', 2),\n",
       " ('Politik', 2),\n",
       " ('@IMKristenBell', 2),\n",
       " ('und', 2),\n",
       " ('auch wieder', 2),\n",
       " ('hollywood', 2),\n",
       " ('pleasee', 2),\n",
       " ('china', 2),\n",
       " ('chile', 2),\n",
       " ('@Becca4181', 2),\n",
       " ('Skankish', 2),\n",
       " ('recibir el premio', 2),\n",
       " ('Grey Gardens', 2),\n",
       " ('Lena', 2),\n",
       " ('guapa', 2),\n",
       " ('México', 2),\n",
       " ('comparando el reality con', 2),\n",
       " ('Tuscaloosa', 2),\n",
       " ('Dakota', 2),\n",
       " ('Qué paso', 2),\n",
       " ('🙉', 2),\n",
       " ('Iran', 2),\n",
       " ('amc', 2),\n",
       " ('@sangoriecloak  ', 2),\n",
       " (\"Y'ALL\", 2),\n",
       " ('China', 2),\n",
       " ('Santa Cruz', 2),\n",
       " ('Nos vemos en el AfterParty de los', 2),\n",
       " ('decido', 2),\n",
       " ('NYC', 2),\n",
       " ('Chardonnay', 2),\n",
       " ('Weho', 2)]"
      ]
     },
     "execution_count": 6,
     "metadata": {},
     "output_type": "execute_result"
    }
   ],
   "source": [
    "parties"
   ]
  }
 ],
 "metadata": {
  "kernelspec": {
   "display_name": "Python 3",
   "language": "python",
   "name": "python3"
  },
  "language_info": {
   "codemirror_mode": {
    "name": "ipython",
    "version": 3
   },
   "file_extension": ".py",
   "mimetype": "text/x-python",
   "name": "python",
   "nbconvert_exporter": "python",
   "pygments_lexer": "ipython3",
   "version": "3.9.1"
  }
 },
 "nbformat": 4,
 "nbformat_minor": 5
}
