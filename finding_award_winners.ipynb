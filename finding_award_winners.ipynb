{
 "cells": [
  {
   "cell_type": "code",
   "execution_count": 15,
   "metadata": {},
   "outputs": [
    {
     "data": {
      "text/plain": [
       "['best motion picture – drama',\n",
       " 'best motion picture – musical or comedy',\n",
       " 'best motion picture – foreign language',\n",
       " 'best motion picture – animated',\n",
       " 'best director – motion picture',\n",
       " 'best actor in a motion picture – drama',\n",
       " 'best actor in a motion picture – musical or comedy',\n",
       " 'best actress in a motion picture – drama',\n",
       " 'best actress in a motion picture – musical or comedy',\n",
       " 'best supporting actor – motion picture',\n",
       " 'best supporting actress – motion picture',\n",
       " 'best screenplay – motion picture',\n",
       " 'best original score – motion picture',\n",
       " 'best original song – motion picture',\n",
       " 'best television series – drama',\n",
       " 'best television series – musical or comedy',\n",
       " 'best miniseries or motion picture – television',\n",
       " 'best actor in a television series – drama',\n",
       " 'best actor in a television series – musical or comedy',\n",
       " 'best actor in a miniseries or motion picture – television',\n",
       " 'best actress in a television series – drama',\n",
       " 'best actress in a television series – musical or comedy',\n",
       " 'best actress in a miniseries or motion picture – television',\n",
       " 'best supporting actor in a series, miniseries or motion picture – television',\n",
       " 'best supporting actress in a series, miniseries or motion picture – television']"
      ]
     },
     "execution_count": 15,
     "metadata": {},
     "output_type": "execute_result"
    }
   ],
   "source": [
    "award_names = ['Best Motion Picture – Drama', 'Best Motion Picture – Musical or Comedy', 'Best Motion Picture – Foreign Language',\n",
    " 'Best Motion Picture – Animated', 'Best Director – Motion Picture', 'Best Actor in a Motion Picture – Drama',\n",
    " 'Best Actor in a Motion Picture – Musical or Comedy', 'Best Actress in a Motion Picture – Drama',\n",
    " 'Best Actress in a Motion Picture – Musical or Comedy', 'Best Supporting Actor – Motion Picture',\n",
    " 'Best Supporting Actress – Motion Picture', 'Best Screenplay – Motion Picture', 'Best Original Score – Motion Picture',\n",
    " 'Best Original Song – Motion Picture', 'Best Television Series – Drama', 'Best Television Series – Musical or Comedy',\n",
    " 'Best Miniseries or Motion Picture – Television', 'Best Actor in a Television Series – Drama',\n",
    " 'Best Actor in a Television Series – Musical or Comedy', 'Best Actor in a Miniseries or Motion Picture – Television',\n",
    " 'Best Actress in a Television Series – Drama', 'Best Actress in a Television Series – Musical or Comedy',\n",
    " 'Best Actress in a Miniseries or Motion Picture – Television',\n",
    " 'Best Supporting Actor in a Series, Miniseries or Motion Picture – Television',\n",
    " 'Best Supporting Actress in a Series, Miniseries or Motion Picture – Television']\n",
    "new_award_names = [0]*len(award_names)\n",
    "for i in range(len(award_names)):\n",
    "    new_award_names[i] = award_names[i].lower()\n",
    "#     new_award_names[i] = award_names[i].replace(\" in \", \" \").replace(\" a \", \" \").replace(\" or \", \" \").replace(\" – \", \" \").replace(\" - \", \" \").lower().split()\n",
    "#     if \"television\" in new_award_names[i]:\n",
    "#         new_award_names[i].append(\"tv\")\n",
    "new_award_names"
   ]
  },
  {
   "cell_type": "code",
   "execution_count": 2,
   "metadata": {},
   "outputs": [],
   "source": [
    "import numpy as np\n",
    "import pandas as pd\n",
    "import spacy\n",
    "from spacy import displacy\n",
    "from collections import defaultdict"
   ]
  },
  {
   "cell_type": "code",
   "execution_count": 3,
   "metadata": {},
   "outputs": [
    {
     "data": {
      "text/plain": [
       "3490      RT @yeahitsaline_: And the   to \"Best Twitter ...\n",
       "4511      RT @EricaDeLong:  #EricaRedCarpet Dustin Hoffm...\n",
       "7462      And  goes tooooooooo... Oğlum kara kışta böyle...\n",
       "9194      Biggest zinger so far at the  goes to Amy Poeh...\n",
       "9730      Watching the  ! I say silver linings wins best...\n",
       "                                ...                        \n",
       "174473    RT @playbill: \"Les Miserables\" wins Best Motio...\n",
       "174567    RT @nerdywonka: Ben Affleck won Best Director ...\n",
       "174576    Best Actor, Drama:   For Film Goes To Daniel D...\n",
       "174578    Best Actor, Drama:   For Film Goes To Daniel D...\n",
       "174580    Best Actor, Drama:   For Film Goes To Daniel D...\n",
       "Name: text, Length: 3806, dtype: object"
      ]
     },
     "execution_count": 3,
     "metadata": {},
     "output_type": "execute_result"
    }
   ],
   "source": [
    "df = pd.read_json('../gg2013.json')\n",
    "df = df['text']\n",
    "df = df[~df.str.contains('think|thinking|should|maybe', case = False)]\n",
    "df = df.str.replace('#GoldenGlobes|golden|globes|globe', \"\", case = False)\n",
    "wins_df = df[df.str.contains('won best|wins best|goes to', case = False)]\n",
    "\n",
    "wins_df"
   ]
  },
  {
   "cell_type": "code",
   "execution_count": 4,
   "metadata": {},
   "outputs": [],
   "source": [
    "from spacy.matcher import Matcher\n",
    "from spacy.tokens import Span\n",
    "nlp = spacy.load('en_core_web_md')\n",
    "from string import punctuation"
   ]
  },
  {
   "cell_type": "code",
   "execution_count": 5,
   "metadata": {},
   "outputs": [],
   "source": [
    "pattern1 = [{\"ENT_TYPE\": \"PERSON\", 'OP':'+'}, {\"LEMMA\": \"win\"}, {\"ORTH\":'Best'}, {\"DEP\": 'compound', 'OP':'+'}, {\"POS\":'NOUN', 'OP':'*'}, {'IS_PUNCT': True, 'OP':'?'}, {\"POS\": 'PROPN', 'OP':'*'}]\n",
    "#pattern2 = [{\"TEXT\": \"goes to\"}, {\"ENT_TYPE\": \"PERSON\", 'OP':'+'}] might need to split goes to into two \"text\"\n",
    "#another pattern: use work of art instead of \"Person\" to get movies etc too.\n",
    "#can also try using work of art after \"won\" to see if that turns up anything else\n",
    "# POS: very instead of lemma win"
   ]
  },
  {
   "cell_type": "code",
   "execution_count": 6,
   "metadata": {},
   "outputs": [],
   "source": [
    "matcher = Matcher(nlp.vocab)\n",
    "matcher.add(\"Winner\", [pattern1])"
   ]
  },
  {
   "cell_type": "code",
   "execution_count": 7,
   "metadata": {},
   "outputs": [],
   "source": [
    "winners = {}\n",
    "winners = defaultdict(lambda: 1, winners)\n",
    "for i, text in wins_df.iteritems():\n",
    "    doc = nlp(text)\n",
    "    matches = matcher(doc)\n",
    "    if len(matches) != 0:\n",
    "        span = doc[matches[-1][1]:matches[-1][2]]\n",
    "        winners[str(span).strip(punctuation).strip()] = winners[str(span).strip(punctuation).strip()] +1"
   ]
  },
  {
   "cell_type": "code",
   "execution_count": 8,
   "metadata": {},
   "outputs": [
    {
     "name": "stdout",
     "output_type": "stream",
     "text": [
      "[('Adele wins Best Original Song', 29), ('Christoph Waltz Wins Best Supporting Actor', 24), ('Christoph Waltz wins Best Supporting Actor', 13), ('Daniel Day-Lewis wins Best Actor Motion Picture - Drama', 13), ('Adele won Best Original Song', 6), ('Christoph Waltz won Best Supporting Actor', 5), ('Ben Affleck wins Best Director - Motion Picture', 5), ('Les Miserables wins Best Motion Picture', 5), ('Adele wins Best Original Song Motion Picture', 4), ('Jennifer Lawrence wins Best Actress Motion Picture Comedy', 4), ('Adele Wins Best Original Song', 4), ('Damian Lewis wins Best Actor TV Series', 3), ('Don Cheadle Wins Best TV Actor - Comedy', 3), ('Mychael Danna wins Best Original Score', 3), ('Ben Affleck wins Best Director prize', 3), ('Christoph Waltz wins Best Supporting Actor - Motion Picture', 2), ('Christoph Waltz WINS Best Supporting Actor', 2), ('Yayyyy Adele wins Best Original Song', 2), ('Christoph Waltz Wins Best Supportin Actor', 2), ('Glad Adele won Best Original Song', 2), ('Jennifer Lawrence won Best Actress Drama! ^.^ ♡', 2), ('Ed Harris wins Best Supporting Actor (TV', 2), ('Anne Hathaway wins Best Peter Pan Haircut', 2), ('Adele won Best Original Song Motion Picture', 2), ('Kevin Costner wins Best Actor Miniseries', 2), ('Quentin Tarantino wins Best Director - Motion Picture', 2), ('Quentin Tarantino won Best Screenplay - Django', 2), ('Don Cheadle wins Best Actor Comedy', 2), ('Claire Danes wins Best Drama TV Actress', 2), ('Claire Danes wins Best Actress - TV Series', 2), ('Claire Danes wins Best Actress TV', 2), ('Lena Dunham wins Best TV Series Actress', 2), ('Ben Affleck wins Best Director award', 2), ('Claire Danes wins Best Actress TV Drama', 2), ('Hugh Jackman wins Best Actor Motion Picture', 2), ('Les Misèrables wins Best Motion Picture Comedy', 2), ('Les Misérables wins Best Motion Picture - Comedy', 2), ('Jessica Chastain wins Best Actress Drama', 2), ('Hugh Jackman Wins Best Actor', 2), ('Clooney wins Best Old Man Crush', 2), ('Daniel Day-Lewis wins Best Actor - Drama', 2), ('Daniel Day Lewis wins Best Actor - Drama', 2), ('Daniel Day Lewis wins Best Actor Award', 2), ('Daniel Day-Lewis wins Best Actor Motion Picture Drama', 2), ('Jennifer Lawrence wins Best Actress', 2), ('Les Mis won Best Motion Picture', 2), ('Hugh Jackman wins Best Lead Actor', 2), ('Jessica Chastain WINS Best Actress Drama', 2), ('Jennifer Lawrence wins Best Actress-Motion Picture', 2)]\n"
     ]
    }
   ],
   "source": [
    "winners = sorted(winners.items(), key=lambda item: item[1], reverse = True)\n",
    "print(winners)"
   ]
  },
  {
   "cell_type": "code",
   "execution_count": 14,
   "metadata": {},
   "outputs": [
    {
     "name": "stdout",
     "output_type": "stream",
     "text": [
      "2\n"
     ]
    }
   ],
   "source": [
    "import Levenshtein"
   ]
  },
  {
   "cell_type": "code",
   "execution_count": 22,
   "metadata": {},
   "outputs": [
    {
     "name": "stdout",
     "output_type": "stream",
     "text": [
      "[18, 27, 26, 20, 21, 27, 36, 29, 39, 26, 28, 22, 19, 17, 21, 29, 34, 28, 39, 44, 30, 42, 47, 60, 62]\n",
      "[19, 28, 27, 20, 17, 26, 37, 28, 39, 17, 19, 19, 23, 23, 22, 31, 32, 29, 40, 43, 32, 42, 45, 55, 57]\n",
      "[19, 28, 27, 20, 17, 26, 37, 28, 39, 17, 19, 19, 23, 23, 22, 31, 32, 29, 40, 43, 32, 42, 45, 55, 57]\n",
      "[7, 22, 20, 13, 14, 6, 21, 10, 25, 21, 25, 19, 21, 21, 16, 29, 22, 19, 32, 30, 23, 36, 32, 49, 51]\n",
      "[18, 27, 26, 20, 21, 27, 36, 29, 39, 26, 28, 22, 19, 17, 21, 29, 34, 28, 39, 44, 30, 42, 47, 60, 62]\n",
      "[19, 28, 27, 20, 17, 26, 37, 28, 39, 17, 19, 19, 23, 23, 22, 31, 32, 29, 40, 43, 32, 42, 45, 55, 57]\n",
      "[19, 24, 21, 22, 1, 16, 28, 17, 29, 12, 16, 9, 12, 12, 21, 28, 23, 26, 36, 34, 28, 38, 35, 50, 53]\n",
      "[8, 20, 19, 11, 11, 19, 31, 21, 33, 19, 21, 13, 17, 16, 19, 29, 27, 28, 38, 38, 31, 41, 40, 57, 59]\n",
      "[22, 27, 24, 24, 12, 19, 31, 20, 32, 14, 15, 11, 5, 2, 23, 29, 24, 26, 34, 31, 28, 36, 34, 47, 49]\n",
      "[15, 21, 24, 16, 15, 13, 19, 12, 18, 22, 20, 17, 19, 21, 23, 24, 21, 26, 29, 29, 25, 28, 30, 47, 49]\n",
      "[18, 27, 26, 20, 21, 27, 36, 29, 39, 26, 28, 22, 19, 17, 21, 29, 34, 28, 39, 44, 30, 42, 47, 60, 62]\n",
      "[16, 26, 26, 18, 18, 23, 34, 27, 37, 25, 29, 23, 25, 25, 18, 30, 33, 21, 33, 39, 25, 37, 43, 58, 62]\n",
      "[16, 21, 24, 16, 18, 24, 31, 26, 33, 23, 27, 23, 25, 25, 21, 26, 33, 29, 34, 43, 31, 36, 45, 59, 62]\n",
      "[17, 25, 26, 20, 19, 25, 34, 27, 37, 25, 27, 21, 17, 17, 20, 27, 35, 27, 37, 43, 29, 39, 46, 59, 61]\n",
      "[16, 27, 25, 18, 14, 27, 37, 28, 38, 25, 27, 20, 23, 24, 20, 30, 32, 30, 41, 43, 31, 42, 45, 62, 64]\n",
      "[25, 25, 22, 24, 12, 20, 32, 23, 34, 1, 5, 13, 12, 14, 28, 29, 27, 27, 35, 31, 30, 38, 34, 39, 42]\n",
      "[19, 28, 27, 20, 17, 26, 37, 28, 39, 17, 19, 19, 23, 23, 22, 31, 32, 29, 40, 43, 32, 42, 45, 55, 57]\n",
      "[18, 27, 26, 20, 21, 27, 36, 29, 39, 26, 28, 22, 19, 17, 21, 29, 34, 28, 39, 44, 30, 42, 47, 60, 62]\n",
      "[18, 28, 26, 20, 16, 25, 36, 27, 38, 18, 20, 18, 22, 22, 21, 31, 31, 28, 40, 42, 31, 42, 44, 56, 58]\n",
      "[18, 27, 26, 20, 21, 27, 36, 29, 39, 26, 28, 22, 19, 17, 21, 29, 34, 28, 39, 44, 30, 42, 47, 60, 62]\n",
      "[19, 27, 26, 22, 21, 26, 36, 23, 35, 28, 26, 23, 25, 27, 21, 31, 34, 27, 37, 41, 27, 38, 42, 59, 61]\n",
      "[18, 27, 27, 20, 20, 25, 36, 27, 38, 15, 18, 21, 25, 23, 22, 30, 29, 28, 39, 40, 31, 41, 42, 52, 54]\n",
      "[17, 27, 26, 19, 18, 26, 36, 28, 38, 26, 28, 20, 26, 24, 19, 30, 33, 28, 39, 42, 30, 41, 44, 60, 62]\n",
      "[22, 27, 24, 24, 12, 19, 31, 20, 32, 14, 15, 11, 5, 2, 23, 29, 24, 26, 34, 31, 28, 36, 34, 47, 49]\n",
      "[16, 26, 26, 18, 16, 21, 32, 25, 36, 23, 27, 21, 23, 23, 17, 29, 31, 22, 34, 36, 26, 38, 40, 55, 58]\n",
      "[19, 24, 21, 22, 1, 16, 28, 17, 29, 12, 16, 9, 12, 12, 21, 28, 23, 26, 36, 34, 28, 38, 35, 50, 53]\n",
      "[17, 28, 26, 20, 21, 26, 37, 27, 38, 26, 28, 14, 26, 25, 20, 31, 33, 28, 39, 43, 30, 41, 45, 61, 63]\n",
      "[16, 23, 27, 19, 19, 24, 33, 27, 35, 26, 30, 23, 26, 26, 21, 27, 36, 27, 36, 43, 31, 38, 46, 62, 65]\n",
      "[18, 28, 28, 21, 18, 24, 35, 26, 37, 26, 26, 20, 24, 23, 22, 31, 32, 28, 39, 41, 30, 41, 43, 60, 62]\n",
      "[18, 27, 27, 20, 20, 23, 34, 22, 33, 27, 24, 21, 24, 25, 19, 31, 32, 21, 33, 39, 20, 32, 39, 57, 57]\n",
      "[17, 28, 28, 19, 20, 27, 38, 26, 38, 27, 26, 23, 25, 27, 21, 32, 34, 28, 40, 43, 28, 40, 44, 61, 63]\n",
      "[18, 27, 26, 20, 19, 25, 36, 27, 38, 26, 25, 22, 24, 24, 14, 24, 29, 25, 35, 38, 27, 37, 40, 57, 59]\n",
      "[16, 26, 25, 17, 15, 27, 37, 28, 38, 26, 28, 21, 24, 25, 20, 29, 34, 30, 40, 45, 31, 41, 47, 63, 66]\n",
      "[14, 26, 26, 19, 20, 21, 35, 20, 34, 27, 25, 22, 24, 26, 17, 30, 34, 23, 37, 42, 22, 36, 43, 60, 62]\n",
      "[14, 25, 23, 17, 6, 13, 25, 17, 29, 13, 17, 11, 13, 13, 20, 29, 24, 23, 33, 32, 27, 37, 34, 51, 53]\n",
      "[7, 13, 16, 8, 18, 18, 24, 20, 26, 25, 27, 20, 24, 23, 21, 24, 25, 29, 33, 36, 31, 36, 38, 55, 57]\n",
      "[7, 12, 15, 7, 20, 18, 23, 20, 25, 25, 26, 22, 24, 24, 21, 23, 24, 29, 32, 35, 31, 35, 37, 54, 56]\n",
      "[12, 26, 25, 18, 21, 22, 36, 22, 36, 28, 27, 24, 26, 28, 16, 30, 36, 23, 38, 43, 25, 39, 44, 61, 63]\n",
      "[19, 30, 29, 22, 21, 28, 40, 30, 42, 28, 30, 23, 26, 26, 23, 34, 38, 31, 43, 47, 33, 45, 49, 66, 68]\n",
      "[18, 28, 28, 21, 18, 26, 36, 29, 39, 26, 28, 20, 23, 22, 20, 31, 34, 30, 41, 44, 32, 43, 47, 63, 65]\n",
      "[12, 27, 25, 18, 19, 21, 35, 23, 38, 26, 30, 23, 26, 26, 16, 31, 36, 24, 38, 43, 26, 41, 46, 62, 65]\n",
      "[12, 27, 25, 18, 19, 21, 35, 23, 38, 26, 30, 23, 26, 26, 16, 31, 36, 24, 38, 43, 26, 41, 46, 62, 65]\n",
      "[17, 27, 26, 18, 19, 24, 35, 28, 38, 26, 29, 22, 25, 25, 21, 31, 37, 27, 38, 44, 31, 41, 47, 63, 66]\n",
      "[8, 23, 21, 13, 12, 7, 22, 11, 26, 19, 23, 17, 19, 19, 16, 29, 23, 19, 32, 31, 23, 36, 33, 50, 52]\n",
      "[18, 29, 29, 21, 22, 28, 39, 28, 40, 29, 28, 24, 27, 27, 22, 33, 36, 29, 41, 45, 31, 43, 47, 64, 66]\n",
      "[8, 20, 19, 11, 11, 19, 31, 21, 33, 19, 21, 13, 17, 16, 19, 29, 27, 28, 38, 38, 31, 41, 40, 57, 59]\n",
      "[18, 29, 28, 21, 20, 28, 39, 29, 40, 27, 29, 21, 25, 25, 21, 31, 36, 31, 42, 47, 32, 44, 48, 65, 67]\n",
      "[12, 26, 25, 18, 21, 22, 36, 22, 36, 28, 27, 24, 26, 28, 16, 30, 36, 23, 38, 43, 25, 39, 44, 61, 63]\n",
      "[16, 26, 23, 19, 9, 15, 27, 14, 26, 16, 14, 11, 13, 15, 21, 30, 24, 25, 35, 32, 24, 34, 33, 50, 52]\n",
      "[{'les miserables': 1, 'damian lewis': 1, 'don cheadle': 2, 'mychael danna': 1, 'jennifer lawrence': 2, 'anne hathaway': 1, 'kevin costner': 1, 'claire danes': 4, 'les misèrables': 1, 'les misérables': 1, 'jessica chastain': 2, 'hugh jackman': 2, 'clooney': 1, 'daniel day-lewis': 1, 'daniel day lewis': 2, 'les mis': 1}, {}, {}, {}, {'christoph waltz': 5, 'ben affleck': 3, 'quentin tarantino': 1, 'hugh jackman': 1, 'jennifer lawrence': 1}, {'daniel day-lewis': 2}, {}, {'jennifer lawrence': 1}, {}, {'christoph waltz': 1, 'ed harris': 1}, {}, {'quentin tarantino': 1}, {}, {'adele': 5, 'yayyyy adele': 1, 'glad adele': 1}, {'lena dunham': 1}, {}, {}, {}, {}, {}, {}, {}, {}, {}, {}]\n"
     ]
    }
   ],
   "source": [
    "award_list = [dict() for x in range(len(new_award_names))]\n",
    "\n",
    "for tweet in winners: \n",
    "    tweet = tweet[0]\n",
    "    split = tweet.lower().split()\n",
    "    \n",
    "    index = split.index(\"best\")\n",
    "\n",
    "    award_phrase = \" \".join(split[index:])\n",
    "\n",
    "    name_count = [0]*len(new_award_names)\n",
    "    for i in range(len(new_award_names)):\n",
    "#         match_length = len(set(new_award_names[i]).intersection(award_phrase))\n",
    "#         try Levenshtein distance instead, may be more accurate\n",
    "        \n",
    "        name_count[i] = Levenshtein.distance(new_award_names[i], award_phrase)\n",
    "\n",
    "    award_index = np.argmin(name_count)\n",
    "    # WHAT ABOUT TIE? Neither? Or Both?\n",
    "    #print(award_index)\n",
    "\n",
    "#     if name_count[award_index] > 1:       \n",
    "    if \"wins\" in split:\n",
    "        person_index = split.index(\"wins\")\n",
    "    if \"won\" in split:\n",
    "        person_index = split.index(\"won\")\n",
    "    person = split[:index-1]\n",
    "    person = \" \".join(person)\n",
    "    if person not in award_list[award_index]:\n",
    "        award_list[award_index][person] = 1\n",
    "    else:\n",
    "        award_list[award_index][person] = award_list[award_index][person]+1\n",
    "\n",
    "print(award_list)"
   ]
  },
  {
   "cell_type": "code",
   "execution_count": 20,
   "metadata": {},
   "outputs": [
    {
     "name": "stdout",
     "output_type": "stream",
     "text": [
      "{0: 'claire danes', 1: '', 2: '', 3: '', 4: 'christoph waltz', 5: 'daniel day-lewis', 6: '', 7: 'jennifer lawrence', 8: '', 9: 'christoph waltz', 10: '', 11: 'quentin tarantino', 12: '', 13: 'adele', 14: 'lena dunham', 15: '', 16: '', 17: '', 18: '', 19: '', 20: '', 21: '', 22: '', 23: '', 24: ''}\n"
     ]
    }
   ],
   "source": [
    "import operator\n",
    "i = 0\n",
    "awards = {}\n",
    "for award in award_list:\n",
    "    if award != {}:\n",
    "        awards[i] = max(award.items(), key=operator.itemgetter(1))[0]\n",
    "    else:\n",
    "        awards[i] = ''\n",
    "    i+=1\n",
    "print(awards)"
   ]
  },
  {
   "cell_type": "code",
   "execution_count": null,
   "metadata": {},
   "outputs": [],
   "source": []
  }
 ],
 "metadata": {
  "kernelspec": {
   "display_name": "Python 3",
   "language": "python",
   "name": "python3"
  },
  "language_info": {
   "codemirror_mode": {
    "name": "ipython",
    "version": 3
   },
   "file_extension": ".py",
   "mimetype": "text/x-python",
   "name": "python",
   "nbconvert_exporter": "python",
   "pygments_lexer": "ipython3",
   "version": "3.8.3"
  }
 },
 "nbformat": 4,
 "nbformat_minor": 4
}
