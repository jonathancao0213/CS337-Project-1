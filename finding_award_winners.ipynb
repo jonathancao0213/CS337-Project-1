{
 "cells": [
  {
   "cell_type": "code",
   "execution_count": 56,
   "metadata": {},
   "outputs": [
    {
     "data": {
      "text/plain": [
       "[['best', 'motion', 'picture', 'drama'],\n",
       " ['best', 'director', 'motion', 'picture'],\n",
       " ['best', 'motion', 'picture', 'musical', 'comedy'],\n",
       " ['best', 'television', 'series', 'drama'],\n",
       " ['best', 'actor', 'motion', 'picture', 'drama']]"
      ]
     },
     "execution_count": 56,
     "metadata": {},
     "output_type": "execute_result"
    }
   ],
   "source": [
    "award_names = ['best Motion Picture – Drama', 'Best Director – Motion Picture', 'Best Motion Picture – Musical or Comedy', 'Best Television Series – Drama', 'Best Actor in a Motion Picture – Drama']\n",
    "new_award_names = [0]*len(award_names)\n",
    "for i in range(len(award_names)):\n",
    "    new_award_names[i] = award_names[i].replace(\" in \", \" \").replace(\" a \", \" \").replace(\" or \", \" \").replace(\" – \", \" \").replace(\" - \", \" \").lower().split()\n",
    "new_award_names"
   ]
  },
  {
   "cell_type": "code",
   "execution_count": 57,
   "metadata": {},
   "outputs": [],
   "source": [
    "import numpy as np\n",
    "import pandas as pd\n",
    "import spacy\n",
    "from spacy import displacy\n",
    "from collections import defaultdict"
   ]
  },
  {
   "cell_type": "code",
   "execution_count": 58,
   "metadata": {},
   "outputs": [
    {
     "data": {
      "text/plain": [
       "4511      RT @EricaDeLong:  #EricaRedCarpet Dustin Hoffm...\n",
       "9730      Watching the  ! I say silver linings wins best...\n",
       "10445     So far Tina Fey wins best dressed. I'm obsesse...\n",
       "11655     RT @Proteautype: Bill Murray wins best facial ...\n",
       "14185     Christoph Waltz wins best supporting actor for...\n",
       "                                ...                        \n",
       "174336    RT @moviesndtv:  2013: Hugh Jackman wins Best ...\n",
       "174356    Waking up to a very good news that Ben Affleck...\n",
       "174359    I liked a @YouTube video http://t.co/mQYU3SiN ...\n",
       "174473    RT @playbill: \"Les Miserables\" wins Best Motio...\n",
       "174567    RT @nerdywonka: Ben Affleck won Best Director ...\n",
       "Name: text, Length: 2401, dtype: object"
      ]
     },
     "execution_count": 58,
     "metadata": {},
     "output_type": "execute_result"
    }
   ],
   "source": [
    "df = pd.read_json('../gg2013.json')\n",
    "df = df['text']\n",
    "df = df[~df.str.contains('think|thinking|should|maybe', case = False)]\n",
    "df = df.str.replace('#GoldenGlobes|golden|globes|globe', \"\", case = False)\n",
    "wins_df = df[df.str.contains('won best|wins best', case = False)]\n",
    "\n",
    "wins_df"
   ]
  },
  {
   "cell_type": "code",
   "execution_count": 73,
   "metadata": {},
   "outputs": [
    {
     "name": "stdout",
     "output_type": "stream",
     "text": [
      "['best', 'name', 'musical', 'ever', 'and', 'ever', '1', '2', '3', 'actor', 'director', 'forever']\n",
      "2\n"
     ]
    }
   ],
   "source": [
    "#for tweet in wins_df:\n",
    "tweet = 'My name is the best name musical ever and ever 1 2 3 actor director forever no one has a better name because 1 2 3 mine is the best'\n",
    "split = tweet.lower().split()\n",
    "index = split.index(\"best\")\n",
    "len_after = len(split) - index\n",
    "if len_after > 12:\n",
    "    award_phrase = split[index:index+12]\n",
    "else:\n",
    "    award_phrase = split[index:]\n",
    "\n",
    "print(award_phrase)\n",
    "\n",
    "name_count = [0]*len(new_award_names)\n",
    "for i in range(len(new_award_names)):\n",
    "    match_length = len(set(new_award_names[i]).intersection(award_phrase))\n",
    "    name_count[i] = match_length\n",
    "\n",
    "max_val = max(name_count)\n",
    "\n",
    "if max_val > 1:\n",
    "    ## get the person from the phrase that came right before \"won\"\n",
    "    for i in range(name_count):\n",
    "        if name_count[i] == max_val:\n",
    "            ## tally that person's name in the awards -> people array\n",
    "        \n",
    "    \n",
    "\n",
    "    \n",
    "    "
   ]
  },
  {
   "cell_type": "code",
   "execution_count": null,
   "metadata": {},
   "outputs": [],
   "source": []
  }
 ],
 "metadata": {
  "kernelspec": {
   "display_name": "Python 3",
   "language": "python",
   "name": "python3"
  },
  "language_info": {
   "codemirror_mode": {
    "name": "ipython",
    "version": 3
   },
   "file_extension": ".py",
   "mimetype": "text/x-python",
   "name": "python",
   "nbconvert_exporter": "python",
   "pygments_lexer": "ipython3",
   "version": "3.8.3"
  }
 },
 "nbformat": 4,
 "nbformat_minor": 4
}
