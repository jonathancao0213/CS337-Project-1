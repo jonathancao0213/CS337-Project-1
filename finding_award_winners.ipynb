{
 "cells": [
  {
   "cell_type": "code",
   "execution_count": 56,
   "metadata": {},
   "outputs": [
    {
     "data": {
      "text/plain": [
       "[['best', 'motion', 'picture', 'drama'],\n",
       " ['best', 'director', 'motion', 'picture'],\n",
       " ['best', 'motion', 'picture', 'musical', 'comedy'],\n",
       " ['best', 'television', 'series', 'drama'],\n",
       " ['best', 'actor', 'motion', 'picture', 'drama']]"
      ]
     },
     "execution_count": 56,
     "metadata": {},
     "output_type": "execute_result"
    }
   ],
   "source": [
    "award_names = ['best Motion Picture – Drama', 'Best Director – Motion Picture', 'Best Motion Picture – Musical or Comedy', 'Best Television Series – Drama', 'Best Actor in a Motion Picture – Drama']\n",
    "new_award_names = [0]*len(award_names)\n",
    "for i in range(len(award_names)):\n",
    "    new_award_names[i] = award_names[i].replace(\" in \", \" \").replace(\" a \", \" \").replace(\" or \", \" \").replace(\" – \", \" \").replace(\" - \", \" \").lower().split()\n",
    "new_award_names"
   ]
  },
  {
   "cell_type": "code",
   "execution_count": 57,
   "metadata": {},
   "outputs": [],
   "source": [
    "import numpy as np\n",
    "import pandas as pd\n",
    "import spacy\n",
    "from spacy import displacy\n",
    "from collections import defaultdict"
   ]
  },
  {
   "cell_type": "code",
   "execution_count": 36,
   "metadata": {},
   "outputs": [
    {
     "data": {
      "text/plain": [
       "3490      RT @yeahitsaline_: And the   to \"Best Twitter ...\n",
       "4511      RT @EricaDeLong:  #EricaRedCarpet Dustin Hoffm...\n",
       "7462      And  goes tooooooooo... Oğlum kara kışta böyle...\n",
       "9194      Biggest zinger so far at the  goes to Amy Poeh...\n",
       "9730      Watching the  ! I say silver linings wins best...\n",
       "                                ...                        \n",
       "174473    RT @playbill: \"Les Miserables\" wins Best Motio...\n",
       "174567    RT @nerdywonka: Ben Affleck won Best Director ...\n",
       "174576    Best Actor, Drama:   For Film Goes To Daniel D...\n",
       "174578    Best Actor, Drama:   For Film Goes To Daniel D...\n",
       "174580    Best Actor, Drama:   For Film Goes To Daniel D...\n",
       "Name: text, Length: 3806, dtype: object"
      ]
     },
     "execution_count": 36,
     "metadata": {},
     "output_type": "execute_result"
    }
   ],
   "source": [
    "df = pd.read_json('../gg2013.json')\n",
    "df = df['text']\n",
    "df = df[~df.str.contains('think|thinking|should|maybe', case = False)]\n",
    "df = df.str.replace('#GoldenGlobes|golden|globes|globe', \"\", case = False)\n",
    "wins_df = df[df.str.contains('won best|wins best|goes to', case = False)]\n",
    "\n",
    "wins_df"
   ]
  },
  {
   "cell_type": "code",
   "execution_count": 37,
   "metadata": {},
   "outputs": [
    {
     "ename": "SyntaxError",
     "evalue": "unexpected EOF while parsing (<ipython-input-37-4650c27f912e>, line 29)",
     "output_type": "error",
     "traceback": [
      "\u001b[0;36m  File \u001b[0;32m\"<ipython-input-37-4650c27f912e>\"\u001b[0;36m, line \u001b[0;32m29\u001b[0m\n\u001b[0;31m    \u001b[0m\n\u001b[0m    ^\u001b[0m\n\u001b[0;31mSyntaxError\u001b[0m\u001b[0;31m:\u001b[0m unexpected EOF while parsing\n"
     ]
    }
   ],
   "source": [
    "# #for tweet in wins_df:\n",
    "# tweet = 'My name is the best name musical ever and ever 1 2 3 actor director forever no one has a better name because 1 2 3 mine is the best'\n",
    "# split = tweet.lower().split()\n",
    "# index = split.index(\"best\")\n",
    "# len_after = len(split) - index\n",
    "# if len_after > 12:\n",
    "#     award_phrase = split[index:index+12]\n",
    "# else:\n",
    "#     award_phrase = split[index:]\n",
    "\n",
    "# print(award_phrase)\n",
    "\n",
    "# name_count = [0]*len(new_award_names)\n",
    "# for i in range(len(new_award_names)):\n",
    "#     match_length = len(set(new_award_names[i]).intersection(award_phrase))\n",
    "#     name_count[i] = match_length\n",
    "\n",
    "# max_val = max(name_count)\n",
    "\n",
    "# if max_val > 1:\n",
    "#     ## get the person from the phrase that came right before \"won\"\n",
    "#     for i in range(name_count):\n",
    "#         if name_count[i] == max_val:\n",
    "#             ## tally that person's name in the awards -> people array\n",
    "    "
   ]
  },
  {
   "cell_type": "code",
   "execution_count": 4,
   "metadata": {},
   "outputs": [],
   "source": [
    "import numpy as np\n",
    "import pandas as pd\n",
    "import spacy\n",
    "from spacy.matcher import Matcher\n",
    "from spacy.tokens import Span\n",
    "from spacy import displacy\n",
    "from collections import defaultdict\n",
    "nlp = spacy.load('en_core_web_md')\n",
    "from string import punctuation"
   ]
  },
  {
   "cell_type": "code",
   "execution_count": 55,
   "metadata": {},
   "outputs": [],
   "source": [
    "pattern1 = [{\"ENT_TYPE\": \"PERSON\", 'OP':'+'}, {\"LEMMA\": \"win\"}, {\"ORTH\":'Best'}, {\"DEP\": 'compound', 'OP':'+'}, {\"POS\":'NOUN', 'OP':'*'}, {'IS_PUNCT': True, 'OP':'?'}, {\"POS\": 'PROPN', 'OP':'*'}]\n",
    "pattern2 = [{\"ORTH\":'Best'}, {\"DEP\": 'compound', 'OP':'*'}, {\"POS\":'NOUN', 'OP':'*'}, {'IS_PUNCT': True, 'OP':'?'}, {\"POS\": 'PROPN', 'OP':'*'}, {\"TEXT\": \"goes to\"}, {\"ENT_TYPE\": \"PERSON\", 'OP':'+'}]"
   ]
  },
  {
   "cell_type": "code",
   "execution_count": 56,
   "metadata": {},
   "outputs": [],
   "source": [
    "matcher = Matcher(nlp.vocab)\n",
    "matcher.add(\"Winner\", [pattern1, pattern2])"
   ]
  },
  {
   "cell_type": "code",
   "execution_count": 57,
   "metadata": {},
   "outputs": [],
   "source": [
    "winners = {}\n",
    "winners = defaultdict(lambda: 1, winners)\n",
    "for i, text in wins_df.iteritems():\n",
    "    doc = nlp(text)\n",
    "    matches = matcher(doc)\n",
    "    if len(matches) != 0:\n",
    "        span = doc[matches[-1][1]:matches[-1][2]]\n",
    "        winners[str(span).strip(punctuation).strip()] = winners[str(span).strip(punctuation).strip()] +1"
   ]
  },
  {
   "cell_type": "code",
   "execution_count": 58,
   "metadata": {},
   "outputs": [
    {
     "name": "stdout",
     "output_type": "stream",
     "text": [
      "[('Adele wins Best Original Song', 29), ('Christoph Waltz Wins Best Supporting Actor', 24), ('Christoph Waltz wins Best Supporting Actor', 13), ('Daniel Day-Lewis wins Best Actor Motion Picture - Drama', 13), ('Adele won Best Original Song', 6), ('Christoph Waltz won Best Supporting Actor', 5), ('Ben Affleck wins Best Director - Motion Picture', 5), ('Les Miserables wins Best Motion Picture', 5), ('Adele wins Best Original Song Motion Picture', 4), ('Jennifer Lawrence wins Best Actress Motion Picture Comedy', 4), ('Adele Wins Best Original Song', 4), ('Damian Lewis wins Best Actor TV Series', 3), ('Don Cheadle Wins Best TV Actor - Comedy', 3), ('Mychael Danna wins Best Original Score', 3), ('Ben Affleck wins Best Director prize', 3), ('Christoph Waltz wins Best Supporting Actor - Motion Picture', 2), ('Christoph Waltz WINS Best Supporting Actor', 2), ('Yayyyy Adele wins Best Original Song', 2), ('Christoph Waltz Wins Best Supportin Actor', 2), ('Glad Adele won Best Original Song', 2), ('Jennifer Lawrence won Best Actress Drama! ^.^ ♡', 2), ('Ed Harris wins Best Supporting Actor (TV', 2), ('Anne Hathaway wins Best Peter Pan Haircut', 2), ('Adele won Best Original Song Motion Picture', 2), ('Kevin Costner wins Best Actor Miniseries', 2), ('Quentin Tarantino wins Best Director - Motion Picture', 2), ('Quentin Tarantino won Best Screenplay - Django', 2), ('Don Cheadle wins Best Actor Comedy', 2), ('Claire Danes wins Best Drama TV Actress', 2), ('Claire Danes wins Best Actress - TV Series', 2), ('Claire Danes wins Best Actress TV', 2), ('Lena Dunham wins Best TV Series Actress', 2), ('Ben Affleck wins Best Director award', 2), ('Claire Danes wins Best Actress TV Drama', 2), ('Hugh Jackman wins Best Actor Motion Picture', 2), ('Les Misèrables wins Best Motion Picture Comedy', 2), ('Les Misérables wins Best Motion Picture - Comedy', 2), ('Jessica Chastain wins Best Actress Drama', 2), ('Hugh Jackman Wins Best Actor', 2), ('Clooney wins Best Old Man Crush', 2), ('Daniel Day-Lewis wins Best Actor - Drama', 2), ('Daniel Day Lewis wins Best Actor - Drama', 2), ('Daniel Day Lewis wins Best Actor Award', 2), ('Daniel Day-Lewis wins Best Actor Motion Picture Drama', 2), ('Jennifer Lawrence wins Best Actress', 2), ('Les Mis won Best Motion Picture', 2), ('Hugh Jackman wins Best Lead Actor', 2), ('Jessica Chastain WINS Best Actress Drama', 2), ('Jennifer Lawrence wins Best Actress-Motion Picture', 2)]\n"
     ]
    }
   ],
   "source": [
    "winners = sorted(winners.items(), key=lambda item: item[1], reverse = True)\n",
    "print(winners)"
   ]
  },
  {
   "cell_type": "code",
   "execution_count": null,
   "metadata": {},
   "outputs": [],
   "source": []
  },
  {
   "cell_type": "code",
   "execution_count": null,
   "metadata": {},
   "outputs": [],
   "source": []
  }
 ],
 "metadata": {
  "kernelspec": {
   "display_name": "Python 3",
   "language": "python",
   "name": "python3"
  },
  "language_info": {
   "codemirror_mode": {
    "name": "ipython",
    "version": 3
   },
   "file_extension": ".py",
   "mimetype": "text/x-python",
   "name": "python",
   "nbconvert_exporter": "python",
   "pygments_lexer": "ipython3",
   "version": "3.8.3"
  }
 },
 "nbformat": 4,
 "nbformat_minor": 4
}
