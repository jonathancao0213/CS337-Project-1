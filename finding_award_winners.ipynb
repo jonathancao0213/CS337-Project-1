{
 "cells": [
  {
   "cell_type": "code",
   "execution_count": 74,
   "metadata": {},
   "outputs": [
    {
     "data": {
      "text/plain": [
       "[['best', 'motion', 'picture', 'drama'],\n",
       " ['best', 'motion', 'picture', 'musical', 'comedy'],\n",
       " ['best', 'motion', 'picture', 'foreign', 'language'],\n",
       " ['best', 'motion', 'picture', 'animated'],\n",
       " ['best', 'director', 'motion', 'picture'],\n",
       " ['best', 'actor', 'motion', 'picture', 'drama'],\n",
       " ['best', 'actor', 'motion', 'picture', 'musical', 'comedy'],\n",
       " ['best', 'actress', 'motion', 'picture', 'drama'],\n",
       " ['best', 'actress', 'motion', 'picture', 'musical', 'comedy'],\n",
       " ['best', 'supporting', 'actor', 'motion', 'picture'],\n",
       " ['best', 'supporting', 'actress', 'motion', 'picture'],\n",
       " ['best', 'screenplay', 'motion', 'picture'],\n",
       " ['best', 'original', 'score', 'motion', 'picture'],\n",
       " ['best', 'original', 'song', 'motion', 'picture'],\n",
       " ['best', 'television', 'series', 'drama', 'tv'],\n",
       " ['best', 'television', 'series', 'musical', 'comedy', 'tv'],\n",
       " ['best', 'miniseries', 'motion', 'picture', 'television', 'tv'],\n",
       " ['best', 'actor', 'television', 'series', 'drama', 'tv'],\n",
       " ['best', 'actor', 'television', 'series', 'musical', 'comedy', 'tv'],\n",
       " ['best', 'actor', 'miniseries', 'motion', 'picture', 'television', 'tv'],\n",
       " ['best', 'actress', 'television', 'series', 'drama', 'tv'],\n",
       " ['best', 'actress', 'television', 'series', 'musical', 'comedy', 'tv'],\n",
       " ['best', 'actress', 'miniseries', 'motion', 'picture', 'television', 'tv'],\n",
       " ['best',\n",
       "  'supporting',\n",
       "  'actor',\n",
       "  'series,',\n",
       "  'miniseries',\n",
       "  'motion',\n",
       "  'picture',\n",
       "  'television',\n",
       "  'tv'],\n",
       " ['best',\n",
       "  'supporting',\n",
       "  'actress',\n",
       "  'series,',\n",
       "  'miniseries',\n",
       "  'motion',\n",
       "  'picture',\n",
       "  'television',\n",
       "  'tv']]"
      ]
     },
     "execution_count": 74,
     "metadata": {},
     "output_type": "execute_result"
    }
   ],
   "source": [
    "award_names = ['Best Motion Picture – Drama', 'Best Motion Picture – Musical or Comedy', 'Best Motion Picture – Foreign Language',\n",
    " 'Best Motion Picture – Animated', 'Best Director – Motion Picture', 'Best Actor in a Motion Picture – Drama',\n",
    " 'Best Actor in a Motion Picture – Musical or Comedy', 'Best Actress in a Motion Picture – Drama',\n",
    " 'Best Actress in a Motion Picture – Musical or Comedy', 'Best Supporting Actor – Motion Picture',\n",
    " 'Best Supporting Actress – Motion Picture', 'Best Screenplay – Motion Picture', 'Best Original Score – Motion Picture',\n",
    " 'Best Original Song – Motion Picture', 'Best Television Series – Drama', 'Best Television Series – Musical or Comedy',\n",
    " 'Best Miniseries or Motion Picture – Television', 'Best Actor in a Television Series – Drama',\n",
    " 'Best Actor in a Television Series – Musical or Comedy', 'Best Actor in a Miniseries or Motion Picture – Television',\n",
    " 'Best Actress in a Television Series – Drama', 'Best Actress in a Television Series – Musical or Comedy',\n",
    " 'Best Actress in a Miniseries or Motion Picture – Television',\n",
    " 'Best Supporting Actor in a Series, Miniseries or Motion Picture – Television',\n",
    " 'Best Supporting Actress in a Series, Miniseries or Motion Picture – Television']\n",
    "new_award_names = [0]*len(award_names)\n",
    "for i in range(len(award_names)):\n",
    "    new_award_names[i] = award_names[i].replace(\" in \", \" \").replace(\" a \", \" \").replace(\" or \", \" \").replace(\" – \", \" \").replace(\" - \", \" \").lower().split()\n",
    "    if \"television\" in new_award_names[i]:\n",
    "        new_award_names[i].append(\"tv\")\n",
    "new_award_names"
   ]
  },
  {
   "cell_type": "code",
   "execution_count": 75,
   "metadata": {},
   "outputs": [],
   "source": [
    "import numpy as np\n",
    "import pandas as pd\n",
    "import spacy\n",
    "from spacy import displacy\n",
    "from collections import defaultdict"
   ]
  },
  {
   "cell_type": "code",
   "execution_count": 76,
   "metadata": {},
   "outputs": [
    {
     "data": {
      "text/plain": [
       "3490      RT @yeahitsaline_: And the   to \"Best Twitter ...\n",
       "4511      RT @EricaDeLong:  #EricaRedCarpet Dustin Hoffm...\n",
       "7462      And  goes tooooooooo... Oğlum kara kışta böyle...\n",
       "9194      Biggest zinger so far at the  goes to Amy Poeh...\n",
       "9730      Watching the  ! I say silver linings wins best...\n",
       "                                ...                        \n",
       "174473    RT @playbill: \"Les Miserables\" wins Best Motio...\n",
       "174567    RT @nerdywonka: Ben Affleck won Best Director ...\n",
       "174576    Best Actor, Drama:   For Film Goes To Daniel D...\n",
       "174578    Best Actor, Drama:   For Film Goes To Daniel D...\n",
       "174580    Best Actor, Drama:   For Film Goes To Daniel D...\n",
       "Name: text, Length: 3806, dtype: object"
      ]
     },
     "execution_count": 76,
     "metadata": {},
     "output_type": "execute_result"
    }
   ],
   "source": [
    "df = pd.read_json('../gg2013.json')\n",
    "df = df['text']\n",
    "df = df[~df.str.contains('think|thinking|should|maybe', case = False)]\n",
    "df = df.str.replace('#GoldenGlobes|golden|globes|globe', \"\", case = False)\n",
    "wins_df = df[df.str.contains('won best|wins best|goes to', case = False)]\n",
    "\n",
    "wins_df"
   ]
  },
  {
   "cell_type": "code",
   "execution_count": 77,
   "metadata": {},
   "outputs": [],
   "source": [
    "from spacy.matcher import Matcher\n",
    "from spacy.tokens import Span\n",
    "nlp = spacy.load('en_core_web_md')\n",
    "from string import punctuation"
   ]
  },
  {
   "cell_type": "code",
   "execution_count": 78,
   "metadata": {},
   "outputs": [],
   "source": [
    "pattern1 = [{\"ENT_TYPE\": \"PERSON\", 'OP':'+'}, {\"LEMMA\": \"win\"}, {\"ORTH\":'Best'}, {\"DEP\": 'compound', 'OP':'+'}, {\"POS\":'NOUN', 'OP':'*'}, {'IS_PUNCT': True, 'OP':'?'}, {\"POS\": 'PROPN', 'OP':'*'}]\n",
    "#pattern2 = [{\"TEXT\": \"goes to\"}, {\"ENT_TYPE\": \"PERSON\", 'OP':'+'}]"
   ]
  },
  {
   "cell_type": "code",
   "execution_count": 79,
   "metadata": {},
   "outputs": [],
   "source": [
    "matcher = Matcher(nlp.vocab)\n",
    "matcher.add(\"Winner\", [pattern1])"
   ]
  },
  {
   "cell_type": "code",
   "execution_count": 80,
   "metadata": {},
   "outputs": [],
   "source": [
    "winners = {}\n",
    "winners = defaultdict(lambda: 1, winners)\n",
    "for i, text in wins_df.iteritems():\n",
    "    doc = nlp(text)\n",
    "    matches = matcher(doc)\n",
    "    if len(matches) != 0:\n",
    "        span = doc[matches[-1][1]:matches[-1][2]]\n",
    "        winners[str(span).strip(punctuation).strip()] = winners[str(span).strip(punctuation).strip()] +1"
   ]
  },
  {
   "cell_type": "code",
   "execution_count": 81,
   "metadata": {},
   "outputs": [
    {
     "name": "stdout",
     "output_type": "stream",
     "text": [
      "[('Adele wins Best Original Song', 29), ('Christoph Waltz Wins Best Supporting Actor', 24), ('Christoph Waltz wins Best Supporting Actor', 13), ('Daniel Day-Lewis wins Best Actor Motion Picture - Drama', 13), ('Adele won Best Original Song', 6), ('Christoph Waltz won Best Supporting Actor', 5), ('Ben Affleck wins Best Director - Motion Picture', 5), ('Les Miserables wins Best Motion Picture', 5), ('Adele wins Best Original Song Motion Picture', 4), ('Jennifer Lawrence wins Best Actress Motion Picture Comedy', 4), ('Adele Wins Best Original Song', 4), ('Damian Lewis wins Best Actor TV Series', 3), ('Don Cheadle Wins Best TV Actor - Comedy', 3), ('Mychael Danna wins Best Original Score', 3), ('Ben Affleck wins Best Director prize', 3), ('Christoph Waltz wins Best Supporting Actor - Motion Picture', 2), ('Christoph Waltz WINS Best Supporting Actor', 2), ('Yayyyy Adele wins Best Original Song', 2), ('Christoph Waltz Wins Best Supportin Actor', 2), ('Glad Adele won Best Original Song', 2), ('Jennifer Lawrence won Best Actress Drama! ^.^ ♡', 2), ('Ed Harris wins Best Supporting Actor (TV', 2), ('Anne Hathaway wins Best Peter Pan Haircut', 2), ('Adele won Best Original Song Motion Picture', 2), ('Kevin Costner wins Best Actor Miniseries', 2), ('Quentin Tarantino wins Best Director - Motion Picture', 2), ('Quentin Tarantino won Best Screenplay - Django', 2), ('Don Cheadle wins Best Actor Comedy', 2), ('Claire Danes wins Best Drama TV Actress', 2), ('Claire Danes wins Best Actress - TV Series', 2), ('Claire Danes wins Best Actress TV', 2), ('Lena Dunham wins Best TV Series Actress', 2), ('Ben Affleck wins Best Director award', 2), ('Claire Danes wins Best Actress TV Drama', 2), ('Hugh Jackman wins Best Actor Motion Picture', 2), ('Les Misèrables wins Best Motion Picture Comedy', 2), ('Les Misérables wins Best Motion Picture - Comedy', 2), ('Jessica Chastain wins Best Actress Drama', 2), ('Hugh Jackman Wins Best Actor', 2), ('Clooney wins Best Old Man Crush', 2), ('Daniel Day-Lewis wins Best Actor - Drama', 2), ('Daniel Day Lewis wins Best Actor - Drama', 2), ('Daniel Day Lewis wins Best Actor Award', 2), ('Daniel Day-Lewis wins Best Actor Motion Picture Drama', 2), ('Jennifer Lawrence wins Best Actress', 2), ('Les Mis won Best Motion Picture', 2), ('Hugh Jackman wins Best Lead Actor', 2), ('Jessica Chastain WINS Best Actress Drama', 2), ('Jennifer Lawrence wins Best Actress-Motion Picture', 2)]\n"
     ]
    }
   ],
   "source": [
    "winners = sorted(winners.items(), key=lambda item: item[1], reverse = True)\n",
    "print(winners)"
   ]
  },
  {
   "cell_type": "code",
   "execution_count": 132,
   "metadata": {},
   "outputs": [
    {
     "name": "stdout",
     "output_type": "stream",
     "text": [
      "[{'les miserables': 1, 'les mis': 1, 'jennifer lawrence': 1}, {'les misèrables': 1, 'les misérables': 1}, {}, {}, {'ben affleck': 3, 'quentin tarantino': 1}, {'daniel day-lewis': 3, 'christoph waltz': 1, 'hugh jackman': 3, 'daniel day lewis': 2}, {'don cheadle': 1}, {'jennifer lawrence': 2, 'jessica chastain': 2}, {'jennifer lawrence': 1}, {'christoph waltz': 5, 'ed harris': 1}, {}, {'quentin tarantino': 1}, {'mychael danna': 1}, {'adele': 5, 'yayyyy adele': 1, 'glad adele': 1}, {}, {}, {}, {'damian lewis': 1}, {'don cheadle': 1}, {'kevin costner': 1}, {'claire danes': 4, 'lena dunham': 1}, {}, {}, {}, {}]\n"
     ]
    }
   ],
   "source": [
    "award_list = [dict() for x in range(len(new_award_names))]\n",
    "\n",
    "for tweet in winners: \n",
    "    tweet = tweet[0]\n",
    "    split = tweet.lower().split()\n",
    "    \n",
    "    index = split.index(\"best\")\n",
    "\n",
    "    award_phrase = split[index:]\n",
    "\n",
    "    name_count = [0]*len(new_award_names)\n",
    "    for i in range(len(new_award_names)):\n",
    "        match_length = len(set(new_award_names[i]).intersection(award_phrase))\n",
    "        name_count[i] = match_length\n",
    "\n",
    "    award_index = np.argmax(name_count)\n",
    "    # WHAT ABOUT TIE? Neither? Or Both?\n",
    "    #print(award_index)\n",
    "\n",
    "    if name_count[award_index] > 1:       \n",
    "        if \"wins\" in split:\n",
    "            person_index = split.index(\"wins\")\n",
    "        if \"won\" in split:\n",
    "            person_index = split.index(\"won\")\n",
    "        person = split[:index-1]\n",
    "        person = \" \".join(person)\n",
    "        if person not in award_list[award_index]:\n",
    "            award_list[award_index][person] = 1\n",
    "        else:\n",
    "            award_list[award_index][person] = award_list[award_index][person]+1\n",
    "\n",
    "print(award_list)"
   ]
  },
  {
   "cell_type": "code",
   "execution_count": 136,
   "metadata": {},
   "outputs": [
    {
     "name": "stdout",
     "output_type": "stream",
     "text": [
      "{0: 'les miserables', 1: 'les misèrables', 2: '', 3: '', 4: 'ben affleck', 5: 'daniel day-lewis', 6: 'don cheadle', 7: 'jennifer lawrence', 8: 'jennifer lawrence', 9: 'christoph waltz', 10: '', 11: 'quentin tarantino', 12: 'mychael danna', 13: 'adele', 14: '', 15: '', 16: '', 17: 'damian lewis', 18: 'don cheadle', 19: 'kevin costner', 20: 'claire danes', 21: '', 22: '', 23: '', 24: ''}\n"
     ]
    }
   ],
   "source": [
    "import operator\n",
    "i = 0\n",
    "awards = {}\n",
    "for award in award_list:\n",
    "    if award != {}:\n",
    "        awards[i] = max(award.items(), key=operator.itemgetter(1))[0]\n",
    "    else:\n",
    "        awards[i] = ''\n",
    "    i+=1\n",
    "print(awards)"
   ]
  }
 ],
 "metadata": {
  "kernelspec": {
   "display_name": "Python 3",
   "language": "python",
   "name": "python3"
  },
  "language_info": {
   "codemirror_mode": {
    "name": "ipython",
    "version": 3
   },
   "file_extension": ".py",
   "mimetype": "text/x-python",
   "name": "python",
   "nbconvert_exporter": "python",
   "pygments_lexer": "ipython3",
   "version": "3.8.3"
  }
 },
 "nbformat": 4,
 "nbformat_minor": 4
}
