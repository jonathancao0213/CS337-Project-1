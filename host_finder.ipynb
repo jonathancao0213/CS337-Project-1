{
 "cells": [
  {
   "cell_type": "code",
   "execution_count": 9,
   "id": "disciplinary-desert",
   "metadata": {},
   "outputs": [],
   "source": [
    "import numpy as np\n",
    "import pandas as pd\n",
    "import spacy\n",
    "from spacy import displacy\n",
    "from collections import defaultdict"
   ]
  },
  {
   "cell_type": "code",
   "execution_count": 10,
   "id": "engaged-basics",
   "metadata": {},
   "outputs": [],
   "source": [
    "df = pd.read_json('../gg2013.json')"
   ]
  },
  {
   "cell_type": "code",
   "execution_count": 11,
   "id": "advance-globe",
   "metadata": {},
   "outputs": [
    {
     "data": {
      "text/plain": [
       "174643"
      ]
     },
     "execution_count": 11,
     "metadata": {},
     "output_type": "execute_result"
    }
   ],
   "source": [
    "df = df['text']\n",
    "df = df[df.str.contains()]\n",
    "df = df.str.replace('#GoldenGlobes', \"\", case = False)\n",
    "df.shape[0]\n"
   ]
  },
  {
   "cell_type": "code",
   "execution_count": 18,
   "id": "fundamental-gazette",
   "metadata": {},
   "outputs": [
    {
     "data": {
      "text/plain": [
       "3109"
      ]
     },
     "execution_count": 18,
     "metadata": {},
     "output_type": "execute_result"
    }
   ],
   "source": [
    "host_df = df[df.str.contains('Host', case = False)]\n",
    "host_df.shape[0]"
   ]
  },
  {
   "cell_type": "code",
   "execution_count": 13,
   "id": "olive-laptop",
   "metadata": {},
   "outputs": [],
   "source": [
    "# it seems like the choice of spacy (i.e. sm, md or lg). lg is too big so let's just use md. sm is the fastest tho\n",
    "nlp = spacy.load('en_core_web_md')"
   ]
  },
  {
   "cell_type": "code",
   "execution_count": 14,
   "id": "instant-trash",
   "metadata": {},
   "outputs": [],
   "source": [
    "hosts = {}\n",
    "hosts = defaultdict(lambda: 1, hosts)\n",
    "for i, value in host_df.iteritems():\n",
    "    for entity in nlp(value).ents:\n",
    "        if entity.label_ == 'PERSON':\n",
    "            hosts[entity.text] = hosts[entity.text] +1"
   ]
  },
  {
   "cell_type": "code",
   "execution_count": 15,
   "id": "false-heart",
   "metadata": {},
   "outputs": [
    {
     "name": "stdout",
     "output_type": "stream",
     "text": [
      "{'Tina Fey': 691, 'Will Ferrell': 688, 'Kristen Wiig': 687, 'Amy Poehler': 623, 'Amy': 502, 'Tina': 434, '#goldenglobes': 335, 'RT @PerezHilton': 236, 'Quentin Tarantino': 98, 'Paul Rudd': 55, \"Amy Poelher's\": 44, 'RT @piersmorgan': 40, 'Poehler': 28, '#killerintro': 28, '#WhereDidTheyGo': 27, 'goldenglobes': 23, 'Golden Globes': 22, 'Amy Pohler': 21, 'amy poehler': 20, 'tina fey': 17, 'Jennifer Lawrence por Silver Linings': 17, \"Amy Poehler's\": 16, 'Ricky Gervais': 16, 'Kristen': 16, 'Quentin Tarantin': 16, 'Jenn aceptando su premio': 16, '#AmyPoehler': 14, 'Tina fey': 14, 'Cohen': 14, 'Wiig': 13, 'Tina Fey + Amy Poehler': 12, 'Amy poehler': 11, 'Fey': 11, '#Goldenglobes': 11, 'RT @OhWowThatsAwk': 11, 'amy': 10, 'Kristin Wiig': 10, 'Kristen Wig': 10, 'Lorne Michaels': 10, 'Helena Bonham Carter': 10, 'Lorne': 10, 'Jodie Foster': 10, 'Oscar': 9, 'James Cameron': 9, 'Anne Hathaway': 9, 'Maggie Smith': 9, 'Adele': 9, 'TinaFey': 8, 'tina': 8, '#amypoehler': 8, 'RT': 8, 'Taylor Swift': 8, 'Jennifer Lawrence': 8, 'Bill Clinton': 8, 'Maggie Smi': 8, 'Will Farrell': 8, 'Meryl': 8, \"George Clooney's\": 8, 'tina Faye': 8, '#ThisTweetWouldBeTheHost': 8, 'Jay Leno': 7, 'AMY POEHLER': 7, '#SNL': 7, 'Quién aceptó el premio de Game Change fue': 7, 'Danny Strong': 7, 'Will Ferrel': 7, 'Gracias por que creer en': 7, 'Sacha': 7, 'Sasha': 7, 'Christian Bale': 7, 'Robert Downey Jr': 7, 'Bruce Wayne': 7, 'Battle Of The Billionaires': 7, 'Globes': 6, 'James Franco': 6, 'Amy Poelher': 6, 'winni': 6, 'Ferrell': 6, 'Will': 6, 'Kristin': 6, 'Kristen Wigg': 6, 'Oscars': 6, 'Jimmy Fallon': 6, 'George Clooney': 6, 'RT @thenicolas41': 6, 'GOLDENGLOBES': 6, 'Ghostbusters': 5, 'Tina/Amy': 5, 'Amy Poeler': 5, 'Tina Fay': 5, 'TINA FEY': 5, '#Hilarious': 5, 'Kevin Dior': 5, '#hilarious': 5, 'Loving Tina': 5, 'Seth MacFarlane': 5, 'Seth': 5, 'RT @Quickbeam2000': 5, 'Martin Freeman': 5, 'Benedict Cumberbatch': 5, '#Hobbit': 5, 'Mel Gibson': 5, 'Jena Malone': 5, 'mejor conocida como Johanna Mason': 5, 'Wilson': 5, 'Fat Amy': 5, '#GOLDENGLOBES': 5, 'kristen wiig': 5, 'RT @UNITE': 5, 'Stallone': 5, 'Schwarzenegger': 5, 'Glenn Close': 5, '#GoldenBert': 5, 'Frederic J. Brown': 4, '#tinafey': 4, 'amy pohler': 4, \"Tina Fey's\": 4, 'Amy Poehler - @BostonCollege': 4, '#lovethem': 4, 'Bill Murray': 4, '#FunnyGals': 4, 'Jennifer Lawrence está aquí': 4, '#besthostsever': 4, 'Ricky': 4, 'Anne': 4, 'Kevin Costner': 4, 'Ed Harris': 4, 'Robert Downey Jr.': 4, 'Clooney': 4, \"Michael J. Fox's\": 4, \"Robert Downey Jr.'s\": 4, 'Ryan Seacrest': 3, '#girlpower': 3, 'Hathaway': 3, 'Omg': 3, 'Omg Amy Poehler': 3, '#GetGlue': 3, '#hysterical': 3, 'Amy Poheler': 3, '#AmyPohler': 3, 'agirlcandream': 3, '#twiny': 3, '#besthosts': 3, '#toofunny': 3, 'Elmo': 3, 'Arnold': 3, 'Tony Mendez': 3, 'Kristin Wigg': 3, 'Bill Rodham Clinton': 3, \"Hillary Clinton's\": 3, 'Ellen': 3, 'Kristin wiig': 3, '@PerezHilton': 3, '#snl': 3, 'Quentin': 3, 'Quentin Tar': 3, '#LiveWire Golden Globes Hosts': 3, 'Neil Patrick Harris': 3, '#funny': 3, 'RT @EricandKathy': 3, 'Tiny Fey': 3, 'Howie Mandel': 3, '#nascar': 3, 'Lena Dunham': 3, 'Lea Michele': 3, 'Jodie': 3, 'Seth Macfarlane': 3, 'Ben Affleck': 3, '#werkk': 3, 'JLaw': 3, 'Emmy': 3, \"Seth MacFarlane's\": 3, 'Topo Gigio': 2, '#BlogTalkRadio  Designer Dalia MacPhee http://t.co/be7Bsiw1': 2, '#myfavoritewomen': 2, 'Kelly': 2, \"Jay Leno's\": 2, 't-5 min': 2, '#SGS': 2, '#topnotchcomedy': 2, 'Tine Fey': 2, '#SecondCity': 2, 'haber mejor': 2, '#TheHeat': 2, '#amyandtinarock': 2, \"Giuliana Rancic's\": 2, '#ilovetinafey': 2, \"Glenn Close's\": 2, 'Norberry': 2, 'the Little Mermaid and Princess Jasmine': 2, 'Amy Poehler --': 2, 'omg tina fey': 2, 'Jamas me ah gustado tina': 2, 'como la ponen de host': 2, 'Tina Faye': 2, 'Equipo Jennifer Lawrence': 2, 'Townsend': 2, 'estilista de Jenn  http://t.co/LV82HyvQ': 2, 'Este es el peinado de Jenn': 2, 'Tina Fey&amp;Amy Poehler': 2, 'Tina Fey RT': 2, '#Fey': 2, '#Poehler': 2, 'Franko': 2, '#LoveEm': 2, 'http:// http://t.co/1FPjBoOv': 2, 'Hiiiilaaaaaarious': 2, 'Queen Amy': 2, 'Queen Tina': 2, '#tofunny': 2, 'NW The Golden Globes': 2, 'KILLLLLLING': 2, '#funnywomen': 2, 'Kate': 2, 'Angie': 2, 'RT @hiphopdancer96': 2, 'Boss Ladies': 2, 'jack': 2, 'Tina Fey y Amy Poehler deberian hostear': 2, '👏': 2, '#AmyPoehler Rock': 2, '#omginsider': 2, '#RBRGG': 2, '#noseriously': 2, 'Amy Polard': 2, '#redcarpet': 2, 'Ron Riggle': 2, 'boom shaka laka': 2, '#tinaandamyrule': 2, 'Daniel Day Lewis': 2, 'Loving Tina Fey': 2, '#DEAD': 2, 'Amy P.': 2, 'Daniel Day-Louis': 2, 'Amy &amp': 2, 'RT @notajenny': 2, 'blogherpop': 2, '#IO': 2, 'Matt Lauer': 2, 'Amy Poehler &amp': 2, 'prettyplease': 2, 'james franco': 2, 'Kaley Cuoco': 2, 'RT @amyboughner': 2, \"Ladies killin'\": 2, '🍔': 2, 'Amy poller': 2, 'mah girls tina': 2, 'ppl': 2, '#mylifewouldbeempty': 2, 'AmyPoehler': 2, 'Getoffit': 2, 'Will Tina Fey': 2, '#jokes': 2, '#goldenglobesovererrythang': 2, 'Bravo Tina': 2, 'Amy Hilarious Hosts': 2, '#hostsforlifeplease': 2, '#Downton': 2, '#rickygervis': 2, '#zeebox http://t.co/rk2mHT2v': 2, '#hilar': 2, 'Mejor Actirz de Reparto': 2, 'Amy Poehlr': 2, '#funnyshit': 2, 'Liz lemon': 2, '#TinaAmy': 2, 'Amy Phoeler': 2, 'Mejor Miniserie o': 2, 'OMG SARAH PALIN': 2, 'Frances Fisher': 2, 'Francesca Eastwood': 2, '#sofunny': 2, 'Host Guiliana': 2, 'F*ck': 2, 'GG': 2, '#dyingoflaughter': 2, '#inmydreams': 2, 'Lucille Ball': 2, '#funnyladies': 2, 'RT @laurena11': 2, 'RT @meg_coan': 2, 'RT @ASCPR': 2, 'Loving the @goldenglobes @tinafey &amp': 2, 'neil patrick harris': 2, 'Ricky gervais': 2, 'Matt Pinfield': 2, 'Amy Phoehler': 2, 'Toby': 2, 'OMG Tina Fey': 2, '#KillerIntro': 2, 'http://t.co/2qfQLIoO': 2, 'Tina n Amy': 2, 'Jessica Lange': 2, 'Damian Lewis de Homeland': 2, 'Rudd': 2, 'Selma Hayek': 2, '#HILARIOUS': 2, '#bestpopcultureconference': 2, 'Salma Hayek': 2, 'Amy Poleher': 2, '#goacc RT': 2, 'Robert Downey Jr. beijando o rosto': 2, 'RT @adrianoelias': 2, '#holla': 2, 'Mendez': 2, 'Goodman': 2, 'Zooey Deschanel': 2, 'RedHot': 2, 'Daniel Craig': 2, 'no J-lo': 2, '#reallydoloveher': 2, 'Mis heroinas de': 2, 'lo estoy': 2, 'Loving Fey': 2, 'Cumberbatch': 2, '#favoritehosts': 2, 'hostia el Clinton por aqui': 2, 'Clinton': 2, '#Girls': 2, 'Bill': 2, \"Hilary Clinton's\": 2, 'Reagan': 2, '#billclinton': 2, '#sweepingtheshow': 2, '#Kristin': 2, 'Compro RT': 2, 'Essa é': 2, '#kristenwiig': 2, '#willferrell': 2, 'Maya': 2, 'Ellen DeGeneres': 2, '#kristinwiig': 2, '#ivoteyes': 2, 'LOL RT @PerezHilton': 2, 'Amy #': 2, \"kristen wigg's\": 2, 'Will Ferrell-': 2, '#newrule': 2, 'OMAGAHHHHRT @PerezHilton': 2, 'Gracias por que creer en mí': 2, '#sofrickenhilarious': 2, '#FutureHosts': 2, 'Goldenglobes': 2, 'tina fey+amy Poehler': 2, 'fuck Tina Fey': 2, '#justsaying': 2, 'Tonys': 2, 'RT @lisarinna': 2, '#sofunny #lovethem': 2, 'Will Ferrill': 2, 'Quentin Tara': 2, 'Amy Host': 2, 'Perez': 2, 'Quentin T': 2, 'kristen': 2, '#yougetouttahere': 2, 'SNL': 2, 'Lulz': 2, 'Tommy Lee Jones': 2, 'LOL': 2, 'toofunny': 2, 'Kristen Bell': 2, 'Oprah Winfrey': 2, 'http://t.co/yGnEwST4': 2, '#Shazam': 2, 'Megan Fox': 2, 'jimmy fallon': 2, 'Kirsten': 2, 'ANNE HATHAWAY': 2, 'oscar': 2, \"Kristen Wiig's\": 2, 'Demi Moore': 2, 'Blerg': 2, 'Will Farell': 2, '#justsayin': 2, 'RT @leslieheimer': 2, 'Martin Short': 2, 'kristin wiig': 2, 'Fred Armisen': 2, 'Lol nice RT @UNITE': 2, 'Amy Poehlers Opening Monologue': 2, 'Leo DiCaprio': 2, 'LOL RT @krusso14': 2, '#LSU': 2, 'Farrell': 2, 'Ohmygosh Tina Fey': 2, '#endofstory': 2, '#OscarNight': 2, '#Aolglobes': 2, 'Saruman': 2, 'Omg loling': 2, 'srsly RT': 2, 'Daniel W. Shrigley': 2, '#moreamyandtinaplease': 2, 'Soo Kristen': 2, '@kevinrfree': 2, 'Bien dicho por el host': 2, 'Falla categórica en': 2, 'de Anne H.': 2, 'Sascha': 2, 'LOL RT @TVMoJoe': 2, '#SachaBaronCohen': 2, 'aziz': 2, 'bateman': 2, 'Lol': 2, \"George clooney's\": 2, 'RT @glennsumi': 2, '@lizraz10': 2, 'y Amy Poehler': 2, 'GoldenGlobes': 2, 'Aziz Ansari': 2, 'Anddddddddd': 2, 'Matt Ryan': 2, '#SpanxRedCarpet': 2, '#Golden Globes': 2, 'pagi gue ngintip dikit RT': 2, '#WBN2013': 2, 'OMG - Tina': 2, '#amy': 2, '#tina': 2, '#amypohler': 2, 'Robert Downey': 2, 'Jr.': 2, 'Downey': 2, \"Jodie Foster's\": 2, '#Google': 2, 'RT @darealmaozedong': 2, 'Sly': 2, 'Craig': 2, '#Rambling': 2, 'Kristen Stewart': 2, \"Estelle Getty's\": 2, 'Jodi Fosters': 2, \"L'Wren Scott\": 2, 'Adam Corolla': 2, 'Ryan gosling': 2, 'sacha': 2, 'Adam Carolla': 2, 'Obi-Wan': 2, 'ellen': 2, '#AwardsFeveronFMP': 2, '#pleasehostnextyear': 2, '#GG': 2, 'Sarah Palin': 2, 'Leslie Knope': 2, 'Que bom que o': 2, 'novo Ghostbusters': 2, '#livestreampls': 2, 'Lewis': 2, 'din ang': 2, \"Regina George's\": 2, '#whatahoot': 2, '#wearethatfunny': 2, '#bestpicture': 2, '#GoldenGIobes': 2, 'BROOKE': 2, 'JULIA': 2, 'TINA': 2, 'AMY': 2, '#premiumlager': 2, 'Booooooo': 2, '#PeteRose': 2, '#workproblems': 2, '#excitementforhostsfail': 2, 'John Sheardown': 2, 'Si Robertson': 2, 'Phil Robertson': 2, \"Jodie Foster'\": 2, 'julia Roberts': 2, '#fridaygirltv': 2, 'n amy poehler': 2, 'RT @laurenbrumley': 2, 'Electra': 2, 'Adrian': 2, 'Lori': 2, 'guy': 2, '#ohmygod #goldenglobes': 2, 'Princess': 2, 'Genovia': 2, 'Jen Garner': 2, '#nightmade': 2, 'laughter w Amy': 2, 'Les Mis': 2, '#stillfunny': 2, 'Sofia Vergara': 2, 'Grammys': 2, 'RT @jenjackson15': 2, 'poehler': 2, 'clooney': 2, 'Claire Danes': 2, 'Giuliana': 2, '#gotitright': 2, 'jodie foster': 2, 'jennifer lawrence': 2, 'errythin': 2, 'Jodie Foster Kinda Comes Out': 2, 'Soooo Tina Fey': 2, '#Amy': 2, '#PositiveVibes': 2}\n"
     ]
    }
   ],
   "source": [
    "print(dict(sorted(hosts.items(), key=lambda item: item[1], reverse = True)))"
   ]
  },
  {
   "cell_type": "code",
   "execution_count": 16,
   "id": "supposed-bibliography",
   "metadata": {},
   "outputs": [
    {
     "name": "stdout",
     "output_type": "stream",
     "text": [
      "64585     Just thinking ahead, but like should Will Ferr...\n",
      "64650     RT @nbcsnl: Just thinking ahead, but like shou...\n",
      "64659     RT @nbcsnl: Just thinking ahead, but like shou...\n",
      "64661     RT @nbcsnl: Just thinking ahead, but like shou...\n",
      "64684     RT @nbcsnl: Just thinking ahead, but like shou...\n",
      "                                ...                        \n",
      "168452    Tina fey and amy poehler best hosts ever! Kris...\n",
      "168988    RT @PerezHilton: Can Kristen Wiig and Will Fer...\n",
      "170665    RT @EW: Will Ferrell and Kristen Wiig  hosts n...\n",
      "171394    RT @nbcsnl: Just thinking ahead, but like shou...\n",
      "174635    \"@nbcsnl: Just thinking ahead, but like should...\n",
      "Name: text, Length: 710, dtype: object\n"
     ]
    }
   ],
   "source": [
    "will_df = host_df[host_df.str.contains('Will Ferrell', case = False)]"
   ]
  },
  {
   "cell_type": "code",
   "execution_count": null,
   "id": "alone-midnight",
   "metadata": {},
   "outputs": [],
   "source": []
  }
 ],
 "metadata": {
  "kernelspec": {
   "display_name": "Python 3",
   "language": "python",
   "name": "python3"
  },
  "language_info": {
   "codemirror_mode": {
    "name": "ipython",
    "version": 3
   },
   "file_extension": ".py",
   "mimetype": "text/x-python",
   "name": "python",
   "nbconvert_exporter": "python",
   "pygments_lexer": "ipython3",
   "version": "3.8.5"
  }
 },
 "nbformat": 4,
 "nbformat_minor": 5
}
