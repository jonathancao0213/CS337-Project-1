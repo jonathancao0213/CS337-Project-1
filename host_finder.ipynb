{
 "cells": [
  {
   "cell_type": "code",
   "execution_count": 36,
   "id": "intelligent-serum",
   "metadata": {},
   "outputs": [],
   "source": [
    "import numpy as np\n",
    "import pandas as pd\n",
    "import spacy\n",
    "from spacy import displacy\n",
    "from collections import defaultdict"
   ]
  },
  {
   "cell_type": "code",
   "execution_count": 37,
   "id": "alike-metabolism",
   "metadata": {},
   "outputs": [],
   "source": [
    "df = pd.read_json('../gg2013.json')"
   ]
  },
  {
   "cell_type": "code",
   "execution_count": 38,
   "id": "sublime-denver",
   "metadata": {},
   "outputs": [
    {
     "data": {
      "text/plain": [
       "170749"
      ]
     },
     "execution_count": 38,
     "metadata": {},
     "output_type": "execute_result"
    }
   ],
   "source": [
    "df = df['text']\n",
    "df = df[~df.str.contains('think', case = False)]\n",
    "df = df.str.replace('#GoldenGlobes', \"\", case = True)\n",
    "df.shape[0]\n"
   ]
  },
  {
   "cell_type": "code",
   "execution_count": 39,
   "id": "respected-remainder",
   "metadata": {},
   "outputs": [
    {
     "data": {
      "text/plain": [
       "2764"
      ]
     },
     "execution_count": 39,
     "metadata": {},
     "output_type": "execute_result"
    }
   ],
   "source": [
    "host_df = df[df.str.contains('host', case = False)]\n",
    "host_df.shape[0]"
   ]
  },
  {
   "cell_type": "code",
   "execution_count": 40,
   "id": "approved-metallic",
   "metadata": {},
   "outputs": [],
   "source": [
    "nlp = spacy.load('en_core_web_sm')"
   ]
  },
  {
   "cell_type": "code",
   "execution_count": 41,
   "id": "formed-cologne",
   "metadata": {},
   "outputs": [],
   "source": [
    "hosts = {}\n",
    "hosts = defaultdict(lambda: 1, hosts)\n",
    "for i, value in host_df.iteritems():\n",
    "    for entity in nlp(value).ents:\n",
    "        if entity.label_ == 'PERSON':\n",
    "            hosts[entity.text] = hosts[entity.text] +1"
   ]
  },
  {
   "cell_type": "code",
   "execution_count": 42,
   "id": "mediterranean-diameter",
   "metadata": {},
   "outputs": [
    {
     "name": "stdout",
     "output_type": "stream",
     "text": [
      "[('Amy Poehler', 590), ('Will Ferrell', 478), ('Tina Fey', 460), ('Amy', 298), ('Kristen Wiig', 230), ('Quentin Tarantino', 97), ('Golden Globes', 90), (\"Amy Poelher's\", 44), ('RT @piersmorgan', 40), ('this Golden Globes', 38), ('Jennifer Lawrence', 27), ('Poehler', 21), ('amy poehler', 20), ('Mejor Actriz', 18), (\"Amy Poehler's\", 16), ('Quentin Tarantin', 16), ('Jenn aceptando', 16), ('Amy Pohler', 14), ('Kristen', 14), ('gracias por matar', 14), ('había que matar', 14), ('para que yo llegara', 14), ('Great Globes', 12), ('RT @HechosTHG', 11), ('Jodie Foster', 11), ('Helena Bonham Carter', 10), ('James Cameron', 9), ('RT', 9), ('Maggie Smith', 9), ('Kristin Wiig', 9), ('Will', 9), ('tina fey', 8), ('Tina', 8), ('Oscar', 8), ('Taylor Swift', 8), ('Maggie Smi', 8), ('Will Ferrel', 8), ('Will Farrell', 8), ('Kristen Wig', 8), ('Meryl', 8), (\"George Clooney's\", 8), ('Jay Leno', 7), ('Amy poehler', 7), ('EVERYTHING', 7), ('Anne Hathaway', 7), ('Quién aceptó el premio', 7), ('Danny Strong', 7), ('los guiones', 7), ('Les Miles', 7), ('Christian Bale', 7), ('Robert Downey Jr Should', 7), ('Bruce Wayne', 7), ('Battle Of The Billionaires', 7), ('RT @washingtonpost', 6), ('Glenn Close', 6), ('James Franco', 6), ('Amy Poelher', 6), ('Bill Clinton', 6), ('Homeland winni', 6), ('Kristin', 6), ('Kristen Wigg', 6), ('POEHLER', 6), ('George Clooney', 6), ('Gervais', 6), ('AMY POEHLER', 5), ('Globes', 5), ('Kevin Dior', 5), ('KILLING', 5), ('Seth MacFarlane', 5), ('Mel Gibson', 5), ('Robert Downey Jr.', 5), ('Recuerden que', 5), ('Jena Malone', 5), ('Johanna Mason', 5), ('Cohen', 5), ('Sasha Baron Cohen', 5), ('RT @YahooOmg', 5), ('Jimmy Fallon', 5), ('Amy Poehler - @BostonCollege', 4), ('Amy Poeler', 4), ('Bill Murray', 4), ('RT @ElizabethArden', 4), ('RT @azizansari', 4), ('Tina Fay', 4), ('amy', 4), ('Paul Rudd', 4), ('Mejor Canción Original', 4), ('Quentin', 4), ('Anne', 4), (\"Sacha Baron Cohen's\", 4), ('Tiny Fey', 4), ('Kevin Costner', 4), ('Ed Harris', 4), (\"Michael J. Fox's\", 4), (\"Robert Downey Jr.'s\", 4), ('amy pohler', 3), (\"Tina Fey's\", 3), ('Golden Globes Hosting', 3), ('Omg Amy Poehler', 3), ('\" - Tina Fey', 3), ('Dynamic Duo', 3), ('Daniel Day Lewis', 3), ('RT @samhavss', 3), ('RT @glossybox_us', 3), ('Amy Poehler/Tina Fey', 3), ('RT @kimholcomb', 3), ('Fey', 3), ('Grammys', 3), ('Arnold', 3), ('Tony Mendez', 3), ('Adele', 3), ('Bill Rodham Clinton', 3), (\"Hillary Clinton's\", 3), ('Ricky Gervais', 3), ('RT @jonathanwald:', 3), ('kristen wiig', 3), ('Quentin Tar', 3), ('Neil Patrick Harris', 3), ('Lee Jones', 3), ('Howie Mandel', 3), ('Lena Dunham', 3), ('Lea Michele', 3), ('Loving Tina', 3), ('Jodie', 3), ('Seth Macfarlane', 3), ('Ben Affleck', 3), ('Shows', 3), ('Great Golden Globes', 3), (\"Seth MacFarlane's\", 3), ('Frederic J. Brown http://t.co/1iBh08Tm', 2), ('Frederic J. Brown http://t.co/2GGtAKBD', 2), ('RT @hall_mk', 2), ('Rolonda Watts', 2), ('Dalia MacPhee http://t.co/be7Bsiw1', 2), ('Kelly', 2), (\"Jay Leno's\", 2), ('t-5 min', 2), ('Ryan Seacrest', 2), ('globes que tina fey', 2), (\"Giuliana Rancic's\", 2), ('Amy Polher', 2), ('Norberry', 2), ('que Tina y Amy', 2), ('Tweet', 2), ('Amy Poehler -- Parks &amp', 2), ('Tiny Fay', 2), ('Amy hostin golden globes', 2), ('Tina Faye', 2), ('Equipo Jennifer Lawrence', 2), ('The Tonys', 2), ('Knew Amy', 2), ('Tina Fey&amp;Amy', 2), ('Queen Amy', 2), ('Queen Tina', 2), ('Onlyy', 2), ('god', 2), ('KILLLLLLING', 2), ('yo hostin', 2), ('Kate', 2), ('jack shit', 2), ('RT @ckanal:', 2), ('Al Roker', 2), ('RT @HeyHolcomb', 2), ('Amy Polard', 2), ('Ron Riggle', 2), ('RT @Dany_Jarvis', 2), ('Amy P.', 2), ('Daniel Day-Louis', 2), ('RT @claricestanley', 2), ('Golden Globes Hosts', 2), ('yay Amy', 2), ('Matt Lauer', 2), ('RT @amyboughner', 2), ('Frederic J. Brown', 2), ('mah girls tina', 2), ('snarky ppl', 2), ('RT @keckberg', 2), ('RT @kenzieburnsie', 2), ('Bravo Tina', 2), (\"Mini Serie'\", 2), ('Amy Poehlr', 2), ('Liz', 2), ('Love Amy', 2), ('RT @arinhodges', 2), ('Amy Phoeler', 2), ('Mejor Miniserie', 2), ('Película para', 2), ('Can Amy Poehler', 2), ('Francesca Eastwood', 2), ('Host Guiliana', 2), ('Amy Poehler PLEASE', 2), ('RT @Sammyywammyy', 2), ('Lucille Ball', 2), ('@AshleyMcGovern RT', 2), ('RT @ASCPR', 2), ('Matt Pinfield', 2), ('Toby', 2), ('RT @HannahNic', 2), ('Hostess', 2), ('http://t.co/2qfQLIoO', 2), ('GANADOR', 2), ('Damian Lewis de Homeland', 2), ('Alfombra Roja', 2), ('Selma Hayek', 2), ('Can Paul Rudd', 2), ('http://t.co/seOturGr', 2), ('Amy Poleher', 2), ('RT @hktr06:', 2), ('RT @FisolaNYDN', 2), ('RT @PittScript', 2), ('RT @adrianoelias', 2), ('Zooey Deschanel', 2), ('RT @IsabelWilkinson', 2), ('Adele Hi-fiving', 2), ('Daniel Craig', 2), ('no J-lo', 2), ('Adele and Tina', 2), ('Mis heroinas de host', 2), ('que ter ganho essa', 2), ('hostia el Clinton', 2), ('Clinton', 2), ('Bill', 2), (\"Hilary Clinton's\", 2), ('LINCOLN', 2), ('Reagan', 2), ('Ellen', 2), ('snl fam', 2), ('GOLDENGLOBES', 2), ('Compro RT', 2), ('Wiig', 2), ('Maya', 2), ('Ellen DeGeneres', 2), ('pfvr', 2), ('RT @TVGuide', 2), ('NO!“@PerezHilton', 2), ('tina fey+amy', 2), ('RT @PerezHilton', 2), ('Can Kristen Wiig', 2), ('Kristen Wiig PUHLEAASEEE', 2), ('Seth', 2), ('Will Ferrill', 2), ('Quentin Tara', 2), ('Amy Host', 2), ('RT @KamariaTalley:', 2), ('RT @mthorn1', 2), ('Perez', 2), ('http://t.co/0qRWlReA', 2), ('Tommy Lee Jones', 2), ('Kristen Bell', 2), ('Oprah Winfrey', 2), ('Ryan Seacrest ~&gt', 2), ('jimmy fallon', 2), ('Kirsten', 2), ('Melhor Série de Drama', 2), ('RT @legallatino', 2), (\"Kristen Wiig's\", 2), ('Demi Moore', 2), ('RT @leslieheimer', 2), ('Martin Short', 2), ('RT @chucklesponcho', 2), ('kristin wiig', 2), ('RT @willestyle', 2), ('Fred Armisen', 2), ('RT @UNITE', 2), ('Amy Poehlers', 2), ('Leo DiCaprio', 2), ('Love Wiig', 2), ('Nossa', 2), ('Ohmygosh Tina Fey', 2), ('#Aolglobes', 2), ('Saruman', 2), ('Presenter Jimmy Fallon', 2), ('Sly', 2), ('Série de Drama', 2), ('OBVIAMENTE de Claire Danes', 2), ('srsly RT', 2), ('BringThemOut', 2), ('RT @alexspeaksup', 2), ('Daniel W. Shrigley', 2), ('Soo Kristen', 2), ('UGLY', 2), ('http://t.co/0cmg3KFI', 2), ('@kevinrfree', 2), ('Bien dicho por el host', 2), ('Falla', 2), ('Sascha Baron Cohen', 2), ('RT @Speetsy', 2), ('Sacha Baron Cohen', 2), ('Sasha', 2), ('RT @greghernandez', 2), ('aziz', 2), ('bateman', 2), (\"George clooney's\", 2), ('Aziz Ansari -', 2), ('RT @TMFChrisHill', 2), ('Matt Ryan', 2), ('@MarcosHostin orra golden globes virou desfile de horrores kkkkkkkk', 2), ('tim', 2), ('RT @karskarsekar', 2), ('Mau nonton', 2), ('WBN2013', 2), ('Robert Downey', 2), ('RT @zmjohnson', 2), ('Downey', 2), (\"Jodie Foster's\", 2), ('RT @darealmaozedong', 2), ('@BuzzSugar Amy', 2), ('Craig', 2), ('Geez', 2), ('Kristen Stewart', 2), (\"Estelle Getty's\", 2), ('Adam Corolla', 2), ('RT @DianaNBC6 Can', 2), ('RT @Matty93Cord', 2), ('Ryan', 2), ('Obi-Wan', 2), ('RT @mena13suvari', 2), ('RT @jonathanwald', 2), ('Sarah Palin', 2), ('Leslie Knope', 2), ('@PerezHilton', 2), ('merece por ter', 2), ('recusado gravar', 2), ('Ghostbusters', 2), ('bagel', 2), ('din ang host', 2), (\"Regina George's\", 2), ('Booooooo', 2), ('http://t.co/utOjdcWy Quentin', 2), ('Loved Tina Fey', 2), ('Argo', 2), (\"WE'RE GOING HOME\", 2), ('QT screenplay surprise', 2), ('HFPA', 2), ('@BenAffleck John Sheardown', 2), ('Best Golden Globes', 2), ('Si Robertson', 2), ('Phil Robertson', 2), (\"Jodie Foster'\", 2), ('Roberts', 2), ('Electra', 2), ('Lori', 2), ('Day Lewis', 2), ('kinda', 2), ('w Amy', 2), ('Les Mis Etc', 2), ('RT @kellybensimon', 2), ('Sofia Vergara', 2), ('Glad', 2), ('Loved Amy', 2), ('RT @jenjackson15:', 2), ('Amy Poehler MUST', 2), ('RT @stuckbeingsoff', 2), ('poehler', 2), ('RT @JulieAlexandria:', 2), ('Claire Danes', 2), ('RT @ejeancarroll: Tina', 2), ('jodie foster', 2), ('jennifer lawrence', 2), ('Soooo Tina Fey', 2)]\n"
     ]
    }
   ],
   "source": [
    "hosts = sorted(hosts.items(), key=lambda item: item[1], reverse = True)\n",
    "print(hosts)"
   ]
  },
  {
   "cell_type": "code",
   "execution_count": 43,
   "id": "statistical-administrator",
   "metadata": {},
   "outputs": [
    {
     "name": "stdout",
     "output_type": "stream",
     "text": [
      "[('Amy Poehler', 590), ('Will Ferrell', 478), ('Tina Fey', 460), ('Amy', 298), ('Kristen Wiig', 230), ('Quentin Tarantino', 97), ('Golden Globes', 90), (\"Amy Poelher's\", 44), ('RT @piersmorgan', 40), ('this Golden Globes', 38)]\n"
     ]
    }
   ],
   "source": [
    "print(hosts[:10])\n"
   ]
  },
  {
   "cell_type": "code",
   "execution_count": null,
   "id": "injured-leave",
   "metadata": {},
   "outputs": [],
   "source": []
  }
 ],
 "metadata": {
  "kernelspec": {
   "display_name": "Python 3",
   "language": "python",
   "name": "python3"
  },
  "language_info": {
   "codemirror_mode": {
    "name": "ipython",
    "version": 3
   },
   "file_extension": ".py",
   "mimetype": "text/x-python",
   "name": "python",
   "nbconvert_exporter": "python",
   "pygments_lexer": "ipython3",
   "version": "3.8.5"
  }
 },
 "nbformat": 4,
 "nbformat_minor": 5
}
