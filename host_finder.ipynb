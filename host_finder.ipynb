{
 "cells": [
  {
   "cell_type": "code",
   "execution_count": 1,
   "metadata": {},
   "outputs": [],
   "source": [
    "import numpy as np\n",
    "import pandas as pd\n",
    "import spacy\n",
    "from spacy import displacy\n",
    "from collections import defaultdict\n",
    "import Levenshtein\n"
   ]
  },
  {
   "cell_type": "code",
   "execution_count": 2,
   "metadata": {},
   "outputs": [],
   "source": [
    "df = pd.read_json('../gg2015.json')\n",
    "df = df['text']\n",
    "df = df[~df.str.contains('think|thinking|should|maybe', case = False)]\n",
    "df = df.str.replace('#GoldenGlobes|golden|globes|globe', \"\", case = False)\n",
    "host_df = df[df.str.contains('host|hosts|hostess|hosted|hosting', case = False)]\n",
    "if host_df.size > 3000:\n",
    "    host_df = host_df.sample(3000)"
   ]
  },
  {
   "cell_type": "code",
   "execution_count": 3,
   "metadata": {},
   "outputs": [],
   "source": [
    "nlp = spacy.load('en_core_web_md')\n",
    "hosts = {}\n",
    "hosts = defaultdict(lambda: 1, hosts)\n",
    "for i, value in host_df.iteritems():\n",
    "    for entity in nlp(value).ents:\n",
    "        if entity.label_ == 'PERSON':\n",
    "            hosts[entity.text] = hosts[entity.text] +1\n",
    "            \n",
    "hosts = sorted(hosts.items(), key=lambda item: item[1], reverse = True)"
   ]
  },
  {
   "cell_type": "code",
   "execution_count": 6,
   "metadata": {},
   "outputs": [
    {
     "name": "stdout",
     "output_type": "stream",
     "text": [
      "Hosts are Amy Poehler and Tina Fey\n"
     ]
    },
    {
     "data": {
      "text/plain": [
       "['Amy Poehler', 'Tina Fey']"
      ]
     },
     "execution_count": 6,
     "metadata": {},
     "output_type": "execute_result"
    }
   ],
   "source": [
    "top30 = hosts[:30]\n",
    "for name in range(5):\n",
    "    first_name = top30[name][0].split()[0]\n",
    "    for other in range(29-name):\n",
    "        curr_name = top30[other+name+1][0]\n",
    "        if first_name in curr_name:\n",
    "            count = top30[name][1] + top30[other+name+1][1]\n",
    "            top30[name] = (top30[name][0], count)\n",
    "\n",
    "final30 = sorted(top30, key=lambda item: item[1], reverse = True)\n",
    "final2 = [final30[0][0], final30[1][0]]\n",
    "print(\"Hosts are \" + final2[0] + \" and \" + final2[1])\n",
    "final2"
   ]
  },
  {
   "cell_type": "code",
   "execution_count": null,
   "metadata": {},
   "outputs": [],
   "source": []
  }
 ],
 "metadata": {
  "kernelspec": {
   "display_name": "Python 3",
   "language": "python",
   "name": "python3"
  },
  "language_info": {
   "codemirror_mode": {
    "name": "ipython",
    "version": 3
   },
   "file_extension": ".py",
   "mimetype": "text/x-python",
   "name": "python",
   "nbconvert_exporter": "python",
   "pygments_lexer": "ipython3",
   "version": "3.8.3"
  }
 },
 "nbformat": 4,
 "nbformat_minor": 5
}
