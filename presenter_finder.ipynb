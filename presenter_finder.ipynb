{
 "cells": [
  {
   "cell_type": "code",
   "execution_count": 81,
   "metadata": {},
   "outputs": [],
   "source": [
    "award_names = ['cecil b. demille award',\n",
    " 'best motion picture - drama',\n",
    " 'best performance by an actress in a motion picture - drama',\n",
    " 'best performance by an actor in a motion picture - drama',\n",
    " 'best motion picture - comedy or musical',\n",
    " 'best performance by an actress in a motion picture - comedy or musical',\n",
    " 'best performance by an actor in a motion picture - comedy or musical',\n",
    " 'best animated feature film',\n",
    " 'best foreign language film',\n",
    " 'best performance by an actress in a supporting role in a motion picture',\n",
    " 'best performance by an actor in a supporting role in a motion picture',\n",
    " 'best director - motion picture',\n",
    " 'best screenplay - motion picture',\n",
    " 'best original score - motion picture',\n",
    " 'best original song - motion picture',\n",
    " 'best television series - drama', 'best performance by an actress in a television series - drama',\n",
    " 'best performance by an actor in a television series - drama',\n",
    " 'best television series - comedy or musical',\n",
    " 'best performance by an actress in a television series - comedy or musical',\n",
    " 'best performance by an actor in a television series - comedy or musical',\n",
    " 'best mini-series or motion picture made for television',\n",
    " 'best performance by an actress in a mini-series or motion picture made for television',\n",
    " 'best performance by an actor in a mini-series or motion picture made for television',\n",
    " 'best performance by an actress in a supporting role in a series, mini-series or motion picture made for television',\n",
    " 'best performance by an actor in a supporting role in a series, mini-series or motion picture made for television']\n"
   ]
  },
  {
   "cell_type": "code",
   "execution_count": 82,
   "metadata": {},
   "outputs": [],
   "source": [
    "import numpy as np\n",
    "import pandas as pd\n",
    "import spacy\n",
    "from spacy import displacy\n",
    "from collections import defaultdict"
   ]
  },
  {
   "cell_type": "code",
   "execution_count": 83,
   "metadata": {},
   "outputs": [
    {
     "name": "stdout",
     "output_type": "stream",
     "text": [
      "8000\n"
     ]
    }
   ],
   "source": [
    "df = pd.read_json('../gg2015.json')\n",
    "df = df['text']\n",
    "df = df[df.str.contains('present|announc|introduc', case = False)]\n",
    "df = df[~df.str.contains('think|should|maybe|RT @', case = False)]\n",
    "# df = df[df.str.contains('best', case = False)]\n",
    "df = df.str.replace('http\\S+|www.\\S+', '', case=False,regex=True)\n",
    "df = df.str.replace('TV|tv', \"television\", case = False, regex = True)\n",
    "wins_df = df.str.replace('#GoldenGlobes|#GoldenGlobe|golden|globes|globes', \"\", case = False, regex = True)\n",
    "if wins_df.size > 8000:\n",
    "    wins_df = wins_df.sample(8000)\n",
    "print(len(wins_df))"
   ]
  },
  {
   "cell_type": "code",
   "execution_count": 84,
   "metadata": {},
   "outputs": [],
   "source": [
    "from spacy.matcher import Matcher\n",
    "from spacy.tokens import Span\n",
    "nlp = spacy.load('en_core_web_md')\n",
    "from string import punctuation"
   ]
  },
  {
   "cell_type": "code",
   "execution_count": 85,
   "metadata": {},
   "outputs": [],
   "source": [
    "# pattern1 = [{\"ENT_TYPE\": \"PERSON\", 'OP':'+'}, {\"LEMMA\": \"win\"}, {\"ORTH\":'Best'}, {\"DEP\": 'compound', 'OP':'+'}, {\"POS\":'NOUN', 'OP':'*'}, {'IS_PUNCT': True, 'OP':'?'}, {\"POS\": 'PROPN', 'OP':'*'}]\n",
    "# pattern2 = [{\"ENT_TYPE\": \"WORK_OF_ART\", 'OP':'+'}, {\"LEMMA\": \"win\"}, {\"ORTH\":'Best'}, {\"DEP\": 'compound', 'OP':'+'}, {\"POS\":'NOUN', 'OP':'*'}, {'IS_PUNCT': True, 'OP':'?'}, {\"POS\": 'PROPN', 'OP':'*'}]\n",
    "# pattern3 = [{\"ENT_TYPE\": \"PERSON\", 'OP':'+'}, {\"LEMMA\": \"win\"}, {\"ORTH\":'Best'}, {\"ENT_TYPE\": \"WORK_OF_ART\", 'OP':'+'}]\n",
    "# pattern4 = [{\"ENT_TYPE\": \"WORK_OF_ART\", 'OP':'+'}, {\"LEMMA\": \"win\"}, {\"ORTH\":'Best'}, {\"ENT_TYPE\": \"WORK_OF_ART\", 'OP':'+'}]\n",
    "# pattern5 = [{\"ORTH\":'Best'}, {\"ENT_TYPE\": \"WORK_OF_ART\", 'OP':'+'},{\"TEXT\": \"goes\"}, {\"TEXT\": \"to\"}, {\"ENT_TYPE\": \"PERSON\", 'OP':'+'}] \n",
    "# pattern6 = [{\"ORTH\":'Best'}, {\"DEP\": 'compound', 'OP':'+'}, {\"POS\":'NOUN', 'OP':'*'}, {'IS_PUNCT': True, 'OP':'?'}, {\"POS\": 'PROPN', 'OP':'*'}, {\"TEXT\": \"goes\"}, {\"TEXT\": \"to\"}, {\"ENT_TYPE\": \"PERSON\", 'OP':'+'}] \n",
    "\n",
    "person_pattern = [{\"ENT_TYPE\": \"PERSON\", 'OP':'+'}]\n",
    "film_pattern = [{\"ENT_TYPE\": 'ORG', 'OP':'+'}]\n",
    "\n",
    "award_pattern = [{\"LOWER\":'best'}, {\"DEP\":{\"IN\":['compound','nmod','dobj','prep','det','pobj','amod','nsubj','ROOT']}, 'OP':'+'},{'ORTH': '-', 'OP':'?'}, {\"POS\": {\"IN\": ['PROPN','NOUN','CCONJ','ADJ']}, 'OP':'*'}]"
   ]
  },
  {
   "cell_type": "code",
   "execution_count": 86,
   "metadata": {},
   "outputs": [
    {
     "name": "stdout",
     "output_type": "stream",
     "text": [
      "Skyfall ORG\n"
     ]
    }
   ],
   "source": [
    "doc = nlp('Skyfall wins best motion picture drama - Skyfall')\n",
    "for entity in doc.ents:\n",
    "    print(entity.text, entity.label_)"
   ]
  },
  {
   "cell_type": "code",
   "execution_count": 87,
   "metadata": {},
   "outputs": [],
   "source": [
    "matcher = Matcher(nlp.vocab)\n",
    "matcher.add('Person',[person_pattern])\n",
    "matcher.add('Award',[award_pattern])\n",
    "matcher.add('Film',[film_pattern])\n",
    "# matches = matcher(doc)"
   ]
  },
  {
   "cell_type": "code",
   "execution_count": 88,
   "metadata": {},
   "outputs": [],
   "source": [
    "def find_mapping(matches):\n",
    "    winner_len = 0\n",
    "    award_len = 0\n",
    "    winner = ''\n",
    "    award = ''\n",
    "    for match_id, start, end in matches:\n",
    "        string_id = nlp.vocab.strings[match_id]\n",
    "        span = doc[start:end]\n",
    "        span_len = len(span.text)\n",
    "        if string_id == 'Person' and len(span)<= 2:\n",
    "            if winner_len < span_len:\n",
    "                winner = span.text\n",
    "                winner_len = span_len      \n",
    "        elif string_id == 'Award':\n",
    "            if award_len < span_len:\n",
    "                award = span.text\n",
    "                award_len = span_len\n",
    "    winner = str(winner).strip(punctuation).strip()\n",
    "    award = str(award).strip(punctuation).strip()\n",
    "    key = (winner.lower(),award)\n",
    "    return key"
   ]
  },
  {
   "cell_type": "code",
   "execution_count": 89,
   "metadata": {},
   "outputs": [],
   "source": [
    "winners = {}\n",
    "winners = defaultdict(lambda: 0, winners)\n",
    "for i, text in wins_df.iteritems():\n",
    "    doc = nlp(text)\n",
    "    matches = matcher(doc)\n",
    "    if len(matches) != 0:\n",
    "        key = find_mapping(matches)\n",
    "        if (key[0] != '' and key[1] != ''):\n",
    "            winners[key] = winners[key] +1"
   ]
  },
  {
   "cell_type": "code",
   "execution_count": 90,
   "metadata": {},
   "outputs": [
    {
     "name": "stdout",
     "output_type": "stream",
     "text": [
      "{('ricky', 'Best Actress in a Motion Picture'): 1, ('prince presents', 'Best Original Song for'): 55, ('jeremy renner', 'Best presenters'): 1, ('common', 'Best Original Song'): 1, ('lily tomlin', 'Best Actor in a comedy'): 1, ('jeffrey tambor', 'Best Actor in a television Series'): 4, ('common', 'Best of Hip-Hop'): 1, ('jamie dorman', 'best pair of presenters of history in the'): 1, ('lil sebastian', 'Best Mini Horse'): 1, ('john legend', 'Best Original Song'): 7, ('su', 'Best Original Score - Motion Picture'): 2, ('adrien brody', 'Best Actress in a Miniseries or television Movie'): 1, ('kevin hart', 'Best Animated movie'): 1, ('prince', 'best song in a motion picture'): 1, ('gina rodriguez', 'Best Actress in a television series comedy goes to'): 2, ('jared leto', 'best Supporting Actress in Film'): 1, ('selma hayek', 'Best Animated Feature Film to'): 1, ('bryan cranston', 'best television drama and Bryan Cranston'): 1, ('lily tomlin', 'Best Actor in Comedy or Musical'): 1, ('beyonce', 'Best call'): 1, ('robert downey', 'Best Film - Comedy'): 3, ('gwyneth paltrow', 'Best Actor in a Motion Picture-Drama'): 1, ('gina rodriguez', 'best actress'): 2, ('katherine zeta', 'Best Film nominee #pride'): 1, ('kardashians', 'best part of the'): 1, ('selma', 'Best Film nominee #Selma'): 1, ('robert downey', 'Best Picture The Grand Budapest Hotel'): 1, ('gina rodriguez', 'best actress in television comedy for'): 1, ('birdman', 'Best Picture Comedy or Musical'): 1, ('clive owen', 'Best Motion Picture-Drama'): 1, ('benedict cumberbatch', 'Best Supporting Actor in a Drama presentation'): 1, ('matthew mcconaughey', 'Best Actress Motion Picture Drama winner'): 1, ('austin', 'Best picture'): 1, ('oprah winfrey', 'best picture nominee'): 3, ('kate hudson', 'best part of Kate Hudson'): 1, ('amy adams', 'Best Actress in a comedy'): 1, ('quvenzhané wallis', 'Best Actress in a Musical'): 2, ('rob schneider', 'Best Ensemble comedy to'): 1, ('wes anderson', 'Best Motion'): 1, ('katherine heigl', 'Best Side-eye'): 1, ('amy poehler', 'best Bill Cosby introduction at the'): 1, ('prince', 'best original score'): 1, ('vince vaughn', 'best score'): 2, ('kristenwiig', 'Best #chemistry'): 1, ('john legend', 'best original song'): 1, ('kristen wiig', 'best presenters of the night'): 1, ('paul rudd', 'Best television Series'): 1, ('anna farris', 'Best Presenters'): 1, ('harrison ford', 'Best Director in a Motion Picture'): 1, ('sund', 'Best Foreign Language Film'): 3, ('selma', 'Best Motion Picture'): 1, ('richardlinklater', 'Best Director award to #richardlinklater for @BoyhoodMovie'): 1, ('owen wilson', 'Best Picture'): 1, ('matthew mcconaughey', 'Best Actress for Motion Picture'): 1, ('selma', 'best original song'): 1, ('sarah koenig', 'Best Original Song'): 1, ('eddie redmayne', 'Best Actor in a Motion Picture'): 5, ('youtube prince', 'Best Original Song'): 1, ('katy holmes', 'Best Supporting Actor in a television miniseries'): 1, ('matt bomer', 'Best Supporting Actor in a television Series goes to Matt Bomer in'): 1, ('robert downey', 'Best Motion Picture-Comedy'): 1, ('matthew mcconaughey', 'Best Actress - Drama'): 1, ('robert downey', 'Best Motion Picture Comedy or Musical'): 1, ('dakota johnson', 'best Supporting Actor in Miniseries'): 2, ('john legend', 'Best Original Song - Motion Picture'): 6, ('kevin hart', 'Best Animated Film the winner'): 1, ('kevin spacey', 'Best Actor in a television Drama'): 1, ('john legend', 'Best Original Song Selma'): 1, ('naomi watts', 'best picture nominees'): 1, ('amy', 'best thing an announcer'): 1, ('winfrey', 'best quote of the'): 1, ('jesus', 'Best Supporting Actress'): 1, ('chris pratt', 'Best Actress television series'): 1, ('michael keaton', 'Best Actor in a Motion Picture'): 4, ('birdman wins', 'Best Screenplay'): 6, ('prince', 'Best original song on'): 1, ('selma', 'Best Picture and'): 1, ('melissa mccarthy', 'best Motion Picture Comedy or Musical'): 1, ('colin farrell', 'best mustache by an award show presenter'): 1, ('jeremy renner', 'Best Miniseries or television Movie'): 1, ('michael keaton', 'Best movie of the year'): 1, ('kerry washington', 'Best Actress in a television Series'): 1, ('amy adams', 'Best Actor Comedy Movie'): 1, ('prince', 'Best #Song'): 1, ('amy adams', 'Best Actor in a Comedy'): 1, ('jlo', 'best dramatic series'): 1, ('benedict', 'best actor at the'): 7, ('margaret cho', 'Best Screenplay introduction'): 1, ('grandbudapesthotel', 'best motion picture nominee'): 1, ('robert downey', 'Best Movie'): 5, ('clive owen', 'Best Motion Picture'): 2, ('vince vaughn', 'Best Original Score'): 2, ('jared leto', 'Best Supporting Actress'): 1, ('latinapride', 'Best Actress'): 1, ('actress?mia khalifa', 'best adults film actress?Mia Khalifa'): 1, ('kristen wiig', 'best screen play'): 1, ('matthew mcconaughey', 'Best Actress as Frank Underwood'): 1, ('prince', 'Best Original Song'): 6, ('kristen wig', 'best introduction by'): 1, ('richardlinklater', 'best director for a motion picture'): 1, ('sienna miller', 'best rebound presenter'): 1, ('tina', 'best presenters 💕'): 1, ('selma', 'Best Original song'): 2, ('owen wilson', 'Best Motion Picture- Comedy or Musical'): 1, ('leslieknope', 'Best presenting duo'): 1, ('jenifer aniston', 'Best Supporting Actor with Jenifer Aniston'): 1, ('barbra streisand', 'best song'): 1, ('naomi watts', 'Best Picture nominees'): 1, ('kate hudson', 'Best Comedy or Musical Motion Picture nominee'): 1, ('harrison ford', 'Best Director for movies'): 1, ('adams wins', 'Best Actress in a Motion Picture'): 3, ('richardlinklater', 'Best Picture'): 4, ('kerry washington', 'Best actress in television Series'): 1, ('jack black', 'Best Motion Picture'): 2, ('han solo', 'Best Director'): 2, ('colin farrell', 'Best Foreign Language Film'): 1, ('jenniferaniston', 'Best Supporting Actor at'): 3, ('prince', 'Best Original Song award on'): 1, ('birdman', 'Best Screenplay to #Birdman'): 1, ('collin firth', 'best motion picture-drama'): 1, ('benedict', 'best actor'): 6, ('melissa mccarthy', 'Best Motion Picture'): 1, ('ricky gervais', 'Best Actress in a Motion Picture- Comedy or Musical'): 1, ('chris pratt', 'Best presenters since Wiig and Hader'): 1, ('kristen wiig', 'Best Screenplay at the'): 3, ('amy adams', 'Best Actor in a Motion Picture'): 1, ('john legend', 'best original song to'): 1, ('margotrobbie', 'best thing about the'): 1, ('glory', 'Best Original Song'): 2, ('cinema', 'best origina'): 2, ('clive owen', 'Best picture in a motion drama nominee'): 1, ('mariah', 'Best Origina'): 1, ('greer grammer', 'Best Animated Feature Film'): 1, ('garth', 'best screenplay'): 1, ('kristen wiig', 'best part of that win'): 1, ('patricia arquette', 'Best Supporting Actress in a Motion Picture'): 4, ('michael keaton', 'Best Actor in a Motion Picture- Comedy or Musical'): 1, ('oprah', 'Best Picture you got'): 1, ('sienna miller', 'Best Score'): 1, ('grandbudapesthotel', 'Best Comedy or Musical Film'): 1, ('selma hayek', 'Best Animated Film'): 2, ('matthew mcconaughey', 'Best Actress in Motion Picture'): 1, ('gina rodriguez', 'best GG speech'): 1, ('kerry washington', 'Best Actress television Comedy which'): 1, ('symbioticnation prince', 'Best Original Song for'): 1, ('owen wilson', 'Best Picture - Musical or Comedy'): 1, ('winfrey', 'Best outfit of the #TinaFey #AmyPoehler'): 1, ('jared leto', 'best win'): 1, ('truth', 'best presentation of all time'): 1, ('papel representando', 'Best Actor Drama por su papel representando'): 1, ('musica', 'best original song'): 1, ('madea', 'Best Original Song'): 1, ('melissa mccarthy', 'best motion picture-comedy or musical'): 1, ('kristen wiig', 'best screenplay'): 2, ('selma', 'best song to @JohnLegend and'): 1, ('theaffair', 'best drama from'): 1, ('matthew mcconaughey', 'best actress award as a Civil War general'): 1, ('chris @prattprattpratt', 'Best Actress in a television Series'): 1, ('robert deniro', 'Best Robert DeNiro impression of the night'): 1, ('salmahayek', 'Best Animated Film'): 1, ('bill hader', 'Best Screenplay'): 2, ('meryl streep', 'best motion picture'): 1, ('benedict cumberbatch', 'Best Supporting Actor'): 2, ('meryl', 'best motion picture drama'): 1, ('quvenzhane wallis', 'Best Actress in'): 1, ('winfrey', 'Best laugh of the night'): 1, ('prince', 'Best Original Song in a Motion Picture'): 1, ('symbioticrecords prince', 'Best Original Song for'): 1, ('oprah prince', 'Best Original Music score'): 1, ('gina rodriguez', 'Best television Series Actress - Comedy or Musical'): 1, ('barbie', 'Best Actor in a Drama tonight'): 1, ('jared leto', 'best supporting actress in a motion picture &amp'): 1, ('benedict cumberbatch', 'Best Supporting Actor to JK Simmons for #Whiplash'): 1, ('catherine zeta', 'Best Picture'): 2, ('common', 'best original song'): 1, ('gwyneth paltrow', 'Best Actor Motion Picture Drama'): 1, ('meryl streep', 'Best Motion Picture-Drama'): 1, ('selma', 'Best Original Song for #Selma'): 1, ('jeremy renner', 'Best television miniseries or motion picture'): 1, ('kate hudson', 'Best Motion Picture'): 1, ('billhader presenting', 'Best Screenplay'): 1, ('kate beckinsale', 'Best Dress in a Presenting Role'): 1, ('harrison ford', 'Best Director at awards shows'): 1, ('richard linklater', 'Best Director to Richard Linklater'): 1, ('robertdowneyjr', 'Best Film - Comedy'): 1, ('channing tatum', 'Best Motion Picture Drama #Foxcatcher'): 1, ('jane', 'best female presenters of the night'): 1, ('selma', 'Best Original Song'): 2, ('harrison ford', 'best Director- Linklater for Boyhood'): 1, ('prince', 'Best Original Song tonight'): 1, ('vince vaughn', 'Best Score'): 1, ('alejandro gonzalez', 'Best Screenplay to Alejandro Gonzalez Inarritu for'): 1, ('kristen', 'best screen play on the'): 1, ('katie holmes', 'Best Supporting Actor in television Series'): 1, ('chris pratt', 'Best Actress in a television Drama to'): 2, ('michael keaton', 'Best Actor- Comedy'): 1, ('prince', 'Best Film Song'): 1, ('naomi watts', 'Best Motion Picture'): 1, ('benedict cumberbatch', 'best supporting actor'): 2, ('cate blanchett', 'Best Actor'): 1, ('katie holmes', 'best presenter chemistry'): 1, ('jared presentando', 'Best Supporting Actress en los'): 1, ('prince', 'best score'): 1, ('jeremy renner', 'Best television miniseries or television movie'): 1, ('kristen wiig', 'best Kristen Wiig'): 1, ('gwyneth paltrow', 'Best Actor for Motion Drama Picture'): 1, ('meryl streep', 'Best Picture award to'): 1, ('naomi watts', 'best pic clip'): 1, ('salma hayak', 'Best dressed duo'): 1, ('lenny kravitz', 'best original song &amp'): 1, ('meryl', 'best score or'): 1, ('prince', 'BEST ORIGINAL SONG'): 1, ('gwyneth paltrow', 'Best Actor'): 1, ('billhader', 'Best Screenplay presentation'): 1, ('jennifer aniston', 'BEST SUPPORTING ACTOR IN MOTION PICTURE'): 1, ('kristen wiig', 'Best Screenplay'): 4, ('katherine heigl', 'Best Actor in television Series drama'): 1, ('david duchovny', 'Best television Drama Actor'): 2, ('john legend', 'Best Original Score award for Selma to Common and John Legend'): 1, ('lupita', 'best accent on a presenter go to Colin and Lupita'): 1, ('ricky gervais', 'Best Performance by an Actress in a Motion Picture in a Comedy'): 1, ('ginarodriguez', 'Best actress in a television comedy'): 1, ('owen wilson', 'Best Comedy or Musical Motion Picture'): 1, ('catherine zeta', 'Best Motion Picture-Comedy or Musical'): 1, ('catherine zeta', 'Best Motion Picture'): 1, ('richard linklater', 'Best Director in a Motion Picture'): 2, ('ricky gervais', 'Best Actress in a Comedy or Musical'): 1, ('purple yoda', 'Best Original Song award'): 1, ('ricky gervais', 'Best things'): 1, ('symbioticagency prince', 'Best Original Song for'): 1, ('maggie gyllenhaal', 'Best Actress in a Mini-Series or television Movie'): 2, ('john legend', 'best song in the movie Selma'): 2, ('kristin wiig', 'best presenters'): 1, ('kevin sorbo', 'Best Song award is like Kevin Sorbo'): 1, ('bill hader', 'best screen play joking about the best lines in movies'): 1, ('vincevaughn', 'Best Original Score'): 1, ('john legend', 'Best Original Song in A Motion Picture to'): 1, ('jennifer lopez', 'Best Actor in a Mini Series won by Billy Bob Thorton'): 1, ('foxcatcher', 'Best Picture nominee predictions'): 1, ('meryl streep', 'Best Picture Drama'): 1, ('salma hayek', 'Best Animated Film at The'): 1, ('winfrey', 'Best joke of the year'): 1, ('jennifer lopez', 'best line of the night'): 1, ('prince', 'best original song in a motion picture'): 1, ('robert downey', 'Best Comedy or Musical Motion Picture'): 1, ('yasss', 'Best Comedy and MODERN FAMILY'): 1, ('birdman', 'best scripts'): 1, ('prince presenting', 'Best Original Song'): 1, ('richard linklater', 'best picture'): 1, ('riplilsebastian', 'Best Mini Horse'): 1, ('kerri washington', 'best Actress in television Comedy'): 1, ('jennifer aniston', 'Best Supporting Actor in a Motion Picture'): 1, ('foxcatcher', 'Best Motion Picture'): 1, ('meryl streep', 'Best Motion Picture'): 4, ('meryl streep', 'Best Film Drama'): 1, ('richard linklater', 'Best Director award to'): 1, ('kristen wiig', 'Best Sc'): 2, ('john legend', 'Best Original Song for Selma'): 1, ('kate beckinsale', 'Best Actress in a Miniseries or television Movie'): 1, ('ruby dee', 'Best Song to @common &amp'): 1, ('adam levine', 'Best television Series Drama'): 2, ('patricia arquette', 'Best Supporting Actress to Patricia Arquette'): 1, ('suckitpretzel', 'best part of the'): 1, ('jack black', 'Best Buy'): 1, ('taylor swifts', 'best part of the'): 1, ('julianne moore', 'Best Actress in a Motion Picture'): 6, ('adam levine', 'Best presenters Adam Levine and Paul Rudd'): 1, ('colin farrell', 'best award presenter goes to'): 2, ('benerdict cumberbatch', 'Best Supporting Actor'): 1, ('catherine heigly', 'Best actor in a television series Drama'): 1, ('korea presente', 'Best Korea presente'): 1, ('kristin wiig', 'Best Presenters'): 1, ('bill hader', 'Best presenters'): 1, ('john legend', 'Best speech possible'): 1, ('david duchovny', 'Best Actor in a television Series'): 1, ('top rt', 'Best Actress in a Motion Picture'): 1, ('richard linklater', 'Best Director for BOYHOOD'): 1, ('jeremy renner', 'Best Actor in a Miniseries or television Movie'): 1, ('tina', 'Best moment of the'): 1, ('prince', 'best part of that'): 1, ('michael keaton', 'Best Actor'): 1, ('gina rodriguez', 'Best Actress in a Comedy Series for Jane The Virgin'): 1, ('melissa mccarthy', 'Best Film nominee #Saintelevisionincent'): 1, ('clive owen', 'best part of The'): 1, ('movieblogger', 'Best Supporting Actor'): 1, ('richard linklater', 'Best Director'): 2, ('yorkshire', 'best supporting actress tonight'): 1, ('jack black', 'Best Film nominee #Boyhood'): 1, ('chrispratt', 'best actress television series - drama'): 1, ('winfrey', 'Best Motion Picture- Drama'): 1, ('selma', 'best film'): 1, ('kristen', 'best screenplay'): 1, ('selmamovie', 'Best Original Song'): 1, ('gwyneth paltrow', 'Best Actor Drama'): 1, ('channing tatum', 'Best Motion Picture- Drama'): 1, ('ricky gervais', 'Best Presenter of the evening'): 1, ('colin firth', 'Best Motion Picture'): 2, ('jack black', 'Best Motion Picture- Drama'): 1, ('fargo wins', 'Best television Movie or Mini-Series'): 1, ('kristen wiig', 'Best Screenplay tonight'): 1, ('modestmanagement', 'best ensemble cast'): 1, ('ricky gervais', 'best presenter'): 1, ('l', 'best original song atelevision'): 1, ('matthew mccoughnahey', 'best Actress in Drama'): 1, ('jeffrey tambor', 'Best work of'): 1, ('pratt', 'best nomination announcement for this years'): 1, ('matthew @mcconaughey', 'Best Actress in a Motion Picture'): 1, ('julianne moore', 'Best Actress Drama for'): 1, ('ricky gervais', 'best presentation'): 1, ('birdman', 'best screenplay-- 😒 I'): 1, ('birdman', 'Best Musical/ Comedy'): 1, ('sienna miller', 'Best Original Score'): 1, ('oscar', 'best announcer this year'): 1, ('michael keaton', 'Best Actor in Motion Picture Comedy'): 1, ('birdman', 'Best Film Drama the big award'): 1, ('leviathan', 'best foreing film at'): 1, ('lupita', 'best glasses of the night'): 1, ('george clooney', 'Best GG'): 1, ('prince present', 'Best Original Song at the'): 1, ('owenwilson', 'Best Film #owenwilson'): 1, ('kristen wiig', 'Best Screenplay at the 2015'): 1, ('youarekidding', 'best picture'): 1, ('michael keaton', 'Best Actor award to Michael Keaton'): 1, ('jeffrey tambor', 'Best Actor in a comedy to Jeffrey Tambor for Transparent'): 1, ('thegrandbudapesthotel', 'best motion picture comedy'): 1, ('jeffrey tambor', 'best actor to Jeffrey tambor'): 1, ('alrightalrightalright', 'Best Actress in a Motion Picture-Drama'): 1, ('jale gyllenhaal', 'best actor announcement reaction'): 1, ('adam levine', 'best looking presenter duo'): 1, ('jennifer lopez', 'Best Mini-Series or Motion Picture'): 1, ('jennifer aniston', 'Best Supporting #Actor to'): 1, ('john legend', 'Best Original'): 1, ('chris pratt', 'Best Actress television Series Drama'): 1, ('kristen wigg', 'Best Screen Play'): 1, ('wes anderson', 'best picture comedy or musical Grand Budapest Hotel'): 1, ('marlon brando', 'best actor'): 1, ('john legend', 'best song'): 1, ('robert downey', 'Best Motion'): 1, ('robert downey', 'Best Motion Picture'): 1, ('owen wilson', 'Best Motion Picture'): 1, ('prince', 'best original song'): 1, ('downtonabbey', 'best supportive actress in a television series'): 1, ('robert', 'best award presenters but'): 1, ('representinghouston', 'Best Director'): 1, ('kristen wigg', 'Best Screnplay'): 1, ('kate hudson', 'Best Film nominee #IntoTheWoods'): 1, ('enlightened', 'Best Comedy Actress #Enlightened'): 1, ('prince', 'best original score in a motion picture'): 1, ('naomi watts', 'Best Picture nominee #Birdman'): 1, ('prince', 'Best Original Song - Motion Picture'): 1, ('thesource', 'best original song'): 1, ('bill murray', 'BEST acceptance speeches'): 1, ('kristen wigg', 'best presenters'): 1, ('prince', 'Best Original Song award tonight'): 1, ('lily tomlin', 'Best Actor in a television Series'): 1, ('channing tatum', 'Best Motion Picture Drama'): 1, ('oprah', 'best picture noms'): 1, ('prince', 'Best Song'): 1, ('jack black', 'best motion picture-drama'): 1, ('music', 'Best Original Song for'): 1, ('jake peavy', 'best mini series'): 1, ('gina rodriguez', 'Best Actress in a Comedy Series'): 1, ('selma hayek', 'Best Animated Movie'): 1, ('prince', 'Best Original Song to Common and John Legend'): 1, ('adam levine', 'best presenter intro'): 1, ('oprah', 'best picture - drama'): 1, ('meryl streep', 'Best Actress Award for'): 1, ('salma hayek', 'best Animated Film'): 1, ('travolta', 'best presenter goes to @rickygervais'): 1, ('adam levine', 'Best television Series'): 1, ('jaime dornan', 'Best Supporting Actress in Mini-Series'): 1, ('winfrey', 'Best Motion Picture'): 1, ('julianne moore', 'best leading actress'): 1, ('jared leto', 'Best Supporting Actress in a Movie'): 1, ('meryl streep', 'Best Picture'): 1, ('amy adams', 'Best Actress in a Comedy or Musical'): 1, ('kate beckinsdale', 'Best Actress in a miniseries'): 1}\n"
     ]
    }
   ],
   "source": [
    "# winners = sorted(winners.items(), key=lambda item: item[1], reverse = True)\n",
    "winners = dict(winners)\n",
    "print(winners)"
   ]
  },
  {
   "cell_type": "code",
   "execution_count": 91,
   "metadata": {},
   "outputs": [
    {
     "name": "stdout",
     "output_type": "stream",
     "text": [
      "[(('prince presents', 'Best Original Song for'), 55), (('john legend', 'Best Original Song'), 7), (('benedict', 'best actor at the'), 7), (('john legend', 'Best Original Song - Motion Picture'), 6), (('birdman wins', 'Best Screenplay'), 6), (('prince', 'Best Original Song'), 6), (('benedict', 'best actor'), 6), (('julianne moore', 'Best Actress in a Motion Picture'), 6), (('eddie redmayne', 'Best Actor in a Motion Picture'), 5), (('robert downey', 'Best Movie'), 5), (('jeffrey tambor', 'Best Actor in a television Series'), 4), (('michael keaton', 'Best Actor in a Motion Picture'), 4), (('richardlinklater', 'Best Picture'), 4), (('patricia arquette', 'Best Supporting Actress in a Motion Picture'), 4), (('kristen wiig', 'Best Screenplay'), 4), (('meryl streep', 'Best Motion Picture'), 4), (('robert downey', 'Best Film - Comedy'), 3), (('oprah winfrey', 'best picture nominee'), 3), (('sund', 'Best Foreign Language Film'), 3), (('adams wins', 'Best Actress in a Motion Picture'), 3), (('jenniferaniston', 'Best Supporting Actor at'), 3), (('kristen wiig', 'Best Screenplay at the'), 3), (('su', 'Best Original Score - Motion Picture'), 2), (('gina rodriguez', 'Best Actress in a television series comedy goes to'), 2), (('gina rodriguez', 'best actress'), 2), (('quvenzhané wallis', 'Best Actress in a Musical'), 2), (('vince vaughn', 'best score'), 2), (('dakota johnson', 'best Supporting Actor in Miniseries'), 2), (('clive owen', 'Best Motion Picture'), 2), (('vince vaughn', 'Best Original Score'), 2), (('selma', 'Best Original song'), 2), (('jack black', 'Best Motion Picture'), 2), (('han solo', 'Best Director'), 2), (('glory', 'Best Original Song'), 2), (('cinema', 'best origina'), 2), (('selma hayek', 'Best Animated Film'), 2), (('kristen wiig', 'best screenplay'), 2), (('bill hader', 'Best Screenplay'), 2), (('benedict cumberbatch', 'Best Supporting Actor'), 2), (('catherine zeta', 'Best Picture'), 2), (('selma', 'Best Original Song'), 2), (('chris pratt', 'Best Actress in a television Drama to'), 2), (('benedict cumberbatch', 'best supporting actor'), 2), (('david duchovny', 'Best television Drama Actor'), 2), (('richard linklater', 'Best Director in a Motion Picture'), 2), (('maggie gyllenhaal', 'Best Actress in a Mini-Series or television Movie'), 2), (('john legend', 'best song in the movie Selma'), 2), (('kristen wiig', 'Best Sc'), 2), (('adam levine', 'Best television Series Drama'), 2), (('colin farrell', 'best award presenter goes to'), 2), (('richard linklater', 'Best Director'), 2), (('colin firth', 'Best Motion Picture'), 2), (('ricky', 'Best Actress in a Motion Picture'), 1), (('jeremy renner', 'Best presenters'), 1), (('common', 'Best Original Song'), 1), (('lily tomlin', 'Best Actor in a comedy'), 1), (('common', 'Best of Hip-Hop'), 1), (('jamie dorman', 'best pair of presenters of history in the'), 1), (('lil sebastian', 'Best Mini Horse'), 1), (('adrien brody', 'Best Actress in a Miniseries or television Movie'), 1), (('kevin hart', 'Best Animated movie'), 1), (('prince', 'best song in a motion picture'), 1), (('jared leto', 'best Supporting Actress in Film'), 1), (('selma hayek', 'Best Animated Feature Film to'), 1), (('bryan cranston', 'best television drama and Bryan Cranston'), 1), (('lily tomlin', 'Best Actor in Comedy or Musical'), 1), (('beyonce', 'Best call'), 1), (('gwyneth paltrow', 'Best Actor in a Motion Picture-Drama'), 1), (('katherine zeta', 'Best Film nominee #pride'), 1), (('kardashians', 'best part of the'), 1), (('selma', 'Best Film nominee #Selma'), 1), (('robert downey', 'Best Picture The Grand Budapest Hotel'), 1), (('gina rodriguez', 'best actress in television comedy for'), 1), (('birdman', 'Best Picture Comedy or Musical'), 1), (('clive owen', 'Best Motion Picture-Drama'), 1), (('benedict cumberbatch', 'Best Supporting Actor in a Drama presentation'), 1), (('matthew mcconaughey', 'Best Actress Motion Picture Drama winner'), 1), (('austin', 'Best picture'), 1), (('kate hudson', 'best part of Kate Hudson'), 1), (('amy adams', 'Best Actress in a comedy'), 1), (('rob schneider', 'Best Ensemble comedy to'), 1), (('wes anderson', 'Best Motion'), 1), (('katherine heigl', 'Best Side-eye'), 1), (('amy poehler', 'best Bill Cosby introduction at the'), 1), (('prince', 'best original score'), 1), (('kristenwiig', 'Best #chemistry'), 1), (('john legend', 'best original song'), 1), (('kristen wiig', 'best presenters of the night'), 1), (('paul rudd', 'Best television Series'), 1), (('anna farris', 'Best Presenters'), 1), (('harrison ford', 'Best Director in a Motion Picture'), 1), (('selma', 'Best Motion Picture'), 1), (('richardlinklater', 'Best Director award to #richardlinklater for @BoyhoodMovie'), 1), (('owen wilson', 'Best Picture'), 1), (('matthew mcconaughey', 'Best Actress for Motion Picture'), 1), (('selma', 'best original song'), 1), (('sarah koenig', 'Best Original Song'), 1), (('youtube prince', 'Best Original Song'), 1), (('katy holmes', 'Best Supporting Actor in a television miniseries'), 1), (('matt bomer', 'Best Supporting Actor in a television Series goes to Matt Bomer in'), 1), (('robert downey', 'Best Motion Picture-Comedy'), 1), (('matthew mcconaughey', 'Best Actress - Drama'), 1), (('robert downey', 'Best Motion Picture Comedy or Musical'), 1), (('kevin hart', 'Best Animated Film the winner'), 1), (('kevin spacey', 'Best Actor in a television Drama'), 1), (('john legend', 'Best Original Song Selma'), 1), (('naomi watts', 'best picture nominees'), 1), (('amy', 'best thing an announcer'), 1), (('winfrey', 'best quote of the'), 1), (('jesus', 'Best Supporting Actress'), 1), (('chris pratt', 'Best Actress television series'), 1), (('prince', 'Best original song on'), 1), (('selma', 'Best Picture and'), 1), (('melissa mccarthy', 'best Motion Picture Comedy or Musical'), 1), (('colin farrell', 'best mustache by an award show presenter'), 1), (('jeremy renner', 'Best Miniseries or television Movie'), 1), (('michael keaton', 'Best movie of the year'), 1), (('kerry washington', 'Best Actress in a television Series'), 1), (('amy adams', 'Best Actor Comedy Movie'), 1), (('prince', 'Best #Song'), 1), (('amy adams', 'Best Actor in a Comedy'), 1), (('jlo', 'best dramatic series'), 1), (('margaret cho', 'Best Screenplay introduction'), 1), (('grandbudapesthotel', 'best motion picture nominee'), 1), (('jared leto', 'Best Supporting Actress'), 1), (('latinapride', 'Best Actress'), 1), (('actress?mia khalifa', 'best adults film actress?Mia Khalifa'), 1), (('kristen wiig', 'best screen play'), 1), (('matthew mcconaughey', 'Best Actress as Frank Underwood'), 1), (('kristen wig', 'best introduction by'), 1), (('richardlinklater', 'best director for a motion picture'), 1), (('sienna miller', 'best rebound presenter'), 1), (('tina', 'best presenters 💕'), 1), (('owen wilson', 'Best Motion Picture- Comedy or Musical'), 1), (('leslieknope', 'Best presenting duo'), 1), (('jenifer aniston', 'Best Supporting Actor with Jenifer Aniston'), 1), (('barbra streisand', 'best song'), 1), (('naomi watts', 'Best Picture nominees'), 1), (('kate hudson', 'Best Comedy or Musical Motion Picture nominee'), 1), (('harrison ford', 'Best Director for movies'), 1), (('kerry washington', 'Best actress in television Series'), 1), (('colin farrell', 'Best Foreign Language Film'), 1), (('prince', 'Best Original Song award on'), 1), (('birdman', 'Best Screenplay to #Birdman'), 1), (('collin firth', 'best motion picture-drama'), 1), (('melissa mccarthy', 'Best Motion Picture'), 1), (('ricky gervais', 'Best Actress in a Motion Picture- Comedy or Musical'), 1), (('chris pratt', 'Best presenters since Wiig and Hader'), 1), (('amy adams', 'Best Actor in a Motion Picture'), 1), (('john legend', 'best original song to'), 1), (('margotrobbie', 'best thing about the'), 1), (('clive owen', 'Best picture in a motion drama nominee'), 1), (('mariah', 'Best Origina'), 1), (('greer grammer', 'Best Animated Feature Film'), 1), (('garth', 'best screenplay'), 1), (('kristen wiig', 'best part of that win'), 1), (('michael keaton', 'Best Actor in a Motion Picture- Comedy or Musical'), 1), (('oprah', 'Best Picture you got'), 1), (('sienna miller', 'Best Score'), 1), (('grandbudapesthotel', 'Best Comedy or Musical Film'), 1), (('matthew mcconaughey', 'Best Actress in Motion Picture'), 1), (('gina rodriguez', 'best GG speech'), 1), (('kerry washington', 'Best Actress television Comedy which'), 1), (('symbioticnation prince', 'Best Original Song for'), 1), (('owen wilson', 'Best Picture - Musical or Comedy'), 1), (('winfrey', 'Best outfit of the #TinaFey #AmyPoehler'), 1), (('jared leto', 'best win'), 1), (('truth', 'best presentation of all time'), 1), (('papel representando', 'Best Actor Drama por su papel representando'), 1), (('musica', 'best original song'), 1), (('madea', 'Best Original Song'), 1), (('melissa mccarthy', 'best motion picture-comedy or musical'), 1), (('selma', 'best song to @JohnLegend and'), 1), (('theaffair', 'best drama from'), 1), (('matthew mcconaughey', 'best actress award as a Civil War general'), 1), (('chris @prattprattpratt', 'Best Actress in a television Series'), 1), (('robert deniro', 'Best Robert DeNiro impression of the night'), 1), (('salmahayek', 'Best Animated Film'), 1), (('meryl streep', 'best motion picture'), 1), (('meryl', 'best motion picture drama'), 1), (('quvenzhane wallis', 'Best Actress in'), 1), (('winfrey', 'Best laugh of the night'), 1), (('prince', 'Best Original Song in a Motion Picture'), 1), (('symbioticrecords prince', 'Best Original Song for'), 1), (('oprah prince', 'Best Original Music score'), 1), (('gina rodriguez', 'Best television Series Actress - Comedy or Musical'), 1), (('barbie', 'Best Actor in a Drama tonight'), 1), (('jared leto', 'best supporting actress in a motion picture &amp'), 1), (('benedict cumberbatch', 'Best Supporting Actor to JK Simmons for #Whiplash'), 1), (('common', 'best original song'), 1), (('gwyneth paltrow', 'Best Actor Motion Picture Drama'), 1), (('meryl streep', 'Best Motion Picture-Drama'), 1), (('selma', 'Best Original Song for #Selma'), 1), (('jeremy renner', 'Best television miniseries or motion picture'), 1), (('kate hudson', 'Best Motion Picture'), 1), (('billhader presenting', 'Best Screenplay'), 1), (('kate beckinsale', 'Best Dress in a Presenting Role'), 1), (('harrison ford', 'Best Director at awards shows'), 1), (('richard linklater', 'Best Director to Richard Linklater'), 1), (('robertdowneyjr', 'Best Film - Comedy'), 1), (('channing tatum', 'Best Motion Picture Drama #Foxcatcher'), 1), (('jane', 'best female presenters of the night'), 1), (('harrison ford', 'best Director- Linklater for Boyhood'), 1), (('prince', 'Best Original Song tonight'), 1), (('vince vaughn', 'Best Score'), 1), (('alejandro gonzalez', 'Best Screenplay to Alejandro Gonzalez Inarritu for'), 1), (('kristen', 'best screen play on the'), 1), (('katie holmes', 'Best Supporting Actor in television Series'), 1), (('michael keaton', 'Best Actor- Comedy'), 1), (('prince', 'Best Film Song'), 1), (('naomi watts', 'Best Motion Picture'), 1), (('cate blanchett', 'Best Actor'), 1), (('katie holmes', 'best presenter chemistry'), 1), (('jared presentando', 'Best Supporting Actress en los'), 1), (('prince', 'best score'), 1), (('jeremy renner', 'Best television miniseries or television movie'), 1), (('kristen wiig', 'best Kristen Wiig'), 1), (('gwyneth paltrow', 'Best Actor for Motion Drama Picture'), 1), (('meryl streep', 'Best Picture award to'), 1), (('naomi watts', 'best pic clip'), 1), (('salma hayak', 'Best dressed duo'), 1), (('lenny kravitz', 'best original song &amp'), 1), (('meryl', 'best score or'), 1), (('prince', 'BEST ORIGINAL SONG'), 1), (('gwyneth paltrow', 'Best Actor'), 1), (('billhader', 'Best Screenplay presentation'), 1), (('jennifer aniston', 'BEST SUPPORTING ACTOR IN MOTION PICTURE'), 1), (('katherine heigl', 'Best Actor in television Series drama'), 1), (('john legend', 'Best Original Score award for Selma to Common and John Legend'), 1), (('lupita', 'best accent on a presenter go to Colin and Lupita'), 1), (('ricky gervais', 'Best Performance by an Actress in a Motion Picture in a Comedy'), 1), (('ginarodriguez', 'Best actress in a television comedy'), 1), (('owen wilson', 'Best Comedy or Musical Motion Picture'), 1), (('catherine zeta', 'Best Motion Picture-Comedy or Musical'), 1), (('catherine zeta', 'Best Motion Picture'), 1), (('ricky gervais', 'Best Actress in a Comedy or Musical'), 1), (('purple yoda', 'Best Original Song award'), 1), (('ricky gervais', 'Best things'), 1), (('symbioticagency prince', 'Best Original Song for'), 1), (('kristin wiig', 'best presenters'), 1), (('kevin sorbo', 'Best Song award is like Kevin Sorbo'), 1), (('bill hader', 'best screen play joking about the best lines in movies'), 1), (('vincevaughn', 'Best Original Score'), 1), (('john legend', 'Best Original Song in A Motion Picture to'), 1), (('jennifer lopez', 'Best Actor in a Mini Series won by Billy Bob Thorton'), 1), (('foxcatcher', 'Best Picture nominee predictions'), 1), (('meryl streep', 'Best Picture Drama'), 1), (('salma hayek', 'Best Animated Film at The'), 1), (('winfrey', 'Best joke of the year'), 1), (('jennifer lopez', 'best line of the night'), 1), (('prince', 'best original song in a motion picture'), 1), (('robert downey', 'Best Comedy or Musical Motion Picture'), 1), (('yasss', 'Best Comedy and MODERN FAMILY'), 1), (('birdman', 'best scripts'), 1), (('prince presenting', 'Best Original Song'), 1), (('richard linklater', 'best picture'), 1), (('riplilsebastian', 'Best Mini Horse'), 1), (('kerri washington', 'best Actress in television Comedy'), 1), (('jennifer aniston', 'Best Supporting Actor in a Motion Picture'), 1), (('foxcatcher', 'Best Motion Picture'), 1), (('meryl streep', 'Best Film Drama'), 1), (('richard linklater', 'Best Director award to'), 1), (('john legend', 'Best Original Song for Selma'), 1), (('kate beckinsale', 'Best Actress in a Miniseries or television Movie'), 1), (('ruby dee', 'Best Song to @common &amp'), 1), (('patricia arquette', 'Best Supporting Actress to Patricia Arquette'), 1), (('suckitpretzel', 'best part of the'), 1), (('jack black', 'Best Buy'), 1), (('taylor swifts', 'best part of the'), 1), (('adam levine', 'Best presenters Adam Levine and Paul Rudd'), 1), (('benerdict cumberbatch', 'Best Supporting Actor'), 1), (('catherine heigly', 'Best actor in a television series Drama'), 1), (('korea presente', 'Best Korea presente'), 1), (('kristin wiig', 'Best Presenters'), 1), (('bill hader', 'Best presenters'), 1), (('john legend', 'Best speech possible'), 1), (('david duchovny', 'Best Actor in a television Series'), 1), (('top rt', 'Best Actress in a Motion Picture'), 1), (('richard linklater', 'Best Director for BOYHOOD'), 1), (('jeremy renner', 'Best Actor in a Miniseries or television Movie'), 1), (('tina', 'Best moment of the'), 1), (('prince', 'best part of that'), 1), (('michael keaton', 'Best Actor'), 1), (('gina rodriguez', 'Best Actress in a Comedy Series for Jane The Virgin'), 1), (('melissa mccarthy', 'Best Film nominee #Saintelevisionincent'), 1), (('clive owen', 'best part of The'), 1), (('movieblogger', 'Best Supporting Actor'), 1), (('yorkshire', 'best supporting actress tonight'), 1), (('jack black', 'Best Film nominee #Boyhood'), 1), (('chrispratt', 'best actress television series - drama'), 1), (('winfrey', 'Best Motion Picture- Drama'), 1), (('selma', 'best film'), 1), (('kristen', 'best screenplay'), 1), (('selmamovie', 'Best Original Song'), 1), (('gwyneth paltrow', 'Best Actor Drama'), 1), (('channing tatum', 'Best Motion Picture- Drama'), 1), (('ricky gervais', 'Best Presenter of the evening'), 1), (('jack black', 'Best Motion Picture- Drama'), 1), (('fargo wins', 'Best television Movie or Mini-Series'), 1), (('kristen wiig', 'Best Screenplay tonight'), 1), (('modestmanagement', 'best ensemble cast'), 1), (('ricky gervais', 'best presenter'), 1), (('l', 'best original song atelevision'), 1), (('matthew mccoughnahey', 'best Actress in Drama'), 1), (('jeffrey tambor', 'Best work of'), 1), (('pratt', 'best nomination announcement for this years'), 1), (('matthew @mcconaughey', 'Best Actress in a Motion Picture'), 1), (('julianne moore', 'Best Actress Drama for'), 1), (('ricky gervais', 'best presentation'), 1), (('birdman', 'best screenplay-- 😒 I'), 1), (('birdman', 'Best Musical/ Comedy'), 1), (('sienna miller', 'Best Original Score'), 1), (('oscar', 'best announcer this year'), 1), (('michael keaton', 'Best Actor in Motion Picture Comedy'), 1), (('birdman', 'Best Film Drama the big award'), 1), (('leviathan', 'best foreing film at'), 1), (('lupita', 'best glasses of the night'), 1), (('george clooney', 'Best GG'), 1), (('prince present', 'Best Original Song at the'), 1), (('owenwilson', 'Best Film #owenwilson'), 1), (('kristen wiig', 'Best Screenplay at the 2015'), 1), (('youarekidding', 'best picture'), 1), (('michael keaton', 'Best Actor award to Michael Keaton'), 1), (('jeffrey tambor', 'Best Actor in a comedy to Jeffrey Tambor for Transparent'), 1), (('thegrandbudapesthotel', 'best motion picture comedy'), 1), (('jeffrey tambor', 'best actor to Jeffrey tambor'), 1), (('alrightalrightalright', 'Best Actress in a Motion Picture-Drama'), 1), (('jale gyllenhaal', 'best actor announcement reaction'), 1), (('adam levine', 'best looking presenter duo'), 1), (('jennifer lopez', 'Best Mini-Series or Motion Picture'), 1), (('jennifer aniston', 'Best Supporting #Actor to'), 1), (('john legend', 'Best Original'), 1), (('chris pratt', 'Best Actress television Series Drama'), 1), (('kristen wigg', 'Best Screen Play'), 1), (('wes anderson', 'best picture comedy or musical Grand Budapest Hotel'), 1), (('marlon brando', 'best actor'), 1), (('john legend', 'best song'), 1), (('robert downey', 'Best Motion'), 1), (('robert downey', 'Best Motion Picture'), 1), (('owen wilson', 'Best Motion Picture'), 1), (('prince', 'best original song'), 1), (('downtonabbey', 'best supportive actress in a television series'), 1), (('robert', 'best award presenters but'), 1), (('representinghouston', 'Best Director'), 1), (('kristen wigg', 'Best Screnplay'), 1), (('kate hudson', 'Best Film nominee #IntoTheWoods'), 1), (('enlightened', 'Best Comedy Actress #Enlightened'), 1), (('prince', 'best original score in a motion picture'), 1), (('naomi watts', 'Best Picture nominee #Birdman'), 1), (('prince', 'Best Original Song - Motion Picture'), 1), (('thesource', 'best original song'), 1), (('bill murray', 'BEST acceptance speeches'), 1), (('kristen wigg', 'best presenters'), 1), (('prince', 'Best Original Song award tonight'), 1), (('lily tomlin', 'Best Actor in a television Series'), 1), (('channing tatum', 'Best Motion Picture Drama'), 1), (('oprah', 'best picture noms'), 1), (('prince', 'Best Song'), 1), (('jack black', 'best motion picture-drama'), 1), (('music', 'Best Original Song for'), 1), (('jake peavy', 'best mini series'), 1), (('gina rodriguez', 'Best Actress in a Comedy Series'), 1), (('selma hayek', 'Best Animated Movie'), 1), (('prince', 'Best Original Song to Common and John Legend'), 1), (('adam levine', 'best presenter intro'), 1), (('oprah', 'best picture - drama'), 1), (('meryl streep', 'Best Actress Award for'), 1), (('salma hayek', 'best Animated Film'), 1), (('travolta', 'best presenter goes to @rickygervais'), 1), (('adam levine', 'Best television Series'), 1), (('jaime dornan', 'Best Supporting Actress in Mini-Series'), 1), (('winfrey', 'Best Motion Picture'), 1), (('julianne moore', 'best leading actress'), 1), (('jared leto', 'Best Supporting Actress in a Movie'), 1), (('meryl streep', 'Best Picture'), 1), (('amy adams', 'Best Actress in a Comedy or Musical'), 1), (('kate beckinsdale', 'Best Actress in a miniseries'), 1)]\n"
     ]
    }
   ],
   "source": [
    "sort_d = sorted(winners.items(), key=lambda item: item[1], reverse = True)\n",
    "print(sort_d)"
   ]
  },
  {
   "cell_type": "code",
   "execution_count": 92,
   "metadata": {},
   "outputs": [],
   "source": [
    "import Levenshtein\n",
    "def map_to_a_award(tweet):\n",
    "    awards = {}\n",
    "    tweet = tweet.lower()\n",
    "    for award in award_names:\n",
    "        split_award = award.split()\n",
    "        award_dist = 0\n",
    "        split_tweet = tweet.split()\n",
    "        for word in tweet.split():\n",
    "            min_val = float('inf')\n",
    "            for word2 in award.split():\n",
    "                min_val = min(min_val,Levenshtein.distance(word, word2))\n",
    "            award_dist += min_val\n",
    "        awards[award] = award_dist\n",
    "        \n",
    "    val = min(awards.values())\n",
    "    res = [key for key in awards if awards[key] == val]\n",
    "    return res"
   ]
  },
  {
   "cell_type": "code",
   "execution_count": 93,
   "metadata": {},
   "outputs": [
    {
     "name": "stdout",
     "output_type": "stream",
     "text": [
      "{'cecil b. demille award': '', 'best motion picture - drama': 'meryl streep', 'best performance by an actress in a motion picture - drama': 'meryl streep', 'best performance by an actor in a motion picture - drama': 'benedict', 'best motion picture - comedy or musical': 'robert downey', 'best performance by an actress in a motion picture - comedy or musical': 'robert downey', 'best performance by an actor in a motion picture - comedy or musical': 'robert downey', 'best animated feature film': 'selma hayek', 'best foreign language film': 'sund', 'best performance by an actress in a supporting role in a motion picture': 'robert downey', 'best performance by an actor in a supporting role in a motion picture': 'benedict', 'best director - motion picture': 'robert downey', 'best screenplay - motion picture': 'kristen wiig', 'best original score - motion picture': 'robert downey', 'best original song - motion picture': 'prince presents', 'best television series - drama': 'adam levine', 'best performance by an actress in a television series - drama': 'adam levine', 'best performance by an actor in a television series - drama': 'benedict', 'best television series - comedy or musical': 'kristen wiig', 'best performance by an actress in a television series - comedy or musical': 'gina rodriguez', 'best performance by an actor in a television series - comedy or musical': 'benedict', 'best mini-series or motion picture made for television': 'robert downey', 'best performance by an actress in a mini-series or motion picture made for television': 'meryl streep', 'best performance by an actor in a mini-series or motion picture made for television': 'benedict', 'best performance by an actress in a supporting role in a series, mini-series or motion picture made for television': 'robert downey', 'best performance by an actor in a supporting role in a series, mini-series or motion picture made for television': 'benedict'}\n"
     ]
    }
   ],
   "source": [
    "final_ans = {}\n",
    "for award in award_names:\n",
    "    sub_dict = {}\n",
    "    sub_dict = defaultdict(lambda: 0, sub_dict)\n",
    "    final_ans[award] = sub_dict\n",
    "for pair,count in winners.items():\n",
    "    award = pair[1]\n",
    "    person = pair[0]\n",
    "    possible_awards = map_to_a_award(award)\n",
    "    for ard in possible_awards:\n",
    "        final_ans[ard][person] = final_ans[ard][person] + count\n",
    "for ans in final_ans:\n",
    "    if len(final_ans[ans].items()) > 0:\n",
    "        final_ans[ans] = max(final_ans[ans], key=final_ans[ans].get)\n",
    "    else:\n",
    "        final_ans[ans] = ''\n",
    "print(final_ans)"
   ]
  },
  {
   "cell_type": "code",
   "execution_count": null,
   "metadata": {},
   "outputs": [],
   "source": []
  },
  {
   "cell_type": "code",
   "execution_count": null,
   "metadata": {},
   "outputs": [],
   "source": []
  }
 ],
 "metadata": {
  "kernelspec": {
   "display_name": "Python 3",
   "language": "python",
   "name": "python3"
  },
  "language_info": {
   "codemirror_mode": {
    "name": "ipython",
    "version": 3
   },
   "file_extension": ".py",
   "mimetype": "text/x-python",
   "name": "python",
   "nbconvert_exporter": "python",
   "pygments_lexer": "ipython3",
   "version": "3.8.5"
  }
 },
 "nbformat": 4,
 "nbformat_minor": 4
}
