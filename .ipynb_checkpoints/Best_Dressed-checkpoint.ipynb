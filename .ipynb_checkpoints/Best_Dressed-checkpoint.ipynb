{
 "cells": [
  {
   "cell_type": "code",
   "execution_count": 1,
   "metadata": {},
   "outputs": [],
   "source": [
    "import numpy as np\n",
    "import pandas as pd\n",
    "import spacy\n",
    "from spacy import displacy\n",
    "from collections import defaultdict"
   ]
  },
  {
   "cell_type": "code",
   "execution_count": 2,
   "metadata": {},
   "outputs": [],
   "source": [
    "nlp = spacy.load(\"en_core_web_md\")"
   ]
  },
  {
   "cell_type": "code",
   "execution_count": 27,
   "metadata": {},
   "outputs": [],
   "source": [
    "df = pd.read_json('../gg2015.json')\n",
    "df = df['text']\n",
    "df = df.str.replace('#GoldenGlobes|golden|globes|globe', \"\", case = False)\n",
    "dressed_df = df[df.str.contains('#redcarpet|red carpet|best dressed', case = False)]"
   ]
  },
  {
   "cell_type": "code",
   "execution_count": 19,
   "metadata": {},
   "outputs": [
    {
     "data": {
      "text/plain": [
       "135        RT @LDReyGlobal: Lana Del Rey is nominated to ...\n",
       "232        RT @LanaDelReyExtra: Lana Del Rey will be atte...\n",
       "362        RT @ldreytumblr: Lana Del Rey will be attendin...\n",
       "373        RT @Dean97James: That awkward moment when Lana...\n",
       "1354       RT @LDReyGlobal: Lana Del Rey will be attendin...\n",
       "                                 ...                        \n",
       "1752369    RT @LanaDReyOnline: Lana Del Rey on the Red Ca...\n",
       "1752535    RT @ldreytumblr: Lana Del Rey on the Red Carpe...\n",
       "1752808    Set de fotos: lanamusic: Lana Del Rey at 72nd ...\n",
       "1753018             RT @lalicakes11: Lana Del Rey at the   😍\n",
       "1753784    Lana del rey at the   tonight!! She is perfect...\n",
       "Name: text, Length: 23434, dtype: object"
      ]
     },
     "execution_count": 19,
     "metadata": {},
     "output_type": "execute_result"
    }
   ],
   "source": [
    "# lana_tweets = df[df.str.contains('lana del rey', case = False)]\n",
    "# lana_tweets = lana_tweets[~lana_tweets.str.contains('worst|bad|ugly|hate', case = False)]\n",
    "\n",
    "# lana_tweets"
   ]
  },
  {
   "cell_type": "code",
   "execution_count": 28,
   "metadata": {},
   "outputs": [
    {
     "data": {
      "text/plain": [
       "2          @danaKStew @50ShadesWorldcm @ScarletteDrake Al...\n",
       "4          “@: Creating multiple mini Moët Moments on the...\n",
       "9          @willoconnell Red carpet on E. Then watch awar...\n",
       "10         RT @HalstedVodka: Buckle your seat belts. It's...\n",
       "16         RT @Boston: Join @maura Johnston tonight (Jan....\n",
       "                                 ...                        \n",
       "1754120    RT @Luxo_Blog: Metallics were one of the bigge...\n",
       "1754137    RT @bullockslays: Our fandom actually needs to...\n",
       "1754141    RT @stylebyami: \"The rebel on the red carpet\" ...\n",
       "1754142      Awards red carpet: Who killed it (Julianne M...\n",
       "1754150    Red Carpet Dresses  \\n\\nhttp://t.co/0EDfbl1Qrf...\n",
       "Name: text, Length: 195452, dtype: object"
      ]
     },
     "execution_count": 28,
     "metadata": {},
     "output_type": "execute_result"
    }
   ],
   "source": [
    "dressed_df"
   ]
  },
  {
   "cell_type": "code",
   "execution_count": 24,
   "metadata": {},
   "outputs": [],
   "source": [
    "dressed = {}\n",
    "dressed = defaultdict(lambda: 1, dressed)\n",
    "for i, value in dressed_df.iteritems():\n",
    "    for entity in nlp(value).ents:\n",
    "        if entity.label_ == 'PERSON':\n",
    "            dressed[entity.text] = dressed[entity.text] +1\n",
    "            \n",
    "dressed = sorted(dressed.items(), key=lambda item: item[1], reverse = True)"
   ]
  },
  {
   "cell_type": "code",
   "execution_count": 25,
   "metadata": {},
   "outputs": [
    {
     "name": "stdout",
     "output_type": "stream",
     "text": [
      "Best Dressed: Tina Fey\n"
     ]
    }
   ],
   "source": [
    "best_dressed_person = dressed[0][0]\n",
    "print(\"Best Dressed: \" + best_dressed_person)"
   ]
  },
  {
   "cell_type": "code",
   "execution_count": 7,
   "metadata": {},
   "outputs": [],
   "source": [
    "#took ~25 minutes"
   ]
  },
  {
   "cell_type": "code",
   "execution_count": null,
   "metadata": {},
   "outputs": [],
   "source": []
  }
 ],
 "metadata": {
  "kernelspec": {
   "display_name": "Python 3",
   "language": "python",
   "name": "python3"
  },
  "language_info": {
   "codemirror_mode": {
    "name": "ipython",
    "version": 3
   },
   "file_extension": ".py",
   "mimetype": "text/x-python",
   "name": "python",
   "nbconvert_exporter": "python",
   "pygments_lexer": "ipython3",
   "version": "3.8.3"
  }
 },
 "nbformat": 4,
 "nbformat_minor": 4
}
