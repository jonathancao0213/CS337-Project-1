{
 "cells": [
  {
   "cell_type": "code",
   "execution_count": 1,
   "metadata": {},
   "outputs": [],
   "source": [
    "award_names = ['cecil b. demille award',\n",
    " 'best motion picture - drama',\n",
    " 'best performance by an actress in a motion picture - drama',\n",
    " 'best performance by an actor in a motion picture - drama',\n",
    " 'best motion picture - comedy or musical',\n",
    " 'best performance by an actress in a motion picture - comedy or musical',\n",
    " 'best performance by an actor in a motion picture - comedy or musical',\n",
    " 'best animated feature film',\n",
    " 'best foreign language film',\n",
    " 'best performance by an actress in a supporting role in a motion picture',\n",
    " 'best performance by an actor in a supporting role in a motion picture',\n",
    " 'best director - motion picture',\n",
    " 'best screenplay - motion picture',\n",
    " 'best original score - motion picture',\n",
    " 'best original song - motion picture',\n",
    " 'best television series - drama', 'best performance by an actress in a television series - drama',\n",
    " 'best performance by an actor in a television series - drama',\n",
    " 'best television series - comedy or musical',\n",
    " 'best performance by an actress in a television series - comedy or musical',\n",
    " 'best performance by an actor in a television series - comedy or musical',\n",
    " 'best mini-series or motion picture made for television',\n",
    " 'best performance by an actress in a mini-series or motion picture made for television',\n",
    " 'best performance by an actor in a mini-series or motion picture made for television',\n",
    " 'best performance by an actress in a supporting role in a series, mini-series or motion picture made for television',\n",
    " 'best performance by an actor in a supporting role in a series, mini-series or motion picture made for television']\n"
   ]
  },
  {
   "cell_type": "code",
   "execution_count": 2,
   "metadata": {},
   "outputs": [],
   "source": [
    "import numpy as np\n",
    "import pandas as pd\n",
    "import spacy\n",
    "from spacy import displacy\n",
    "from collections import defaultdict"
   ]
  },
  {
   "cell_type": "code",
   "execution_count": 3,
   "metadata": {},
   "outputs": [
    {
     "name": "stdout",
     "output_type": "stream",
     "text": [
      "48        Definetely Kate's top designers are present in...\n",
      "465       @JakeCortes @Jessica_Salado comentando los  Ne...\n",
      "1176      RT @VictorBejerano: @JakeCortes @Jessica_Salad...\n",
      "1561      RT @television3Xpose: What's your verdict on @...\n",
      "1976      THISSSSSSSSSS RT @as_seenontelevision It's app...\n",
      "                                ...                        \n",
      "174317    Congratulations @RealHughJackman  well deserve...\n",
      "174349    RT @popsugar: Aw Ben introducing the cast back...\n",
      "174440    RT @VanityFair: Amy Poehler and Tina Fey bid a...\n",
      "174442    it would have been funnier if they had present...\n",
      "174485    The  ® have come and gone and we’re proud to a...\n",
      "Name: text, Length: 2642, dtype: object\n"
     ]
    }
   ],
   "source": [
    "df = pd.read_json('../gg2013.json')\n",
    "df = df['text']\n",
    "# df = df[df.str.contains('won|win|goes to|for best', case = False)]\n",
    "\n",
    "df = df[df.str.contains(' present|announc|introduc', case = False)]\n",
    "# present_df = df[df.str.contains('won|win|goes to|for best', case = False)]\n",
    "df = df[~df.str.contains('think|should|maybe', case = False)]\n",
    "# df = df[df.str.contains('best', case = False)]\n",
    "df = df.str.replace('http\\S+|www.\\S+', '', case=False,regex=True)\n",
    "df = df.str.replace('TV|tv', \"television\", case = False, regex = True)\n",
    "# wins_df = df.str.replace('#GoldenGlobes|#GoldenGlobe|golden|globes|globes', \"\", case = False, regex = True)\n",
    "\n",
    "present_df = df.str.replace('#GoldenGlobes|#GoldenGlobe|golden|globes|globes', \"\", case = False, regex = True)\n",
    "\n",
    "if present_df.size > 8000:\n",
    "    present_df = present_df.sample(8000)\n",
    "\n",
    "print(present_df)"
   ]
  },
  {
   "cell_type": "code",
   "execution_count": 4,
   "metadata": {},
   "outputs": [],
   "source": [
    "from spacy.matcher import Matcher\n",
    "from spacy.tokens import Span\n",
    "nlp = spacy.load('en_core_web_md')\n",
    "from string import punctuation"
   ]
  },
  {
   "cell_type": "code",
   "execution_count": 5,
   "metadata": {},
   "outputs": [],
   "source": [
    "# pattern1 = [{\"ENT_TYPE\": \"PERSON\", 'OP':'+'}, {\"LEMMA\": \"win\"}, {\"ORTH\":'Best'}, {\"DEP\": 'compound', 'OP':'+'}, {\"POS\":'NOUN', 'OP':'*'}, {'IS_PUNCT': True, 'OP':'?'}, {\"POS\": 'PROPN', 'OP':'*'}]\n",
    "# pattern2 = [{\"ENT_TYPE\": \"WORK_OF_ART\", 'OP':'+'}, {\"LEMMA\": \"win\"}, {\"ORTH\":'Best'}, {\"DEP\": 'compound', 'OP':'+'}, {\"POS\":'NOUN', 'OP':'*'}, {'IS_PUNCT': True, 'OP':'?'}, {\"POS\": 'PROPN', 'OP':'*'}]\n",
    "# pattern3 = [{\"ENT_TYPE\": \"PERSON\", 'OP':'+'}, {\"LEMMA\": \"win\"}, {\"ORTH\":'Best'}, {\"ENT_TYPE\": \"WORK_OF_ART\", 'OP':'+'}]\n",
    "# pattern4 = [{\"ENT_TYPE\": \"WORK_OF_ART\", 'OP':'+'}, {\"LEMMA\": \"win\"}, {\"ORTH\":'Best'}, {\"ENT_TYPE\": \"WORK_OF_ART\", 'OP':'+'}]\n",
    "# pattern5 = [{\"ORTH\":'Best'}, {\"ENT_TYPE\": \"WORK_OF_ART\", 'OP':'+'},{\"TEXT\": \"goes\"}, {\"TEXT\": \"to\"}, {\"ENT_TYPE\": \"PERSON\", 'OP':'+'}] \n",
    "# pattern6 = [{\"ORTH\":'Best'}, {\"DEP\": 'compound', 'OP':'+'}, {\"POS\":'NOUN', 'OP':'*'}, {'IS_PUNCT': True, 'OP':'?'}, {\"POS\": 'PROPN', 'OP':'*'}, {\"TEXT\": \"goes\"}, {\"TEXT\": \"to\"}, {\"ENT_TYPE\": \"PERSON\", 'OP':'+'}] \n",
    "\n",
    "person_pattern = [{\"ENT_TYPE\": \"PERSON\", 'OP':'+'}]\n",
    "film_pattern = [{\"ENT_TYPE\": 'ORG', 'OP':'+'}]\n",
    "\n",
    "award_pattern = [{\"LOWER\":'best'}, {\"DEP\":{\"IN\":['compound','nmod','dobj','prep','det','pobj','amod','nsubj','ROOT']}, 'OP':'+'},{'ORTH': '-', 'OP':'?'}, {\"POS\": {\"IN\": ['PROPN','NOUN','CCONJ','ADJ']}, 'OP':'*'}]"
   ]
  },
  {
   "cell_type": "code",
   "execution_count": 6,
   "metadata": {},
   "outputs": [
    {
     "name": "stdout",
     "output_type": "stream",
     "text": [
      "Skyfall ORG\n"
     ]
    }
   ],
   "source": [
    "doc = nlp('Skyfall wins best motion picture drama - Skyfall')\n",
    "for entity in doc.ents:\n",
    "    print(entity.text, entity.label_)"
   ]
  },
  {
   "cell_type": "code",
   "execution_count": 7,
   "metadata": {},
   "outputs": [],
   "source": [
    "matcher = Matcher(nlp.vocab)\n",
    "matcher.add('Person',[person_pattern])\n",
    "matcher.add('Award',[award_pattern])\n",
    "# matcher.add('Film',[film_pattern])\n",
    "matches = matcher(doc)"
   ]
  },
  {
   "cell_type": "code",
   "execution_count": 8,
   "metadata": {},
   "outputs": [],
   "source": [
    "def find_mapping(matches):\n",
    "    winner_len = 0\n",
    "    award_len = 0\n",
    "    winner = ''\n",
    "    award = ''\n",
    "    for match_id, start, end in matches:\n",
    "        string_id = nlp.vocab.strings[match_id]\n",
    "        span = doc[start:end]\n",
    "        span_len = len(span.text)\n",
    "        if string_id == 'Person' and len(span)<= 2:\n",
    "            if winner_len < span_len:\n",
    "                winner = span.text\n",
    "                winner_len = span_len\n",
    "#         if string_id == 'Film':\n",
    "#             if winner_len > span_len:\n",
    "#                 winner = span.text\n",
    "#                 winner_len = span_len       \n",
    "        elif string_id == 'Award':\n",
    "            if award_len < span_len:\n",
    "                award = span.text\n",
    "                award_len = span_len\n",
    "    winner = str(winner).strip(punctuation).strip()\n",
    "    award = str(award).strip(punctuation).strip()\n",
    "    key = (winner.lower(),award)\n",
    "    return key"
   ]
  },
  {
   "cell_type": "code",
   "execution_count": 9,
   "metadata": {},
   "outputs": [],
   "source": [
    "winners = {}\n",
    "winners = defaultdict(lambda: 0, winners)\n",
    "for i, text in present_df.iteritems():\n",
    "    doc = nlp(text)\n",
    "    matches = matcher(doc)\n",
    "    if len(matches) != 0:\n",
    "        key = find_mapping(matches)\n",
    "        if (key[0] != '' and key[1] != ''):\n",
    "            winners[key] = winners[key] +1"
   ]
  },
  {
   "cell_type": "code",
   "execution_count": 10,
   "metadata": {},
   "outputs": [
    {
     "name": "stdout",
     "output_type": "stream",
     "text": [
      "{('dustin hoffman', 'best personality on the red carpet tonight'): 1, ('jennifer lawrence', 'Best Supporting Actor in a Drama'): 1, ('bradley cooper', 'Best Supporting Actor in a Motion Picture'): 2, ('christoph waltz', 'Best Supporting Actor'): 1, ('kerry washington', 'best supporting actress in a series'): 1, ('maggie smith', 'Best supporting actress television series'): 21, ('rosario dawson', 'Best Exotic Marigold Hotel'): 1, ('películas nominadas', 'Best Exotic Marigold Hotel'): 1, ('paul rudd', 'Best drama series'): 1, ('robert pattinson', 'Best adapted screenplay'): 5, ('paul rudd', 'best drama than what they'): 1, ('jennifer lopez', 'Best Score award to Mychael Danna'): 1, ('jason statham', 'Best Original Score'): 1, ('j. lo', 'Best Original Song'): 1, ('mychael danna', 'Best Original Score'): 1, ('ricky gervais', 'Best Things'): 1, ('bill clinton', 'Best Picture nominee Lincoln'): 27, ('clinton', 'Best idea'): 1, ('bill clinton', 'best picture nominee at'): 5, ('bill clinton', 'best picture tonight'): 1, ('clinton', 'Best Picture nominee #Lincoln'): 1, ('bill clinton', 'Best Picture'): 1, ('hilary clinton', 'Best Picture nominee Lincoln'): 1, ('clinton', 'best motion picture nominee'): 1, ('clinton', 'best picture at the'): 1, ('clinton', 'best pic'): 1, ('willferrell', 'BEST award presentation of life'): 2, ('wiig', 'Best presenters'): 1, ('snl', 'Best presentation of the night hands'): 1, ('hilarious', 'Best presenters'): 1, ('kristin wiig', 'best dragged'): 1, ('clinton', 'Best Motion Picture - Drama'): 1, ('will ferrell', 'Best Actress - Comedy or Musical'): 1, ('will farrell', 'best presenters'): 3, ('kristen wiig', 'Best presentation at any award show'): 1, ('kristen wiig', 'Best presentation'): 1, ('will ferrell', 'Best Actress'): 1, ('willferrell', 'best presenter'): 1, ('will ferrell', 'Best Actress Comedy or Musical'): 1, ('jennifer lawrence', 'best presenters'): 1, ('kristen wiig', 'best presentation'): 1, ('kristen wiig', 'Best is the guy'): 1, ('will ferrell', 'Best presenters'): 1, ('kristen wiig', 'Best presenters of the'): 1, ('will ferrell', 'best presenters'): 1, ('bill clinton', 'best picture'): 2, ('jennifer lawrence', 'best actress comedy movie'): 1, ('tommy lee', 'Best presenters evah'): 1, ('bill clinton', 'best film'): 2, ('anne hathaway', 'Best Supporting Actress'): 1, ('kristen wiig', 'best presenters'): 1, ('robert pattinson', 'Best Screenplay - Motion Picture'): 1, ('robert pattinson', 'Best Screenplay Motion Picture with Amanda Seyfried'): 3, ('quentin tarantino', 'Best Screenplay for #DjangoUnchained'): 6, ('jeremy irons', 'best film nominee - Salmon Fishing'): 1, ('bill clinton', 'Best Motion Picture-Drama nomination'): 10, ('best actress', 'Best Actress announcement was'): 1, ('arnold', 'Best Foreign Film'): 1, ('sylvester stallone', 'Best Foreign Language Film'): 1, ('zero necks', 'best foreign film'): 1, ('arnold', 'best foreign film'): 1, ('arnold schwarzenegger', 'best foreign film presenters'): 1, ('arnie', 'Best Foreign Film'): 1, ('quentin tarantino', 'Best Screenplay'): 2, ('stallone', 'Best Foreign Language Film'): 1, ('schwarzenegger', 'best foreign film'): 2, ('schwarzenegger', 'Best Foreign Film to'): 1, ('frozen stallone', 'best foreign language film'): 1, ('sylvester', 'Best Foreign Language award'): 1, ('nathan fillion', 'Best Actress in a television Series - Drama'): 1, ('schwarzenegger', 'Best Foreign Film'): 3, ('schwarzenegger', 'Best Foreign Film at the'): 1, ('bill clinton', 'Best Motion Picture at'): 2, ('arnold schwarzenegger', 'Best Foreign Language Film and'): 1, ('claire danes', 'Best Actress in a television Drama to Claire Danes for #Homeland'): 4, ('linda ronstadt', 'best celebrity couple of the year'): 1, ('forgothewasbritish', 'best screenplay'): 1, ('sasha', 'Best Animated Feature'): 1, ('tarantino', 'best animated feature'): 1, ('sasha', 'best presenter'): 1, ('liev schreiber', 'Best Picture presentation'): 1, ('brave', 'Best Animated Film to #Brave'): 2, ('sacha', 'best animated feature film'): 1, ('robert pattinson', 'best screenplay at the'): 1, ('hilarious', 'Best Presenter of the night'): 1, ('halle berry', 'Best Director to Ben Affleck for ARGO'): 1, ('halle berry', 'Best Director to @BenAffleck'): 3, ('jimmy fallon', 'best television series comedy or musical'): 1, ('ughhhh jay', 'Best Comedy'): 1, ('clinton', 'best introduction of an award at the'): 1, ('jennifer garner', 'best presenter-wife'): 3, ('dustin hoffman', 'Best Motion Picture Comedy or Musical'): 1, ('lewis lincoln', 'Best Actor in a Motion Picture Drama----Daniel Day Lewis Lincoln'): 1, ('jessica chastain', 'Best Actress in a Motion Picture'): 1, ('julia roberts', 'Best Motion Picture'): 1, ('julia roberts', 'best picture'): 1, ('lancome ambassadress', 'best motion picture drama at the'): 2, ('juliaroberts', 'Best Motion Picture'): 2, ('julia roberts', 'Best Picture'): 1, ('drama', 'Best Motion Picture'): 1, ('julia roberts', 'best motion picture drama at the'): 7, ('bes', 'Best Director'): 1, ('kristin wiig', 'best presenters'): 1}\n"
     ]
    }
   ],
   "source": [
    "# winners = sorted(winners.items(), key=lambda item: item[1], reverse = True)\n",
    "winners = dict(winners)\n",
    "print(winners)"
   ]
  },
  {
   "cell_type": "code",
   "execution_count": 11,
   "metadata": {},
   "outputs": [
    {
     "name": "stdout",
     "output_type": "stream",
     "text": [
      "[(('bill clinton', 'Best Picture nominee Lincoln'), 27), (('maggie smith', 'Best supporting actress television series'), 21), (('bill clinton', 'Best Motion Picture-Drama nomination'), 10), (('julia roberts', 'best motion picture drama at the'), 7), (('quentin tarantino', 'Best Screenplay for #DjangoUnchained'), 6), (('robert pattinson', 'Best adapted screenplay'), 5), (('bill clinton', 'best picture nominee at'), 5), (('claire danes', 'Best Actress in a television Drama to Claire Danes for #Homeland'), 4), (('will farrell', 'best presenters'), 3), (('robert pattinson', 'Best Screenplay Motion Picture with Amanda Seyfried'), 3), (('schwarzenegger', 'Best Foreign Film'), 3), (('halle berry', 'Best Director to @BenAffleck'), 3), (('jennifer garner', 'best presenter-wife'), 3), (('bradley cooper', 'Best Supporting Actor in a Motion Picture'), 2), (('willferrell', 'BEST award presentation of life'), 2), (('bill clinton', 'best picture'), 2), (('bill clinton', 'best film'), 2), (('quentin tarantino', 'Best Screenplay'), 2), (('schwarzenegger', 'best foreign film'), 2), (('bill clinton', 'Best Motion Picture at'), 2), (('brave', 'Best Animated Film to #Brave'), 2), (('lancome ambassadress', 'best motion picture drama at the'), 2), (('juliaroberts', 'Best Motion Picture'), 2), (('dustin hoffman', 'best personality on the red carpet tonight'), 1), (('jennifer lawrence', 'Best Supporting Actor in a Drama'), 1), (('christoph waltz', 'Best Supporting Actor'), 1), (('kerry washington', 'best supporting actress in a series'), 1), (('rosario dawson', 'Best Exotic Marigold Hotel'), 1), (('películas nominadas', 'Best Exotic Marigold Hotel'), 1), (('paul rudd', 'Best drama series'), 1), (('paul rudd', 'best drama than what they'), 1), (('jennifer lopez', 'Best Score award to Mychael Danna'), 1), (('jason statham', 'Best Original Score'), 1), (('j. lo', 'Best Original Song'), 1), (('mychael danna', 'Best Original Score'), 1), (('ricky gervais', 'Best Things'), 1), (('clinton', 'Best idea'), 1), (('bill clinton', 'best picture tonight'), 1), (('clinton', 'Best Picture nominee #Lincoln'), 1), (('bill clinton', 'Best Picture'), 1), (('hilary clinton', 'Best Picture nominee Lincoln'), 1), (('clinton', 'best motion picture nominee'), 1), (('clinton', 'best picture at the'), 1), (('clinton', 'best pic'), 1), (('wiig', 'Best presenters'), 1), (('snl', 'Best presentation of the night hands'), 1), (('hilarious', 'Best presenters'), 1), (('kristin wiig', 'best dragged'), 1), (('clinton', 'Best Motion Picture - Drama'), 1), (('will ferrell', 'Best Actress - Comedy or Musical'), 1), (('kristen wiig', 'Best presentation at any award show'), 1), (('kristen wiig', 'Best presentation'), 1), (('will ferrell', 'Best Actress'), 1), (('willferrell', 'best presenter'), 1), (('will ferrell', 'Best Actress Comedy or Musical'), 1), (('jennifer lawrence', 'best presenters'), 1), (('kristen wiig', 'best presentation'), 1), (('kristen wiig', 'Best is the guy'), 1), (('will ferrell', 'Best presenters'), 1), (('kristen wiig', 'Best presenters of the'), 1), (('will ferrell', 'best presenters'), 1), (('jennifer lawrence', 'best actress comedy movie'), 1), (('tommy lee', 'Best presenters evah'), 1), (('anne hathaway', 'Best Supporting Actress'), 1), (('kristen wiig', 'best presenters'), 1), (('robert pattinson', 'Best Screenplay - Motion Picture'), 1), (('jeremy irons', 'best film nominee - Salmon Fishing'), 1), (('best actress', 'Best Actress announcement was'), 1), (('arnold', 'Best Foreign Film'), 1), (('sylvester stallone', 'Best Foreign Language Film'), 1), (('zero necks', 'best foreign film'), 1), (('arnold', 'best foreign film'), 1), (('arnold schwarzenegger', 'best foreign film presenters'), 1), (('arnie', 'Best Foreign Film'), 1), (('stallone', 'Best Foreign Language Film'), 1), (('schwarzenegger', 'Best Foreign Film to'), 1), (('frozen stallone', 'best foreign language film'), 1), (('sylvester', 'Best Foreign Language award'), 1), (('nathan fillion', 'Best Actress in a television Series - Drama'), 1), (('schwarzenegger', 'Best Foreign Film at the'), 1), (('arnold schwarzenegger', 'Best Foreign Language Film and'), 1), (('linda ronstadt', 'best celebrity couple of the year'), 1), (('forgothewasbritish', 'best screenplay'), 1), (('sasha', 'Best Animated Feature'), 1), (('tarantino', 'best animated feature'), 1), (('sasha', 'best presenter'), 1), (('liev schreiber', 'Best Picture presentation'), 1), (('sacha', 'best animated feature film'), 1), (('robert pattinson', 'best screenplay at the'), 1), (('hilarious', 'Best Presenter of the night'), 1), (('halle berry', 'Best Director to Ben Affleck for ARGO'), 1), (('jimmy fallon', 'best television series comedy or musical'), 1), (('ughhhh jay', 'Best Comedy'), 1), (('clinton', 'best introduction of an award at the'), 1), (('dustin hoffman', 'Best Motion Picture Comedy or Musical'), 1), (('lewis lincoln', 'Best Actor in a Motion Picture Drama----Daniel Day Lewis Lincoln'), 1), (('jessica chastain', 'Best Actress in a Motion Picture'), 1), (('julia roberts', 'Best Motion Picture'), 1), (('julia roberts', 'best picture'), 1), (('julia roberts', 'Best Picture'), 1), (('drama', 'Best Motion Picture'), 1), (('bes', 'Best Director'), 1), (('kristin wiig', 'best presenters'), 1)]\n"
     ]
    }
   ],
   "source": [
    "sort_d = sorted(winners.items(), key=lambda item: item[1], reverse = True)\n",
    "print(sort_d)"
   ]
  },
  {
   "cell_type": "code",
   "execution_count": 12,
   "metadata": {},
   "outputs": [],
   "source": [
    "import Levenshtein\n",
    "def map_to_a_award(tweet):\n",
    "    awards = {}\n",
    "    tweet = tweet.lower()\n",
    "    for award in award_names:\n",
    "        split_award = award.split()\n",
    "        award_dist = 0\n",
    "        split_tweet = tweet.split()\n",
    "        for word in tweet.split():\n",
    "            min_val = float('inf')\n",
    "            for word2 in award.split():\n",
    "                min_val = min(min_val,Levenshtein.distance(word, word2))\n",
    "            award_dist += min_val\n",
    "        awards[award] = award_dist\n",
    "        \n",
    "    val = min(awards.values())\n",
    "    res = [key for key in awards if awards[key] == val]\n",
    "    return res"
   ]
  },
  {
   "cell_type": "code",
   "execution_count": 13,
   "metadata": {},
   "outputs": [],
   "source": [
    "def commonwords(a,b):\n",
    "    return len(set(a.split()).intersection(set(b.split())))"
   ]
  },
  {
   "cell_type": "code",
   "execution_count": 18,
   "metadata": {},
   "outputs": [
    {
     "name": "stdout",
     "output_type": "stream",
     "text": [
      "{'cecil b. demille award': [], 'best motion picture - drama': ['bill clinton', ''], 'best performance by an actress in a motion picture - drama': ['bill clinton', ''], 'best performance by an actor in a motion picture - drama': ['bill clinton', ''], 'best motion picture - comedy or musical': ['bill clinton', ''], 'best performance by an actress in a motion picture - comedy or musical': ['bill clinton', ''], 'best performance by an actor in a motion picture - comedy or musical': ['bill clinton', ''], 'best animated feature film': ['jennifer garner', ''], 'best foreign language film': ['schwarzenegger', ''], 'best performance by an actress in a supporting role in a motion picture': ['bill clinton', ''], 'best performance by an actor in a supporting role in a motion picture': ['bill clinton', ''], 'best director - motion picture': ['bill clinton', ''], 'best screenplay - motion picture': ['bill clinton', ''], 'best original score - motion picture': ['bill clinton', ''], 'best original song - motion picture': ['bill clinton', ''], 'best television series - drama': ['will farrell', ''], 'best performance by an actress in a television series - drama': ['kristen wiig', ''], 'best performance by an actor in a television series - drama': ['kristen wiig', ''], 'best television series - comedy or musical': ['kristen wiig', ''], 'best performance by an actress in a television series - comedy or musical': ['kristen wiig', ''], 'best performance by an actor in a television series - comedy or musical': ['kristen wiig', ''], 'best mini-series or motion picture made for television': ['bill clinton', ''], 'best performance by an actress in a mini-series or motion picture made for television': ['bill clinton', ''], 'best performance by an actor in a mini-series or motion picture made for television': ['bill clinton', ''], 'best performance by an actress in a supporting role in a series, mini-series or motion picture made for television': ['bill clinton', ''], 'best performance by an actor in a supporting role in a series, mini-series or motion picture made for television': ['bill clinton', '']}\n"
     ]
    }
   ],
   "source": [
    "final_ans = {}\n",
    "for award in award_names:\n",
    "    sub_dict = {}\n",
    "    sub_dict = defaultdict(lambda: 0, sub_dict)\n",
    "    final_ans[award] = sub_dict\n",
    "for pair,count in winners.items():\n",
    "    award = pair[1]\n",
    "    person = pair[0]\n",
    "    possible_awards = map_to_a_award(award)\n",
    "    for ard in possible_awards:\n",
    "        final_ans[ard][person] = final_ans[ard][person] + count\n",
    "for ans in final_ans:\n",
    "    if len(final_ans[ans].items()) > 0:\n",
    "        m = max(final_ans[ans], key=final_ans[ans].get)\n",
    "        final_ans[ans].pop(m)\n",
    "        m2 = max(final_ans[ans], key=final_ans[ans].get)\n",
    "        \n",
    "        while commonwords(m, m2) != 0 or len(final_ans[ans]) != 0:\n",
    "            final_ans[ans].pop(m2)\n",
    "            try:\n",
    "                m2 = max(final_ans[ans], key=final_ans[ans].get)\n",
    "            except:\n",
    "                m2 = ''\n",
    "        \n",
    "        final_ans[ans] = [m,m2]\n",
    "    else:\n",
    "        final_ans[ans] = []\n",
    "print(final_ans)"
   ]
  },
  {
   "cell_type": "code",
   "execution_count": null,
   "metadata": {},
   "outputs": [],
   "source": [
    "winner[award_name] = lst[award_name][0]\n",
    "lst = [('name', 1000), ('name2', 500)]\n",
    "\n",
    "presenter[award_name] = lst[award_name][:2]"
   ]
  },
  {
   "cell_type": "code",
   "execution_count": null,
   "metadata": {},
   "outputs": [],
   "source": []
  }
 ],
 "metadata": {
  "kernelspec": {
   "display_name": "Python 3",
   "language": "python",
   "name": "python3"
  },
  "language_info": {
   "codemirror_mode": {
    "name": "ipython",
    "version": 3
   },
   "file_extension": ".py",
   "mimetype": "text/x-python",
   "name": "python",
   "nbconvert_exporter": "python",
   "pygments_lexer": "ipython3",
   "version": "3.9.1"
  }
 },
 "nbformat": 4,
 "nbformat_minor": 4
}
