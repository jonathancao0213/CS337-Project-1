{
 "cells": [
  {
   "cell_type": "code",
   "execution_count": 43,
   "id": "weekly-northeast",
   "metadata": {},
   "outputs": [],
   "source": [
    "import numpy as np\n",
    "import pandas as pd\n",
    "import spacy\n",
    "from spacy.matcher import Matcher\n",
    "from spacy.tokens import Span\n",
    "from spacy import displacy\n",
    "from collections import defaultdict\n",
    "nlp = spacy.load('en_core_web_md')\n",
    "from string import punctuation\n",
    "import Levenshtein"
   ]
  },
  {
   "cell_type": "code",
   "execution_count": 44,
   "id": "hindu-philosophy",
   "metadata": {},
   "outputs": [
    {
     "data": {
      "text/plain": [
       "5000"
      ]
     },
     "execution_count": 44,
     "metadata": {},
     "output_type": "execute_result"
    }
   ],
   "source": [
    "df = pd.read_json('../gg2013.json')\n",
    "df = df['text']\n",
    "df = df[~df.str.contains('think|should|maybe', case = False)]\n",
    "df = df[df.str.contains('best', case = False)]\n",
    "df = df.str.replace('http\\S+|www.\\S+', '', case=False,regex=True)\n",
    "df = df.str.replace('TV|tv', \"television\", case = False, regex = True)\n",
    "best_df = df.str.replace('#GoldenGlobes|#GoldenGlobe|golden|globes|globes', \"\", case = False, regex = True)\n",
    "\n",
    "if best_df.shape[0] >5000:\n",
    "    best_df = best_df.sample(n=5000)\n",
    "best_df.shape[0]"
   ]
  },
  {
   "cell_type": "markdown",
   "id": "divided-petite",
   "metadata": {},
   "source": [
    "# pattern2 = [{\"ORTH\":'Best'}, {\"POS\":{\"IN\":['NOUN','PROPN','ADP','DET']}, 'OP':'*'}, {'IS_PUNCT': True, 'OP':'?'}, {\"DEP\":{\"IN\":['compound','nsubj','cc','conj','dobj']}}]"
   ]
  },
  {
   "cell_type": "code",
   "execution_count": 77,
   "id": "aquatic-sheffield",
   "metadata": {},
   "outputs": [],
   "source": [
    "pattern = [{\"LOWER\":'best'}, {\"DEP\":{\"IN\":['compound','nmod','dobj','prep','det','pobj','amod','nsubj','ROOT']}, 'OP':'+'},{'ORTH': '-', 'OP':'?'}, {\"POS\": {\"IN\": ['PROPN','NOUN','CCONJ','ADJ']}, 'OP':'*'}]\n",
    "# pattern = [{\"LOWER\":'best','OP':'+'}, {\"POS\":{\"IN\":['NOUN','PROPN','ADP','DET','ADJ']}, 'OP':'+'}, {'ORTH': '-', 'OP':'?'}, {\"POS\": {\"IN\": ['PROPN','NOUN','CCONJ','ADJ']}, 'OP':'*'}]"
   ]
  },
  {
   "cell_type": "code",
   "execution_count": 78,
   "id": "careful-subdivision",
   "metadata": {},
   "outputs": [],
   "source": [
    "pattern2 = [{\"ENT_TYPE\":{\"IN\":['PERSON','WORK_OF_ART']},'OP':'+'}]"
   ]
  },
  {
   "cell_type": "code",
   "execution_count": 79,
   "id": "magnetic-intelligence",
   "metadata": {},
   "outputs": [],
   "source": [
    "matcher = Matcher(nlp.vocab)\n",
    "matcher.add('Winner', [pattern])"
   ]
  },
  {
   "cell_type": "code",
   "execution_count": 80,
   "id": "former-singapore",
   "metadata": {},
   "outputs": [],
   "source": [
    "matcher2 = Matcher(nlp.vocab)\n",
    "matcher2.add('Deleter',[pattern2])"
   ]
  },
  {
   "cell_type": "code",
   "execution_count": 81,
   "id": "periodic-runner",
   "metadata": {},
   "outputs": [],
   "source": [
    "doc = nlp('he wins best motion picture - comedy or musical goes to Sam Wong')"
   ]
  },
  {
   "cell_type": "code",
   "execution_count": 82,
   "id": "weird-idaho",
   "metadata": {},
   "outputs": [
    {
     "name": "stdout",
     "output_type": "stream",
     "text": [
      "he PRON nsubj -PRON-\n",
      "wins VERB ROOT win\n",
      "best ADJ amod good\n",
      "motion NOUN compound motion\n",
      "picture NOUN compound picture\n",
      "- PUNCT punct -\n",
      "comedy NOUN dobj comedy\n",
      "or CCONJ cc or\n",
      "musical ADJ conj musical\n",
      "goes VERB conj go\n",
      "to ADP prep to\n",
      "Sam PROPN compound Sam\n",
      "Wong PROPN pobj Wong\n"
     ]
    }
   ],
   "source": [
    "for entity in doc:\n",
    "    print(entity.text, entity.pos_,entity.dep_,entity.lemma_)"
   ]
  },
  {
   "cell_type": "code",
   "execution_count": 83,
   "id": "continued-windsor",
   "metadata": {},
   "outputs": [
    {
     "ename": "TypeError",
     "evalue": "'spacy.matcher.matcher.Matcher' object is not iterable",
     "output_type": "error",
     "traceback": [
      "\u001b[1;31m---------------------------------------------------------------------------\u001b[0m",
      "\u001b[1;31mTypeError\u001b[0m                                 Traceback (most recent call last)",
      "\u001b[1;32m<ipython-input-83-cc5e6ea8bee3>\u001b[0m in \u001b[0;36m<module>\u001b[1;34m\u001b[0m\n\u001b[1;32m----> 1\u001b[1;33m \u001b[1;32mfor\u001b[0m \u001b[0mmatch_id\u001b[0m\u001b[1;33m,\u001b[0m \u001b[0mstart\u001b[0m\u001b[1;33m,\u001b[0m \u001b[0mend\u001b[0m \u001b[1;32min\u001b[0m \u001b[0mmatcher\u001b[0m\u001b[1;33m:\u001b[0m\u001b[1;33m\u001b[0m\u001b[1;33m\u001b[0m\u001b[0m\n\u001b[0m\u001b[0;32m      2\u001b[0m     \u001b[0mstring_id\u001b[0m \u001b[1;33m=\u001b[0m \u001b[0mnlp\u001b[0m\u001b[1;33m.\u001b[0m\u001b[0mvocab\u001b[0m\u001b[1;33m.\u001b[0m\u001b[0mstrings\u001b[0m\u001b[1;33m[\u001b[0m\u001b[0mmatch_id\u001b[0m\u001b[1;33m]\u001b[0m\u001b[1;33m\u001b[0m\u001b[1;33m\u001b[0m\u001b[0m\n\u001b[0;32m      3\u001b[0m     \u001b[0mspan\u001b[0m \u001b[1;33m=\u001b[0m \u001b[0mdoc\u001b[0m\u001b[1;33m[\u001b[0m\u001b[0mstart\u001b[0m\u001b[1;33m:\u001b[0m\u001b[0mend\u001b[0m\u001b[1;33m]\u001b[0m\u001b[1;33m\u001b[0m\u001b[1;33m\u001b[0m\u001b[0m\n\u001b[0;32m      4\u001b[0m     \u001b[0mprint\u001b[0m\u001b[1;33m(\u001b[0m\u001b[0mmatch_id\u001b[0m\u001b[1;33m,\u001b[0m \u001b[0mstring_id\u001b[0m\u001b[1;33m,\u001b[0m \u001b[0mstart\u001b[0m\u001b[1;33m,\u001b[0m \u001b[0mend\u001b[0m\u001b[1;33m,\u001b[0m \u001b[0mspan\u001b[0m\u001b[1;33m.\u001b[0m\u001b[0mtext\u001b[0m\u001b[1;33m)\u001b[0m\u001b[1;33m\u001b[0m\u001b[1;33m\u001b[0m\u001b[0m\n",
      "\u001b[1;31mTypeError\u001b[0m: 'spacy.matcher.matcher.Matcher' object is not iterable"
     ]
    }
   ],
   "source": [
    "for match_id, start, end in matches:\n",
    "    string_id = nlp.vocab.strings[match_id]\n",
    "    span = doc[start:end]\n",
    "    print(match_id, string_id, start, end, span.text)"
   ]
  },
  {
   "cell_type": "code",
   "execution_count": 53,
   "id": "proprietary-creek",
   "metadata": {},
   "outputs": [
    {
     "name": "stdout",
     "output_type": "stream",
     "text": [
      "26\n"
     ]
    }
   ],
   "source": [
    "# awards_list = [\"best screenplay - motion picture\", \n",
    "#             \"best director - motion picture\", \n",
    "#             \"best performance by an actress in a television series - comedy or musical\",\n",
    "#             \"best foreign language film\",\n",
    "#             \"best performance by an actor in a supporting role in a motion picture\",\n",
    "#             \"best performance by an actress in a supporting role in a series, mini-series or motion picture made for television\",\n",
    "#             \"best motion picture - comedy or musical\", \n",
    "#             \"best performance by an actress in a motion picture - comedy or musical\", \n",
    "#             \"Best mini-series or motion picture made for television\", \"best original score - motion picture\", \n",
    "#             \"best performance by an actress in a television series - drama\", \n",
    "#             \"best performance by an actress in a motion picture - drama\",\n",
    "#             \"cecil b. demille award\",\n",
    "#             \"best performance by an actor in a motion picture - comedy or musical\", \"best motion picture - drama\",\n",
    "#             \"best performance by an actor in a supporting role in a series, mini-series or motion picture made for television\", \n",
    "#             \"best performance by an actress in a supporting role in a motion picture\",\n",
    "#             \"best television series - drama\", \n",
    "#             \"best performance by an actor in a mini-series or motion picture made for television\",\n",
    "#             \"best performance by an actress in a mini-series or motion picture made for television\",\n",
    "#             \"best animated feature film\", \"best original song - motion picture\", \n",
    "#             \"best performance by an actor in a motion picture - drama\", \n",
    "#             \"best television series - comedy or musical\",\n",
    "#             \"best performance by an actor in a television series - drama\",\n",
    "#             \"best performance by an actor in a television series - comedy or musical\"]\n",
    "awards_list =['cecil b. demille award',\n",
    " 'best motion picture - drama',\n",
    " 'best performance by an actress in a motion picture - drama',\n",
    " 'best performance by an actor in a motion picture - drama',\n",
    " 'best motion picture - comedy or musical',\n",
    " 'best performance by an actress in a motion picture - comedy or musical',\n",
    " 'best performance by an actor in a motion picture - comedy or musical',\n",
    " 'best animated feature film',\n",
    " 'best foreign language film',\n",
    " 'best performance by an actress in a supporting role in a motion picture',\n",
    " 'best performance by an actor in a supporting role in a motion picture',\n",
    " 'best director - motion picture',\n",
    " 'best screenplay - motion picture',\n",
    " 'best original score - motion picture',\n",
    " 'best original song - motion picture',\n",
    " 'best television series - drama', 'best performance by an actress in a television series - drama',\n",
    " 'best performance by an actor in a television series - drama',\n",
    " 'best television series - comedy or musical',\n",
    " 'best performance by an actress in a television series - comedy or musical',\n",
    " 'best performance by an actor in a television series - comedy or musical',\n",
    " 'best mini-series or motion picture made for television',\n",
    " 'best performance by an actress in a mini-series or motion picture made for television',\n",
    " 'best performance by an actor in a mini-series or motion picture made for television',\n",
    " 'best performance by an actress in a supporting role in a series, mini-series or motion picture made for television',\n",
    " 'best performance by an actor in a supporting role in a series, mini-series or motion picture made for television']\n",
    "print(len(awards_list))"
   ]
  },
  {
   "cell_type": "code",
   "execution_count": 54,
   "id": "current-train",
   "metadata": {},
   "outputs": [
    {
     "name": "stdout",
     "output_type": "stream",
     "text": [
      "bad:cecil b. demille award\n",
      "best motion picture - drama\n",
      "best performance by an actress in a motion picture - drama\n",
      "best performance by an actor in a motion picture - drama\n",
      "best motion picture - comedy or musical\n",
      "best performance by an actress in a motion picture - comedy or musical\n",
      "best performance by an actor in a motion picture - comedy or musical\n",
      "best animated feature film\n",
      "best foreign language film\n",
      "best performance by an actress in a supporting role in a motion picture\n",
      "best performance by an actor in a supporting role in a motion picture\n",
      "best director - motion picture\n",
      "best screenplay - motion picture\n",
      "best original score - motion picture\n",
      "best original song - motion picture\n",
      "best television series - drama\n",
      "best performance by an actress in a television series - drama\n",
      "best performance by an actor in a television series - drama\n",
      "best television series - comedy or musical\n",
      "best performance by an actress in a television series - comedy or musical\n",
      "best performance by an actor in a television series - comedy or musical\n",
      "bad:best mini-series or motion picture made for television\n",
      "best performance by an actress in a mini-series or motion picture\n",
      "best performance by an actor in a mini-series or motion picture\n",
      "best performance by an actress in a supporting role in a series\n",
      "best performance by an actor in a supporting role in a series\n",
      "24\n"
     ]
    }
   ],
   "source": [
    "sum_val = 0\n",
    "for text in awards_list:\n",
    "    doc = nlp(text)\n",
    "    matches = matcher(doc)\n",
    "    if len(matches) != 0:\n",
    "        span = doc[matches[-1][1]:matches[-1][2]]\n",
    "        print(span)\n",
    "        sum_val += 1\n",
    "    else:\n",
    "        print('bad:' + text)\n",
    "print(sum_val)"
   ]
  },
  {
   "cell_type": "code",
   "execution_count": 55,
   "id": "ahead-maryland",
   "metadata": {},
   "outputs": [],
   "source": [
    "awards = {}\n",
    "awards = defaultdict(lambda: 1, awards)\n",
    "for i, text in best_df.iteritems():\n",
    "    doc = nlp(text)\n",
    "    matches = matcher(doc)\n",
    "    if len(matches) != 0:\n",
    "        span = doc[matches[-1][1]:matches[-1][2]]\n",
    "        awards[str(span).strip(punctuation).strip()] = awards[str(span).strip(punctuation).strip()] +1"
   ]
  },
  {
   "cell_type": "code",
   "execution_count": 56,
   "id": "peaceful-graph",
   "metadata": {},
   "outputs": [
    {
     "name": "stdout",
     "output_type": "stream",
     "text": [
      "[('Best Original Song', 183), ('Best Motion Picture', 104), ('Best Director', 81), ('Best Motion Picture - Drama', 70), ('Best Motion Picture - Comedy or Musical', 67), ('Best Supporting Actress', 57), ('Best Supporting Actress in a Motion Picture', 56), ('Best Actress in a Motion Picture - Comedy or Musical', 48), ('Best Actor in a Motion Picture - Comedy or Musical', 42), ('Best Actor', 41), ('Best television Series', 40), ('Best Supporting Actor in a Motion Picture - Christoph Waltz', 39), ('Best Actor in a Motion Picture - Drama', 37), ('best picture', 35), ('BEST speech', 35), ('Best Supporting Actor', 35), ('Best Supporting Actress in a television Movie', 34), ('Best Screenplay', 34), ('Best Original Score - Mychael Danna', 33), ('Best Buy', 32), ('Best Television Series - Drama', 31), ('best acceptance speech', 31), ('Best Actress in a Motion Picture - Drama', 30), ('Best Actress', 30), ('Best Television Series Actor - Drama', 28), ('Best Animated Feature Film - Brave', 27), ('Best Miniseries or Motion Picture', 26), ('best director', 26), ('Best Comedy Series', 26), ('Best Actor in a television Movie or Miniseries', 26), ('Best Actor in a Motion Picture', 25), ('Best Picture', 25), ('best actor', 24), ('Best Song at the', 23), ('Best Television Series - Comedy or Musical', 23), ('Best motion picture drama goes to', 23), ('Best Actress in a Comedy Series', 23), ('Best Foreign Film - Amour', 22), ('Best supporting actress', 21), ('Best Original Score', 21), ('Best Actress in a television Movie or Miniseries', 21), ('Best supporting actor', 20), ('Best animated feature film', 20), ('best show on television by miles', 19), ('Best Actress in a Motion Picture', 19), ('Best Actor in a Television Series - Comedy or Musical', 19), ('Best Actress Award', 18), ('best actress', 18), ('best supporting actress', 18), ('best motion picture', 17), ('Best Actress in a Television Series - Drama', 17), ('best original song', 15), ('best screenplay', 15), ('Best television Series Actress - Comedy or Musical', 15), ('Best Supporting Actress in a Motion Picture for', 15), ('best actor in a motion picture', 14), ('Best Animated Film', 14), ('Best director motion picture', 14), ('best dressed', 13), ('best director category', 13), ('Best Foreign Film', 13), ('Best Song', 12), ('Best Motion Picture Drama', 12), ('Best s opening', 12), ('Best Drama', 12), ('best Comedy series at the', 11), ('Best Director award for #Argo at the', 11), ('best television series', 11), ('Best Original Song in a Motion Picture', 11), ('Best Director for', 11), ('best supporting actor', 11), ('best drama', 11), ('Best Movie Actor', 11), ('Best Original Song for Skyfall', 11), ('Best Supporting Actor Globe for', 10), ('Best Comedy', 10), ('Best Movie Comedy or Musical', 10), ('best drama at the', 10), ('Best Director - Argo', 10), ('best song', 10), ('best television drama', 10), ('best actor at', 9), ('Best Animated Feature Film', 9), ('Best nominee cutaway', 9), ('Best Animated Feature at the', 9), ('Best Director - Motion Picture', 9), ('Best actress in a television comedy or musical', 9), ('Best moment of the', 9), ('Best Song at s', 9), ('Best Original Score - Motion Picture', 9), ('Best Movie', 9), ('Best Picture nominee Lincoln', 9), ('Best Screenplay - Motion Picture', 8), ('best actress in television drama', 8), ('best director for', 8), ('Best Original Song for #Skyfall', 8), ('Best Supporting Actress in a Motion Picture win for Les Miserables', 8), ('best foreign film', 8), ('Best Director for Argo', 8), ('Best Supporting Actress in a television Series', 8)]\n"
     ]
    }
   ],
   "source": [
    "for key in list(awards):\n",
    "    doc = nlp(key)\n",
    "    matches = matcher2(doc)\n",
    "    if len(matches) != 0:\n",
    "        awards.pop(key)\n",
    "awards = sorted(awards.items(), key=lambda item: item[1], reverse = True)\n",
    "print(awards[0:100])"
   ]
  },
  {
   "cell_type": "code",
   "execution_count": 57,
   "id": "coupled-stake",
   "metadata": {},
   "outputs": [],
   "source": [
    "new_awards = []\n",
    "for i in awards:\n",
    "    if i[1] > 2:\n",
    "        new_awards.append(i[0].lower())"
   ]
  },
  {
   "cell_type": "code",
   "execution_count": 58,
   "id": "discrete-evans",
   "metadata": {},
   "outputs": [],
   "source": [
    "final_list = []\n",
    "final_list.append(new_awards[0])\n",
    "def distance(t1,r1):\n",
    "    t = t1.split()\n",
    "    r = r1.split()\n",
    "    if len(t) >= len(r):\n",
    "        long = t\n",
    "        short = r\n",
    "        ret = t1\n",
    "    else:\n",
    "        long = r\n",
    "        short = t\n",
    "        ret = r1\n",
    "    dist = 0\n",
    "    for word in short:\n",
    "        min_val = float('inf')\n",
    "        for word2 in long:\n",
    "            min_val = min(min_val,Levenshtein.distance(word, word2))\n",
    "        dist += min_val\n",
    "    return dist,ret"
   ]
  },
  {
   "cell_type": "code",
   "execution_count": 59,
   "id": "artificial-member",
   "metadata": {},
   "outputs": [
    {
     "data": {
      "text/plain": [
       "(0, 'best actor - comedy')"
      ]
     },
     "execution_count": 59,
     "metadata": {},
     "output_type": "execute_result"
    }
   ],
   "source": [
    "distance('best actor', 'best actor - comedy')"
   ]
  },
  {
   "cell_type": "code",
   "execution_count": 60,
   "id": "certain-rapid",
   "metadata": {},
   "outputs": [
    {
     "name": "stdout",
     "output_type": "stream",
     "text": [
      "['best original song']\n"
     ]
    }
   ],
   "source": [
    "print(final_list)"
   ]
  },
  {
   "cell_type": "code",
   "execution_count": 61,
   "id": "institutional-server",
   "metadata": {},
   "outputs": [
    {
     "name": "stdout",
     "output_type": "stream",
     "text": [
      "['best original song in a motion picture for', 'best performance by an actor in a motion picture - drama', 'best director - motion picture', 'best actress in a motion picture - comedy or musical', 'best supporting actress in a motion picture win for les miserables', 'best actor in a motion picture - comedy or musical', 'best television series actor - drama', 'best supporting actor in a motion picture - christoph waltz', 'best acceptance speech for an acting awards show', 'best supporting actress in a television movie', 'best screenplay - motion picture', 'best original score - mychael danna', 'best show on television by miles', 'best actress in a motion picture - drama', 'best animated feature film - brave', 'best actor in a miniseries or motion picture', 'best actor in a television series - comedy or musical', 'best actor in a miniseries or television movie', 'best original song win at the', 'best motion picture drama goes to argo', 'best actress in a television series - comedy or musical', 'best foreign film - amour', 'best actress in a miniseries or television movie', 'best actress award', 'best actress in a television series - drama', 'best actress in a television series - comedy or musical', 'best dressed list', 'best director category', 'best s opening', 'best comedy series at the', 'best director award for #argo at the', 'best original song motion picture award for #skyfall', 'best supporting actor globe for', 'best actor in a movie - comedy or musical', 'best actor in a drama for lincoln at the', 'best director - argo', 'best nominee cutaway', 'best animated feature at the', 'best actress in a television series - comedy or musical', 'best moment of the', 'best song at s', 'best original score - motion picture', 'best picture nominee lincoln', 'best supporting actress in a television series', 'best string of yesterdays i', 'best foreign language film for austria', 'best line of the', 'best director for motion picture', 'best actress in a drama at the', 'best hosts', 'best honey', 'best television movie or mini series', 'best motion picture-drama nomination', 'best parts of the s', 'best extreme closeups at the', 'best film in the comedy', 'best exotic marigold hotel', 'best supporting actor in a motion picture for', 'best friend', 'best actor in a musical or comedy award', 'best sense of humor', 'best director at the s', 'best supporting actor in a television series', 'best awkward moment on an awards show goes to', 'best motion picture musical comedy @goldenglobes', 'best supporting actress for les mis', 'best insults at the', 'best screenplay for django unchained | via @goldenglobes', 'best supp', 'best supporting actor at the', 'best animated feature film award', 'best speech of the night', 'best original score goes to life of pi', 'best dir award for argo', 'best dressed latinas at the', 'best animated feature film | via @goldenglobes', 'best film director for', 'best actor for television drama', 'best foreign film at', 'best dressed woman', 'best motion picture drama at the', 'best supporting actor winner', 'best original score - life', 'best pronunciation of', 'best wave', 'best screenplay for #djangounchained', 'best director goes to @benaffleck', 'best presenters', 'best about the s', 'best motion picture screenplay for #django', 'best picture speech', 'best director and best picture', 'best foreign langu', 'best television actor-drama', 'best actress drama winner', 'best actress in television drama for homeland', 'best role', 'best parts in an', 'best actor time', 'best idea', 'best performance by an actress in a television musical or comedy', 'best movie - drama', 'best supporting actress for television performance in #downton abbey', 'best presenter-wife', 'best original score - movie', 'best actor best picture @goldenglobes', 'best facial hair of the night', 'best movie at the s', 'best actor in a motion picture drama goes to daniel day lewis for #lincoln', 'best s gags - fox news', 'best costume design for argo', 'best supporting actor in a drama', 'best actor who', 'best actress in a dramatic film for #zerodarkthirty', 'best supporting actress in a television show', 'best picture at the oscars', 'best zingers from the', 'best original screenplay', 'best performance by an actress in a television series', 'best joke', 'best story', 'best dressed of the night', 'best foreign language film win', 'best dressed # 2', 'best s zingers', 'best s ever', 'best actress in a comedic or musical film', 'best acceptance speeches i', 'best opening monologue', 'best movies i', 'best t-mobile commercial', 'best animated hair at the', 'best original song category']\n"
     ]
    }
   ],
   "source": [
    "for awrd in new_awards[1:]:\n",
    "    similar = False\n",
    "    for i,ans in enumerate(final_list):\n",
    "        dist,long = distance(awrd,ans)\n",
    "        if dist <= 1:\n",
    "            similar = True\n",
    "            final_list[i] = long\n",
    "    if (not similar):\n",
    "        final_list.append(awrd)\n",
    "print(final_list)"
   ]
  },
  {
   "cell_type": "code",
   "execution_count": 62,
   "id": "complimentary-migration",
   "metadata": {},
   "outputs": [
    {
     "name": "stdout",
     "output_type": "stream",
     "text": [
      "['best original song in a motion picture for', 'best performance by an actor in a motion picture - drama', 'best director - motion picture', 'best actress in a motion picture - comedy or musical', 'best supporting actress in a motion picture win for les miserables', 'best actor in a motion picture - comedy or musical', 'best television series actor - drama', 'best supporting actor in a motion picture - christoph waltz', 'best acceptance speech for an acting awards show', 'best supporting actress in a television movie', 'best screenplay - motion picture', 'best original score - mychael danna', 'best show on television by miles', 'best actress in a motion picture - drama', 'best animated feature film - brave', 'best actor in a miniseries or motion picture', 'best actor in a television series - comedy or musical', 'best actor in a miniseries or television movie', 'best original song win at the', 'best motion picture drama goes to argo', 'best actress in a television series - comedy or musical', 'best foreign film - amour', 'best actress in a miniseries or television movie', 'best actress award', 'best actress in a television series - drama', 'best actress in a television series - comedy or musical']\n"
     ]
    }
   ],
   "source": [
    "print(final_list[0:26])"
   ]
  },
  {
   "cell_type": "code",
   "execution_count": 63,
   "id": "laughing-sugar",
   "metadata": {},
   "outputs": [
    {
     "name": "stdout",
     "output_type": "stream",
     "text": [
      "['best original song in a motion picture for', 'best performance by an actor in a motion picture - drama', 'best director - motion picture', 'best actress in a motion picture - comedy or musical', 'best supporting actress in a motion picture win for les miserables', 'best actor in a motion picture - comedy or musical', 'best television series actor - drama', 'best supporting actor in a motion picture - christoph waltz', 'best acceptance speech for an acting awards show', 'best supporting actress in a television movie', 'best screenplay - motion picture', 'best original score - mychael danna', 'best show on television by miles', 'best actress in a motion picture - drama', 'best animated feature film - brave', 'best actor in a miniseries or motion picture', 'best actor in a television series - comedy or musical', 'best actor in a miniseries or television movie', 'best original song win at the', 'best motion picture drama goes to argo', 'best actress in a television series - comedy or musical', 'best foreign film - amour', 'best actress in a miniseries or television movie', 'best actress award', 'best actress in a television series - drama', 'best dressed list']\n"
     ]
    }
   ],
   "source": [
    "answer = list(dict.fromkeys(final_list))\n",
    "print(answer[0:26])"
   ]
  }
 ],
 "metadata": {
  "kernelspec": {
   "display_name": "Python 3",
   "language": "python",
   "name": "python3"
  },
  "language_info": {
   "codemirror_mode": {
    "name": "ipython",
    "version": 3
   },
   "file_extension": ".py",
   "mimetype": "text/x-python",
   "name": "python",
   "nbconvert_exporter": "python",
   "pygments_lexer": "ipython3",
   "version": "3.8.5"
  }
 },
 "nbformat": 4,
 "nbformat_minor": 5
}
