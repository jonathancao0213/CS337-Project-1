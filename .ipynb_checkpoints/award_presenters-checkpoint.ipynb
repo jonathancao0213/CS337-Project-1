{
 "cells": [
  {
   "cell_type": "code",
   "execution_count": 14,
   "metadata": {},
   "outputs": [],
   "source": [
    "# Runtime ~1min 30sec -- 5000 tweets\n",
    "# Runtime ~2min -- 10,000 tweets"
   ]
  },
  {
   "cell_type": "code",
   "execution_count": 15,
   "metadata": {},
   "outputs": [],
   "source": [
    "award_names = ['Best Motion Picture – Drama', 'Best Motion Picture – Musical or Comedy', 'Best Motion Picture – Foreign Language',\n",
    " 'Best Motion Picture – Animated', 'Best Director – Motion Picture', 'Best Actor in a Motion Picture – Drama',\n",
    " 'Best Actor in a Motion Picture – Musical or Comedy', 'Best Actress in a Motion Picture – Drama',\n",
    " 'Best Actress in a Motion Picture – Musical or Comedy', 'Best Supporting Actor – Motion Picture',\n",
    " 'Best Supporting Actress – Motion Picture', 'Best Screenplay – Motion Picture', 'Best Original Score – Motion Picture',\n",
    " 'Best Original Song – Motion Picture', 'Best Television Series – Drama', 'Best Television Series – Musical or Comedy',\n",
    " 'Best Miniseries or Motion Picture – Television', 'Best Actor in a Television Series – Drama',\n",
    " 'Best Actor in a Television Series – Musical or Comedy', 'Best Actor in a Miniseries or Motion Picture – Television',\n",
    " 'Best Actress in a Television Series – Drama', 'Best Actress in a Television Series – Musical or Comedy',\n",
    " 'Best Actress in a Miniseries or Motion Picture – Television',\n",
    " 'Best Supporting Actor in a Series, Miniseries or Motion Picture – Television',\n",
    " 'Best Supporting Actress in a Series, Miniseries or Motion Picture – Television']\n",
    "new_award_names = [0]*len(award_names)\n",
    "for i in range(len(award_names)):\n",
    "    new_award_names[i] = award_names[i].lower()"
   ]
  },
  {
   "cell_type": "code",
   "execution_count": 16,
   "metadata": {},
   "outputs": [],
   "source": [
    "import numpy as np\n",
    "import pandas as pd\n",
    "import spacy\n",
    "from spacy import displacy\n",
    "from collections import defaultdict"
   ]
  },
  {
   "cell_type": "code",
   "execution_count": 17,
   "metadata": {},
   "outputs": [],
   "source": [
    "df = pd.read_json('../gg2015.json')\n",
    "df = df['text']\n",
    "df = df[df.str.contains(' present|gave', case = False)]\n",
    "df = df[~df.str.contains('think|should|maybe', case = False)]\n",
    "present_df = df.str.replace('#GoldenGlobes|golden|globes|globe', \"\", case = False)\n",
    "if present_df.size > 5000:\n",
    "    present_df = present_df.sample(10000)"
   ]
  },
  {
   "cell_type": "code",
   "execution_count": 18,
   "metadata": {},
   "outputs": [],
   "source": [
    "from spacy.matcher import Matcher\n",
    "from spacy.tokens import Span\n",
    "nlp = spacy.load('en_core_web_md')\n",
    "from string import punctuation"
   ]
  },
  {
   "cell_type": "code",
   "execution_count": 19,
   "metadata": {},
   "outputs": [],
   "source": [
    "pattern1 = [{\"ENT_TYPE\": \"PERSON\", 'OP':'+'}, {\"LEMMA\": \"present\"}, {\"ORTH\":'Best'}, {\"DEP\": 'compound', 'OP':'+'}, {\"POS\":'NOUN', 'OP':'*'}, {'IS_PUNCT': True, 'OP':'?'}, {\"POS\": 'PROPN', 'OP':'*'}]\n",
    "pattern2 = [{\"ENT_TYPE\": \"WORK_OF_ART\", 'OP':'+'}, {\"LEMMA\": \"present\"}, {\"ORTH\":'Best'}, {\"DEP\": 'compound', 'OP':'+'}, {\"POS\":'NOUN', 'OP':'*'}, {'IS_PUNCT': True, 'OP':'?'}, {\"POS\": 'PROPN', 'OP':'*'}]\n",
    "pattern3 = [{\"ENT_TYPE\": \"PERSON\", 'OP':'+'}, {\"LEMMA\": \"present\"}, {\"ORTH\":'Best'}, {\"ENT_TYPE\": \"WORK_OF_ART\", 'OP':'+'}]\n",
    "pattern4 = [{\"ENT_TYPE\": \"WORK_OF_ART\", 'OP':'+'}, {\"LEMMA\": \"present\"}, {\"ORTH\":'Best'}, {\"ENT_TYPE\": \"WORK_OF_ART\", 'OP':'+'}]"
   ]
  },
  {
   "cell_type": "code",
   "execution_count": 20,
   "metadata": {},
   "outputs": [],
   "source": [
    "matcher = Matcher(nlp.vocab)\n",
    "matcher.add(\"Presenter\", [pattern1, pattern2, pattern3, pattern4])"
   ]
  },
  {
   "cell_type": "code",
   "execution_count": 21,
   "metadata": {},
   "outputs": [],
   "source": [
    "presenters = {}\n",
    "presenters = defaultdict(lambda: 1, presenters)\n",
    "for i, text in present_df.iteritems():\n",
    "    doc = nlp(text)\n",
    "    matches = matcher(doc)\n",
    "    if len(matches) != 0:\n",
    "        span = doc[matches[-1][1]:matches[-1][2]]\n",
    "        presenters[str(span).strip(punctuation).strip()] = presenters[str(span).strip(punctuation).strip()] +1"
   ]
  },
  {
   "cell_type": "code",
   "execution_count": 22,
   "metadata": {},
   "outputs": [
    {
     "name": "stdout",
     "output_type": "stream",
     "text": [
      "[('Robert Downey Jr. presents Best Movie (Comedy/Musical', 139), ('Bill Hader presented Best Screenplay', 4), ('Jennifer Aniston presenting Best Supporting Actor', 3), ('Adam Levine present Best TV Series Drama', 3), ('Kate Hudson presenting Best Film nominee #IntoTheWoods', 3), ('Prince presenting Best Original Song', 3), ('Jack Black presenting Best Film nominee', 3), ('Jared Leto presenting Best Supporting Actress', 3), ('Kristen Wiig presenting Best Screenplay', 2), ('Melissa McCarthy presenting Best Film nominee #SaintVincent', 2), ('Katherine Zeta-jones presents Best Film nominee #pride', 2), ('Katie Holmes presented Best Supporting Actor', 2), ('Anna Ferris presenting Best Actress TV Series Drama', 2), ('Channing Tatum presenting Best Motion Picture Drama', 2), ('Amy Adams presenting Best Actor Comedy Movie', 2), ('Meryl Streep presents Best Film Drama  to #Boyhood http://t.co/ZHF8eiA0aD', 2), ('Oprah presenting Best Film nominee #Selma', 2), ('John Travolta presents Best Actress', 2), ('Jennifer Aniston presenting Best Supporting Actor  http://t.co/1XmzTEjVjk', 2), ('Vince Vaughn presents Best Original Score', 2), ('Matthew Mcconaughey presents Best Actress for Motion Picture (Drama', 2), ('Gwyneth Paltrow presenting Best Actor Drama', 2), ('Harrison Ford presents Best Director award', 2), ('Kerry Washington presented Best Actress TV Comedy', 2), ('Seth Meyers presenting Best Supporting Actor', 2), ('Anna Faris presenting Best Actress TV series', 2), ('Channing tatum presents Best Motion Picture Drama', 2)]\n"
     ]
    }
   ],
   "source": [
    "presenters = sorted(presenters.items(), key=lambda item: item[1], reverse = True)\n",
    "print(presenters)"
   ]
  },
  {
   "cell_type": "code",
   "execution_count": 23,
   "metadata": {},
   "outputs": [],
   "source": [
    "import Levenshtein\n",
    "# tweet = string, awards = dict\n",
    "def DistMeasure(tweet):\n",
    "    awards = {}\n",
    "    tweet = tweet.lower()\n",
    "    tweet = tweet.replace('tv', 'television')\n",
    "    tweet = tweet.replace('film', 'motion picture')\n",
    "    tweet = tweet.replace('movie', 'motion picture')\n",
    "    for award in new_award_names:\n",
    "        split_award = award.split()\n",
    "        award_dist = 0\n",
    "        \n",
    "        split_tweet = tweet.split()\n",
    "        for word in split_tweet:\n",
    "            array = []\n",
    "            for word2 in split_award:\n",
    "                array.append(Levenshtein.distance(word, word2))\n",
    "            min_val = array[np.argmin(array)]\n",
    "            award_dist += min_val\n",
    "        awards[award] = award_dist\n",
    "        \n",
    "    val = min(awards.values())\n",
    "    res = [key for key in awards if awards[key] == val]\n",
    "    if len(res) > 10:\n",
    "        res = []\n",
    "    return res"
   ]
  },
  {
   "cell_type": "code",
   "execution_count": 24,
   "metadata": {},
   "outputs": [],
   "source": [
    "award_list = [dict() for x in range(len(new_award_names))]\n",
    "\n",
    "for tweet in presenters: \n",
    "    tweet = tweet[0]\n",
    "    split = tweet.lower().split()\n",
    "    \n",
    "    index = split.index(\"best\")\n",
    "\n",
    "    award_phrase = \" \".join(split[index:])\n",
    "    matching_awards = DistMeasure(award_phrase)\n",
    "    for a in matching_awards:\n",
    "        award_index = new_award_names.index(a)      \n",
    "        if \"present\" in split:\n",
    "            person_index = split.index(\"present\")\n",
    "        if \"gave\" in split:\n",
    "            person_index = split.index(\"gave\")\n",
    "        person = split[:index-1]\n",
    "        person = \" \".join(person)\n",
    "        if person not in award_list[award_index]:\n",
    "            award_list[award_index][person] = 1\n",
    "        else:\n",
    "            award_list[award_index][person] = award_list[award_index][person]+1"
   ]
  },
  {
   "cell_type": "code",
   "execution_count": 25,
   "metadata": {},
   "outputs": [
    {
     "name": "stdout",
     "output_type": "stream",
     "text": [
      "[['channing tatum'], ['robert downey jr.'], [], [], ['harrison ford'], ['channing tatum'], ['robert downey jr.', 'amy adams'], ['channing tatum'], ['robert downey jr.', 'john travolta'], ['jennifer aniston'], ['jared leto', 'john travolta'], ['bill hader', 'kristen wiig'], ['vince vaughn'], ['prince'], ['adam levine'], [], ['kate hudson', 'melissa mccarthy'], ['adam levine', 'gwyneth paltrow'], [], ['kate hudson', 'melissa mccarthy'], ['adam levine', 'anna ferris'], ['john travolta', 'kerry washington'], ['kate hudson', 'melissa mccarthy'], ['jennifer aniston'], ['kate hudson', 'jared leto']]\n"
     ]
    }
   ],
   "source": [
    "import operator\n",
    "\n",
    "i = 0\n",
    "awards = [[] for x in range(len(new_award_names))]\n",
    "for award in award_list:\n",
    "    if award != {}:\n",
    "        max_val = max(award.items(), key=operator.itemgetter(1))[1]\n",
    "        j = 0\n",
    "        list_award = list(award)\n",
    "        for b in award:\n",
    "            if award[b] == max_val and len(awards[i]) < 2:\n",
    "                awards[i].append(list_award[j])\n",
    "            j+=1\n",
    "    i+=1\n",
    "print(awards)"
   ]
  },
  {
   "cell_type": "code",
   "execution_count": 33,
   "metadata": {},
   "outputs": [
    {
     "name": "stdout",
     "output_type": "stream",
     "text": [
      "{'Best Motion Picture – Drama': ['naomi watts', 'meryl streep'], 'Best Motion Picture – Musical or Comedy': ['robert downey jr.'], 'Best Motion Picture – Foreign Language': [], 'Best Motion Picture – Animated': [], 'Best Director – Motion Picture': ['harrison ford'], 'Best Actor in a Motion Picture – Drama': ['naomi watts', 'meryl streep'], 'Best Actor in a Motion Picture – Musical or Comedy': ['robert downey jr.', 'naomi watts'], 'Best Actress in a Motion Picture – Drama': ['naomi watts', 'matthew mcconaughey'], 'Best Actress in a Motion Picture – Musical or Comedy': ['robert downey jr.', 'naomi watts'], 'Best Supporting Actor – Motion Picture': ['jennifer aniston'], 'Best Supporting Actress – Motion Picture': ['jared leto'], 'Best Screenplay – Motion Picture': ['kristen wiig', 'bill hader'], 'Best Original Score – Motion Picture': [], 'Best Original Song – Motion Picture': ['prince'], 'Best Television Series – Drama': [], 'Best Television Series – Musical or Comedy': [], 'Best Miniseries or Motion Picture – Television': ['melissa mccarthy'], 'Best Actor in a Television Series – Drama': [], 'Best Actor in a Television Series – Musical or Comedy': [], 'Best Actor in a Miniseries or Motion Picture – Television': ['melissa mccarthy'], 'Best Actress in a Television Series – Drama': [], 'Best Actress in a Television Series – Musical or Comedy': [], 'Best Actress in a Miniseries or Motion Picture – Television': ['melissa mccarthy'], 'Best Supporting Actor in a Series, Miniseries or Motion Picture – Television': ['melissa mccarthy', 'naomi watts'], 'Best Supporting Actress in a Series, Miniseries or Motion Picture – Television': ['jared leto', 'melissa mccarthy']}\n"
     ]
    }
   ],
   "source": [
    "result = dict(zip(award_names, awards)) \n",
    "print(result)"
   ]
  },
  {
   "cell_type": "code",
   "execution_count": null,
   "metadata": {},
   "outputs": [],
   "source": []
  }
 ],
 "metadata": {
  "kernelspec": {
   "display_name": "Python 3",
   "language": "python",
   "name": "python3"
  },
  "language_info": {
   "codemirror_mode": {
    "name": "ipython",
    "version": 3
   },
   "file_extension": ".py",
   "mimetype": "text/x-python",
   "name": "python",
   "nbconvert_exporter": "python",
   "pygments_lexer": "ipython3",
   "version": "3.8.3"
  }
 },
 "nbformat": 4,
 "nbformat_minor": 4
}
