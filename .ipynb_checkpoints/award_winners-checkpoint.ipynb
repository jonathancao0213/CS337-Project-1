{
 "cells": [
  {
   "cell_type": "code",
   "execution_count": 10,
   "metadata": {},
   "outputs": [
    {
     "data": {
      "text/plain": [
       "['best motion picture – drama',\n",
       " 'best motion picture – musical or comedy',\n",
       " 'best motion picture – foreign language',\n",
       " 'best motion picture – animated',\n",
       " 'best director – motion picture',\n",
       " 'best actor in a motion picture – drama',\n",
       " 'best actor in a motion picture – musical or comedy',\n",
       " 'best actress in a motion picture – drama',\n",
       " 'best actress in a motion picture – musical or comedy',\n",
       " 'best supporting actor – motion picture',\n",
       " 'best supporting actress – motion picture',\n",
       " 'best screenplay – motion picture',\n",
       " 'best original score – motion picture',\n",
       " 'best original song – motion picture',\n",
       " 'best television series – drama',\n",
       " 'best television series – musical or comedy',\n",
       " 'best miniseries or motion picture – television',\n",
       " 'best actor in a television series – drama',\n",
       " 'best actor in a television series – musical or comedy',\n",
       " 'best actor in a miniseries or motion picture – television',\n",
       " 'best actress in a television series – drama',\n",
       " 'best actress in a television series – musical or comedy',\n",
       " 'best actress in a miniseries or motion picture – television',\n",
       " 'best supporting actor in a series, miniseries or motion picture – television',\n",
       " 'best supporting actress in a series, miniseries or motion picture – television']"
      ]
     },
     "execution_count": 10,
     "metadata": {},
     "output_type": "execute_result"
    }
   ],
   "source": [
    "award_names = ['Best Motion Picture – Drama', 'Best Motion Picture – Musical or Comedy', 'Best Motion Picture – Foreign Language',\n",
    " 'Best Motion Picture – Animated', 'Best Director – Motion Picture', 'Best Actor in a Motion Picture – Drama',\n",
    " 'Best Actor in a Motion Picture – Musical or Comedy', 'Best Actress in a Motion Picture – Drama',\n",
    " 'Best Actress in a Motion Picture – Musical or Comedy', 'Best Supporting Actor – Motion Picture',\n",
    " 'Best Supporting Actress – Motion Picture', 'Best Screenplay – Motion Picture', 'Best Original Score – Motion Picture',\n",
    " 'Best Original Song – Motion Picture', 'Best Television Series – Drama', 'Best Television Series – Musical or Comedy',\n",
    " 'Best Miniseries or Motion Picture – Television', 'Best Actor in a Television Series – Drama',\n",
    " 'Best Actor in a Television Series – Musical or Comedy', 'Best Actor in a Miniseries or Motion Picture – Television',\n",
    " 'Best Actress in a Television Series – Drama', 'Best Actress in a Television Series – Musical or Comedy',\n",
    " 'Best Actress in a Miniseries or Motion Picture – Television',\n",
    " 'Best Supporting Actor in a Series, Miniseries or Motion Picture – Television',\n",
    " 'Best Supporting Actress in a Series, Miniseries or Motion Picture – Television']\n",
    "new_award_names = [0]*len(award_names)\n",
    "for i in range(len(award_names)):\n",
    "    new_award_names[i] = award_names[i].lower()\n",
    "new_award_names"
   ]
  },
  {
   "cell_type": "code",
   "execution_count": 11,
   "metadata": {},
   "outputs": [],
   "source": [
    "import numpy as np\n",
    "import pandas as pd\n",
    "import spacy\n",
    "from spacy import displacy\n",
    "from collections import defaultdict"
   ]
  },
  {
   "cell_type": "code",
   "execution_count": 12,
   "metadata": {},
   "outputs": [],
   "source": [
    "df = pd.read_json('../gg2013.json')\n",
    "df = df['text']\n",
    "df = df[df.str.contains('won best|wins best|goes to', case = False)]\n",
    "df = df[~df.str.contains('think|thinking|should|maybe', case = False)]\n",
    "wins_df = df.str.replace('#GoldenGlobes|golden|globes|globe', \"\", case = False)\n",
    "if wins_df.size > 5000:\n",
    "    wins_df = present_df.sample(5000)"
   ]
  },
  {
   "cell_type": "code",
   "execution_count": 13,
   "metadata": {},
   "outputs": [],
   "source": [
    "from spacy.matcher import Matcher\n",
    "from spacy.tokens import Span\n",
    "nlp = spacy.load('en_core_web_md')\n",
    "from string import punctuation"
   ]
  },
  {
   "cell_type": "code",
   "execution_count": 14,
   "metadata": {},
   "outputs": [],
   "source": [
    "pattern1 = [{\"ENT_TYPE\": \"PERSON\", 'OP':'+'}, {\"LEMMA\": \"win\"}, {\"ORTH\":'Best'}, {\"DEP\": 'compound', 'OP':'+'}, {\"POS\":'NOUN', 'OP':'*'}, {'IS_PUNCT': True, 'OP':'?'}, {\"POS\": 'PROPN', 'OP':'*'}]\n",
    "#pattern2 = [{\"TEXT\": \"goes to\"}, {\"ENT_TYPE\": \"PERSON\", 'OP':'+'}] might need to split goes to into two \"text\"\n",
    "pattern2 = [{\"ENT_TYPE\": \"WORK_OF_ART\", 'OP':'+'}, {\"LEMMA\": \"win\"}, {\"ORTH\":'Best'}, {\"DEP\": 'compound', 'OP':'+'}, {\"POS\":'NOUN', 'OP':'*'}, {'IS_PUNCT': True, 'OP':'?'}, {\"POS\": 'PROPN', 'OP':'*'}]\n",
    "pattern3 = [{\"ENT_TYPE\": \"PERSON\", 'OP':'+'}, {\"POS\": \"VERB\"}, {\"ORTH\":'Best'}, {\"DEP\": 'compound', 'OP':'+'}, {\"POS\":'NOUN', 'OP':'*'}, {'IS_PUNCT': True, 'OP':'?'}, {\"POS\": 'PROPN', 'OP':'*'}]\n",
    "#can also try using work of art after \"won\" to see if that turns up anything else"
   ]
  },
  {
   "cell_type": "code",
   "execution_count": 15,
   "metadata": {},
   "outputs": [],
   "source": [
    "matcher = Matcher(nlp.vocab)\n",
    "matcher.add(\"Winner\", [pattern1, pattern2, pattern3])"
   ]
  },
  {
   "cell_type": "code",
   "execution_count": 16,
   "metadata": {},
   "outputs": [],
   "source": [
    "winners = {}\n",
    "winners = defaultdict(lambda: 1, winners)\n",
    "for i, text in wins_df.iteritems():\n",
    "    doc = nlp(text)\n",
    "    matches = matcher(doc)\n",
    "    if len(matches) != 0:\n",
    "        span = doc[matches[-1][1]:matches[-1][2]]\n",
    "        winners[str(span).strip(punctuation).strip()] = winners[str(span).strip(punctuation).strip()] +1"
   ]
  },
  {
   "cell_type": "code",
   "execution_count": 17,
   "metadata": {},
   "outputs": [
    {
     "name": "stdout",
     "output_type": "stream",
     "text": [
      "[('Adele wins Best Original Song', 29), ('Christoph Waltz Wins Best Supporting Actor', 24), ('Christoph Waltz wins Best Supporting Actor', 13), ('Daniel Day-Lewis wins Best Actor Motion Picture - Drama', 13), ('Adele won Best Original Song', 6), ('Christoph Waltz won Best Supporting Actor', 5), ('Ben Affleck wins Best Director - Motion Picture', 5), ('Les Miserables wins Best Motion Picture', 5), ('Adele wins Best Original Song Motion Picture', 4), ('Jennifer Lawrence wins Best Actress Motion Picture Comedy', 4), ('Adele Wins Best Original Song', 4), ('Damian Lewis wins Best Actor TV Series', 3), ('Don Cheadle Wins Best TV Actor - Comedy', 3), ('Mychael Danna wins Best Original Score', 3), ('Ben Affleck wins Best Director prize', 3), ('Christoph Waltz wins Best Supporting Actor - Motion Picture', 2), ('Christoph Waltz WINS Best Supporting Actor', 2), ('vulture: Life of Pi wins Best Original Score', 2), ('Yayyyy Adele wins Best Original Song', 2), ('Christoph Waltz Wins Best Supportin Actor', 2), ('Glad Adele won Best Original Song', 2), ('Jennifer Lawrence won Best Actress Drama! ^.^ ♡', 2), ('Ed Harris wins Best Supporting Actor (TV', 2), ('Anne Hathaway wins Best Peter Pan Haircut', 2), ('Adele won Best Original Song Motion Picture', 2), ('Kevin Costner wins Best Actor Miniseries', 2), ('Quentin Tarantino wins Best Director - Motion Picture', 2), ('Quentin Tarantino won Best Screenplay - Django', 2), ('Don Cheadle wins Best Actor Comedy', 2), ('Claire Danes wins Best Drama TV Actress', 2), ('Claire Danes wins Best Actress - TV Series', 2), ('Claire Danes wins Best Actress TV', 2), ('Lena Dunham wins Best TV Series Actress', 2), ('Homeland won Best TV Series', 2), ('Ben Affleck wins Best Director award', 2), ('Claire Danes wins Best Actress TV Drama', 2), ('Hugh Jackman wins Best Actor Motion Picture', 2), ('Les Misèrables wins Best Motion Picture Comedy', 2), ('Les Misérables wins Best Motion Picture - Comedy', 2), ('Jessica Chastain wins Best Actress Drama', 2), ('Hugh Jackman Wins Best Actor', 2), ('Clooney wins Best Old Man Crush', 2), ('Daniel Day-Lewis wins Best Actor - Drama', 2), ('Daniel Day Lewis wins Best Actor - Drama', 2), ('Daniel Day Lewis wins Best Actor Award', 2), ('Daniel Day-Lewis wins Best Actor Motion Picture Drama', 2), ('Jennifer Lawrence wins Best Actress', 2), ('Les Mis won Best Motion Picture', 2), ('Hugh Jackman wins Best Lead Actor', 2), ('Jessica Chastain WINS Best Actress Drama', 2), ('Jennifer Lawrence wins Best Actress-Motion Picture', 2)]\n"
     ]
    }
   ],
   "source": [
    "winners = sorted(winners.items(), key=lambda item: item[1], reverse = True)\n",
    "print(winners)"
   ]
  },
  {
   "cell_type": "code",
   "execution_count": 5,
   "metadata": {},
   "outputs": [],
   "source": [
    "import Levenshtein\n",
    "# tweet = string, awards = dict\n",
    "def DistMeasure(tweet):\n",
    "    awards = {}\n",
    "    tweet = tweet.lower()\n",
    "    tweet = tweet.replace('tv', 'television')\n",
    "    tweet = tweet.replace('film', 'motion picture')\n",
    "    tweet = tweet.replace('movie', 'motion picture')\n",
    "    for award in new_award_names:\n",
    "        split_award = award.split()\n",
    "        award_dist = 0\n",
    "        \n",
    "        split_tweet = tweet.split()\n",
    "        for word in split_tweet:\n",
    "            array = []\n",
    "            for word2 in split_award:\n",
    "                array.append(Levenshtein.distance(word, word2))\n",
    "            min_val = array[np.argmin(array)]\n",
    "            award_dist += min_val\n",
    "        awards[award] = award_dist\n",
    "        \n",
    "    val = min(awards.values())\n",
    "    res = [key for key in awards if awards[key] == val]\n",
    "    if len(res) > 10:\n",
    "        res = []\n",
    "    return res"
   ]
  },
  {
   "cell_type": "code",
   "execution_count": 19,
   "metadata": {},
   "outputs": [
    {
     "name": "stdout",
     "output_type": "stream",
     "text": [
      "[{}, {'les misèrables': 1, 'les misérables': 1}, {}, {}, {'ben affleck': 3, 'quentin tarantino': 1}, {'daniel day-lewis': 3, 'anne hathaway': 1, 'hugh jackman': 3, 'daniel day lewis': 2}, {'anne hathaway': 1, 'don cheadle': 1, 'hugh jackman': 3, 'les misèrables': 1, 'les misérables': 1, 'clooney': 1, 'daniel day lewis': 1}, {'jennifer lawrence': 3, 'jessica chastain': 2}, {'jennifer lawrence': 3, 'les misèrables': 1, 'les misérables': 1, 'clooney': 1}, {'christoph waltz': 6, 'hugh jackman': 3, 'daniel day lewis': 1}, {'jennifer lawrence': 2}, {'quentin tarantino': 1}, {'mychael danna': 1, 'vulture: life of pi': 1}, {'adele': 5, 'yayyyy adele': 1, 'glad adele': 1}, {'homeland': 1}, {'homeland': 1}, {}, {'damian lewis': 1, 'anne hathaway': 1, 'homeland': 1, 'hugh jackman': 2, 'daniel day-lewis': 1, 'daniel day lewis': 2}, {'damian lewis': 1, 'don cheadle': 2, 'anne hathaway': 1, 'homeland': 1, 'hugh jackman': 2, 'clooney': 1, 'daniel day lewis': 1}, {'anne hathaway': 1, 'kevin costner': 1, 'hugh jackman': 3, 'clooney': 1, 'daniel day lewis': 1}, {'jennifer lawrence': 2, 'claire danes': 4, 'lena dunham': 1, 'homeland': 1, 'jessica chastain': 2}, {'claire danes': 2, 'lena dunham': 1, 'homeland': 1, 'clooney': 1, 'jennifer lawrence': 1}, {'claire danes': 1, 'clooney': 1, 'jennifer lawrence': 2}, {'christoph waltz': 6, 'ed harris': 1, 'anne hathaway': 1, 'kevin costner': 1, 'hugh jackman': 3, 'clooney': 1, 'daniel day lewis': 1}, {'claire danes': 1, 'clooney': 1, 'jennifer lawrence': 2}]\n"
     ]
    }
   ],
   "source": [
    "award_list = [dict() for x in range(len(new_award_names))]\n",
    "\n",
    "for tweet in winners: \n",
    "    tweet = tweet[0]\n",
    "    split = tweet.lower().split()\n",
    "    \n",
    "    index = split.index(\"best\")\n",
    "\n",
    "    award_phrase = \" \".join(split[index:])\n",
    "    matching_awards = DistMeasure(award_phrase)\n",
    "    for a in matching_awards:\n",
    "        award_index = new_award_names.index(a)      \n",
    "        if \"present\" in split:\n",
    "            person_index = split.index(\"present\")\n",
    "        if \"gave\" in split:\n",
    "            person_index = split.index(\"gave\")\n",
    "        person = split[:index-1]\n",
    "        person = \" \".join(person)\n",
    "        if person not in award_list[award_index]:\n",
    "            award_list[award_index][person] = 1\n",
    "        else:\n",
    "            award_list[award_index][person] = award_list[award_index][person]+1\n",
    "\n",
    "print(award_list)"
   ]
  },
  {
   "cell_type": "code",
   "execution_count": 20,
   "metadata": {},
   "outputs": [
    {
     "name": "stdout",
     "output_type": "stream",
     "text": [
      "[[], ['les misèrables'], [], [], ['ben affleck'], ['daniel day-lewis'], ['hugh jackman'], ['jennifer lawrence'], ['jennifer lawrence'], ['christoph waltz'], ['jennifer lawrence'], ['quentin tarantino'], ['mychael danna'], ['adele'], ['homeland'], ['homeland'], [], ['hugh jackman'], ['don cheadle'], ['hugh jackman'], ['claire danes'], ['claire danes'], ['jennifer lawrence'], ['christoph waltz'], ['jennifer lawrence']]\n"
     ]
    }
   ],
   "source": [
    "import operator\n",
    "i = 0\n",
    "awards = [[] for x in range(len(new_award_names))]\n",
    "for award in award_list:\n",
    "    if award != {}:\n",
    "        max_val = max(award.items(), key=operator.itemgetter(1))[1]\n",
    "        j = 0\n",
    "        list_award = list(award)\n",
    "        for b in award:\n",
    "            if award[b] == max_val and len(awards[i]) < 1:\n",
    "                awards[i].append(list_award[j])\n",
    "            j+=1\n",
    "    i+=1\n",
    "print(awards)"
   ]
  },
  {
   "cell_type": "code",
   "execution_count": 21,
   "metadata": {},
   "outputs": [
    {
     "name": "stdout",
     "output_type": "stream",
     "text": [
      "{'Best Motion Picture – Drama': [], 'Best Motion Picture – Musical or Comedy': ['les misèrables'], 'Best Motion Picture – Foreign Language': [], 'Best Motion Picture – Animated': [], 'Best Director – Motion Picture': ['ben affleck'], 'Best Actor in a Motion Picture – Drama': ['daniel day-lewis'], 'Best Actor in a Motion Picture – Musical or Comedy': ['hugh jackman'], 'Best Actress in a Motion Picture – Drama': ['jennifer lawrence'], 'Best Actress in a Motion Picture – Musical or Comedy': ['jennifer lawrence'], 'Best Supporting Actor – Motion Picture': ['christoph waltz'], 'Best Supporting Actress – Motion Picture': ['jennifer lawrence'], 'Best Screenplay – Motion Picture': ['quentin tarantino'], 'Best Original Score – Motion Picture': ['mychael danna'], 'Best Original Song – Motion Picture': ['adele'], 'Best Television Series – Drama': ['homeland'], 'Best Television Series – Musical or Comedy': ['homeland'], 'Best Miniseries or Motion Picture – Television': [], 'Best Actor in a Television Series – Drama': ['hugh jackman'], 'Best Actor in a Television Series – Musical or Comedy': ['don cheadle'], 'Best Actor in a Miniseries or Motion Picture – Television': ['hugh jackman'], 'Best Actress in a Television Series – Drama': ['claire danes'], 'Best Actress in a Television Series – Musical or Comedy': ['claire danes'], 'Best Actress in a Miniseries or Motion Picture – Television': ['jennifer lawrence'], 'Best Supporting Actor in a Series, Miniseries or Motion Picture – Television': ['christoph waltz'], 'Best Supporting Actress in a Series, Miniseries or Motion Picture – Television': ['jennifer lawrence']}\n"
     ]
    }
   ],
   "source": [
    "result = dict(zip(award_names, awards)) \n",
    "print(result)"
   ]
  }
 ],
 "metadata": {
  "kernelspec": {
   "display_name": "Python 3",
   "language": "python",
   "name": "python3"
  },
  "language_info": {
   "codemirror_mode": {
    "name": "ipython",
    "version": 3
   },
   "file_extension": ".py",
   "mimetype": "text/x-python",
   "name": "python",
   "nbconvert_exporter": "python",
   "pygments_lexer": "ipython3",
   "version": "3.8.3"
  }
 },
 "nbformat": 4,
 "nbformat_minor": 4
}
