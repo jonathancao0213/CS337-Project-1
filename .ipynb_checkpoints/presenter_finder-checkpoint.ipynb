{
 "cells": [
  {
   "cell_type": "code",
   "execution_count": 68,
   "metadata": {},
   "outputs": [],
   "source": [
    "award_names = ['cecil b. demille award',\n",
    " 'best motion picture - drama',\n",
    " 'best performance by an actress in a motion picture - drama',\n",
    " 'best performance by an actor in a motion picture - drama',\n",
    " 'best motion picture - comedy or musical',\n",
    " 'best performance by an actress in a motion picture - comedy or musical',\n",
    " 'best performance by an actor in a motion picture - comedy or musical',\n",
    " 'best animated feature film',\n",
    " 'best foreign language film',\n",
    " 'best performance by an actress in a supporting role in a motion picture',\n",
    " 'best performance by an actor in a supporting role in a motion picture',\n",
    " 'best director - motion picture',\n",
    " 'best screenplay - motion picture',\n",
    " 'best original score - motion picture',\n",
    " 'best original song - motion picture',\n",
    " 'best television series - drama', 'best performance by an actress in a television series - drama',\n",
    " 'best performance by an actor in a television series - drama',\n",
    " 'best television series - comedy or musical',\n",
    " 'best performance by an actress in a television series - comedy or musical',\n",
    " 'best performance by an actor in a television series - comedy or musical',\n",
    " 'best mini-series or motion picture made for television',\n",
    " 'best performance by an actress in a mini-series or motion picture made for television',\n",
    " 'best performance by an actor in a mini-series or motion picture made for television',\n",
    " 'best performance by an actress in a supporting role in a series, mini-series or motion picture made for television',\n",
    " 'best performance by an actor in a supporting role in a series, mini-series or motion picture made for television']\n"
   ]
  },
  {
   "cell_type": "code",
   "execution_count": 69,
   "metadata": {},
   "outputs": [],
   "source": [
    "import numpy as np\n",
    "import pandas as pd\n",
    "import spacy\n",
    "from spacy import displacy\n",
    "from collections import defaultdict"
   ]
  },
  {
   "cell_type": "code",
   "execution_count": 70,
   "metadata": {},
   "outputs": [
    {
     "name": "stdout",
     "output_type": "stream",
     "text": [
      "1610\n"
     ]
    }
   ],
   "source": [
    "df = pd.read_json('../gg2015.json')\n",
    "df = df['text']\n",
    "df = df[df.str.contains('present|announc|introduc', case = False)]\n",
    "df = df[~df.str.contains('think|should|maybe|RT @', case = False)]\n",
    "# df = df[df.str.contains('best', case = False)]\n",
    "df = df.str.replace('http\\S+|www.\\S+', '', case=False,regex=True)\n",
    "df = df.str.replace('TV|tv', \"television\", case = False, regex = True)\n",
    "wins_df = df.str.replace('#GoldenGlobes|#GoldenGlobe|golden|globes|globes', \"\", case = False, regex = True)\n",
    "if wins_df.size > 8000:\n",
    "    wins_df = wins_df.sample(8000)\n",
    "print(len(wins_df))"
   ]
  },
  {
   "cell_type": "code",
   "execution_count": 71,
   "metadata": {},
   "outputs": [],
   "source": [
    "from spacy.matcher import Matcher\n",
    "from spacy.tokens import Span\n",
    "nlp = spacy.load('en_core_web_md')\n",
    "from string import punctuation"
   ]
  },
  {
   "cell_type": "code",
   "execution_count": 72,
   "metadata": {},
   "outputs": [],
   "source": [
    "# pattern1 = [{\"ENT_TYPE\": \"PERSON\", 'OP':'+'}, {\"LEMMA\": \"win\"}, {\"ORTH\":'Best'}, {\"DEP\": 'compound', 'OP':'+'}, {\"POS\":'NOUN', 'OP':'*'}, {'IS_PUNCT': True, 'OP':'?'}, {\"POS\": 'PROPN', 'OP':'*'}]\n",
    "# pattern2 = [{\"ENT_TYPE\": \"WORK_OF_ART\", 'OP':'+'}, {\"LEMMA\": \"win\"}, {\"ORTH\":'Best'}, {\"DEP\": 'compound', 'OP':'+'}, {\"POS\":'NOUN', 'OP':'*'}, {'IS_PUNCT': True, 'OP':'?'}, {\"POS\": 'PROPN', 'OP':'*'}]\n",
    "# pattern3 = [{\"ENT_TYPE\": \"PERSON\", 'OP':'+'}, {\"LEMMA\": \"win\"}, {\"ORTH\":'Best'}, {\"ENT_TYPE\": \"WORK_OF_ART\", 'OP':'+'}]\n",
    "# pattern4 = [{\"ENT_TYPE\": \"WORK_OF_ART\", 'OP':'+'}, {\"LEMMA\": \"win\"}, {\"ORTH\":'Best'}, {\"ENT_TYPE\": \"WORK_OF_ART\", 'OP':'+'}]\n",
    "# pattern5 = [{\"ORTH\":'Best'}, {\"ENT_TYPE\": \"WORK_OF_ART\", 'OP':'+'},{\"TEXT\": \"goes\"}, {\"TEXT\": \"to\"}, {\"ENT_TYPE\": \"PERSON\", 'OP':'+'}] \n",
    "# pattern6 = [{\"ORTH\":'Best'}, {\"DEP\": 'compound', 'OP':'+'}, {\"POS\":'NOUN', 'OP':'*'}, {'IS_PUNCT': True, 'OP':'?'}, {\"POS\": 'PROPN', 'OP':'*'}, {\"TEXT\": \"goes\"}, {\"TEXT\": \"to\"}, {\"ENT_TYPE\": \"PERSON\", 'OP':'+'}] \n",
    "\n",
    "person_pattern = [{\"ENT_TYPE\": \"PERSON\", 'OP':'+'}]\n",
    "film_pattern = [{\"ENT_TYPE\": 'ORG', 'OP':'+'}]\n",
    "\n",
    "award_pattern = [{\"LOWER\":'best'}, {\"DEP\":{\"IN\":['compound','nmod','dobj','prep','det','pobj','amod','nsubj','ROOT']}, 'OP':'+'},{'ORTH': '-', 'OP':'?'}, {\"POS\": {\"IN\": ['PROPN','NOUN','CCONJ','ADJ']}, 'OP':'*'}]"
   ]
  },
  {
   "cell_type": "code",
   "execution_count": 73,
   "metadata": {},
   "outputs": [
    {
     "name": "stdout",
     "output_type": "stream",
     "text": [
      "Skyfall ORG\n"
     ]
    }
   ],
   "source": [
    "doc = nlp('Skyfall wins best motion picture drama - Skyfall')\n",
    "for entity in doc.ents:\n",
    "    print(entity.text, entity.label_)"
   ]
  },
  {
   "cell_type": "code",
   "execution_count": 74,
   "metadata": {},
   "outputs": [],
   "source": [
    "matcher = Matcher(nlp.vocab)\n",
    "matcher.add('Person',[person_pattern])\n",
    "matcher.add('Award',[award_pattern])\n",
    "matcher.add('Film',[film_pattern])\n",
    "# matches = matcher(doc)"
   ]
  },
  {
   "cell_type": "code",
   "execution_count": 75,
   "metadata": {},
   "outputs": [],
   "source": [
    "def find_mapping(matches):\n",
    "    winner_len = 0\n",
    "    award_len = 0\n",
    "    winner = ''\n",
    "    award = ''\n",
    "    for match_id, start, end in matches:\n",
    "        string_id = nlp.vocab.strings[match_id]\n",
    "        span = doc[start:end]\n",
    "        span_len = len(span.text)\n",
    "        if string_id == 'Person' and len(span)<= 2:\n",
    "            if winner_len < span_len:\n",
    "                winner = span.text\n",
    "                winner_len = span_len      \n",
    "        elif string_id == 'Award':\n",
    "            if award_len < span_len:\n",
    "                award = span.text\n",
    "                award_len = span_len\n",
    "    winner = str(winner).strip(punctuation).strip()\n",
    "    award = str(award).strip(punctuation).strip()\n",
    "    key = (winner.lower(),award)\n",
    "    return key"
   ]
  },
  {
   "cell_type": "code",
   "execution_count": 76,
   "metadata": {},
   "outputs": [],
   "source": [
    "winners = {}\n",
    "winners = defaultdict(lambda: 0, winners)\n",
    "for i, text in wins_df.iteritems():\n",
    "    doc = nlp(text)\n",
    "    matches = matcher(doc)\n",
    "    if len(matches) != 0:\n",
    "        key = find_mapping(matches)\n",
    "        if (key[0] != '' and key[1] != ''):\n",
    "            winners[key] = winners[key] +1"
   ]
  },
  {
   "cell_type": "code",
   "execution_count": 77,
   "metadata": {},
   "outputs": [
    {
     "name": "stdout",
     "output_type": "stream",
     "text": [
      "{('jennifer lawrence', 'Best Supporting Actor in a Drama'): 1, ('bradley cooper', 'Best Supporting Actor in a Motion Picture'): 1, ('christoph waltz', 'Best Supporting Actor'): 1, ('kerry washington', 'best supporting actress in a series'): 1, ('rosario dawson', 'Best Exotic Marigold Hotel'): 1, ('películas nominadas', 'Best Exotic Marigold Hotel'): 1, ('jesse', 'best clip'): 2, ('paul rudd', 'Best drama series'): 1, ('maggie smith', 'Best supporting actress television series'): 1, ('paul rudd', 'best drama than what they'): 1, ('jennifer lopez', 'Best Score award to Mychael Danna'): 1, ('j. lo', 'Best Original Song'): 1, ('ricky gervais', 'Best Things'): 1, ('clinton', 'Best idea'): 1, ('bill clinton', 'best picture tonight'): 1, ('clinton', 'Best Picture nominee #Lincoln'): 1, ('bill clinton', 'Best Picture nominee Lincoln'): 2, ('bill clinton', 'Best Picture'): 1, ('hilary clinton', 'Best Picture nominee Lincoln'): 1, ('clinton', 'best motion picture nominee'): 1, ('clinton', 'best picture at the'): 1, ('clinton', 'best pic'): 1, ('snl', 'Best presentation of the night hands'): 1, ('hilarious', 'Best presenters'): 1, ('will ferrell', 'Best Actress - Comedy or Musical'): 1, ('will farrell', 'best presenters'): 1, ('kristen wiig', 'Best presentation at any award show'): 1, ('kristen wiig', 'Best presentation'): 1, ('will ferrell', 'Best Actress'): 1, ('willferrell', 'best presenter'): 1, ('jennifer lawrence', 'best presenters'): 1, ('kristen wiig', 'best presentation'): 1, ('will ferrell', 'Best presenters'): 1, ('kristen wiig', 'Best presenters of the'): 1, ('will ferrell', 'best presenters'): 1, ('jennifer lawrence', 'best actress comedy movie'): 1, ('tommy lee', 'Best presenters evah'): 1, ('bill clinton', 'best film'): 1, ('anne hathaway', 'Best Supporting Actress'): 1, ('kristen wiig', 'best presenters'): 1, ('robert pattinson', 'Best Screenplay - Motion Picture'): 1, ('robert pattinson', 'Best Screenplay Motion Picture with Amanda Seyfried'): 1, ('jeremy irons', 'best film nominee - Salmon Fishing'): 1, ('best actress', 'Best Actress announcement was'): 1, ('arnold', 'Best Foreign Film'): 1, ('sylvester stallone', 'Best Foreign Language Film'): 1, ('zero necks', 'best foreign film'): 1, ('arnold', 'best foreign film'): 1, ('arnie', 'Best Foreign Film'): 1, ('stallone', 'Best Foreign Language Film'): 1, ('schwarzenegger', 'Best Foreign Film to'): 1, ('sylvester', 'Best Foreign Language award'): 1, ('nathan fillion', 'Best Actress in a television Series - Drama'): 1, ('schwarzenegger', 'Best Foreign Film'): 1, ('schwarzenegger', 'Best Foreign Film at the'): 1, ('bill clinton', 'Best Motion Picture at'): 2, ('arnold schwarzenegger', 'Best Foreign Language Film and'): 1, ('claire danes', 'Best Actress in a television Drama to Claire Danes for #Homeland'): 1, ('linda ronstadt', 'best celebrity couple of the year'): 1, ('forgothewasbritish', 'best screenplay'): 1, ('sasha', 'Best Animated Feature'): 1, ('tarantino', 'best animated feature'): 1, ('liev schreiber', 'Best Picture presentation'): 1, ('bill clinton', 'best picture nominee at'): 1, ('hilarious', 'Best Presenter of the night'): 1, ('halle berry', 'Best Director to Ben Affleck for ARGO'): 1, ('jimmy fallon', 'best television series comedy or musical'): 1, ('ughhhh jay', 'Best Comedy'): 1, ('dustin hoffman', 'Best Motion Picture Comedy or Musical'): 1, ('lewis lincoln', 'Best Actor in a Motion Picture Drama----Daniel Day Lewis Lincoln'): 1, ('julia roberts', 'Best Motion Picture'): 1, ('julia roberts', 'best picture'): 1, ('julia roberts', 'Best Picture'): 1, ('drama', 'Best Motion Picture'): 1, ('julia roberts', 'best motion picture drama at the'): 1, ('bes', 'Best Director'): 1, ('kristin wiig', 'best presenters'): 1}\n"
     ]
    }
   ],
   "source": [
    "# winners = sorted(winners.items(), key=lambda item: item[1], reverse = True)\n",
    "winners = dict(winners)\n",
    "print(winners)"
   ]
  },
  {
   "cell_type": "code",
   "execution_count": 78,
   "metadata": {},
   "outputs": [
    {
     "name": "stdout",
     "output_type": "stream",
     "text": [
      "[(('jesse', 'best clip'), 2), (('bill clinton', 'Best Picture nominee Lincoln'), 2), (('bill clinton', 'Best Motion Picture at'), 2), (('jennifer lawrence', 'Best Supporting Actor in a Drama'), 1), (('bradley cooper', 'Best Supporting Actor in a Motion Picture'), 1), (('christoph waltz', 'Best Supporting Actor'), 1), (('kerry washington', 'best supporting actress in a series'), 1), (('rosario dawson', 'Best Exotic Marigold Hotel'), 1), (('películas nominadas', 'Best Exotic Marigold Hotel'), 1), (('paul rudd', 'Best drama series'), 1), (('maggie smith', 'Best supporting actress television series'), 1), (('paul rudd', 'best drama than what they'), 1), (('jennifer lopez', 'Best Score award to Mychael Danna'), 1), (('j. lo', 'Best Original Song'), 1), (('ricky gervais', 'Best Things'), 1), (('clinton', 'Best idea'), 1), (('bill clinton', 'best picture tonight'), 1), (('clinton', 'Best Picture nominee #Lincoln'), 1), (('bill clinton', 'Best Picture'), 1), (('hilary clinton', 'Best Picture nominee Lincoln'), 1), (('clinton', 'best motion picture nominee'), 1), (('clinton', 'best picture at the'), 1), (('clinton', 'best pic'), 1), (('snl', 'Best presentation of the night hands'), 1), (('hilarious', 'Best presenters'), 1), (('will ferrell', 'Best Actress - Comedy or Musical'), 1), (('will farrell', 'best presenters'), 1), (('kristen wiig', 'Best presentation at any award show'), 1), (('kristen wiig', 'Best presentation'), 1), (('will ferrell', 'Best Actress'), 1), (('willferrell', 'best presenter'), 1), (('jennifer lawrence', 'best presenters'), 1), (('kristen wiig', 'best presentation'), 1), (('will ferrell', 'Best presenters'), 1), (('kristen wiig', 'Best presenters of the'), 1), (('will ferrell', 'best presenters'), 1), (('jennifer lawrence', 'best actress comedy movie'), 1), (('tommy lee', 'Best presenters evah'), 1), (('bill clinton', 'best film'), 1), (('anne hathaway', 'Best Supporting Actress'), 1), (('kristen wiig', 'best presenters'), 1), (('robert pattinson', 'Best Screenplay - Motion Picture'), 1), (('robert pattinson', 'Best Screenplay Motion Picture with Amanda Seyfried'), 1), (('jeremy irons', 'best film nominee - Salmon Fishing'), 1), (('best actress', 'Best Actress announcement was'), 1), (('arnold', 'Best Foreign Film'), 1), (('sylvester stallone', 'Best Foreign Language Film'), 1), (('zero necks', 'best foreign film'), 1), (('arnold', 'best foreign film'), 1), (('arnie', 'Best Foreign Film'), 1), (('stallone', 'Best Foreign Language Film'), 1), (('schwarzenegger', 'Best Foreign Film to'), 1), (('sylvester', 'Best Foreign Language award'), 1), (('nathan fillion', 'Best Actress in a television Series - Drama'), 1), (('schwarzenegger', 'Best Foreign Film'), 1), (('schwarzenegger', 'Best Foreign Film at the'), 1), (('arnold schwarzenegger', 'Best Foreign Language Film and'), 1), (('claire danes', 'Best Actress in a television Drama to Claire Danes for #Homeland'), 1), (('linda ronstadt', 'best celebrity couple of the year'), 1), (('forgothewasbritish', 'best screenplay'), 1), (('sasha', 'Best Animated Feature'), 1), (('tarantino', 'best animated feature'), 1), (('liev schreiber', 'Best Picture presentation'), 1), (('bill clinton', 'best picture nominee at'), 1), (('hilarious', 'Best Presenter of the night'), 1), (('halle berry', 'Best Director to Ben Affleck for ARGO'), 1), (('jimmy fallon', 'best television series comedy or musical'), 1), (('ughhhh jay', 'Best Comedy'), 1), (('dustin hoffman', 'Best Motion Picture Comedy or Musical'), 1), (('lewis lincoln', 'Best Actor in a Motion Picture Drama----Daniel Day Lewis Lincoln'), 1), (('julia roberts', 'Best Motion Picture'), 1), (('julia roberts', 'best picture'), 1), (('julia roberts', 'Best Picture'), 1), (('drama', 'Best Motion Picture'), 1), (('julia roberts', 'best motion picture drama at the'), 1), (('bes', 'Best Director'), 1), (('kristin wiig', 'best presenters'), 1)]\n"
     ]
    }
   ],
   "source": [
    "sort_d = sorted(winners.items(), key=lambda item: item[1], reverse = True)\n",
    "print(sort_d)"
   ]
  },
  {
   "cell_type": "code",
   "execution_count": 79,
   "metadata": {},
   "outputs": [],
   "source": [
    "import Levenshtein\n",
    "def map_to_a_award(tweet):\n",
    "    awards = {}\n",
    "    tweet = tweet.lower()\n",
    "    for award in award_names:\n",
    "        split_award = award.split()\n",
    "        award_dist = 0\n",
    "        split_tweet = tweet.split()\n",
    "        for word in tweet.split():\n",
    "            min_val = float('inf')\n",
    "            for word2 in award.split():\n",
    "                min_val = min(min_val,Levenshtein.distance(word, word2))\n",
    "            award_dist += min_val\n",
    "        awards[award] = award_dist\n",
    "        \n",
    "    val = min(awards.values())\n",
    "    res = [key for key in awards if awards[key] == val]\n",
    "    return res"
   ]
  },
  {
   "cell_type": "code",
   "execution_count": 80,
   "metadata": {},
   "outputs": [
    {
     "name": "stdout",
     "output_type": "stream",
     "text": [
      "{'cecil b. demille award': '', 'best motion picture - drama': 'bill clinton', 'best performance by an actress in a motion picture - drama': 'bill clinton', 'best performance by an actor in a motion picture - drama': 'bill clinton', 'best motion picture - comedy or musical': 'bill clinton', 'best performance by an actress in a motion picture - comedy or musical': 'bill clinton', 'best performance by an actor in a motion picture - comedy or musical': 'bill clinton', 'best animated feature film': 'willferrell', 'best foreign language film': 'schwarzenegger', 'best performance by an actress in a supporting role in a motion picture': 'bill clinton', 'best performance by an actor in a supporting role in a motion picture': 'bill clinton', 'best director - motion picture': 'bill clinton', 'best screenplay - motion picture': 'bill clinton', 'best original score - motion picture': 'bill clinton', 'best original song - motion picture': 'bill clinton', 'best television series - drama': 'kristen wiig', 'best performance by an actress in a television series - drama': 'kristen wiig', 'best performance by an actor in a television series - drama': 'kristen wiig', 'best television series - comedy or musical': 'kristen wiig', 'best performance by an actress in a television series - comedy or musical': 'kristen wiig', 'best performance by an actor in a television series - comedy or musical': 'kristen wiig', 'best mini-series or motion picture made for television': 'clinton', 'best performance by an actress in a mini-series or motion picture made for television': 'bill clinton', 'best performance by an actor in a mini-series or motion picture made for television': 'bill clinton', 'best performance by an actress in a supporting role in a series, mini-series or motion picture made for television': 'bill clinton', 'best performance by an actor in a supporting role in a series, mini-series or motion picture made for television': 'bill clinton'}\n"
     ]
    }
   ],
   "source": [
    "final_ans = {}\n",
    "for award in award_names:\n",
    "    sub_dict = {}\n",
    "    sub_dict = defaultdict(lambda: 0, sub_dict)\n",
    "    final_ans[award] = sub_dict\n",
    "for pair,count in winners.items():\n",
    "    award = pair[1]\n",
    "    person = pair[0]\n",
    "    possible_awards = map_to_a_award(award)\n",
    "    for ard in possible_awards:\n",
    "        final_ans[ard][person] = final_ans[ard][person] + count\n",
    "for ans in final_ans:\n",
    "    if len(final_ans[ans].items()) > 0:\n",
    "        final_ans[ans] = max(final_ans[ans], key=final_ans[ans].get)\n",
    "    else:\n",
    "        final_ans[ans] = ''\n",
    "print(final_ans)"
   ]
  },
  {
   "cell_type": "code",
   "execution_count": null,
   "metadata": {},
   "outputs": [],
   "source": []
  },
  {
   "cell_type": "code",
   "execution_count": null,
   "metadata": {},
   "outputs": [],
   "source": []
  }
 ],
 "metadata": {
  "kernelspec": {
   "display_name": "Python 3",
   "language": "python",
   "name": "python3"
  },
  "language_info": {
   "codemirror_mode": {
    "name": "ipython",
    "version": 3
   },
   "file_extension": ".py",
   "mimetype": "text/x-python",
   "name": "python",
   "nbconvert_exporter": "python",
   "pygments_lexer": "ipython3",
   "version": "3.8.5"
  }
 },
 "nbformat": 4,
 "nbformat_minor": 4
}
