{
 "cells": [
  {
   "cell_type": "code",
   "execution_count": 2,
   "metadata": {},
   "outputs": [],
   "source": [
    "import numpy as np\n",
    "import pandas as pd\n",
    "import spacy\n",
    "from spacy import displacy\n",
    "from collections import defaultdict"
   ]
  },
  {
   "cell_type": "code",
   "execution_count": 3,
   "metadata": {},
   "outputs": [],
   "source": [
    "nlp = spacy.load(\"en_core_web_md\")"
   ]
  },
  {
   "cell_type": "code",
   "execution_count": 5,
   "metadata": {},
   "outputs": [],
   "source": [
    "df = pd.read_json('../gg2013.json')\n",
    "df = df['text']\n",
    "df = df.str.replace('#GoldenGlobes|golden|globes|globe', \"\", case = False)\n",
    "dressed_df = df[df.str.contains('best', case = False)]"
   ]
  },
  {
   "cell_type": "code",
   "execution_count": 19,
   "metadata": {},
   "outputs": [
    {
     "data": {
      "text/plain": [
       "135        RT @LDReyGlobal: Lana Del Rey is nominated to ...\n",
       "232        RT @LanaDelReyExtra: Lana Del Rey will be atte...\n",
       "362        RT @ldreytumblr: Lana Del Rey will be attendin...\n",
       "373        RT @Dean97James: That awkward moment when Lana...\n",
       "1354       RT @LDReyGlobal: Lana Del Rey will be attendin...\n",
       "                                 ...                        \n",
       "1752369    RT @LanaDReyOnline: Lana Del Rey on the Red Ca...\n",
       "1752535    RT @ldreytumblr: Lana Del Rey on the Red Carpe...\n",
       "1752808    Set de fotos: lanamusic: Lana Del Rey at 72nd ...\n",
       "1753018             RT @lalicakes11: Lana Del Rey at the   😍\n",
       "1753784    Lana del rey at the   tonight!! She is perfect...\n",
       "Name: text, Length: 23434, dtype: object"
      ]
     },
     "execution_count": 19,
     "metadata": {},
     "output_type": "execute_result"
    }
   ],
   "source": [
    "# lana_tweets = df[df.str.contains('lana del rey', case = False)]\n",
    "# lana_tweets = lana_tweets[~lana_tweets.str.contains('worst|bad|ugly|hate', case = False)]\n",
    "\n",
    "# lana_tweets"
   ]
  },
  {
   "cell_type": "code",
   "execution_count": 6,
   "metadata": {},
   "outputs": [
    {
     "data": {
      "text/plain": [
       "16        Why did I just flip out? Because one of the be...\n",
       "47        Seacrest asked what Ben Affleck's kids wrote o...\n",
       "49        RT @Loki_Page:  Times! We wish good luck tonig...\n",
       "67        Blinded by Kerry Washington's Miu Miu dress an...\n",
       "130       Seacrest asked what Ben Affleck's kids wrote o...\n",
       "                                ...                        \n",
       "174580    Best Actor, Drama:   For Film Goes To Daniel D...\n",
       "174605    Jessica Chastain, Best Actress Drama Winner At...\n",
       "174608    'Argo,' 'Les Miz' win best-picture  ; Day-Lewi...\n",
       "174620    RT @theblcklst: Black List scripts have now wo...\n",
       "174634    RT @: Best Television Series Actor - Drama - D...\n",
       "Name: text, Length: 18675, dtype: object"
      ]
     },
     "execution_count": 6,
     "metadata": {},
     "output_type": "execute_result"
    }
   ],
   "source": [
    "dressed_df"
   ]
  },
  {
   "cell_type": "code",
   "execution_count": 24,
   "metadata": {},
   "outputs": [],
   "source": [
    "dressed = {}\n",
    "dressed = defaultdict(lambda: 1, dressed)\n",
    "for i, value in dressed_df.iteritems():\n",
    "    for entity in nlp(value).ents:\n",
    "        if entity.label_ == 'PERSON':\n",
    "            dressed[entity.text] = dressed[entity.text] +1\n",
    "            \n",
    "dressed = sorted(dressed.items(), key=lambda item: item[1], reverse = True)"
   ]
  },
  {
   "cell_type": "code",
   "execution_count": 25,
   "metadata": {},
   "outputs": [
    {
     "name": "stdout",
     "output_type": "stream",
     "text": [
      "Best Dressed: Tina Fey\n"
     ]
    }
   ],
   "source": [
    "best_dressed_person = dressed[0][0]\n",
    "print(\"Best Dressed: \" + best_dressed_person)"
   ]
  },
  {
   "cell_type": "code",
   "execution_count": 7,
   "metadata": {},
   "outputs": [],
   "source": [
    "#took ~25 minutes"
   ]
  },
  {
   "cell_type": "code",
   "execution_count": null,
   "metadata": {},
   "outputs": [],
   "source": []
  }
 ],
 "metadata": {
  "kernelspec": {
   "display_name": "Python 3",
   "language": "python",
   "name": "python3"
  },
  "language_info": {
   "codemirror_mode": {
    "name": "ipython",
    "version": 3
   },
   "file_extension": ".py",
   "mimetype": "text/x-python",
   "name": "python",
   "nbconvert_exporter": "python",
   "pygments_lexer": "ipython3",
   "version": "3.8.3"
  }
 },
 "nbformat": 4,
 "nbformat_minor": 4
}
