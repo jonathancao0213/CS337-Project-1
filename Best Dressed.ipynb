{
 "cells": [
  {
   "cell_type": "code",
   "execution_count": 3,
   "metadata": {},
   "outputs": [],
   "source": [
    "import numpy as np\n",
    "import pandas as pd\n",
    "import spacy\n",
    "from spacy import displacy\n",
    "from collections import defaultdict"
   ]
  },
  {
   "cell_type": "code",
   "execution_count": 4,
   "metadata": {},
   "outputs": [],
   "source": [
    "nlp = spacy.load(\"en_core_web_md\")"
   ]
  },
  {
   "cell_type": "code",
   "execution_count": 10,
   "metadata": {},
   "outputs": [],
   "source": [
    "df = pd.read_json('../gg2013.json')\n",
    "df = df['text']\n",
    "df = df.str.replace('#GoldenGlobes|golden|globes|globe', \"\", case = False)\n",
    "dressed_df = df[df.str.contains('#redcarpet|red carpet|carpet|dressed|outfit', case = False)]"
   ]
  },
  {
   "cell_type": "code",
   "execution_count": 11,
   "metadata": {},
   "outputs": [
    {
     "data": {
      "text/plain": [
       "0                                 JLo's dress! #eredcarpet \n",
       "5         Podrán criticar a #Adele de su moda y su maniq...\n",
       "11        Jennifer Lopez's dress is jaw droppingly amazi...\n",
       "12        Jessica Alba is absolutely flawless, omg❤ #red...\n",
       "13            Werk @kerrywashington Stunning!!!  red carpet\n",
       "                                ...                        \n",
       "174506      2013 Worst-Dressed List: See The Fashion Flo...\n",
       "174545    I'm not all into red carpet fashion, but Miche...\n",
       "174598    RT @RPLife: 2 Red Carpet HQs added and maybe m...\n",
       "174607    Jennifer Lawrence vs. Zooey Deschanel: It's th...\n",
       "174610      2013 Worst-Dressed List: See The Fashion Flo...\n",
       "Name: text, Length: 4600, dtype: object"
      ]
     },
     "execution_count": 11,
     "metadata": {},
     "output_type": "execute_result"
    }
   ],
   "source": [
    "dressed_df"
   ]
  },
  {
   "cell_type": "code",
   "execution_count": 12,
   "metadata": {},
   "outputs": [],
   "source": [
    "dressed = {}\n",
    "dressed = defaultdict(lambda: 1, dressed)\n",
    "for i, value in dressed_df.iteritems():\n",
    "    for entity in nlp(value).ents:\n",
    "        if entity.label_ == 'PERSON':\n",
    "            dressed[entity.text] = dressed[entity.text] +1\n",
    "            \n",
    "dressed = sorted(dressed.items(), key=lambda item: item[1], reverse = True)"
   ]
  },
  {
   "cell_type": "code",
   "execution_count": 14,
   "metadata": {},
   "outputs": [
    {
     "name": "stdout",
     "output_type": "stream",
     "text": [
      "Best Dressed: Kate Hudson\n"
     ]
    }
   ],
   "source": [
    "best_dressed_person = dressed[0][0]\n",
    "print(\"Best Dressed: \" + best_dressed_person)"
   ]
  },
  {
   "cell_type": "code",
   "execution_count": null,
   "metadata": {},
   "outputs": [],
   "source": []
  }
 ],
 "metadata": {
  "kernelspec": {
   "display_name": "Python 3",
   "language": "python",
   "name": "python3"
  },
  "language_info": {
   "codemirror_mode": {
    "name": "ipython",
    "version": 3
   },
   "file_extension": ".py",
   "mimetype": "text/x-python",
   "name": "python",
   "nbconvert_exporter": "python",
   "pygments_lexer": "ipython3",
   "version": "3.8.3"
  }
 },
 "nbformat": 4,
 "nbformat_minor": 4
}
