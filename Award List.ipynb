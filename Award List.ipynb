{
 "cells": [
  {
   "cell_type": "code",
   "execution_count": 1,
   "metadata": {},
   "outputs": [
    {
     "data": {
      "text/plain": [
       "['Best Motion Picture – Drama',\n",
       " 'Best Motion Picture – Musical or Comedy',\n",
       " 'Best Motion Picture – Foreign Language',\n",
       " 'Best Motion Picture – Animated',\n",
       " 'Best Director – Motion Picture',\n",
       " 'Best Actor in a Motion Picture – Drama',\n",
       " 'Best Actor in a Motion Picture – Musical or Comedy',\n",
       " 'Best Actress in a Motion Picture – Drama',\n",
       " 'Best Actress in a Motion Picture – Musical or Comedy',\n",
       " 'Best Supporting Actor – Motion Picture',\n",
       " 'Best Supporting Actress – Motion Picture',\n",
       " 'Best Screenplay – Motion Picture',\n",
       " 'Best Original Score – Motion Picture',\n",
       " 'Best Original Song – Motion Picture',\n",
       " 'Best Television Series – Drama',\n",
       " 'Best Television Series – Musical or Comedy',\n",
       " 'Best Miniseries or Motion Picture – Television',\n",
       " 'Best Actor in a Television Series – Drama',\n",
       " 'Best Actor in a Television Series – Musical or Comedy',\n",
       " 'Best Actor in a Miniseries or Motion Picture – Television',\n",
       " 'Best Actress in a Television Series – Drama',\n",
       " 'Best Actress in a Television Series – Musical or Comedy',\n",
       " 'Best Actress in a Miniseries or Motion Picture – Television',\n",
       " 'Best Supporting Actor in a Series, Miniseries or Motion Picture – Television',\n",
       " 'Best Supporting Actress in a Series, Miniseries or Motion Picture – Television']"
      ]
     },
     "execution_count": 1,
     "metadata": {},
     "output_type": "execute_result"
    }
   ],
   "source": [
    "['Best Motion Picture – Drama', 'Best Motion Picture – Musical or Comedy', 'Best Motion Picture – Foreign Language',\n",
    " 'Best Motion Picture – Animated', 'Best Director – Motion Picture', 'Best Actor in a Motion Picture – Drama',\n",
    " 'Best Actor in a Motion Picture – Musical or Comedy', 'Best Actress in a Motion Picture – Drama',\n",
    " 'Best Actress in a Motion Picture – Musical or Comedy', 'Best Supporting Actor – Motion Picture',\n",
    " 'Best Supporting Actress – Motion Picture', 'Best Screenplay – Motion Picture', 'Best Original Score – Motion Picture',\n",
    " 'Best Original Song – Motion Picture', 'Best Television Series – Drama', 'Best Television Series – Musical or Comedy',\n",
    " 'Best Miniseries or Motion Picture – Television', 'Best Actor in a Television Series – Drama',\n",
    " 'Best Actor in a Television Series – Musical or Comedy', 'Best Actor in a Miniseries or Motion Picture – Television',\n",
    " 'Best Actress in a Television Series – Drama', 'Best Actress in a Television Series – Musical or Comedy',\n",
    " 'Best Actress in a Miniseries or Motion Picture – Television',\n",
    " 'Best Supporting Actor in a Series, Miniseries or Motion Picture – Television',\n",
    " 'Best Supporting Actress in a Series, Miniseries or Motion Picture – Television']"
   ]
  },
  {
   "cell_type": "code",
   "execution_count": null,
   "metadata": {},
   "outputs": [],
   "source": []
  }
 ],
 "metadata": {
  "kernelspec": {
   "display_name": "Python 3",
   "language": "python",
   "name": "python3"
  },
  "language_info": {
   "codemirror_mode": {
    "name": "ipython",
    "version": 3
   },
   "file_extension": ".py",
   "mimetype": "text/x-python",
   "name": "python",
   "nbconvert_exporter": "python",
   "pygments_lexer": "ipython3",
   "version": "3.8.3"
  }
 },
 "nbformat": 4,
 "nbformat_minor": 4
}
