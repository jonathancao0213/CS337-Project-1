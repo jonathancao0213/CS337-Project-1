{
 "cells": [
  {
   "cell_type": "code",
   "execution_count": 2,
   "metadata": {},
   "outputs": [
    {
     "name": "stdout",
     "output_type": "stream",
     "text": [
      "25\n"
     ]
    }
   ],
   "source": [
    "# awards = ['Best Motion Picture – Drama', 'Best Motion Picture – Musical or Comedy', 'Best Motion Picture – Foreign Language',\n",
    "#  'Best Motion Picture – Animated', 'Best Director – Motion Picture', 'Best Actor in a Motion Picture – Drama',\n",
    "#  'Best Actor in a Motion Picture – Musical or Comedy', 'Best Actress in a Motion Picture – Drama',\n",
    "#  'Best Actress in a Motion Picture – Musical or Comedy', 'Best Supporting Actor – Motion Picture',\n",
    "#  'Best Supporting Actress – Motion Picture', 'Best Screenplay – Motion Picture', 'Best Original Score – Motion Picture',\n",
    "#  'Best Original Song – Motion Picture', 'Best Television Series – Drama', 'Best Television Series – Musical or Comedy',\n",
    "#  'Best Miniseries or Motion Picture – Television', 'Best Actor in a Television Series – Drama',\n",
    "#  'Best Actor in a Television Series – Musical or Comedy', 'Best Actor in a Miniseries or Motion Picture – Television',\n",
    "#  'Best Actress in a Television Series – Drama', 'Best Actress in a Television Series – Musical or Comedy',\n",
    "#  'Best Actress in a Miniseries or Motion Picture – Television',\n",
    "#  'Best Supporting Actor in a Series, Miniseries or Motion Picture – Television',\n",
    "#  'Best Supporting Actress in a Series, Miniseries or Motion Picture – Television']\n",
    "# print(len(awards))"
   ]
  },
  {
   "cell_type": "code",
   "execution_count": 3,
   "metadata": {},
   "outputs": [
    {
     "name": "stdout",
     "output_type": "stream",
     "text": [
      "26\n"
     ]
    }
   ],
   "source": [
    "awards = [\"best screenplay - motion picture\", \n",
    "            \"best director - motion picture\", \n",
    "            \"best performance by an actress in a television series - comedy or musical\",\n",
    "            \"best foreign language film\",\n",
    "            \"best performance by an actor in a supporting role in a motion picture\",\n",
    "            \"best performance by an actress in a supporting role in a series, mini-series or motion picture made for television\",\n",
    "            \"best motion picture - comedy or musical\", \n",
    "            \"best performance by an actress in a motion picture - comedy or musical\", \n",
    "            \"best mini-series or motion picture made for television\", \"best original score - motion picture\", \n",
    "            \"best performance by an actress in a television series - drama\", \n",
    "            \"best performance by an actress in a motion picture - drama\",\n",
    "            \"cecil b. demille award\",\n",
    "            \"best performance by an actor in a motion picture - comedy or musical\", \"best motion picture - drama\",\n",
    "            \"best performance by an actor in a supporting role in a series, mini-series or motion picture made for television\", \n",
    "            \"best performance by an actress in a supporting role in a motion picture\",\n",
    "            \"best television series - drama\", \n",
    "            \"best performance by an actor in a mini-series or motion picture made for television\",\n",
    "            \"best performance by an actress in a mini-series or motion picture made for television\",\n",
    "            \"best animated feature film\", \"best original song - motion picture\", \n",
    "            \"best performance by an actor in a motion picture - drama\", \n",
    "            \"best television series - comedy or musical\",\n",
    "            \"best performance by an actor in a television series - drama\",\n",
    "            \"best performance by an actor in a television series - comedy or musical\"]"
   ]
  },
  {
   "cell_type": "code",
   "execution_count": null,
   "metadata": {},
   "outputs": [],
   "source": []
  }
 ],
 "metadata": {
  "kernelspec": {
   "display_name": "Python 3",
   "language": "python",
   "name": "python3"
  },
  "language_info": {
   "codemirror_mode": {
    "name": "ipython",
    "version": 3
   },
   "file_extension": ".py",
   "mimetype": "text/x-python",
   "name": "python",
   "nbconvert_exporter": "python",
   "pygments_lexer": "ipython3",
   "version": "3.8.5"
  }
 },
 "nbformat": 4,
 "nbformat_minor": 4
}
