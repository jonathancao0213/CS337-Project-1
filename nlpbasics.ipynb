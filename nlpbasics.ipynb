{
 "cells": [
  {
   "cell_type": "code",
<<<<<<< HEAD
   "execution_count": 1,
   "id": "worldwide-advocacy",
=======
   "execution_count": 2,
>>>>>>> 46ada37d5b4566ee40e1fbe0c39a7350e9b77dbc
   "metadata": {},
   "outputs": [],
   "source": [
    "import numpy as np\n",
    "import pandas as pd\n",
    "import spacy\n",
    "from spacy import displacy"
   ]
  },
  {
   "cell_type": "markdown",
<<<<<<< HEAD
   "id": "herbal-truck",
=======
>>>>>>> 46ada37d5b4566ee40e1fbe0c39a7350e9b77dbc
   "metadata": {},
   "source": [
    "Try to get familiar with some basics of pandas; it makes debugging a lot easier. "
   ]
  },
  {
   "cell_type": "code",
<<<<<<< HEAD
   "execution_count": 2,
   "id": "positive-implementation",
=======
   "execution_count": 4,
>>>>>>> 46ada37d5b4566ee40e1fbe0c39a7350e9b77dbc
   "metadata": {},
   "outputs": [
    {
     "data": {
      "text/html": [
       "<div>\n",
       "<style scoped>\n",
       "    .dataframe tbody tr th:only-of-type {\n",
       "        vertical-align: middle;\n",
       "    }\n",
       "\n",
       "    .dataframe tbody tr th {\n",
       "        vertical-align: top;\n",
       "    }\n",
       "\n",
       "    .dataframe thead th {\n",
       "        text-align: right;\n",
       "    }\n",
       "</style>\n",
       "<table border=\"1\" class=\"dataframe\">\n",
       "  <thead>\n",
       "    <tr style=\"text-align: right;\">\n",
       "      <th></th>\n",
       "      <th>text</th>\n",
       "      <th>user</th>\n",
       "      <th>id</th>\n",
       "      <th>timestamp_ms</th>\n",
       "    </tr>\n",
       "  </thead>\n",
       "  <tbody>\n",
       "    <tr>\n",
       "      <th>0</th>\n",
       "      <td>JLo's dress! #eredcarpet #GoldenGlobes</td>\n",
       "      <td>{'screen_name': 'Dozaaa_xo', 'id': 557374298}</td>\n",
       "      <td>290620657987887104</td>\n",
       "      <td>2013-01-14 00:45:38</td>\n",
       "    </tr>\n",
       "    <tr>\n",
       "      <th>1</th>\n",
       "      <td>What's making Sofia Vergara's boobs stay like ...</td>\n",
       "      <td>{'screen_name': 'theAmberShow', 'id': 14648726}</td>\n",
       "      <td>290620657887219713</td>\n",
       "      <td>2013-01-14 00:45:38</td>\n",
       "    </tr>\n",
       "    <tr>\n",
       "      <th>2</th>\n",
       "      <td>RT @FabSugar: Kerry Washington is EVERYTHING. ...</td>\n",
       "      <td>{'screen_name': 'SweetyPW', 'id': 35498686}</td>\n",
       "      <td>290620657828524032</td>\n",
       "      <td>2013-01-14 00:45:38</td>\n",
       "    </tr>\n",
       "    <tr>\n",
       "      <th>3</th>\n",
       "      <td>Anne Hathaway has got me living. #GoldenGlobes</td>\n",
       "      <td>{'screen_name': '_NicoleEdwards', 'id': 144430...</td>\n",
       "      <td>290620657799159809</td>\n",
       "      <td>2013-01-14 00:45:38</td>\n",
       "    </tr>\n",
       "    <tr>\n",
       "      <th>4</th>\n",
       "      <td>Jennifer Lopez's lace dress? Thoughts? #Golden...</td>\n",
       "      <td>{'screen_name': 'lolaogunnaike', 'id': 134953223}</td>\n",
       "      <td>290620657778188288</td>\n",
       "      <td>2013-01-14 00:45:38</td>\n",
       "    </tr>\n",
       "  </tbody>\n",
       "</table>\n",
       "</div>"
      ],
      "text/plain": [
       "                                                text  \\\n",
       "0             JLo's dress! #eredcarpet #GoldenGlobes   \n",
       "1  What's making Sofia Vergara's boobs stay like ...   \n",
       "2  RT @FabSugar: Kerry Washington is EVERYTHING. ...   \n",
       "3     Anne Hathaway has got me living. #GoldenGlobes   \n",
       "4  Jennifer Lopez's lace dress? Thoughts? #Golden...   \n",
       "\n",
       "                                                user                  id  \\\n",
       "0      {'screen_name': 'Dozaaa_xo', 'id': 557374298}  290620657987887104   \n",
       "1    {'screen_name': 'theAmberShow', 'id': 14648726}  290620657887219713   \n",
       "2        {'screen_name': 'SweetyPW', 'id': 35498686}  290620657828524032   \n",
       "3  {'screen_name': '_NicoleEdwards', 'id': 144430...  290620657799159809   \n",
       "4  {'screen_name': 'lolaogunnaike', 'id': 134953223}  290620657778188288   \n",
       "\n",
       "         timestamp_ms  \n",
       "0 2013-01-14 00:45:38  \n",
       "1 2013-01-14 00:45:38  \n",
       "2 2013-01-14 00:45:38  \n",
       "3 2013-01-14 00:45:38  \n",
       "4 2013-01-14 00:45:38  "
      ]
     },
     "execution_count": 2,
     "metadata": {},
     "output_type": "execute_result"
    }
   ],
   "source": [
    "df = pd.read_json('../gg2013.json')\n",
    "df.head()"
   ]
  },
  {
   "cell_type": "code",
<<<<<<< HEAD
   "execution_count": 3,
   "id": "christian-herald",
   "metadata": {},
   "outputs": [
    {
     "data": {
      "text/plain": [
       "0               JLo's dress! #eredcarpet #GoldenGlobes\n",
       "1    What's making Sofia Vergara's boobs stay like ...\n",
       "2    RT @FabSugar: Kerry Washington is EVERYTHING. ...\n",
       "3       Anne Hathaway has got me living. #GoldenGlobes\n",
       "4    Jennifer Lopez's lace dress? Thoughts? #Golden...\n",
       "Name: text, dtype: object"
      ]
     },
     "execution_count": 3,
     "metadata": {},
     "output_type": "execute_result"
    }
   ],
=======
   "execution_count": null,
   "metadata": {},
   "outputs": [],
>>>>>>> 46ada37d5b4566ee40e1fbe0c39a7350e9b77dbc
   "source": [
    "df = df['text']\n",
    "df.head()"
   ]
  },
  {
   "cell_type": "code",
<<<<<<< HEAD
   "execution_count": 4,
   "id": "illegal-integer",
=======
   "execution_count": null,
>>>>>>> 46ada37d5b4566ee40e1fbe0c39a7350e9b77dbc
   "metadata": {},
   "outputs": [],
   "source": [
    "nlp = spacy.load('en_core_web_md')"
   ]
  },
  {
   "cell_type": "code",
<<<<<<< HEAD
   "execution_count": 5,
   "id": "residential-mother",
=======
   "execution_count": null,
>>>>>>> 46ada37d5b4566ee40e1fbe0c39a7350e9b77dbc
   "metadata": {},
   "outputs": [],
   "source": [
    "for token in nlp(df[0]):\n",
    "    print(token.text)"
   ]
  },
  {
   "cell_type": "code",
<<<<<<< HEAD
   "execution_count": 6,
   "id": "atmospheric-brooklyn",
=======
   "execution_count": null,
>>>>>>> 46ada37d5b4566ee40e1fbe0c39a7350e9b77dbc
   "metadata": {},
   "outputs": [],
   "source": [
    "for entity in nlp(df[3]).ents:\n",
    "    print(entity.text,entity.label_)"
   ]
  },
  {
   "cell_type": "code",
<<<<<<< HEAD
   "execution_count": 7,
   "id": "exterior-muscle",
=======
   "execution_count": 6,
>>>>>>> 46ada37d5b4566ee40e1fbe0c39a7350e9b77dbc
   "metadata": {},
   "outputs": [
    {
     "ename": "NameError",
     "evalue": "name 'nlp' is not defined",
     "output_type": "error",
     "traceback": [
      "\u001b[0;31m---------------------------------------------------------------------------\u001b[0m",
      "\u001b[0;31mNameError\u001b[0m                                 Traceback (most recent call last)",
      "\u001b[0;32m<ipython-input-6-821b32cb4ab8>\u001b[0m in \u001b[0;36m<module>\u001b[0;34m\u001b[0m\n\u001b[0;32m----> 1\u001b[0;31m \u001b[0;32mfor\u001b[0m \u001b[0mtoken\u001b[0m \u001b[0;32min\u001b[0m \u001b[0mnlp\u001b[0m\u001b[0;34m(\u001b[0m\u001b[0mdf\u001b[0m\u001b[0;34m[\u001b[0m\u001b[0;36m3\u001b[0m\u001b[0;34m]\u001b[0m\u001b[0;34m)\u001b[0m\u001b[0;34m:\u001b[0m\u001b[0;34m\u001b[0m\u001b[0;34m\u001b[0m\u001b[0m\n\u001b[0m\u001b[1;32m      2\u001b[0m     print(token.text, token.lemma_, token.pos_, token.tag_, token.dep_,\n\u001b[1;32m      3\u001b[0m             token.shape_, token.is_alpha, token.is_stop)\n",
      "\u001b[0;31mNameError\u001b[0m: name 'nlp' is not defined"
     ]
    }
   ],
   "source": [
    "for token in nlp(df[3]):\n",
    "    print(token.text, token.lemma_, token.pos_, token.tag_, token.dep_,\n",
    "            token.shape_, token.is_alpha, token.is_stop)"
   ]
  },
  {
   "cell_type": "code",
<<<<<<< HEAD
   "execution_count": 8,
   "id": "located-lafayette",
=======
   "execution_count": 7,
>>>>>>> 46ada37d5b4566ee40e1fbe0c39a7350e9b77dbc
   "metadata": {},
   "outputs": [
    {
     "name": "stdout",
     "output_type": "stream",
     "text": [
      "20    Who's that teenage boy standing behind Jessica...\n",
      "21    Poor Al Roker. He is just too easy a target. #...\n",
      "22    #SofiaVergara is gorgeous. Loved her dress.  #...\n",
      "23    mi programa de domingo a la noche va a ser ver...\n",
      "24    RT @Chrishell7: If all these beautiful actress...\n",
      "25    My Baby Leo DiCaprio.aaaaaah estava esperando ...\n",
      "26        Kerry Washington is perfect!!!! #GoldenGlobes\n",
      "27    It should be illegal to look as good as Ewan M...\n",
      "28    .@kerrywashington's nude &amp; sheer = yes. Je...\n",
      "29    Ok the moms are shutting it down tonight! Just...\n",
      "30    When I grow up, I want to be Dame Helen Mirren...\n",
      "31         Miu Miu!! yes @kerrywashington #goldenGlobes\n",
      "32    @CarinesBridal @goldenglobes actually that cor...\n",
      "33    Kerry Washington has been killing it lately! L...\n",
      "34    Natalie Morales is gorgeous, but don't like th...\n",
      "35    They are ruining the red carpet...“@PaulaEdgar...\n",
      "36    Kerry Washington looks fabulous!! #ERedCarpet ...\n",
      "37    Black dresses with Plunging v necklines and hi...\n",
      "38    I'm seeing alot of black in the red carpet ton...\n",
      "39            @goldenglobes Saw George Clooney..:-) :-)\n",
      "Name: text, dtype: object\n"
     ]
    }
   ],
   "source": [
    "# idx = [1,5,7,9]\n",
<<<<<<< HEAD
    "df1 = df[20:40]\n",
    "print(df1)\n",
    "\n",
    "df= df.str.replace('#goldenglobes', '', case=False)"
=======
    "df1 = df[20:40][\"text\"]\n",
    "print(df1)"
>>>>>>> 46ada37d5b4566ee40e1fbe0c39a7350e9b77dbc
   ]
  },
  {
   "cell_type": "code",
<<<<<<< HEAD
   "execution_count": 34,
   "id": "broadband-gamma",
   "metadata": {},
   "outputs": [],
   "source": [
    "idx = np.where((df.str.find('host') != -1) | (df.str.find('Host') != -1))\n",
    "d = df.loc[idx]\n",
    "host_name = {}\n",
    "for i,value in d.iteritems():\n",
    "    for entity in nlp(value).ents:\n",
    "        if entity.label_ == 'PERSON':\n",
    "            if not (entity.text in host_name):\n",
    "                host_name[entity.text] = 1\n",
    "            else:\n",
    "                host_name[entity.text] = host_name[entity.text] + 1"
   ]
  },
  {
   "cell_type": "code",
   "execution_count": 35,
   "id": "settled-leone",
   "metadata": {},
   "outputs": [
    {
     "name": "stdout",
     "output_type": "stream",
     "text": [
      "[('Tina Fey', 688), ('Will Ferrell', 686), ('Kristen Wiig', 685), ('Amy Poehler', 619), ('Amy', 501), ('Tina', 433), ('RT @PerezHilton', 235), ('Quentin Tarantino', 97), ('Paul Rudd', 54), (\"Amy Poelher's\", 43), ('RT @piersmorgan', 39), ('#killerintro', 27), ('Poehler', 26), ('#WhereDidTheyGo', 26), ('Golden Globes', 21), ('Amy Pohler', 20), ('amy poehler', 19), ('tina fey', 16), (\"Amy Poehler's\", 15), ('Ricky Gervais', 15), ('Kristen', 15), ('Quentin Tarantin', 15), ('#AmyPoehler', 13), ('Tina fey', 13), ('Cohen', 13), ('Wiig', 12), ('Tina Fey + Amy Poehler', 11), ('#heywomenarefunnytoo', 11), ('Amy poehler', 10), ('Fey', 10), ('RT @OhWowThatsAwk', 10), ('amy', 9), ('Kristin Wiig', 9), ('Kristen Wig', 9), ('Lorne Michaels', 9), ('Helena Bonham Carter', 9), ('Lorne', 9), ('Oscar', 8), ('James Cameron', 8), ('Anne Hathaway', 8), ('Adele', 8), ('Jodie Foster', 8), ('TinaFey', 7), ('tina', 7), ('RT', 7), ('Maggie Smith', 7), ('Jennifer Lawrence', 7), ('Bill Clinton', 7), ('Maggie Smi', 7), ('Will Farrell', 7), (\"George Clooney's\", 7), ('tina Faye', 7), ('#ThisTweetWouldBeTheHost', 7), ('#redcarpet', 6), ('Jay Leno', 6), ('#amypoehler', 6), ('#SNL', 6), ('Will Ferrel', 6), ('Sacha', 6), ('Sasha', 6), ('Christian Bale', 6), ('Robert Downey Jr', 6), ('Bruce Wayne', 6), ('Battle Of The Billionaires', 6), ('Globes', 5), ('James Franco', 5), ('Amy Poelher', 5), ('winni', 5), ('Taylor Swift', 5), ('Ferrell', 5), ('Will', 5), ('Kristin', 5), ('Kristen Wigg', 5), ('Oscars', 5), ('Jimmy Fallon', 5), ('George Clooney', 5), ('RT @thenicolas41', 5), ('Ghostbusters', 4), ('Tina/Amy', 4), ('Amy Poeler', 4), ('Tina Fay', 4), ('#Hilarious', 4), ('Kevin Dior', 4), ('#hilarious', 4), ('Loving Tina', 4), ('Seth MacFarlane', 4), ('Seth', 4), ('RT @Quickbeam2000', 4), ('Martin Freeman', 4), ('Benedict Cumberbatch', 4), ('#Hobbit', 4), ('Mel Gibson', 4), ('Wilson', 4), ('Fat Amy', 4), ('kristen wiig', 4), ('RT @UNITE', 4), ('Stallone', 4), ('Schwarzenegger', 4), ('Glenn Close', 4), ('#GoldenBert', 4), ('Frederic J. Brown', 3), ('#tinafey', 3), ('amy pohler', 3), (\"Tina Fey's\", 3), ('Amy Poehler - @BostonCollege', 3), ('#girlpower', 3), ('#lovethem', 3), ('Bill Murray', 3), ('#FunnyGals', 3), ('#besthostsever', 3), ('Ricky', 3), ('#toofunny', 3), ('Anne', 3), ('Kevin Costner', 3), ('Ed Harris', 3), ('Robert Downey Jr.', 3), ('Clooney', 3), (\"Michael J. Fox's\", 3), (\"Robert Downey Jr.'s\", 3), ('Ryan Seacrest', 2), ('#Poehler', 2), ('Hathaway', 2), ('Omg', 2), ('Omg Amy Poehler', 2), ('#GetGlue', 2), ('#hysterical', 2), ('Amy Poheler', 2), ('#AmyPohler', 2), ('#perfecthosts', 2), ('#twiny', 2), ('#besthosts', 2), ('#justsaying', 2), ('Elmo', 2), ('Arnold', 2), ('Tony Mendez', 2), ('Kristin Wigg', 2), ('Bill Rodham Clinton', 2), (\"Hillary Clinton's\", 2), ('Ellen', 2), ('Kristin wiig', 2), ('@PerezHilton', 2), ('#snl', 2), ('Quentin', 2), ('Quentin Tar', 2), ('#LiveWire Golden Globes Hosts', 2), ('Neil Patrick Harris', 2), ('#funny', 2), ('RT @EricandKathy', 2), ('Tiny Fey', 2), ('Howie Mandel', 2), ('#nascar', 2), ('Lea Michele', 2), ('Jodie', 2), ('Seth Macfarlane', 2), ('Ben Affleck', 2), ('#werkk', 2), ('JLaw', 2), ('Emmy', 2), (\"Seth MacFarlane's\", 2), ('Topo Gigio', 1), ('#BlogTalkRadio  Designer Dalia MacPhee http://t.co/be7Bsiw1', 1), ('#myfavoritewomen', 1), ('Kelly', 1), (\"Jay Leno's\", 1), ('t-5 min', 1), ('#SGS', 1), ('#topnotchcomedy', 1), ('Tine Fey', 1), ('#SecondCity', 1), ('haber mejor', 1), ('#TheHeat', 1), ('#amyandtinarock', 1), (\"Giuliana Rancic's\", 1), ('#ilovetinafey', 1), (\"Glenn Close's\", 1), ('Norberry', 1), ('the Little Mermaid and Princess Jasmine', 1), ('Amy Poehler --', 1), ('omg tina fey', 1), ('Jamas me ah gustado tina', 1), ('como la ponen de host', 1), ('Tina Faye', 1), ('Tina Fey&amp;Amy Poehler', 1), ('Tina Fey RT', 1), ('#Fey', 1), ('Franko', 1), ('#LoveEm', 1), ('http:// http://t.co/1FPjBoOv', 1), ('Hiiiilaaaaaarious', 1), ('Queen Amy', 1), ('Queen Tina', 1), ('#tofunny', 1), ('NW The Golden Globes', 1), ('KILLLLLLING', 1), ('#funnywomen', 1), ('Kate', 1), ('Angie', 1), ('RT @hiphopdancer96', 1), ('Boss Ladies', 1), ('jack', 1), ('Tina Fey y Amy Poehler deberian hostear', 1), ('👏', 1), ('#AmyPoehler Rock', 1), ('#omginsider', 1), ('#RBRGG', 1), ('#noseriously', 1), ('Amy Polard', 1), ('Ron Riggle', 1), ('boom shaka laka', 1), ('#tinaandamyrule', 1), ('Daniel Day Lewis', 1), ('Loving Tina Fey', 1), ('#DEAD', 1), ('Amy P.', 1), ('Daniel Day-Louis', 1), ('Amy &amp', 1), ('RT @notajenny', 1), ('#IO', 1), ('Matt Lauer', 1), ('Amy Poehler &amp', 1), ('#prettyplease', 1), ('james franco', 1), ('Kaley Cuoco', 1), ('RT @amyboughner', 1), (\"Ladies killin'\", 1), ('🍔', 1), ('Amy poller', 1), ('mah girls tina', 1), ('ppl', 1), ('#mylifewouldbeempty', 1), ('AmyPoehler', 1), ('Getoffit', 1), ('Will Tina Fey', 1), ('#jokes overerrythang', 1), ('Bravo Tina', 1), ('Amy Hilarious Hosts', 1), ('#hostsforlifeplease', 1), ('#Downton', 1), ('#rickygervis', 1), ('#zeebox http://t.co/rk2mHT2v', 1), ('#hilar', 1), ('Amy Poehlr', 1), ('#funnyshit', 1), ('Liz lemon', 1), ('#TinaAmy', 1), ('Amy Phoeler', 1), ('Frances Fisher', 1), ('Francesca Eastwood', 1), ('#sofunny', 1), ('Host Guiliana', 1), ('F*ck', 1), ('GG', 1), ('#dyingoflaughter', 1), ('#inmydreams', 1), ('Lucille Ball', 1), ('#funnyladies', 1), ('RT @laurena11', 1), ('RT @meg_coan', 1), ('RT @ASCPR', 1), ('Loving the @goldenglobes @tinafey &amp', 1), ('neil patrick harris', 1), ('Ricky gervais', 1), ('Matt Pinfield', 1), ('Amy Phoehler', 1), ('Toby', 1), ('@gabrielledoug', 1), ('OMG Tina Fey', 1), ('#KillerIntro', 1), ('http://t.co/2qfQLIoO', 1), ('Tina n Amy', 1), ('Jessica Lange', 1), ('Rudd', 1), ('Selma Hayek', 1), ('#HILARIOUS', 1), ('#dynamicduo', 1), ('#bestpopcultureconference', 1), ('Salma Hayek', 1), ('Amy Poleher', 1), ('#goacc RT', 1), ('Robert Downey Jr. beijando o rosto', 1), ('RT @adrianoelias', 1), ('#holla', 1), ('Mendez', 1), ('Goodman', 1), ('Daniel Craig', 1), ('no J-lo', 1), ('#reallydoloveher', 1), ('Mis heroinas de', 1), ('lo estoy', 1), ('Loving Fey', 1), ('Cumberbatch', 1), ('#favoritehosts', 1), ('#crackingmeup', 1), ('hostia el Clinton por aqui', 1), ('Clinton', 1), ('#Girls', 1), ('Bill', 1), (\"Hilary Clinton's\", 1), ('Reagan', 1), ('#sweepingtheshow', 1), ('#Kristin', 1), ('Compro RT', 1), ('Essa é', 1), ('#kristenwiig', 1), ('#willferrell', 1), ('Maya', 1), ('Ellen DeGeneres', 1), ('#kristinwiig', 1), ('#ivoteyes', 1), ('LOL RT @PerezHilton', 1), (\"kristen wigg's\", 1), ('Will Ferrell-', 1), ('#newrule', 1), ('OMAGAHHHHRT @PerezHilton', 1), ('#sofrickenhilarious', 1), ('#FutureHosts', 1), ('tina fey+amy Poehler', 1), ('fuck Tina Fey', 1), ('Tonys', 1), ('RT @lisarinna', 1), ('#sofunny #lovethem', 1), ('Will Ferrill', 1), ('Quentin Tara', 1), ('Amy Host', 1), ('Perez', 1), ('Quentin T', 1), ('kristen', 1), ('#yougetouttahere', 1), ('SNL', 1), ('Lulz', 1), ('Tommy Lee Jones', 1), ('LOL', 1), ('toofunny', 1), ('Kristen Bell', 1), ('Oprah Winfrey', 1), ('http://t.co/yGnEwST4', 1), ('#Shazam', 1), ('Megan Fox', 1), ('jimmy fallon', 1), ('Kirsten', 1), ('ANNE HATHAWAY', 1), ('oscar', 1), (\"Kristen Wiig's\", 1), ('Demi Moore', 1), ('Blerg', 1), ('Will Farell', 1), ('#justsayin', 1), ('RT @leslieheimer', 1), ('Martin Short', 1), ('kristin wiig', 1), ('Fred Armisen', 1), ('Lol nice RT @UNITE', 1), ('Amy Poehlers Opening Monologue', 1), ('Leo DiCaprio', 1), ('LOL RT @krusso14', 1), ('#LSU', 1), ('Farrell', 1), ('Ohmygosh Tina Fey', 1), ('#endofstory', 1), ('#OscarNight', 1), ('#Aolglobes', 1), ('Saruman', 1), ('Omg loling', 1), ('srsly RT', 1), ('TINA FEY', 1), ('AMY POEHLER', 1), ('Daniel W. Shrigley', 1), ('#moreamyandtinaplease', 1), ('Soo Kristen', 1), ('@kevinrfree', 1), ('Bien dicho por el host', 1), ('Falla categórica en', 1), ('de Anne H.', 1), ('Sascha', 1), ('LOL RT @TVMoJoe', 1), ('#SachaBaronCohen', 1), ('aziz', 1), ('bateman', 1), ('Lol', 1), (\"George clooney's\", 1), ('RT @glennsumi', 1), ('@lizraz10', 1), ('y Amy Poehler', 1), ('GoldenGlobes', 1), ('Aziz Ansari', 1), ('Anddddddddd', 1), ('Matt Ryan', 1), ('#SpanxRedCarpet', 1), ('#Golden Globes', 1), ('pagi gue ngintip dikit RT', 1), ('#WBN2013', 1), ('OMG - Tina', 1), ('#amy', 1), ('#tina', 1), ('#amypohler', 1), ('Robert Downey', 1), ('Jr.', 1), ('Lena Dunham', 1), ('Downey', 1), (\"Jodie Foster's\", 1), ('#Google', 1), ('RT @darealmaozedong', 1), ('Sly', 1), ('Craig', 1), ('#Rambling', 1), ('Kristen Stewart', 1), (\"Estelle Getty's\", 1), ('Jodi Fosters', 1), (\"L'Wren Scott\", 1), ('Adam Corolla', 1), ('Ryan gosling', 1), ('sacha', 1), ('Adam Carolla', 1), ('Obi-Wan', 1), ('ellen', 1), ('#AwardsFeveronFMP', 1), ('#pleasehostnextyear', 1), ('Sarah Palin', 1), ('Leslie Knope', 1), ('Que bom que o', 1), ('novo Ghostbusters', 1), ('#livestreampls', 1), ('Lewis', 1), ('din ang', 1), (\"Regina George's\", 1), ('#whatahoot', 1), ('#wearethatfunny', 1), ('#bestpicture', 1), ('#GoldenGIobes', 1), ('#premiumlager', 1), ('Booooooo', 1), ('#PeteRose', 1), ('#workproblems', 1), ('#excitementforhostsfail', 1), ('John Sheardown', 1), ('Si Robertson', 1), ('Phil Robertson', 1), (\"Jodie Foster'\", 1), ('julia Roberts', 1), ('#fridaygirltv', 1), ('n amy poehler', 1), ('RT @laurenbrumley', 1), ('Electra', 1), ('Adrian', 1), ('Lori', 1), ('guy', 1), ('#ohmygod', 1), ('Princess', 1), ('Genovia', 1), ('Jen Garner', 1), ('#nightmade', 1), ('laughter w Amy', 1), ('Les Mis', 1), ('#stillfunny', 1), ('Sofia Vergara', 1), ('Grammys', 1), ('RT @jenjackson15', 1), ('poehler', 1), ('clooney', 1), ('#womengetshitdone', 1), ('Claire Danes', 1), ('Giuliana', 1), ('#gotitright', 1), ('jodie foster', 1), ('jennifer lawrence', 1), ('errythin', 1), ('Jodie Foster Kinda Comes Out', 1), ('Soooo Tina Fey', 1), ('#Amy', 1), ('#PositiveVibes', 1)]\n"
     ]
    }
   ],
=======
   "execution_count": null,
   "metadata": {},
   "outputs": [],
>>>>>>> 46ada37d5b4566ee40e1fbe0c39a7350e9b77dbc
   "source": [
    "host_name = sorted(host_name.items(), key=lambda item: item[1], reverse = True)\n",
    "print(host_name)"
   ]
  },
  {
   "cell_type": "markdown",
   "id": "civilian-geography",
   "metadata": {},
   "source": [
    "idx = np.where((df.str.find('best') != -1) | (df.str.find('Best') != -1))\n",
    "d = df.loc[idx]\n",
    "d.shape[0]"
   ]
  },
  {
   "cell_type": "code",
   "execution_count": 38,
   "id": "unlike-sessions",
   "metadata": {},
   "outputs": [
    {
     "data": {
      "text/plain": [
       "[('Tina Fey', 688),\n",
       " ('Will Ferrell', 686),\n",
       " ('Kristen Wiig', 685),\n",
       " ('Amy Poehler', 619),\n",
       " ('Amy', 501),\n",
       " ('Tina', 433),\n",
       " ('RT @PerezHilton', 235),\n",
       " ('Quentin Tarantino', 97),\n",
       " ('Paul Rudd', 54),\n",
       " (\"Amy Poelher's\", 43),\n",
       " ('RT @piersmorgan', 39),\n",
       " ('#killerintro', 27),\n",
       " ('Poehler', 26),\n",
       " ('#WhereDidTheyGo', 26),\n",
       " ('Golden Globes', 21),\n",
       " ('Amy Pohler', 20),\n",
       " ('amy poehler', 19),\n",
       " ('tina fey', 16),\n",
       " (\"Amy Poehler's\", 15),\n",
       " ('Ricky Gervais', 15)]"
      ]
     },
     "execution_count": 38,
     "metadata": {},
     "output_type": "execute_result"
    }
   ],
   "source": [
    "host_name[:20]"
   ]
  },
  {
   "cell_type": "code",
   "execution_count": 44,
   "id": "third-hawaiian",
   "metadata": {},
   "outputs": [
    {
     "data": {
      "text/plain": [
       "['Tina', 'Fey']"
      ]
     },
     "execution_count": 44,
     "metadata": {},
     "output_type": "execute_result"
    }
   ],
   "source": [
    "host_name[0][0].split()"
   ]
  },
  {
   "cell_type": "code",
   "execution_count": null,
<<<<<<< HEAD
   "id": "played-glasgow",
=======
>>>>>>> 46ada37d5b4566ee40e1fbe0c39a7350e9b77dbc
   "metadata": {},
   "outputs": [],
   "source": [
    "sub = {}\n",
    "for i in range(5):\n",
    "    first_name = host_name[i][0].split()[0]\n",
    "    "
   ]
  },
  {
   "cell_type": "markdown",
   "id": "express-quantity",
   "metadata": {},
   "source": [
    "for entity in nlp(df[49]).ents:\n",
    "    print(entity.text,entity.label_)"
   ]
  },
  {
   "cell_type": "markdown",
   "id": "august-google",
   "metadata": {},
   "source": [
    "d = d.str.replace('#GoldenGlobes', \"\", case= False)"
   ]
  },
  {
   "cell_type": "markdown",
   "id": "following-front",
   "metadata": {},
   "source": [
    "d.head(10)"
   ]
  },
  {
   "cell_type": "markdown",
   "id": "copyrighted-queensland",
   "metadata": {},
   "source": [
    "d.head(10)"
   ]
  },
  {
   "cell_type": "markdown",
   "id": "narrow-coffee",
   "metadata": {},
   "source": [
    "names = []\n",
    "awards = []\n",
    "movies = []\n",
    "other = []\n",
    "for i, value in d.iteritems():\n",
    "    for entity in nlp(value).ents:\n",
    "        if entity.label_ == 'PERSON':\n",
    "            names.append(entity)\n",
    "        elif entity.label_ == 'ORG':\n",
    "            awards.append(entity)\n",
    "        elif entity.label_ == 'WORK_OF_ART':\n",
    "            movies.append(entity)\n",
    "        else:\n",
    "            other.append(entity)"
   ]
  },
  {
   "cell_type": "code",
   "execution_count": null,
   "id": "removable-trial",
   "metadata": {},
   "outputs": [],
   "source": [
    "sentence = nlp(\"I think Bong Joon-Ho going win Best Pictures\")\n",
    "for entity in sentence.ents:\n",
    "    print(entity.text,entity.label_)\n",
    "# for token in sentence:\n",
    "#     print(token.text, token.dep_, token.head.text, token.head.pos_, [child for child in token.children])"
   ]
  },
  {
   "cell_type": "markdown",
   "id": "democratic-demand",
   "metadata": {},
   "source": [
    "sentece ents and pos\n",
    "ents\n",
    "PERSON WORKOFART/ORG\n",
    "VERB (the one with most childrens)"
   ]
  },
  {
   "cell_type": "code",
   "execution_count": null,
   "id": "infrared-horse",
   "metadata": {},
   "outputs": [],
   "source": []
  }
 ],
 "metadata": {
  "kernelspec": {
   "display_name": "Python 3",
   "language": "python",
   "name": "python3"
  },
  "language_info": {
   "codemirror_mode": {
    "name": "ipython",
    "version": 3
   },
   "file_extension": ".py",
   "mimetype": "text/x-python",
   "name": "python",
   "nbconvert_exporter": "python",
   "pygments_lexer": "ipython3",
   "version": "3.8.3"
  }
 },
 "nbformat": 4,
 "nbformat_minor": 5
}
