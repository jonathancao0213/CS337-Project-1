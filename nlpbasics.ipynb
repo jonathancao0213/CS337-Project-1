{
 "cells": [
  {
   "cell_type": "code",
   "execution_count": 2,
   "metadata": {},
   "outputs": [],
   "source": [
    "import numpy as np\n",
    "import pandas as pd\n",
    "import spacy\n",
    "from spacy import displacy"
   ]
  },
  {
   "cell_type": "markdown",
   "metadata": {},
   "source": [
    "Try to get familiar with some basics of pandas; it makes debugging a lot easier. "
   ]
  },
  {
   "cell_type": "code",
   "execution_count": 4,
   "metadata": {},
   "outputs": [
    {
     "data": {
      "text/html": [
       "<div>\n",
       "<style scoped>\n",
       "    .dataframe tbody tr th:only-of-type {\n",
       "        vertical-align: middle;\n",
       "    }\n",
       "\n",
       "    .dataframe tbody tr th {\n",
       "        vertical-align: top;\n",
       "    }\n",
       "\n",
       "    .dataframe thead th {\n",
       "        text-align: right;\n",
       "    }\n",
       "</style>\n",
       "<table border=\"1\" class=\"dataframe\">\n",
       "  <thead>\n",
       "    <tr style=\"text-align: right;\">\n",
       "      <th></th>\n",
       "      <th>text</th>\n",
       "      <th>user</th>\n",
       "      <th>id</th>\n",
       "      <th>timestamp_ms</th>\n",
       "    </tr>\n",
       "  </thead>\n",
       "  <tbody>\n",
       "    <tr>\n",
       "      <th>0</th>\n",
       "      <td>JLo's dress! #eredcarpet #GoldenGlobes</td>\n",
       "      <td>{'screen_name': 'Dozaaa_xo', 'id': 557374298}</td>\n",
       "      <td>290620657987887104</td>\n",
       "      <td>2013-01-14 00:45:38</td>\n",
       "    </tr>\n",
       "    <tr>\n",
       "      <th>1</th>\n",
       "      <td>What's making Sofia Vergara's boobs stay like ...</td>\n",
       "      <td>{'screen_name': 'theAmberShow', 'id': 14648726}</td>\n",
       "      <td>290620657887219713</td>\n",
       "      <td>2013-01-14 00:45:38</td>\n",
       "    </tr>\n",
       "    <tr>\n",
       "      <th>2</th>\n",
       "      <td>RT @FabSugar: Kerry Washington is EVERYTHING. ...</td>\n",
       "      <td>{'screen_name': 'SweetyPW', 'id': 35498686}</td>\n",
       "      <td>290620657828524032</td>\n",
       "      <td>2013-01-14 00:45:38</td>\n",
       "    </tr>\n",
       "    <tr>\n",
       "      <th>3</th>\n",
       "      <td>Anne Hathaway has got me living. #GoldenGlobes</td>\n",
       "      <td>{'screen_name': '_NicoleEdwards', 'id': 144430...</td>\n",
       "      <td>290620657799159809</td>\n",
       "      <td>2013-01-14 00:45:38</td>\n",
       "    </tr>\n",
       "    <tr>\n",
       "      <th>4</th>\n",
       "      <td>Jennifer Lopez's lace dress? Thoughts? #Golden...</td>\n",
       "      <td>{'screen_name': 'lolaogunnaike', 'id': 134953223}</td>\n",
       "      <td>290620657778188288</td>\n",
       "      <td>2013-01-14 00:45:38</td>\n",
       "    </tr>\n",
       "  </tbody>\n",
       "</table>\n",
       "</div>"
      ],
      "text/plain": [
       "                                                text  \\\n",
       "0             JLo's dress! #eredcarpet #GoldenGlobes   \n",
       "1  What's making Sofia Vergara's boobs stay like ...   \n",
       "2  RT @FabSugar: Kerry Washington is EVERYTHING. ...   \n",
       "3     Anne Hathaway has got me living. #GoldenGlobes   \n",
       "4  Jennifer Lopez's lace dress? Thoughts? #Golden...   \n",
       "\n",
       "                                                user                  id  \\\n",
       "0      {'screen_name': 'Dozaaa_xo', 'id': 557374298}  290620657987887104   \n",
       "1    {'screen_name': 'theAmberShow', 'id': 14648726}  290620657887219713   \n",
       "2        {'screen_name': 'SweetyPW', 'id': 35498686}  290620657828524032   \n",
       "3  {'screen_name': '_NicoleEdwards', 'id': 144430...  290620657799159809   \n",
       "4  {'screen_name': 'lolaogunnaike', 'id': 134953223}  290620657778188288   \n",
       "\n",
       "         timestamp_ms  \n",
       "0 2013-01-14 00:45:38  \n",
       "1 2013-01-14 00:45:38  \n",
       "2 2013-01-14 00:45:38  \n",
       "3 2013-01-14 00:45:38  \n",
       "4 2013-01-14 00:45:38  "
      ]
     },
     "execution_count": 4,
     "metadata": {},
     "output_type": "execute_result"
    }
   ],
   "source": [
    "df = pd.read_json('../gg2013.json')\n",
    "df.head()"
   ]
  },
  {
   "cell_type": "code",
   "execution_count": null,
   "metadata": {},
   "outputs": [],
   "source": [
    "df = df['text']\n",
    "df.head()"
   ]
  },
  {
   "cell_type": "code",
   "execution_count": null,
   "metadata": {},
   "outputs": [],
   "source": [
    "nlp = spacy.load('en_core_web_md')"
   ]
  },
  {
   "cell_type": "code",
   "execution_count": null,
   "metadata": {},
   "outputs": [],
   "source": [
    "for token in nlp(df[0]):\n",
    "    print(token.text)"
   ]
  },
  {
   "cell_type": "code",
   "execution_count": null,
   "metadata": {},
   "outputs": [],
   "source": [
    "for entity in nlp(df[3]).ents:\n",
    "    print(entity.text,entity.label_) win winning won -> win    (Noun, verb, Noun) (Person, win , Award)"
   ]
  },
  {
   "cell_type": "code",
   "execution_count": 6,
   "metadata": {},
   "outputs": [
    {
     "ename": "NameError",
     "evalue": "name 'nlp' is not defined",
     "output_type": "error",
     "traceback": [
      "\u001b[0;31m---------------------------------------------------------------------------\u001b[0m",
      "\u001b[0;31mNameError\u001b[0m                                 Traceback (most recent call last)",
      "\u001b[0;32m<ipython-input-6-821b32cb4ab8>\u001b[0m in \u001b[0;36m<module>\u001b[0;34m\u001b[0m\n\u001b[0;32m----> 1\u001b[0;31m \u001b[0;32mfor\u001b[0m \u001b[0mtoken\u001b[0m \u001b[0;32min\u001b[0m \u001b[0mnlp\u001b[0m\u001b[0;34m(\u001b[0m\u001b[0mdf\u001b[0m\u001b[0;34m[\u001b[0m\u001b[0;36m3\u001b[0m\u001b[0;34m]\u001b[0m\u001b[0;34m)\u001b[0m\u001b[0;34m:\u001b[0m\u001b[0;34m\u001b[0m\u001b[0;34m\u001b[0m\u001b[0m\n\u001b[0m\u001b[1;32m      2\u001b[0m     print(token.text, token.lemma_, token.pos_, token.tag_, token.dep_,\n\u001b[1;32m      3\u001b[0m             token.shape_, token.is_alpha, token.is_stop)\n",
      "\u001b[0;31mNameError\u001b[0m: name 'nlp' is not defined"
     ]
    }
   ],
   "source": [
    "for token in nlp(df[3]):\n",
    "    print(token.text, token.lemma_, token.pos_, token.tag_, token.dep_,\n",
    "            token.shape_, token.is_alpha, token.is_stop)"
   ]
  },
  {
   "cell_type": "code",
   "execution_count": 7,
   "metadata": {},
   "outputs": [
    {
     "name": "stdout",
     "output_type": "stream",
     "text": [
      "20    Who's that teenage boy standing behind Jessica...\n",
      "21    Poor Al Roker. He is just too easy a target. #...\n",
      "22    #SofiaVergara is gorgeous. Loved her dress.  #...\n",
      "23    mi programa de domingo a la noche va a ser ver...\n",
      "24    RT @Chrishell7: If all these beautiful actress...\n",
      "25    My Baby Leo DiCaprio.aaaaaah estava esperando ...\n",
      "26        Kerry Washington is perfect!!!! #GoldenGlobes\n",
      "27    It should be illegal to look as good as Ewan M...\n",
      "28    .@kerrywashington's nude &amp; sheer = yes. Je...\n",
      "29    Ok the moms are shutting it down tonight! Just...\n",
      "30    When I grow up, I want to be Dame Helen Mirren...\n",
      "31         Miu Miu!! yes @kerrywashington #goldenGlobes\n",
      "32    @CarinesBridal @goldenglobes actually that cor...\n",
      "33    Kerry Washington has been killing it lately! L...\n",
      "34    Natalie Morales is gorgeous, but don't like th...\n",
      "35    They are ruining the red carpet...“@PaulaEdgar...\n",
      "36    Kerry Washington looks fabulous!! #ERedCarpet ...\n",
      "37    Black dresses with Plunging v necklines and hi...\n",
      "38    I'm seeing alot of black in the red carpet ton...\n",
      "39            @goldenglobes Saw George Clooney..:-) :-)\n",
      "Name: text, dtype: object\n"
     ]
    }
   ],
   "source": [
    "# idx = [1,5,7,9]\n",
    "df1 = df[20:40][\"text\"]\n",
    "print(df1)"
   ]
  },
  {
   "cell_type": "code",
   "execution_count": null,
   "metadata": {},
   "outputs": [],
   "source": [
    "sentence = nlp(\"I think Bong Joon-Ho going win Best Picture\")\n",
    "for token in sentence:\n",
    "    print(token.text, token.dep_, token.head.text, token.head.pos_, [child for child in token.children])"
   ]
  },
  {
   "cell_type": "code",
   "execution_count": null,
   "metadata": {},
   "outputs": [],
   "source": [
    "->(Person, Win, Award)\n",
    "table \n",
    "\n"
   ]
  }
 ],
 "metadata": {
  "kernelspec": {
   "display_name": "Python 3",
   "language": "python",
   "name": "python3"
  },
  "language_info": {
   "codemirror_mode": {
    "name": "ipython",
    "version": 3
   },
   "file_extension": ".py",
   "mimetype": "text/x-python",
   "name": "python",
   "nbconvert_exporter": "python",
   "pygments_lexer": "ipython3",
   "version": "3.8.3"
  }
 },
 "nbformat": 4,
 "nbformat_minor": 5
}
