{
 "cells": [
  {
   "cell_type": "code",
   "execution_count": 1,
   "metadata": {},
   "outputs": [],
   "source": [
    "award_names = ['Best Motion Picture – Drama', 'Best Motion Picture – Musical or Comedy', 'Best Motion Picture – Foreign Language',\n",
    " 'Best Motion Picture – Animated', 'Best Director – Motion Picture', 'Best Actor in a Motion Picture – Drama',\n",
    " 'Best Actor in a Motion Picture – Musical or Comedy', 'Best Actress in a Motion Picture – Drama',\n",
    " 'Best Actress in a Motion Picture – Musical or Comedy', 'Best Supporting Actor – Motion Picture',\n",
    " 'Best Supporting Actress – Motion Picture', 'Best Screenplay – Motion Picture', 'Best Original Score – Motion Picture',\n",
    " 'Best Original Song – Motion Picture', 'Best Television Series – Drama', 'Best Television Series – Musical or Comedy',\n",
    " 'Best Miniseries or Motion Picture – Television', 'Best Actor in a Television Series – Drama',\n",
    " 'Best Actor in a Television Series – Musical or Comedy', 'Best Actor in a Miniseries or Motion Picture – Television',\n",
    " 'Best Actress in a Television Series – Drama', 'Best Actress in a Television Series – Musical or Comedy',\n",
    " 'Best Actress in a Miniseries or Motion Picture – Television',\n",
    " 'Best Supporting Actor in a Series, Miniseries or Motion Picture – Television',\n",
    " 'Best Supporting Actress in a Series, Miniseries or Motion Picture – Television']\n",
    "new_award_names = [0]*len(award_names)\n",
    "for i in range(len(award_names)):\n",
    "    new_award_names[i] = award_names[i].lower()\n"
   ]
  },
  {
   "cell_type": "code",
   "execution_count": 2,
   "metadata": {},
   "outputs": [],
   "source": [
    "import numpy as np\n",
    "import pandas as pd\n",
    "import spacy\n",
    "from spacy import displacy\n",
    "from collections import defaultdict"
   ]
  },
  {
   "cell_type": "code",
   "execution_count": 3,
   "metadata": {},
   "outputs": [],
   "source": [
    "df = pd.read_json('../gg2015.json')\n",
    "df = df['text']\n",
    "df = df[df.str.contains('won best|wins best|goes to', case = False)]\n",
    "df = df[~df.str.contains('think|thinking|should|maybe', case = False)]\n",
    "wins_df = df.str.replace('#GoldenGlobes|golden|globes|globe', \"\", case = False)\n",
    "if wins_df.size > 5000:\n",
    "    wins_df = wins_df.sample(5000)"
   ]
  },
  {
   "cell_type": "code",
   "execution_count": 4,
   "metadata": {},
   "outputs": [],
   "source": [
    "from spacy.matcher import Matcher\n",
    "from spacy.tokens import Span\n",
    "nlp = spacy.load('en_core_web_md')\n",
    "from string import punctuation"
   ]
  },
  {
   "cell_type": "code",
   "execution_count": 5,
   "metadata": {},
   "outputs": [],
   "source": [
    "pattern1 = [{\"ENT_TYPE\": \"PERSON\", 'OP':'+'}, {\"LEMMA\": \"win\"}, {\"ORTH\":'Best'}, {\"DEP\": 'compound', 'OP':'+'}, {\"POS\":'NOUN', 'OP':'*'}, {'IS_PUNCT': True, 'OP':'?'}, {\"POS\": 'PROPN', 'OP':'*'}]\n",
    "pattern2 = [{\"ENT_TYPE\": \"WORK_OF_ART\", 'OP':'+'}, {\"LEMMA\": \"win\"}, {\"ORTH\":'Best'}, {\"DEP\": 'compound', 'OP':'+'}, {\"POS\":'NOUN', 'OP':'*'}, {'IS_PUNCT': True, 'OP':'?'}, {\"POS\": 'PROPN', 'OP':'*'}]\n",
    "pattern3 = [{\"ENT_TYPE\": \"PERSON\", 'OP':'+'}, {\"LEMMA\": \"win\"}, {\"ORTH\":'Best'}, {\"ENT_TYPE\": \"WORK_OF_ART\", 'OP':'+'}]\n",
    "pattern4 = [{\"ENT_TYPE\": \"WORK_OF_ART\", 'OP':'+'}, {\"LEMMA\": \"win\"}, {\"ORTH\":'Best'}, {\"ENT_TYPE\": \"WORK_OF_ART\", 'OP':'+'}]\n",
    "pattern5 = [{\"ORTH\":'Best'}, {\"ENT_TYPE\": \"WORK_OF_ART\", 'OP':'+'},{\"TEXT\": \"goes\"}, {\"TEXT\": \"to\"}, {\"ENT_TYPE\": \"PERSON\", 'OP':'+'}] \n",
    "pattern6 = [{\"ORTH\":'Best'}, {\"DEP\": 'compound', 'OP':'+'}, {\"POS\":'NOUN', 'OP':'*'}, {'IS_PUNCT': True, 'OP':'?'}, {\"POS\": 'PROPN', 'OP':'*'}, {\"TEXT\": \"goes\"}, {\"TEXT\": \"to\"}, {\"ENT_TYPE\": \"PERSON\", 'OP':'+'}] "
   ]
  },
  {
   "cell_type": "code",
   "execution_count": 6,
   "metadata": {},
   "outputs": [],
   "source": [
    "matcher = Matcher(nlp.vocab)\n",
    "matcher.add(\"Winner\", [pattern1, pattern2, pattern3, pattern4, pattern5, pattern6])"
   ]
  },
  {
   "cell_type": "code",
   "execution_count": 7,
   "metadata": {},
   "outputs": [],
   "source": [
    "winners = {}\n",
    "winners = defaultdict(lambda: 1, winners)\n",
    "for i, text in wins_df.iteritems():\n",
    "    doc = nlp(text)\n",
    "    matches = matcher(doc)\n",
    "    if len(matches) != 0:\n",
    "        span = doc[matches[-1][1]:matches[-1][2]]\n",
    "        winners[str(span).strip(punctuation).strip()] = winners[str(span).strip(punctuation).strip()] +1"
   ]
  },
  {
   "cell_type": "code",
   "execution_count": 8,
   "metadata": {},
   "outputs": [
    {
     "name": "stdout",
     "output_type": "stream",
     "text": [
      "[('Matt Bomer wins Best Supporting Actor', 39), ('J.K. Simmons wins Best Supporting Actor', 25), ('Julianne Moore Wins Best Actress', 23), ('Maggie Gyllenhaal wins Best Actress', 20), ('Ruth Wilson wins Best Actress', 18), ('Best Screenplay - Motion Picture goes to Birdman', 11), ('Amy Adams wins Best Actress in a Motion Picture', 11), ('Amy Adams wins Best Actress, Motion Picture Comedy', 10), ('J.K. Simmons Wins Best Supporting Actor', 10), ('Julianne Moore wins Best Actress, Motion Picture Drama: http://t.co/levjLCmsXp', 9), ('Eddie Redmayne wins Best Actor', 9), ('Julianne Moore wins Best Actress', 8), ('Julianne Moore wins Best Actress In A Motion Picture', 8), ('Kevin Spacey wins Best Actor TV Drama', 8), ('Patricia Arquette wins Best Supporting Actress for Boyhood', 8), ('Eddie Redmayne wins Best Actor Drama', 8), ('Patricia Arquette wins Best Supporting Actress for #Boyhood', 7), ('Gina Rodriguez wins Best Actress - TV Series', 6), ('Julianne Moore wins Best Actress Drama for', 6), ('Best Original Song goes to Selma', 5), ('Billy Bob Thornton wins Best Actor - TV Miniseries', 5), ('Boyhood won Best Picture', 5), ('Best Director - Motion Picture goes to Richard Linklater', 5), ('Birdman wins Best Screenplay, Motion Picture', 5), ('Best Dance Number goes to @Usher', 5), ('Maggie Gyllenhaal wins Best Actress TV Movie', 5), ('Richard Linklater wins Best Director http://t.co/vtXUAylpEQ', 4), ('Boyhood won Best Picture - Drama at', 4), ('Best Director # goes to Richard Linklater', 4), ('Birdman wins Best Screenplay', 4), ('Patricia Arquette wins Best Supporting Actress', 3), ('Best Supporting Actor goes to JK Simmons', 3), ('Best Supporting Actor goes to J.K. Simmons', 3), ('JK Simmons wins Best Supporting Actor', 3), ('Simmons wins Best Supporting Actor', 3), ('Julianne Moore won Best Actress', 3), ('Gina Rodriguez wins Best Actress', 3), ('Joanne Froggart wins Best Supporting Actress in TV', 3), ('Eddie Redmayne wins Best Actor - Drama', 3), ('Amy Adams wins Best Actress for Big Eyes', 3), ('John Legend wins Best Original Song', 3), ('Amy Adams wins Best Actress in a Motion Picture-Comedy or Musical', 3), ('Joshua Jackson wins Best Supporting Boyfriend', 3), ('Ruth Wilson wins Best Actress TV', 3), ('Ruth Wilson wins Best actress TV drama', 3), ('Amy Adams wins Best Actress - Musical', 3), ('BOYHOOD won Best Picture Drama', 3), ('Julianne Moore wins Best Actress for Motion Picture - Drama for Still Alice', 3), ('Billy Bob Thornton wins Best Actor TV Miniseries', 3), ('Best Actor, Motion Picture Drama goes to Eddie Redmayne', 2), ('Emily Blunt won Best Actress', 2), ('Best Director  award goes to Richard Linklater', 2), ('Amy Adams wins Best Actress (Comedy / Musical', 2), ('RT @THR Ruth Wilson wins Best Actress in TV Series', 2), ('Julianne Moore wins Best Actress in a Motion Picture (Drama', 2), ('Selma wins Best Original Song', 2), ('Atleast Birdman won Best Screenplay', 2), ('THR: How to Train Your Dragon 2 wins Best Animated Feature', 2), ('THR: The Grand Budapest Hotel wins Best Motion Picture', 2), ('Simmons won Best Supporting Actor', 2), ('Ruth Wilson wins Best Actress in TV Series', 2), ('Julianne Moore wins Best Actress, Motion Picture Drama', 2), ('Amy Adams wins Best Actress, Motion Picture', 2), ('Julianne Moore won Best Actress - Drama at the', 2), ('KevinSpacey wins Best TV Actor', 2), (\"ArtsMic: 'The Grand Budapest Hotel' wins Best Comedy or Musical ”\", 2), ('Ruth Wilson wins Best Actress - TV Series - Drama for The Affair', 2), ('Best Actress In A Musical or Comedy @ goes to Amy Adams', 2), ('Gina Rodriguez won Best Actress', 2), ('Gina Rodriquez wins Best Actress', 2), ('THR: How to Train Your Dragon 2 wins Best Animated Feature Film', 2), ('Richard Linklater wins Best Director - Motion Picture', 2), ('transparent_tv wins Best TV Series', 2), ('Johann Johannsson wins Best Original Score for', 2), ('Ruth Wilson wins Best Actress in TV', 2), ('Best couple award goes to @AnnaKFaris', 2), ('Julianne Moore wins Best Actress In Motion Drama for Still Alice', 2), ('Selma won Best Original Song', 2), ('Amy Adams wins Best Actress', 2), ('Patricia Arquette wins Best Supporting Actress Drama', 2), ('Best Actor Comedy goes to MICHAEL', 2), ('Richard Linklater wins Best Director http://t.co/cFfyD4AhCC', 2), ('GINA RODRIGUEZ wins Best Actress TV Comedy', 2), ('Jeffrey Tambor wins Best Tv Comedy Actor', 2), ('LEVIATHAN wins Best Foreign Language Films', 2), ('Amy Adams wins Best Actress - Comedy or Musical for Big Eyes', 2), ('Amy Adams wins Best Actress for Big Eyes: It', 2), ('Iggy Azalea wins Best Rap Album', 2), ('Naomi Watts wins Best Supporting Actress', 2), ('Best Actress # goes to Julianne Moore', 2), ('Amy Adams wins Best Actress in a Motion Picture - Comedy/Musical at', 2), ('Joanne Froggart wins Best Actress', 2), ('Jeffrey Tambor wins Best Actor TV Comedy http://t.co/OSRjRqGlC9', 2), ('Grand Budapest won Best Musical/Comedy', 2), ('Jeffrey Tambor wins Best Actor/ Comedy', 2), ('The Theory of Everything wins Best Original Score', 2), ('Gina Rodriguez wins Best TV Series Actress - Comedy', 2), ('Michael Keaton wins Best Actor Musical/ Comedy', 2), ('MICHAEL KEATON wins Best Actor Motion Picture Comedy', 2), ('HowToTrainYourDragon2 wins Best Animated Feature Film', 2), ('Amy Adams wins Best Actress/Comedy or Musical for \"Big Eyes', 2), ('Amy Adams wins Best Actress, Motion Picture Comedy http://t.co/LwtWMOS1XU @EW', 2), ('Maggie Gyllenhaal wins Best Actress - TV Series', 2), ('Boyhood won Best Motion Picture', 2), ('Julianne Moore wins Best Actress for Still', 2), ('Eddie Redmayne wins Best #Actor', 2), ('Amy Adams wins Best Actress for Big Eyes –', 2), ('Amy Adams wins Best Actress in a Motion Picture - Comedy or Musical for \"Big Eyes', 2)]\n"
     ]
    }
   ],
   "source": [
    "winners = sorted(winners.items(), key=lambda item: item[1], reverse = True)\n",
    "print(winners)"
   ]
  },
  {
   "cell_type": "code",
   "execution_count": 9,
   "metadata": {},
   "outputs": [],
   "source": [
    "import Levenshtein\n",
    "# tweet = string, awards = dict\n",
    "def DistMeasure(tweet):\n",
    "    awards = {}\n",
    "    tweet = tweet.lower()\n",
    "    tweet = tweet.replace('tv', 'television')\n",
    "    tweet = tweet.replace('film', 'motion picture')\n",
    "    tweet = tweet.replace('movie', 'motion picture')\n",
    "    for award in new_award_names:\n",
    "        split_award = award.split()\n",
    "        award_dist = 0\n",
    "        \n",
    "        split_tweet = tweet.split()\n",
    "        for word in split_tweet:\n",
    "            array = []\n",
    "            for word2 in split_award:\n",
    "                array.append(Levenshtein.distance(word, word2))\n",
    "            min_val = array[np.argmin(array)]\n",
    "            award_dist += min_val\n",
    "        awards[award] = award_dist\n",
    "        \n",
    "    val = min(awards.values())\n",
    "    res = [key for key in awards if awards[key] == val]\n",
    "    if len(res) > 10:\n",
    "        res = []\n",
    "    return res"
   ]
  },
  {
   "cell_type": "code",
   "execution_count": 23,
   "metadata": {},
   "outputs": [
    {
     "name": "stdout",
     "output_type": "stream",
     "text": [
      "goes\n",
      "['birdman']\n",
      "goes\n",
      "['selma']\n",
      "goes\n",
      "['richard', 'linklater']\n",
      "goes\n",
      "['richard', 'linklater']\n",
      "goes\n",
      "['jk', 'simmons']\n",
      "goes\n",
      "['jk', 'simmons']\n",
      "goes\n",
      "['j.k.', 'simmons']\n",
      "goes\n",
      "['j.k.', 'simmons']\n",
      "goes\n",
      "['eddie', 'redmayne']\n",
      "goes\n",
      "['richard', 'linklater']\n",
      "goes\n",
      "['amy', 'adams']\n",
      "goes\n",
      "['amy', 'adams']\n",
      "goes\n",
      "['@annakfaris']\n",
      "goes\n",
      "['@annakfaris']\n",
      "goes\n",
      "['@annakfaris']\n",
      "goes\n",
      "['@annakfaris']\n",
      "goes\n",
      "['@annakfaris']\n",
      "goes\n",
      "['@annakfaris']\n",
      "goes\n",
      "['@annakfaris']\n",
      "goes\n",
      "['@annakfaris']\n",
      "goes\n",
      "['@annakfaris']\n",
      "goes\n",
      "['@annakfaris']\n",
      "goes\n",
      "['michael']\n",
      "goes\n",
      "['michael']\n",
      "goes\n",
      "['julianne', 'moore']\n",
      "goes\n",
      "['julianne', 'moore']\n",
      "goes\n",
      "['julianne', 'moore']\n",
      "goes\n",
      "['julianne', 'moore']\n",
      "[{'boyhood': 1}, {\"artsmic: 'the grand budapest hotel'\": 1, 'grand budapest': 1}, {'leviathan': 1}, {'thr: how to train your dragon 2': 2, 'howtotrainyourdragon2': 1}, {'richard linklater': 6}, {'eddie redmayne': 5, 'boyhood': 2}, {'eddie redmayne': 2, \"artsmic: 'the grand budapest hotel'\": 1, '@annakfaris': 1, 'michael': 1, 'grand budapest': 1, 'jeffrey tambor': 1, 'michael keaton': 2}, {'julianne moore': 11, 'maggie gyllenhaal': 1, 'ruth wilson': 1, 'amy adams': 3, 'boyhood': 2, 'gina rodriguez': 2, 'emily blunt': 1, 'gina rodriquez': 1, 'joanne froggart': 1}, {'julianne moore': 7, 'maggie gyllenhaal': 1, 'ruth wilson': 1, 'amy adams': 16, 'gina rodriguez': 2, 'emily blunt': 1, \"artsmic: 'the grand budapest hotel'\": 1, 'gina rodriquez': 1, '@annakfaris': 1, 'joanne froggart': 1, 'grand budapest': 1}, {'matt bomer': 1, 'j.k. simmons': 3, 'eddie redmayne': 2, 'jk simmons': 2, 'simmons': 2, 'joshua jackson': 1}, {'julianne moore': 3, 'maggie gyllenhaal': 1, 'ruth wilson': 1, 'patricia arquette': 1, 'gina rodriguez': 2, 'joshua jackson': 1, 'emily blunt': 1, 'amy adams': 2, 'gina rodriquez': 1, 'naomi watts': 1, 'joanne froggart': 1}, {'birdman': 3, 'atleast birdman': 1}, {'johann johannsson': 1, 'the theory of everything': 1}, {'selma': 3, 'john legend': 1}, {'transparent_tv': 1}, {\"artsmic: 'the grand budapest hotel'\": 1, 'transparent_tv': 1, '@annakfaris': 1, 'grand budapest': 1}, {'@annakfaris': 1}, {'eddie redmayne': 4, 'kevin spacey': 1, 'kevinspacey': 1, 'transparent_tv': 1}, {'eddie redmayne': 2, 'kevinspacey': 1, \"artsmic: 'the grand budapest hotel'\": 1, 'transparent_tv': 1, '@annakfaris': 1, 'michael': 1, 'jeffrey tambor': 3, 'grand budapest': 1, 'michael keaton': 1}, {'eddie redmayne': 2, 'billy bob thornton': 2, 'kevinspacey': 1, '@annakfaris': 1}, {'julianne moore': 5, 'maggie gyllenhaal': 2, 'ruth wilson': 6, 'gina rodriguez': 3, 'emily blunt': 1, 'rt @thr ruth wilson': 1, 'gina rodriquez': 1, 'transparent_tv': 1, 'amy adams': 1, 'joanne froggart': 1}, {'julianne moore': 5, 'maggie gyllenhaal': 2, 'ruth wilson': 4, 'gina rodriguez': 5, 'amy adams': 9, 'emily blunt': 1, 'rt @thr ruth wilson': 1, \"artsmic: 'the grand budapest hotel'\": 1, 'gina rodriquez': 1, 'transparent_tv': 1, '@annakfaris': 1, 'joanne froggart': 1, 'grand budapest': 1}, {'julianne moore': 7, 'maggie gyllenhaal': 2, 'ruth wilson': 3, 'amy adams': 6, 'gina rodriguez': 2, 'emily blunt': 1, 'gina rodriquez': 1, '@annakfaris': 1, 'joanne froggart': 1}, {'matt bomer': 1, 'j.k. simmons': 3, 'eddie redmayne': 2, 'billy bob thornton': 2, 'jk simmons': 2, 'simmons': 2, 'joshua jackson': 1, 'kevinspacey': 1, '@annakfaris': 1}, {'julianne moore': 7, 'maggie gyllenhaal': 2, 'ruth wilson': 3, 'amy adams': 6, 'patricia arquette': 4, 'gina rodriguez': 2, 'joanne froggart': 2, 'joshua jackson': 1, 'emily blunt': 1, 'gina rodriquez': 1, '@annakfaris': 1, 'naomi watts': 1}]\n"
     ]
    }
   ],
   "source": [
    "award_list = [dict() for x in range(len(new_award_names))]\n",
    "\n",
    "for tweet in winners: \n",
    "    tweet = tweet[0]\n",
    "    split = tweet.lower().split()\n",
    "    \n",
    "    index = split.index(\"best\")\n",
    "\n",
    "    award_phrase = \" \".join(split[index:])\n",
    "    matching_awards = DistMeasure(award_phrase)\n",
    "    for a in matching_awards:\n",
    "        award_index = new_award_names.index(a)\n",
    "        global person\n",
    "        person = ''\n",
    "        if \"goes\" in split and \"to\" in split:\n",
    "            print(\"goes\")\n",
    "            person_index = split.index(\"goes\")\n",
    "            person = split[person_index+2:]\n",
    "            print(person)\n",
    "        else:\n",
    "            person = split[:index-1]\n",
    "        person = \" \".join(person)\n",
    "        if person not in award_list[award_index]:\n",
    "            award_list[award_index][person] = 1\n",
    "        else:\n",
    "            award_list[award_index][person] = award_list[award_index][person]+1\n",
    "\n",
    "print(award_list)"
   ]
  },
  {
   "cell_type": "code",
   "execution_count": 24,
   "metadata": {},
   "outputs": [
    {
     "name": "stdout",
     "output_type": "stream",
     "text": [
      "[['boyhood'], [\"artsmic: 'the grand budapest hotel'\"], ['leviathan'], ['thr: how to train your dragon 2'], ['richard linklater'], ['eddie redmayne'], ['eddie redmayne'], ['julianne moore'], ['amy adams'], ['j.k. simmons'], ['julianne moore'], ['birdman'], ['johann johannsson'], ['selma'], ['transparent_tv'], [\"artsmic: 'the grand budapest hotel'\"], ['@annakfaris'], ['eddie redmayne'], ['jeffrey tambor'], ['eddie redmayne'], ['ruth wilson'], ['amy adams'], ['julianne moore'], ['j.k. simmons'], ['julianne moore']]\n"
     ]
    }
   ],
   "source": [
    "import operator\n",
    "i = 0\n",
    "awards = [[] for x in range(len(new_award_names))]\n",
    "for award in award_list:\n",
    "    if award != {}:\n",
    "        max_val = max(award.items(), key=operator.itemgetter(1))[1]\n",
    "        j = 0\n",
    "        list_award = list(award)\n",
    "        for b in award:\n",
    "            if award[b] == max_val and len(awards[i]) < 1:\n",
    "                awards[i].append(list_award[j])\n",
    "            j+=1\n",
    "    i+=1\n",
    "print(awards)"
   ]
  },
  {
   "cell_type": "code",
   "execution_count": 25,
   "metadata": {},
   "outputs": [
    {
     "name": "stdout",
     "output_type": "stream",
     "text": [
      "Best Motion Picture – Drama ['boyhood']\n",
      "Best Motion Picture – Musical or Comedy [\"artsmic: 'the grand budapest hotel'\"]\n",
      "Best Motion Picture – Foreign Language ['leviathan']\n",
      "Best Motion Picture – Animated ['thr: how to train your dragon 2']\n",
      "Best Director – Motion Picture ['richard linklater']\n",
      "Best Actor in a Motion Picture – Drama ['eddie redmayne']\n",
      "Best Actor in a Motion Picture – Musical or Comedy ['eddie redmayne']\n",
      "Best Actress in a Motion Picture – Drama ['julianne moore']\n",
      "Best Actress in a Motion Picture – Musical or Comedy ['amy adams']\n",
      "Best Supporting Actor – Motion Picture ['j.k. simmons']\n",
      "Best Supporting Actress – Motion Picture ['julianne moore']\n",
      "Best Screenplay – Motion Picture ['birdman']\n",
      "Best Original Score – Motion Picture ['johann johannsson']\n",
      "Best Original Song – Motion Picture ['selma']\n",
      "Best Television Series – Drama ['transparent_tv']\n",
      "Best Television Series – Musical or Comedy [\"artsmic: 'the grand budapest hotel'\"]\n",
      "Best Miniseries or Motion Picture – Television ['@annakfaris']\n",
      "Best Actor in a Television Series – Drama ['eddie redmayne']\n",
      "Best Actor in a Television Series – Musical or Comedy ['jeffrey tambor']\n",
      "Best Actor in a Miniseries or Motion Picture – Television ['eddie redmayne']\n",
      "Best Actress in a Television Series – Drama ['ruth wilson']\n",
      "Best Actress in a Television Series – Musical or Comedy ['amy adams']\n",
      "Best Actress in a Miniseries or Motion Picture – Television ['julianne moore']\n",
      "Best Supporting Actor in a Series, Miniseries or Motion Picture – Television ['j.k. simmons']\n",
      "Best Supporting Actress in a Series, Miniseries or Motion Picture – Television ['julianne moore']\n"
     ]
    }
   ],
   "source": [
    "result = dict(zip(award_names, awards)) \n",
    "for res in result:\n",
    "    print(res, result[res])"
   ]
  },
  {
   "cell_type": "code",
   "execution_count": null,
   "metadata": {},
   "outputs": [],
   "source": []
  },
  {
   "cell_type": "code",
   "execution_count": null,
   "metadata": {},
   "outputs": [],
   "source": []
  }
 ],
 "metadata": {
  "kernelspec": {
   "display_name": "Python 3",
   "language": "python",
   "name": "python3"
  },
  "language_info": {
   "codemirror_mode": {
    "name": "ipython",
    "version": 3
   },
   "file_extension": ".py",
   "mimetype": "text/x-python",
   "name": "python",
   "nbconvert_exporter": "python",
   "pygments_lexer": "ipython3",
   "version": "3.8.3"
  }
 },
 "nbformat": 4,
 "nbformat_minor": 4
}
