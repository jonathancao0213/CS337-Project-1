{
 "cells": [
  {
   "cell_type": "code",
   "execution_count": 1,
   "metadata": {},
   "outputs": [],
   "source": [
    "award_names = ['Best Motion Picture – Drama', 'Best Motion Picture – Musical or Comedy', 'Best Motion Picture – Foreign Language',\n",
    " 'Best Motion Picture – Animated', 'Best Director – Motion Picture', 'Best Actor in a Motion Picture – Drama',\n",
    " 'Best Actor in a Motion Picture – Musical or Comedy', 'Best Actress in a Motion Picture – Drama',\n",
    " 'Best Actress in a Motion Picture – Musical or Comedy', 'Best Supporting Actor – Motion Picture',\n",
    " 'Best Supporting Actress – Motion Picture', 'Best Screenplay – Motion Picture', 'Best Original Score – Motion Picture',\n",
    " 'Best Original Song – Motion Picture', 'Best Television Series – Drama', 'Best Television Series – Musical or Comedy',\n",
    " 'Best Miniseries or Motion Picture – Television', 'Best Actor in a Television Series – Drama',\n",
    " 'Best Actor in a Television Series – Musical or Comedy', 'Best Actor in a Miniseries or Motion Picture – Television',\n",
    " 'Best Actress in a Television Series – Drama', 'Best Actress in a Television Series – Musical or Comedy',\n",
    " 'Best Actress in a Miniseries or Motion Picture – Television',\n",
    " 'Best Supporting Actor in a Series, Miniseries or Motion Picture – Television',\n",
    " 'Best Supporting Actress in a Series, Miniseries or Motion Picture – Television']\n",
    "new_award_names = [0]*len(award_names)\n",
    "for i in range(len(award_names)):\n",
    "    new_award_names[i] = award_names[i].lower()\n"
   ]
  },
  {
   "cell_type": "code",
   "execution_count": 2,
   "metadata": {},
   "outputs": [],
   "source": [
    "import numpy as np\n",
    "import pandas as pd\n",
    "import spacy\n",
    "from spacy import displacy\n",
    "from collections import defaultdict"
   ]
  },
  {
   "cell_type": "code",
   "execution_count": 3,
   "metadata": {},
   "outputs": [],
   "source": [
    "df = pd.read_json('../gg2015.json')\n",
    "df = df['text']\n",
    "df = df[df.str.contains('won best|wins best|goes to', case = False)]\n",
    "df = df[~df.str.contains('think|thinking|should|maybe', case = False)]\n",
    "wins_df = df.str.replace('#GoldenGlobes|golden|globes|globe', \"\", case = False)\n",
    "if wins_df.size > 5000:\n",
    "    wins_df = wins_df.sample(5000)"
   ]
  },
  {
   "cell_type": "code",
   "execution_count": 4,
   "metadata": {},
   "outputs": [],
   "source": [
    "from spacy.matcher import Matcher\n",
    "from spacy.tokens import Span\n",
    "nlp = spacy.load('en_core_web_md')\n",
    "from string import punctuation"
   ]
  },
  {
   "cell_type": "code",
   "execution_count": 5,
   "metadata": {},
   "outputs": [],
   "source": [
    "pattern1 = [{\"ENT_TYPE\": \"PERSON\", 'OP':'+'}, {\"LEMMA\": \"win\"}, {\"ORTH\":'Best'}, {\"DEP\": 'compound', 'OP':'+'}, {\"POS\":'NOUN', 'OP':'*'}, {'IS_PUNCT': True, 'OP':'?'}, {\"POS\": 'PROPN', 'OP':'*'}]\n",
    "pattern2 = [{\"ENT_TYPE\": \"WORK_OF_ART\", 'OP':'+'}, {\"LEMMA\": \"win\"}, {\"ORTH\":'Best'}, {\"DEP\": 'compound', 'OP':'+'}, {\"POS\":'NOUN', 'OP':'*'}, {'IS_PUNCT': True, 'OP':'?'}, {\"POS\": 'PROPN', 'OP':'*'}]\n",
    "pattern3 = [{\"ENT_TYPE\": \"PERSON\", 'OP':'+'}, {\"LEMMA\": \"win\"}, {\"ORTH\":'Best'}, {\"ENT_TYPE\": \"WORK_OF_ART\", 'OP':'+'}]\n",
    "pattern4 = [{\"ENT_TYPE\": \"WORK_OF_ART\", 'OP':'+'}, {\"LEMMA\": \"win\"}, {\"ORTH\":'Best'}, {\"ENT_TYPE\": \"WORK_OF_ART\", 'OP':'+'}]\n",
    "pattern5 = [{\"ORTH\":'Best'}, {\"ENT_TYPE\": \"WORK_OF_ART\", 'OP':'+'},{\"TEXT\": \"goes\"}, {\"TEXT\": \"to\"}, {\"ENT_TYPE\": \"PERSON\", 'OP':'+'}] \n",
    "pattern6 = [{\"ORTH\":'Best'}, {\"DEP\": 'compound', 'OP':'+'}, {\"POS\":'NOUN', 'OP':'*'}, {'IS_PUNCT': True, 'OP':'?'}, {\"POS\": 'PROPN', 'OP':'*'}, {\"TEXT\": \"goes\"}, {\"TEXT\": \"to\"}, {\"ENT_TYPE\": \"PERSON\", 'OP':'+'}] "
   ]
  },
  {
   "cell_type": "code",
   "execution_count": 6,
   "metadata": {},
   "outputs": [],
   "source": [
    "matcher = Matcher(nlp.vocab)\n",
    "matcher.add(\"Winner\", [pattern1, pattern2, pattern3, pattern4, pattern5, pattern6])"
   ]
  },
  {
   "cell_type": "code",
   "execution_count": 7,
   "metadata": {},
   "outputs": [],
   "source": [
    "winners = {}\n",
    "winners = defaultdict(lambda: 1, winners)\n",
    "for i, text in wins_df.iteritems():\n",
    "    doc = nlp(text)\n",
    "    matches = matcher(doc)\n",
    "    if len(matches) != 0:\n",
    "        span = doc[matches[-1][1]:matches[-1][2]]\n",
    "        winners[str(span).strip(punctuation).strip()] = winners[str(span).strip(punctuation).strip()] +1"
   ]
  },
  {
   "cell_type": "code",
   "execution_count": 8,
   "metadata": {},
   "outputs": [
    {
     "name": "stdout",
     "output_type": "stream",
     "text": [
      "[('Matt Bomer wins Best Supporting Actor', 35), ('Maggie Gyllenhaal wins Best Actress', 24), ('J.K. Simmons wins Best Supporting Actor', 18), ('Ruth Wilson wins Best Actress', 18), ('Julianne Moore Wins Best Actress', 16), ('Julianne Moore wins Best Actress', 16), ('Best Director - Motion Picture goes to Richard Linklater', 11), ('Best Screenplay - Motion Picture goes to Birdman', 10), ('J.K. Simmons Wins Best Supporting Actor', 9), ('Kevin Spacey wins Best Actor TV Drama', 9), ('Amy Adams wins Best Actress, Motion Picture Comedy', 8), ('Gina Rodriguez wins Best Actress - TV Series', 8), ('Julianne Moore wins Best Actress Drama for', 7), ('Boyhood won Best Picture', 7), ('Amy Adams wins Best Actress in a Motion Picture', 7), ('Eddie Redmayne wins Best Actor Drama', 7), ('Boyhood won Best Picture - Drama at', 6), ('Simmons wins Best Supporting Actor', 6), ('Patricia Arquette wins Best Supporting Actress for Boyhood', 6), ('Billy Bob Thornton wins Best Actor - TV Miniseries', 6), ('Birdman wins Best Screenplay, Motion Picture', 5), ('Patricia Arquette wins Best Supporting Actress for #Boyhood', 5), ('Best Dance Number goes to @Usher', 5), ('Julianne Moore won Best Actress', 5), ('BOYHOOD won Best Picture Drama', 5), ('Amy Adams wins Best Actress in a Motion Picture, Musical or Comedy for \"Big Eyes', 5), ('Gina Rodriguez wins Best Actress', 5), ('Julianne Moore wins Best Actress In A Motion Picture', 5), ('Eddie Redmayne wins Best Actor', 4), ('Amy Adams wins Best Actress - Musical', 4), ('Julianne Moore wins Best Actress in a Motion Picture', 3), ('Celebrity ▪ Eddie Redmayne wins Best Actor', 3), ('Richard Linklater wins Best Director http://t.co/vtXUAylpEQ', 3), ('Julianne Moore wins Best Actress, Motion Picture Drama: http://t.co/levjLCmsXp', 3), ('Best Original Song goes to Selma', 3), ('Johann Johannsson wins Best Original Score, Motion Picture', 3), ('Richard Linklater wins Best Director http://t.co/cFfyD4AhCC', 3), ('transparent_tv wins Best TV Series', 3), ('HowToTrainYourDragon2 wins Best Animated Feature', 3), ('Best couple award goes to @AnnaKFaris', 3), ('Ruth Wilson wins Best Actress in TV', 3), ('Amy Adams wins Best Actress', 3), ('Houstonians won Best Drama and Best Comedy', 2), ('Amy Adams wins Best Actress in a Motion Picture - Comedy or Musical for Big Eyes', 2), ('Ruth Wilson wins Best actress TV drama', 2), ('Joanne Froggatt won Best Supporting Actress TV', 2), ('Patricia Arquette wins Best Supporting Actress for ‘Boyhood’', 2), ('Amy Adams wins Best Actress, Motion Picture Comedy http://t.co/LwtWMOS1XU @EW', 2), ('Amy Adams wins Best Actress for Big Eyes', 2), ('Matt Bomer Wins Best Supporting Actor', 2), ('Amy Adams wins Best Actress in a Motion Picture-Comedy or Musical', 2), ('Best Supporting Actress in a Motion Picture goes to Patricia Arquette', 2), ('Best Seacrest Shutdown goes to Lupita', 2), ('Best Director  award goes to Richard Linklater', 2), ('Ruth Wilson wins Best Actress in TV Series', 2), ('Matt Bomer wins Best TV Supporting Actor', 2), ('Best Actrees Tv-Series Drama goes to Ruth Wilson', 2), ('Patricia Arquette wins Best Actress Motion Picture', 2), ('Michael Keaton wins Best Actor Drama', 2), ('John Legend wins Best Original Song', 2), ('Best acceptance speech award goes to Billy Bob Thornton', 2), ('Best Actor in TV Movie goes to Billy Bob Thornton', 2), ('Best actress motion picture drama goes to Julianne Moore', 2), ('JK Simmons wins Best Supporting Actor', 2), ('LEVIATHAN wins Best Foreign Language Film', 2), ('Julianne Moore wins Best Actress in a Motion Picture (Drama', 2), ('Maggie Gyllenhaal wins Best Actress TV Movie', 2), ('Best Screen Play goes to Birdman', 2), ('The Theory Of Everything wins Best Original Score', 2), ('Joanne Froggart wins Best Actress', 2), ('Patricia Arquette wins Best Supporting Actress for BOYHOOD', 2), ('Common won Best Song', 2), ('Ruth Wilson wins Best Actress TV', 2), ('Kevin Spacey wins Best Actor TV Series - Drama', 2), ('Best Original Song - Motion Picture goes to Selma', 2), ('Alice Morgan wins Best TV Actress', 2), ('J.K Simmons wins Best Supporting Actor award', 2), ('Flashback @Madonna wins Best Original Song for', 2), ('Patricia Arquette Wins Best Supportin Actress', 2), ('Michael Keaton wins Best Performance comedy', 2), ('http://t.co/iEtT7gwq0u Julianne Moore wins Best Actress', 2), ('Patricia Arquette wins Best Supporting Actress', 2), ('Eddie Redmayne wins Best Actor - Drama', 2), ('Joshua Jackson wins Best Supporting Boyfriend', 2), ('Best Original Score goes to Johann Johannsson', 2), ('Best Dressed Couple goes to Diane Kruger &amp', 2), ('Patricia Arquette won Best Supporting Actress in Drama for Boyhood http://t.co/oil5QDWYSB', 2), ('J.K. Simmons wins Best Supporting Actor - Motion Picture', 2), ('Best Original Score goes to Jóhann Jóhannsson', 2), ('The Honorable Woman\" Wins Best Actress', 2), ('Best Supporting Actor goes to J.K. Simmons', 2), ('Julianne Moore wins Best Actress in a Motion Picture Drama for Still', 2), ('Julianne Moore wins Best Actress for Motion Picture - Drama for Still Alice', 2), ('Best Actress goes to Julianne Moore', 2), ('The Theory of Everything wins Best Actor in a Motion Picture - Drama', 2), ('Selma won Best Original Song', 2), ('Amy Adams wins Best Actress Musical or Comedy for Big Eyes', 2), ('Julianne Moore wins Best Actress in a Motion Picture - Drama http://t.co/XjERcTnZjq', 2), ('Best Micheal Caine goes to Colin Firth', 2), ('Amy Adams won Best Actress', 2), ('Julianne Moore won Best Actress - Drama at the', 2), ('Richard Linklater wins Best Director - Motion Picture', 2)]\n"
     ]
    }
   ],
   "source": [
    "winners = sorted(winners.items(), key=lambda item: item[1], reverse = True)\n",
    "print(winners)"
   ]
  },
  {
   "cell_type": "code",
   "execution_count": 9,
   "metadata": {},
   "outputs": [],
   "source": [
    "import Levenshtein\n",
    "# tweet = string, awards = dict\n",
    "def DistMeasure(tweet):\n",
    "    awards = {}\n",
    "    tweet = tweet.lower()\n",
    "    tweet = tweet.replace('tv', 'television')\n",
    "    tweet = tweet.replace('film', 'motion picture')\n",
    "    tweet = tweet.replace('movie', 'motion picture')\n",
    "    for award in new_award_names:\n",
    "        split_award = award.split()\n",
    "        award_dist = 0\n",
    "        \n",
    "        split_tweet = tweet.split()\n",
    "        for word in split_tweet:\n",
    "            array = []\n",
    "            for word2 in split_award:\n",
    "                array.append(Levenshtein.distance(word, word2))\n",
    "            min_val = array[np.argmin(array)]\n",
    "            award_dist += min_val\n",
    "        awards[award] = award_dist\n",
    "        \n",
    "    val = min(awards.values())\n",
    "    res = [key for key in awards if awards[key] == val]\n",
    "    if len(res) > 10:\n",
    "        res = []\n",
    "    return res"
   ]
  },
  {
   "cell_type": "code",
   "execution_count": 10,
   "metadata": {},
   "outputs": [
    {
     "name": "stdout",
     "output_type": "stream",
     "text": [
      "goes\n",
      "['richard', 'linklater']\n",
      "goes\n",
      "['birdman']\n",
      "goes\n",
      "['selma']\n",
      "goes\n",
      "['@annakfaris']\n",
      "goes\n",
      "['@annakfaris']\n",
      "goes\n",
      "['@annakfaris']\n",
      "goes\n",
      "['@annakfaris']\n",
      "goes\n",
      "['@annakfaris']\n",
      "goes\n",
      "['@annakfaris']\n",
      "goes\n",
      "['@annakfaris']\n",
      "goes\n",
      "['@annakfaris']\n",
      "goes\n",
      "['@annakfaris']\n",
      "goes\n",
      "['@annakfaris']\n",
      "goes\n",
      "['patricia', 'arquette']\n",
      "goes\n",
      "['lupita']\n",
      "goes\n",
      "['richard', 'linklater']\n",
      "goes\n",
      "['ruth', 'wilson']\n",
      "goes\n",
      "['billy', 'bob', 'thornton']\n",
      "goes\n",
      "['billy', 'bob', 'thornton']\n",
      "goes\n",
      "['billy', 'bob', 'thornton']\n",
      "goes\n",
      "['billy', 'bob', 'thornton']\n",
      "goes\n",
      "['billy', 'bob', 'thornton']\n",
      "goes\n",
      "['billy', 'bob', 'thornton']\n",
      "goes\n",
      "['billy', 'bob', 'thornton']\n",
      "goes\n",
      "['billy', 'bob', 'thornton']\n",
      "goes\n",
      "['billy', 'bob', 'thornton']\n",
      "goes\n",
      "['billy', 'bob', 'thornton']\n",
      "goes\n",
      "['julianne', 'moore']\n",
      "goes\n",
      "['birdman']\n",
      "goes\n",
      "['birdman']\n",
      "goes\n",
      "['selma']\n",
      "goes\n",
      "['johann', 'johannsson']\n",
      "goes\n",
      "['diane', 'kruger', '&amp']\n",
      "goes\n",
      "['diane', 'kruger', '&amp']\n",
      "goes\n",
      "['diane', 'kruger', '&amp']\n",
      "goes\n",
      "['diane', 'kruger', '&amp']\n",
      "goes\n",
      "['jóhann', 'jóhannsson']\n",
      "goes\n",
      "['j.k.', 'simmons']\n",
      "goes\n",
      "['j.k.', 'simmons']\n",
      "goes\n",
      "['julianne', 'moore']\n",
      "goes\n",
      "['julianne', 'moore']\n",
      "goes\n",
      "['julianne', 'moore']\n",
      "goes\n",
      "['julianne', 'moore']\n",
      "goes\n",
      "['colin', 'firth']\n",
      "goes\n",
      "['colin', 'firth']\n",
      "goes\n",
      "['colin', 'firth']\n",
      "goes\n",
      "['colin', 'firth']\n",
      "[{'boyhood': 1}, {'billy bob thornton': 1, 'michael keaton': 1}, {'leviathan': 1}, {'howtotrainyourdragon2': 1}, {'richard linklater': 5}, {'eddie redmayne': 3, 'boyhood': 2, 'celebrity ▪ eddie redmayne': 1, 'michael keaton': 1, 'the theory of everything': 1}, {'eddie redmayne': 1, 'celebrity ▪ eddie redmayne': 1, '@annakfaris': 1, 'houstonians': 1, 'billy bob thornton': 1, 'michael keaton': 1, 'diane kruger &amp': 1, 'colin firth': 1}, {'maggie gyllenhaal': 1, 'ruth wilson': 1, 'julianne moore': 13, 'amy adams': 3, 'boyhood': 2, 'gina rodriguez': 1, 'patricia arquette': 1, 'joanne froggart': 1, 'http://t.co/iett7gwq0u julianne moore': 1, 'the honorable woman\"': 1}, {'maggie gyllenhaal': 1, 'ruth wilson': 1, 'julianne moore': 7, 'amy adams': 11, 'gina rodriguez': 1, '@annakfaris': 1, 'houstonians': 1, 'lupita': 1, 'patricia arquette': 1, 'billy bob thornton': 1, 'joanne froggart': 1, 'michael keaton': 1, 'http://t.co/iett7gwq0u julianne moore': 1, 'diane kruger &amp': 1, 'the honorable woman\"': 1, 'colin firth': 1}, {'matt bomer': 2, 'j.k. simmons': 4, 'simmons': 1, 'eddie redmayne': 1, 'celebrity ▪ eddie redmayne': 1, 'jk simmons': 1, 'j.k simmons': 1, 'joshua jackson': 1}, {'maggie gyllenhaal': 1, 'ruth wilson': 1, 'julianne moore': 3, 'gina rodriguez': 1, 'amy adams': 2, 'patricia arquette': 3, 'joanne froggart': 1, 'http://t.co/iett7gwq0u julianne moore': 1, 'joshua jackson': 1, 'the honorable woman\"': 1}, {'birdman': 2}, {'johann johannsson': 2, 'the theory of everything': 1, 'jóhann jóhannsson': 1}, {'selma': 3, 'john legend': 1, 'common': 1, 'flashback @madonna': 1}, {'transparent_tv': 1}, {'transparent_tv': 1, '@annakfaris': 1}, {'@annakfaris': 1, 'billy bob thornton': 1}, {'kevin spacey': 2, 'eddie redmayne': 3, 'celebrity ▪ eddie redmayne': 1, 'transparent_tv': 1, 'michael keaton': 1, 'birdman': 1}, {'eddie redmayne': 1, 'celebrity ▪ eddie redmayne': 1, 'transparent_tv': 1, '@annakfaris': 1, 'houstonians': 1, 'diane kruger &amp': 1, 'colin firth': 1}, {'billy bob thornton': 3, 'eddie redmayne': 1, 'celebrity ▪ eddie redmayne': 1, '@annakfaris': 1}, {'maggie gyllenhaal': 1, 'ruth wilson': 6, 'julianne moore': 5, 'gina rodriguez': 2, 'transparent_tv': 1, 'amy adams': 2, 'birdman': 1, 'joanne froggart': 1, 'alice morgan': 1, 'http://t.co/iett7gwq0u julianne moore': 1, 'the honorable woman\"': 1}, {'maggie gyllenhaal': 1, 'ruth wilson': 4, 'julianne moore': 4, 'gina rodriguez': 2, 'amy adams': 5, 'transparent_tv': 1, '@annakfaris': 1, 'houstonians': 1, 'joanne froggart': 1, 'alice morgan': 1, 'http://t.co/iett7gwq0u julianne moore': 1, 'diane kruger &amp': 1, 'the honorable woman\"': 1, 'colin firth': 1}, {'maggie gyllenhaal': 2, 'ruth wilson': 3, 'julianne moore': 7, 'amy adams': 4, 'gina rodriguez': 1, '@annakfaris': 1, 'patricia arquette': 1, 'billy bob thornton': 1, 'joanne froggart': 1, 'alice morgan': 1, 'http://t.co/iett7gwq0u julianne moore': 1, 'the honorable woman\"': 1}, {'matt bomer': 3, 'j.k. simmons': 4, 'simmons': 1, 'billy bob thornton': 3, 'eddie redmayne': 1, 'celebrity ▪ eddie redmayne': 1, '@annakfaris': 1, 'jk simmons': 1, 'j.k simmons': 1, 'joshua jackson': 1}, {'maggie gyllenhaal': 2, 'ruth wilson': 3, 'julianne moore': 7, 'amy adams': 4, 'patricia arquette': 9, 'gina rodriguez': 1, '@annakfaris': 1, 'joanne froggatt': 1, 'billy bob thornton': 1, 'joanne froggart': 1, 'alice morgan': 1, 'http://t.co/iett7gwq0u julianne moore': 1, 'joshua jackson': 1, 'the honorable woman\"': 1}]\n"
     ]
    }
   ],
   "source": [
    "award_list = [dict() for x in range(len(new_award_names))]\n",
    "\n",
    "for tweet in winners: \n",
    "    tweet = tweet[0]\n",
    "    split = tweet.lower().split()\n",
    "    \n",
    "    index = split.index(\"best\")\n",
    "\n",
    "    award_phrase = \" \".join(split[index:])\n",
    "    matching_awards = DistMeasure(award_phrase)\n",
    "    for a in matching_awards:\n",
    "        award_index = new_award_names.index(a)\n",
    "        global person\n",
    "        person = ''\n",
    "        if \"goes\" in split and \"to\" in split:\n",
    "            print(\"goes\")\n",
    "            person_index = split.index(\"goes\")\n",
    "            person = split[person_index+2:]\n",
    "            print(person)\n",
    "        else:\n",
    "            person = split[:index-1]\n",
    "        person = \" \".join(person)\n",
    "        if person not in award_list[award_index]:\n",
    "            award_list[award_index][person] = 1\n",
    "        else:\n",
    "            award_list[award_index][person] = award_list[award_index][person]+1\n",
    "\n",
    "print(award_list)"
   ]
  },
  {
   "cell_type": "code",
   "execution_count": 11,
   "metadata": {},
   "outputs": [
    {
     "name": "stdout",
     "output_type": "stream",
     "text": [
      "[['boyhood'], ['billy bob thornton'], ['leviathan'], ['howtotrainyourdragon2'], ['richard linklater'], ['eddie redmayne'], ['eddie redmayne'], ['julianne moore'], ['amy adams'], ['j.k. simmons'], ['julianne moore'], ['birdman'], ['johann johannsson'], ['selma'], ['transparent_tv'], ['transparent_tv'], ['@annakfaris'], ['eddie redmayne'], ['eddie redmayne'], ['billy bob thornton'], ['ruth wilson'], ['amy adams'], ['julianne moore'], ['j.k. simmons'], ['patricia arquette']]\n"
     ]
    }
   ],
   "source": [
    "import operator\n",
    "i = 0\n",
    "awards = [[] for x in range(len(new_award_names))]\n",
    "for award in award_list:\n",
    "    if award != {}:\n",
    "        max_val = max(award.items(), key=operator.itemgetter(1))[1]\n",
    "        j = 0\n",
    "        list_award = list(award)\n",
    "        for b in award:\n",
    "            if award[b] == max_val and len(awards[i]) < 1:\n",
    "                awards[i].append(list_award[j])\n",
    "            j+=1\n",
    "    i+=1\n",
    "print(awards)"
   ]
  },
  {
   "cell_type": "code",
   "execution_count": 16,
   "metadata": {},
   "outputs": [
    {
     "name": "stdout",
     "output_type": "stream",
     "text": [
      "[['boyhood'], ['NO WINNER FOUND'], ['leviathan'], ['howtotrainyourdragon2'], ['NO WINNER FOUND'], ['eddie redmayne'], ['NO WINNER FOUND'], ['julianne moore'], ['amy adams'], ['j.k. simmons'], ['julianne moore'], ['birdman'], ['johann johannsson'], ['selma'], ['transparent_tv'], ['transparent_tv'], ['@annakfaris'], ['eddie redmayne'], ['eddie redmayne'], ['billy bob thornton'], ['ruth wilson'], ['amy adams'], ['julianne moore'], ['j.k. simmons'], ['patricia arquette']]\n"
     ]
    }
   ],
   "source": [
    "\n",
    "for award in awards: \n",
    "    if len(award) == 0:\n",
    "        award.append(\"NO WINNER FOUND\")\n",
    "        \n",
    "print(awards)"
   ]
  },
  {
   "cell_type": "code",
   "execution_count": 17,
   "metadata": {},
   "outputs": [
    {
     "name": "stdout",
     "output_type": "stream",
     "text": [
      "['boyhood' 'NO WINNER FOUND' 'leviathan' 'howtotrainyourdragon2'\n",
      " 'NO WINNER FOUND' 'eddie redmayne' 'NO WINNER FOUND' 'julianne moore'\n",
      " 'amy adams' 'j.k. simmons' 'julianne moore' 'birdman' 'johann johannsson'\n",
      " 'selma' 'transparent_tv' 'transparent_tv' '@annakfaris' 'eddie redmayne'\n",
      " 'eddie redmayne' 'billy bob thornton' 'ruth wilson' 'amy adams'\n",
      " 'julianne moore' 'j.k. simmons' 'patricia arquette']\n"
     ]
    }
   ],
   "source": [
    "award_flat = np.array(awards).flatten()\n",
    "print(award_flat)"
   ]
  },
  {
   "cell_type": "code",
   "execution_count": 18,
   "metadata": {},
   "outputs": [
    {
     "name": "stdout",
     "output_type": "stream",
     "text": [
      "Best Motion Picture – Drama boyhood\n",
      "Best Motion Picture – Musical or Comedy NO WINNER FOUND\n",
      "Best Motion Picture – Foreign Language leviathan\n",
      "Best Motion Picture – Animated howtotrainyourdragon2\n",
      "Best Director – Motion Picture NO WINNER FOUND\n",
      "Best Actor in a Motion Picture – Drama eddie redmayne\n",
      "Best Actor in a Motion Picture – Musical or Comedy NO WINNER FOUND\n",
      "Best Actress in a Motion Picture – Drama julianne moore\n",
      "Best Actress in a Motion Picture – Musical or Comedy amy adams\n",
      "Best Supporting Actor – Motion Picture j.k. simmons\n",
      "Best Supporting Actress – Motion Picture julianne moore\n",
      "Best Screenplay – Motion Picture birdman\n",
      "Best Original Score – Motion Picture johann johannsson\n",
      "Best Original Song – Motion Picture selma\n",
      "Best Television Series – Drama transparent_tv\n",
      "Best Television Series – Musical or Comedy transparent_tv\n",
      "Best Miniseries or Motion Picture – Television @annakfaris\n",
      "Best Actor in a Television Series – Drama eddie redmayne\n",
      "Best Actor in a Television Series – Musical or Comedy eddie redmayne\n",
      "Best Actor in a Miniseries or Motion Picture – Television billy bob thornton\n",
      "Best Actress in a Television Series – Drama ruth wilson\n",
      "Best Actress in a Television Series – Musical or Comedy amy adams\n",
      "Best Actress in a Miniseries or Motion Picture – Television julianne moore\n",
      "Best Supporting Actor in a Series, Miniseries or Motion Picture – Television j.k. simmons\n",
      "Best Supporting Actress in a Series, Miniseries or Motion Picture – Television patricia arquette\n"
     ]
    }
   ],
   "source": [
    "result = dict(zip(award_names, award_flat)) \n",
    "for res in result:\n",
    "    print(res, result[res])"
   ]
  },
  {
   "cell_type": "code",
   "execution_count": null,
   "metadata": {},
   "outputs": [],
   "source": []
  }
 ],
 "metadata": {
  "kernelspec": {
   "display_name": "Python 3",
   "language": "python",
   "name": "python3"
  },
  "language_info": {
   "codemirror_mode": {
    "name": "ipython",
    "version": 3
   },
   "file_extension": ".py",
   "mimetype": "text/x-python",
   "name": "python",
   "nbconvert_exporter": "python",
   "pygments_lexer": "ipython3",
   "version": "3.9.1"
  }
 },
 "nbformat": 4,
 "nbformat_minor": 4
}
